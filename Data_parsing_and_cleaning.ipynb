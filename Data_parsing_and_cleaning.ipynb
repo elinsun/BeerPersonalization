{
 "cells": [
  {
   "cell_type": "markdown",
   "metadata": {
    "colab_type": "text",
    "id": "mihhffSo5F78"
   },
   "source": [
    "Here's how you can load file from your google Drive. (the path might change)"
   ]
  },
  {
   "cell_type": "code",
   "execution_count": 1,
   "metadata": {
    "colab": {
     "base_uri": "https://localhost:8080/",
     "height": 122
    },
    "colab_type": "code",
    "id": "fSPnPs8v5x4e",
    "outputId": "6cacf079-bfa9-4929-af94-603f93f53262"
   },
   "outputs": [
    {
     "name": "stdout",
     "output_type": "stream",
     "text": [
      "Go to this URL in a browser: https://accounts.google.com/o/oauth2/auth?client_id=947318989803-6bn6qk8qdgf4n4g3pfee6491hc0brc4i.apps.googleusercontent.com&redirect_uri=urn%3Aietf%3Awg%3Aoauth%3A2.0%3Aoob&scope=email%20https%3A%2F%2Fwww.googleapis.com%2Fauth%2Fdocs.test%20https%3A%2F%2Fwww.googleapis.com%2Fauth%2Fdrive%20https%3A%2F%2Fwww.googleapis.com%2Fauth%2Fdrive.photos.readonly%20https%3A%2F%2Fwww.googleapis.com%2Fauth%2Fpeopleapi.readonly&response_type=code\n",
      "\n",
      "Enter your authorization code:\n",
      "··········\n",
      "Mounted at /content/gdrive\n"
     ]
    }
   ],
   "source": [
    "from google.colab import drive\n",
    "drive.mount('/content/gdrive')"
   ]
  },
  {
   "cell_type": "code",
   "execution_count": 0,
   "metadata": {
    "colab": {},
    "colab_type": "code",
    "collapsed": true,
    "id": "ZX2d2ZQi52Dp"
   },
   "outputs": [],
   "source": [
    "import gzip\n",
    "\n",
    "with gzip.open('/content/gdrive/My Drive/Columbia/Personalization/Final Project/Beeradvocate.txt.gz', 'r') as f:\n",
    "  rb_file = f.readlines()"
   ]
  },
  {
   "cell_type": "code",
   "execution_count": 3,
   "metadata": {
    "colab": {
     "base_uri": "https://localhost:8080/",
     "height": 197
    },
    "colab_type": "code",
    "id": "sKn3pVCvzyQ5",
    "outputId": "8e12874b-7047-4f37-d0f3-65091fc010dd"
   },
   "outputs": [
    {
     "ename": "FileNotFoundError",
     "evalue": "ignored",
     "output_type": "error",
     "traceback": [
      "\u001b[0;31m---------------------------------------------------------------------------\u001b[0m",
      "\u001b[0;31mFileNotFoundError\u001b[0m                         Traceback (most recent call last)",
      "\u001b[0;32m<ipython-input-3-fa61492d6a4b>\u001b[0m in \u001b[0;36m<module>\u001b[0;34m()\u001b[0m\n\u001b[1;32m      1\u001b[0m \u001b[0;34m\u001b[0m\u001b[0m\n\u001b[0;32m----> 2\u001b[0;31m \u001b[0;32mwith\u001b[0m \u001b[0mopen\u001b[0m\u001b[0;34m(\u001b[0m\u001b[0;34m'your path'\u001b[0m\u001b[0;34m,\u001b[0m \u001b[0;34m'r'\u001b[0m\u001b[0;34m)\u001b[0m \u001b[0;32mas\u001b[0m \u001b[0mf\u001b[0m\u001b[0;34m:\u001b[0m\u001b[0;34m\u001b[0m\u001b[0m\n\u001b[0m\u001b[1;32m      3\u001b[0m   \u001b[0mrb_file\u001b[0m \u001b[0;34m=\u001b[0m \u001b[0mf\u001b[0m\u001b[0;34m.\u001b[0m\u001b[0mreadlines\u001b[0m\u001b[0;34m(\u001b[0m\u001b[0;34m)\u001b[0m\u001b[0;34m\u001b[0m\u001b[0m\n",
      "\u001b[0;31mFileNotFoundError\u001b[0m: [Errno 2] No such file or directory: 'your path'"
     ]
    }
   ],
   "source": [
    "#Use this if your file is in txt format\n",
    "\n",
    "with open('your path', 'r') as f:\n",
    "  rb_file = f.readlines()"
   ]
  },
  {
   "cell_type": "code",
   "execution_count": 1,
   "metadata": {},
   "outputs": [],
   "source": [
    "import gzip\n",
    "\n",
    "with gzip.open('Beeradvocate.txt.gz', 'r') as f:\n",
    "  rb_file = f.readlines()"
   ]
  },
  {
   "cell_type": "code",
   "execution_count": 2,
   "metadata": {
    "colab": {},
    "colab_type": "code",
    "id": "PLQQTqr56T0H"
   },
   "outputs": [],
   "source": [
    "# python2\n",
    "import pandas as pd\n",
    "import numpy as np\n",
    "import os"
   ]
  },
  {
   "cell_type": "code",
   "execution_count": 3,
   "metadata": {
    "colab": {},
    "colab_type": "code",
    "id": "qyiMGlHahTLW"
   },
   "outputs": [],
   "source": [
    "data = []\n",
    "row_out = []\n",
    "\n",
    "for i in rb_file:\n",
    "    row = i.decode('utf-8', errors = 'ignore')\n",
    "    #print(row)\n",
    "    if row == '\\n':\n",
    "      data.append(row_out)\n",
    "      row_out = []\n",
    "      continue\n",
    "    row = row.split(\":\", 1)[1].rstrip()\n",
    "    row_out.append(row)\n",
    "\n",
    "        \n",
    "        "
   ]
  },
  {
   "cell_type": "code",
   "execution_count": 4,
   "metadata": {
    "colab": {
     "base_uri": "https://localhost:8080/",
     "height": 34
    },
    "colab_type": "code",
    "id": "kBiMyrvPhIVJ",
    "outputId": "0b60dbda-1b0d-42c7-e152-716d5758c52a"
   },
   "outputs": [],
   "source": [
    "data = pd.DataFrame(data)\n",
    "\n",
    "data.columns = ['beer_name', 'beer_beerId', 'beer_brewer', 'beer_ABV', 'beer_style', \n",
    "                'review_appearance', 'review_aroma', 'review_palate', 'review_taste', \n",
    "                'review_overall', 'review_time', 'review_profileName', 'review_text']\n",
    "\n",
    "# keep 3 columns: user name, beer name, overall score\n",
    "data2 = data[['beer_name', 'review_profileName', 'review_overall','review_time']]\n",
    "#print(data2.shape)\n",
    "\n",
    "# remove NA\n",
    "data2 = data2[pd.notnull(data2.beer_name)]\n",
    "data2 = data2[pd.notnull(data2.review_profileName)]\n",
    "data2 = data2[pd.notnull(data2.review_overall)]\n",
    "#print (data2.shape)\n",
    "#data2.head(10)"
   ]
  },
  {
   "cell_type": "code",
   "execution_count": 6,
   "metadata": {
    "colab": {
     "base_uri": "https://localhost:8080/",
     "height": 376
    },
    "colab_type": "code",
    "id": "KufOvtFHhG6F",
    "outputId": "52d5dd6b-f874-4d1b-e090-64d2f8fb2ce3"
   },
   "outputs": [
    {
     "name": "stdout",
     "output_type": "stream",
     "text": [
      "(68929, 4)\n"
     ]
    },
    {
     "data": {
      "text/html": [
       "<div>\n",
       "<style scoped>\n",
       "    .dataframe tbody tr th:only-of-type {\n",
       "        vertical-align: middle;\n",
       "    }\n",
       "\n",
       "    .dataframe tbody tr th {\n",
       "        vertical-align: top;\n",
       "    }\n",
       "\n",
       "    .dataframe thead th {\n",
       "        text-align: right;\n",
       "    }\n",
       "</style>\n",
       "<table border=\"1\" class=\"dataframe\">\n",
       "  <thead>\n",
       "    <tr style=\"text-align: right;\">\n",
       "      <th></th>\n",
       "      <th>beer_name</th>\n",
       "      <th>review_profileName</th>\n",
       "      <th>review_overall</th>\n",
       "      <th>review_time</th>\n",
       "    </tr>\n",
       "  </thead>\n",
       "  <tbody>\n",
       "    <tr>\n",
       "      <th>1191634</th>\n",
       "      <td>120 Minute IPA</td>\n",
       "      <td>1fastz28</td>\n",
       "      <td>3</td>\n",
       "      <td>1198733748</td>\n",
       "    </tr>\n",
       "    <tr>\n",
       "      <th>1170777</th>\n",
       "      <td>60 Minute IPA</td>\n",
       "      <td>1fastz28</td>\n",
       "      <td>4</td>\n",
       "      <td>1176428202</td>\n",
       "    </tr>\n",
       "    <tr>\n",
       "      <th>1174390</th>\n",
       "      <td>90 Minute IPA</td>\n",
       "      <td>1fastz28</td>\n",
       "      <td>4.5</td>\n",
       "      <td>1173146934</td>\n",
       "    </tr>\n",
       "    <tr>\n",
       "      <th>1339659</th>\n",
       "      <td>Alpha King Pale Ale</td>\n",
       "      <td>1fastz28</td>\n",
       "      <td>4.5</td>\n",
       "      <td>1275961162</td>\n",
       "    </tr>\n",
       "    <tr>\n",
       "      <th>868119</th>\n",
       "      <td>Arrogant Bastard Ale</td>\n",
       "      <td>1fastz28</td>\n",
       "      <td>4</td>\n",
       "      <td>1214535830</td>\n",
       "    </tr>\n",
       "    <tr>\n",
       "      <th>1032119</th>\n",
       "      <td>Ayinger Celebrator Doppelbock</td>\n",
       "      <td>1fastz28</td>\n",
       "      <td>4</td>\n",
       "      <td>1240105718</td>\n",
       "    </tr>\n",
       "    <tr>\n",
       "      <th>931404</th>\n",
       "      <td>Bell's Hopslam Ale</td>\n",
       "      <td>1fastz28</td>\n",
       "      <td>4.5</td>\n",
       "      <td>1236131835</td>\n",
       "    </tr>\n",
       "    <tr>\n",
       "      <th>944912</th>\n",
       "      <td>Bell's Oberon Ale</td>\n",
       "      <td>1fastz28</td>\n",
       "      <td>4.5</td>\n",
       "      <td>1240099321</td>\n",
       "    </tr>\n",
       "    <tr>\n",
       "      <th>353066</th>\n",
       "      <td>Blue Moon Belgian White</td>\n",
       "      <td>1fastz28</td>\n",
       "      <td>3</td>\n",
       "      <td>1204429269</td>\n",
       "    </tr>\n",
       "    <tr>\n",
       "      <th>591597</th>\n",
       "      <td>Bourbon County Brand Stout</td>\n",
       "      <td>1fastz28</td>\n",
       "      <td>4</td>\n",
       "      <td>1207029127</td>\n",
       "    </tr>\n",
       "  </tbody>\n",
       "</table>\n",
       "</div>"
      ],
      "text/plain": [
       "                              beer_name review_profileName review_overall  \\\n",
       "1191634                  120 Minute IPA           1fastz28              3   \n",
       "1170777                   60 Minute IPA           1fastz28              4   \n",
       "1174390                   90 Minute IPA           1fastz28            4.5   \n",
       "1339659             Alpha King Pale Ale           1fastz28            4.5   \n",
       "868119             Arrogant Bastard Ale           1fastz28              4   \n",
       "1032119   Ayinger Celebrator Doppelbock           1fastz28              4   \n",
       "931404               Bell's Hopslam Ale           1fastz28            4.5   \n",
       "944912                Bell's Oberon Ale           1fastz28            4.5   \n",
       "353066          Blue Moon Belgian White           1fastz28              3   \n",
       "591597       Bourbon County Brand Stout           1fastz28              4   \n",
       "\n",
       "         review_time  \n",
       "1191634   1198733748  \n",
       "1170777   1176428202  \n",
       "1174390   1173146934  \n",
       "1339659   1275961162  \n",
       "868119    1214535830  \n",
       "1032119   1240105718  \n",
       "931404    1236131835  \n",
       "944912    1240099321  \n",
       "353066    1204429269  \n",
       "591597    1207029127  "
      ]
     },
     "execution_count": 6,
     "metadata": {},
     "output_type": "execute_result"
    }
   ],
   "source": [
    "# keep top 1000/33382 frequent users\n",
    "user = data2.review_profileName.value_counts()\n",
    "user_list = user.keys()[:1000].tolist()\n",
    "\n",
    "# keep top 100/56855 most reviewed beer\n",
    "beer = data2.beer_name.value_counts()[:100]\n",
    "beer_list = beer.keys()[:100].tolist()\n",
    "\n",
    "# keep (beer&user) pair in (user_list) and (beer_list)\n",
    "subdata = data2[data2.beer_name.isin(beer_list)]\n",
    "subdata = subdata[subdata.review_profileName.isin(user_list)]\n",
    "\n",
    "# sort by user names\n",
    "subdata = subdata.sort_values(by=['review_profileName','beer_name','review_time'])\n",
    "\n",
    "print(subdata.shape)\n",
    "subdata.head(10)"
   ]
  },
  {
   "cell_type": "markdown",
   "metadata": {
    "colab_type": "text",
    "id": "HNVxCyxQ5ox2"
   },
   "source": [
    "Only keeping latest reviews by user in case they rated the same beer multipe times"
   ]
  },
  {
   "cell_type": "code",
   "execution_count": 8,
   "metadata": {
    "colab": {},
    "colab_type": "code",
    "id": "5FNjcy0F2WrY"
   },
   "outputs": [],
   "source": [
    "#subdata.groupby(['beer_name', 'review_profileName'])['review_time'].max()\n",
    "\n",
    "data_clean = subdata.sort_values(by='review_time')\n",
    "\n",
    "data_clean.drop_duplicates(['beer_name', 'review_profileName'], keep = 'last',\n",
    "                          inplace = True)\n"
   ]
  },
  {
   "cell_type": "code",
   "execution_count": 9,
   "metadata": {
    "colab": {
     "base_uri": "https://localhost:8080/",
     "height": 359
    },
    "colab_type": "code",
    "id": "UAAPSf8K5Ccr",
    "outputId": "ade252cd-5162-45d0-a86d-291e3d7c7be6"
   },
   "outputs": [
    {
     "data": {
      "text/html": [
       "<div>\n",
       "<style scoped>\n",
       "    .dataframe tbody tr th:only-of-type {\n",
       "        vertical-align: middle;\n",
       "    }\n",
       "\n",
       "    .dataframe tbody tr th {\n",
       "        vertical-align: top;\n",
       "    }\n",
       "\n",
       "    .dataframe thead th {\n",
       "        text-align: right;\n",
       "    }\n",
       "</style>\n",
       "<table border=\"1\" class=\"dataframe\">\n",
       "  <thead>\n",
       "    <tr style=\"text-align: right;\">\n",
       "      <th></th>\n",
       "      <th>beer_name</th>\n",
       "      <th>review_profileName</th>\n",
       "      <th>review_overall</th>\n",
       "      <th>review_time</th>\n",
       "    </tr>\n",
       "  </thead>\n",
       "  <tbody>\n",
       "    <tr>\n",
       "      <th>282223</th>\n",
       "      <td>Samuel Adams Boston Lager</td>\n",
       "      <td>Jason</td>\n",
       "      <td>4</td>\n",
       "      <td>1000083887</td>\n",
       "    </tr>\n",
       "    <tr>\n",
       "      <th>518392</th>\n",
       "      <td>Samuel Smith's Oatmeal Stout</td>\n",
       "      <td>Jason</td>\n",
       "      <td>4</td>\n",
       "      <td>1000336190</td>\n",
       "    </tr>\n",
       "    <tr>\n",
       "      <th>518391</th>\n",
       "      <td>Samuel Smith's Oatmeal Stout</td>\n",
       "      <td>guinness33</td>\n",
       "      <td>5</td>\n",
       "      <td>1000464943</td>\n",
       "    </tr>\n",
       "    <tr>\n",
       "      <th>1339361</th>\n",
       "      <td>Alpha King Pale Ale</td>\n",
       "      <td>John</td>\n",
       "      <td>5</td>\n",
       "      <td>1000733852</td>\n",
       "    </tr>\n",
       "    <tr>\n",
       "      <th>1541504</th>\n",
       "      <td>Golden Monkey</td>\n",
       "      <td>John</td>\n",
       "      <td>5</td>\n",
       "      <td>1000809985</td>\n",
       "    </tr>\n",
       "    <tr>\n",
       "      <th>1334473</th>\n",
       "      <td>Dreadnaught IPA</td>\n",
       "      <td>John</td>\n",
       "      <td>5</td>\n",
       "      <td>1000890164</td>\n",
       "    </tr>\n",
       "    <tr>\n",
       "      <th>1544699</th>\n",
       "      <td>HopDevil Ale</td>\n",
       "      <td>John</td>\n",
       "      <td>5</td>\n",
       "      <td>1000904483</td>\n",
       "    </tr>\n",
       "    <tr>\n",
       "      <th>91268</th>\n",
       "      <td>Sierra Nevada Pale Ale</td>\n",
       "      <td>John</td>\n",
       "      <td>4</td>\n",
       "      <td>1000905152</td>\n",
       "    </tr>\n",
       "    <tr>\n",
       "      <th>518390</th>\n",
       "      <td>Samuel Smith's Oatmeal Stout</td>\n",
       "      <td>stoutman</td>\n",
       "      <td>5</td>\n",
       "      <td>1000931285</td>\n",
       "    </tr>\n",
       "    <tr>\n",
       "      <th>1548897</th>\n",
       "      <td>Storm King Stout</td>\n",
       "      <td>John</td>\n",
       "      <td>5</td>\n",
       "      <td>1001336489</td>\n",
       "    </tr>\n",
       "  </tbody>\n",
       "</table>\n",
       "</div>"
      ],
      "text/plain": [
       "                             beer_name review_profileName review_overall  \\\n",
       "282223       Samuel Adams Boston Lager              Jason              4   \n",
       "518392    Samuel Smith's Oatmeal Stout              Jason              4   \n",
       "518391    Samuel Smith's Oatmeal Stout         guinness33              5   \n",
       "1339361            Alpha King Pale Ale               John              5   \n",
       "1541504                  Golden Monkey               John              5   \n",
       "1334473                Dreadnaught IPA               John              5   \n",
       "1544699                   HopDevil Ale               John              5   \n",
       "91268           Sierra Nevada Pale Ale               John              4   \n",
       "518390    Samuel Smith's Oatmeal Stout           stoutman              5   \n",
       "1548897               Storm King Stout               John              5   \n",
       "\n",
       "         review_time  \n",
       "282223    1000083887  \n",
       "518392    1000336190  \n",
       "518391    1000464943  \n",
       "1339361   1000733852  \n",
       "1541504   1000809985  \n",
       "1334473   1000890164  \n",
       "1544699   1000904483  \n",
       "91268     1000905152  \n",
       "518390    1000931285  \n",
       "1548897   1001336489  "
      ]
     },
     "execution_count": 9,
     "metadata": {},
     "output_type": "execute_result"
    }
   ],
   "source": [
    "data_clean.head(10)\n",
    "#data_clean.shape"
   ]
  },
  {
   "cell_type": "markdown",
   "metadata": {
    "colab_type": "text",
    "id": "6L5e3qe-QeAP"
   },
   "source": [
    "**Splitting the data into training and testing**"
   ]
  },
  {
   "cell_type": "code",
   "execution_count": 10,
   "metadata": {
    "colab": {},
    "colab_type": "code",
    "id": "jDQWy8ugQdA1"
   },
   "outputs": [],
   "source": [
    "data_clean['review_overall'] = data_clean['review_overall'].astype(float)\n",
    "\n",
    "data_train = data_clean.sample(frac = 0.7)\n",
    "data_test = data_clean.drop(data_train.index)"
   ]
  },
  {
   "cell_type": "markdown",
   "metadata": {
    "colab_type": "text",
    "id": "CuSC5GO_R0YV"
   },
   "source": [
    "Calculate the average rating for each item"
   ]
  },
  {
   "cell_type": "code",
   "execution_count": 11,
   "metadata": {
    "colab": {},
    "colab_type": "code",
    "id": "WXBDZB7QR9CQ"
   },
   "outputs": [],
   "source": [
    "mean_rating = data_train.groupby(['beer_name'], as_index = False, sort = False)['review_overall'].mean().rename(columns = {'review_overall': 'item_mean'})\n",
    "\n",
    "data_train = pd.merge(data_train, mean_rating, on = 'beer_name', how = 'left')\n",
    "data_train['adjusted_rating'] = data_train['review_overall'] - data_train['item_mean']"
   ]
  },
  {
   "cell_type": "code",
   "execution_count": 12,
   "metadata": {
    "colab": {
     "base_uri": "https://localhost:8080/",
     "height": 204
    },
    "colab_type": "code",
    "id": "bDaDmbTSb70d",
    "outputId": "a271f9c4-1fbc-4271-cec0-62268aa87555"
   },
   "outputs": [
    {
     "data": {
      "text/html": [
       "<div>\n",
       "<style scoped>\n",
       "    .dataframe tbody tr th:only-of-type {\n",
       "        vertical-align: middle;\n",
       "    }\n",
       "\n",
       "    .dataframe tbody tr th {\n",
       "        vertical-align: top;\n",
       "    }\n",
       "\n",
       "    .dataframe thead th {\n",
       "        text-align: right;\n",
       "    }\n",
       "</style>\n",
       "<table border=\"1\" class=\"dataframe\">\n",
       "  <thead>\n",
       "    <tr style=\"text-align: right;\">\n",
       "      <th></th>\n",
       "      <th>beer_name</th>\n",
       "      <th>review_profileName</th>\n",
       "      <th>review_overall</th>\n",
       "      <th>review_time</th>\n",
       "      <th>item_mean</th>\n",
       "      <th>adjusted_rating</th>\n",
       "    </tr>\n",
       "  </thead>\n",
       "  <tbody>\n",
       "    <tr>\n",
       "      <th>0</th>\n",
       "      <td>Oktoberfest</td>\n",
       "      <td>chumba526</td>\n",
       "      <td>4.0</td>\n",
       "      <td>1297578664</td>\n",
       "      <td>3.715210</td>\n",
       "      <td>0.284790</td>\n",
       "    </tr>\n",
       "    <tr>\n",
       "      <th>1</th>\n",
       "      <td>Storm King Stout</td>\n",
       "      <td>SkeeterHawk</td>\n",
       "      <td>4.5</td>\n",
       "      <td>1175832798</td>\n",
       "      <td>4.148524</td>\n",
       "      <td>0.351476</td>\n",
       "    </tr>\n",
       "    <tr>\n",
       "      <th>2</th>\n",
       "      <td>Oaked Arrogant Bastard Ale</td>\n",
       "      <td>kbnooshay</td>\n",
       "      <td>3.0</td>\n",
       "      <td>1282527341</td>\n",
       "      <td>4.114035</td>\n",
       "      <td>-1.114035</td>\n",
       "    </tr>\n",
       "    <tr>\n",
       "      <th>3</th>\n",
       "      <td>Tröegs Nugget Nectar</td>\n",
       "      <td>SFLpunk</td>\n",
       "      <td>4.0</td>\n",
       "      <td>1236824766</td>\n",
       "      <td>4.426290</td>\n",
       "      <td>-0.426290</td>\n",
       "    </tr>\n",
       "    <tr>\n",
       "      <th>4</th>\n",
       "      <td>Samuel Adams Black Lager</td>\n",
       "      <td>nrbw23</td>\n",
       "      <td>4.0</td>\n",
       "      <td>1220561279</td>\n",
       "      <td>3.895778</td>\n",
       "      <td>0.104222</td>\n",
       "    </tr>\n",
       "  </tbody>\n",
       "</table>\n",
       "</div>"
      ],
      "text/plain": [
       "                     beer_name review_profileName  review_overall  \\\n",
       "0                  Oktoberfest          chumba526             4.0   \n",
       "1             Storm King Stout        SkeeterHawk             4.5   \n",
       "2   Oaked Arrogant Bastard Ale          kbnooshay             3.0   \n",
       "3         Tröegs Nugget Nectar            SFLpunk             4.0   \n",
       "4     Samuel Adams Black Lager             nrbw23             4.0   \n",
       "\n",
       "   review_time  item_mean  adjusted_rating  \n",
       "0   1297578664   3.715210         0.284790  \n",
       "1   1175832798   4.148524         0.351476  \n",
       "2   1282527341   4.114035        -1.114035  \n",
       "3   1236824766   4.426290        -0.426290  \n",
       "4   1220561279   3.895778         0.104222  "
      ]
     },
     "execution_count": 12,
     "metadata": {},
     "output_type": "execute_result"
    }
   ],
   "source": [
    "data_train.head()"
   ]
  },
  {
   "cell_type": "markdown",
   "metadata": {
    "colab_type": "text",
    "id": "J42Nn92ac05g"
   },
   "source": [
    "**Build the similarity matrix**"
   ]
  },
  {
   "cell_type": "code",
   "execution_count": 13,
   "metadata": {
    "colab": {},
    "colab_type": "code",
    "id": "SHmXRYX5c65k"
   },
   "outputs": [],
   "source": [
    "def item_matrix(train_sample):\n",
    "  #find distinct beers\n",
    "  beers = np.unique(train_sample['beer_name'])\n",
    "  beer_pairs = []\n",
    "\n",
    "  for beer1 in beers:\n",
    "    #determine users who consumed the beer\n",
    "    users = train_sample.loc[train_sample['beer_name'] == beer1] \n",
    "    for index, user in users.iterrows():\n",
    "      #find rating for first beer\n",
    "      user_name = user['review_profileName']  \n",
    "      beer1_rating = user['adjusted_rating']\n",
    "      #find other beer ratings by same users, excluding beer1 rating\n",
    "      user_ratings = train_sample.loc[(train_sample['review_profileName'] == user_name) & (train_sample['beer_name'] != beer1)]\n",
    "      for index, beer2 in user_ratings.iterrows():\n",
    "        beer2_name = beer2['beer_name']\n",
    "        beer2_rating = beer2['adjusted_rating']\n",
    "        #print([user_name, beer1, beer2_name, beer1_rating, beer2_rating])\n",
    "        beer_pairs.append([user_name, beer1, beer2_name, beer1_rating, beer2_rating])\n",
    "  \n",
    "  beer_pairs = pd.DataFrame(beer_pairs, columns = ['user', 'beer1', 'beer2', 'scaled_r1', 'scaled_r2'])\n",
    "  \n",
    "  return beer_pairs.groupby(['beer1', 'beer2'])[['scaled_r1','scaled_r2']].corr(method = 'pearson')\n",
    "      "
   ]
  },
  {
   "cell_type": "code",
   "execution_count": 14,
   "metadata": {
    "colab": {
     "base_uri": "https://localhost:8080/",
     "height": 51
    },
    "colab_type": "code",
    "id": "asgotHeCqYwZ",
    "outputId": "4f717bc1-4489-4dd1-8819-281399d60832"
   },
   "outputs": [],
   "source": [
    "beer_pairs = item_matrix(data_train)"
   ]
  },
  {
   "cell_type": "code",
   "execution_count": 36,
   "metadata": {},
   "outputs": [
    {
     "name": "stdout",
     "output_type": "stream",
     "text": [
      "(19800, 2)\n"
     ]
    }
   ],
   "source": [
    "print (beer_pairs.shape)\n",
    "beer_corr = beer_pairs.iloc[0::2][['scaled_r2']].reset_index()[['beer1', 'beer2', 'scaled_r2']]\n",
    "beer_corr.rename(columns = {'scaled_r2': 'Pearson_corr'})\n",
    "\n",
    "beer_corr.to_csv('beer_corr.csv', index = False, encoding = 'utf-8')"
   ]
  }
 ],
 "metadata": {
  "colab": {
   "collapsed_sections": [],
   "name": "Data parsing and cleaning.ipynb",
   "provenance": [],
   "version": "0.3.2"
  },
  "kernelspec": {
   "display_name": "Python 2",
   "language": "python",
   "name": "python2"
  },
  "language_info": {
   "codemirror_mode": {
    "name": "ipython",
    "version": 2
   },
   "file_extension": ".py",
   "mimetype": "text/x-python",
   "name": "python",
   "nbconvert_exporter": "python",
   "pygments_lexer": "ipython2",
   "version": "2.7.15"
  }
 },
 "nbformat": 4,
 "nbformat_minor": 1
}
