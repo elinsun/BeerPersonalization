{
  "nbformat": 4,
  "nbformat_minor": 0,
  "metadata": {
    "colab": {
      "name": "Data parsing and cleaning.ipynb",
      "version": "0.3.2",
      "provenance": [],
      "collapsed_sections": [],
      "include_colab_link": true
    },
    "kernelspec": {
      "name": "python3",
      "display_name": "Python 3"
    }
  },
  "cells": [
    {
      "cell_type": "markdown",
      "metadata": {
        "id": "view-in-github",
        "colab_type": "text"
      },
      "source": [
        "<a href=\"https://colab.research.google.com/github/thegreatwarlo/BeerPersonalization/blob/master/Data_parsing_and_cleaning.ipynb\" target=\"_parent\"><img src=\"https://colab.research.google.com/assets/colab-badge.svg\" alt=\"Open In Colab\"/></a>"
      ]
    },
    {
      "metadata": {
        "id": "mihhffSo5F78",
        "colab_type": "text"
      },
      "cell_type": "markdown",
      "source": [
        "Here's how you can load file from your google Drive. (the path might change)"
      ]
    },
    {
      "metadata": {
        "id": "fSPnPs8v5x4e",
        "colab_type": "code",
        "colab": {
          "base_uri": "https://localhost:8080/",
          "height": 1527
        },
        "outputId": "8a4f0331-6c07-49c2-dbf9-c56cdba2dcb9"
      },
      "cell_type": "code",
      "source": [
        "from google.colab import drive\n",
        "drive.mount('/content/gdrive')"
      ],
      "execution_count": 2,
      "outputs": [
        {
          "output_type": "error",
          "ename": "TIMEOUT",
          "evalue": "ignored",
          "traceback": [
            "\u001b[0;31m---------------------------------------------------------------------------\u001b[0m",
            "\u001b[0;31mTIMEOUT\u001b[0m                                   Traceback (most recent call last)",
            "\u001b[0;32m/usr/local/lib/python3.6/dist-packages/pexpect/expect.py\u001b[0m in \u001b[0;36mexpect_loop\u001b[0;34m(self, timeout)\u001b[0m\n\u001b[1;32m    110\u001b[0m                 \u001b[0;31m# Still have time left, so read more data\u001b[0m\u001b[0;34m\u001b[0m\u001b[0;34m\u001b[0m\u001b[0m\n\u001b[0;32m--> 111\u001b[0;31m                 \u001b[0mincoming\u001b[0m \u001b[0;34m=\u001b[0m \u001b[0mspawn\u001b[0m\u001b[0;34m.\u001b[0m\u001b[0mread_nonblocking\u001b[0m\u001b[0;34m(\u001b[0m\u001b[0mspawn\u001b[0m\u001b[0;34m.\u001b[0m\u001b[0mmaxread\u001b[0m\u001b[0;34m,\u001b[0m \u001b[0mtimeout\u001b[0m\u001b[0;34m)\u001b[0m\u001b[0;34m\u001b[0m\u001b[0m\n\u001b[0m\u001b[1;32m    112\u001b[0m                 \u001b[0;32mif\u001b[0m \u001b[0mself\u001b[0m\u001b[0;34m.\u001b[0m\u001b[0mspawn\u001b[0m\u001b[0;34m.\u001b[0m\u001b[0mdelayafterread\u001b[0m \u001b[0;32mis\u001b[0m \u001b[0;32mnot\u001b[0m \u001b[0;32mNone\u001b[0m\u001b[0;34m:\u001b[0m\u001b[0;34m\u001b[0m\u001b[0m\n",
            "\u001b[0;32m/usr/local/lib/python3.6/dist-packages/pexpect/pty_spawn.py\u001b[0m in \u001b[0;36mread_nonblocking\u001b[0;34m(self, size, timeout)\u001b[0m\n\u001b[1;32m    481\u001b[0m             \u001b[0;32melse\u001b[0m\u001b[0;34m:\u001b[0m\u001b[0;34m\u001b[0m\u001b[0m\n\u001b[0;32m--> 482\u001b[0;31m                 \u001b[0;32mraise\u001b[0m \u001b[0mTIMEOUT\u001b[0m\u001b[0;34m(\u001b[0m\u001b[0;34m'Timeout exceeded.'\u001b[0m\u001b[0;34m)\u001b[0m\u001b[0;34m\u001b[0m\u001b[0m\n\u001b[0m\u001b[1;32m    483\u001b[0m \u001b[0;34m\u001b[0m\u001b[0m\n",
            "\u001b[0;31mTIMEOUT\u001b[0m: Timeout exceeded.",
            "\nDuring handling of the above exception, another exception occurred:\n",
            "\u001b[0;31mTIMEOUT\u001b[0m                                   Traceback (most recent call last)",
            "\u001b[0;32m<ipython-input-2-4996ee3d8d09>\u001b[0m in \u001b[0;36m<module>\u001b[0;34m()\u001b[0m\n\u001b[1;32m      1\u001b[0m \u001b[0;32mfrom\u001b[0m \u001b[0mgoogle\u001b[0m\u001b[0;34m.\u001b[0m\u001b[0mcolab\u001b[0m \u001b[0;32mimport\u001b[0m \u001b[0mdrive\u001b[0m\u001b[0;34m\u001b[0m\u001b[0m\n\u001b[0;32m----> 2\u001b[0;31m \u001b[0mdrive\u001b[0m\u001b[0;34m.\u001b[0m\u001b[0mmount\u001b[0m\u001b[0;34m(\u001b[0m\u001b[0;34m'/content/gdrive'\u001b[0m\u001b[0;34m)\u001b[0m\u001b[0;34m\u001b[0m\u001b[0m\n\u001b[0m",
            "\u001b[0;32m/usr/local/lib/python3.6/dist-packages/google/colab/drive.py\u001b[0m in \u001b[0;36mmount\u001b[0;34m(mountpoint, force_remount)\u001b[0m\n\u001b[1;32m    120\u001b[0m     case = d.expect([\n\u001b[1;32m    121\u001b[0m         \u001b[0msuccess\u001b[0m\u001b[0;34m,\u001b[0m \u001b[0mprompt\u001b[0m\u001b[0;34m,\u001b[0m\u001b[0;34m\u001b[0m\u001b[0m\n\u001b[0;32m--> 122\u001b[0;31m         \u001b[0m_re\u001b[0m\u001b[0;34m.\u001b[0m\u001b[0mcompile\u001b[0m\u001b[0;34m(\u001b[0m\u001b[0;34mu'(Go to this URL in a browser: https://.*)\\r\\n'\u001b[0m\u001b[0;34m)\u001b[0m\u001b[0;34m\u001b[0m\u001b[0m\n\u001b[0m\u001b[1;32m    123\u001b[0m     ])\n\u001b[1;32m    124\u001b[0m     \u001b[0;32mif\u001b[0m \u001b[0mcase\u001b[0m \u001b[0;34m==\u001b[0m \u001b[0;36m0\u001b[0m\u001b[0;34m:\u001b[0m\u001b[0;34m\u001b[0m\u001b[0m\n",
            "\u001b[0;32m/usr/local/lib/python3.6/dist-packages/pexpect/spawnbase.py\u001b[0m in \u001b[0;36mexpect\u001b[0;34m(self, pattern, timeout, searchwindowsize, async_, **kw)\u001b[0m\n\u001b[1;32m    339\u001b[0m         \u001b[0mcompiled_pattern_list\u001b[0m \u001b[0;34m=\u001b[0m \u001b[0mself\u001b[0m\u001b[0;34m.\u001b[0m\u001b[0mcompile_pattern_list\u001b[0m\u001b[0;34m(\u001b[0m\u001b[0mpattern\u001b[0m\u001b[0;34m)\u001b[0m\u001b[0;34m\u001b[0m\u001b[0m\n\u001b[1;32m    340\u001b[0m         return self.expect_list(compiled_pattern_list,\n\u001b[0;32m--> 341\u001b[0;31m                 timeout, searchwindowsize, async_)\n\u001b[0m\u001b[1;32m    342\u001b[0m \u001b[0;34m\u001b[0m\u001b[0m\n\u001b[1;32m    343\u001b[0m     def expect_list(self, pattern_list, timeout=-1, searchwindowsize=-1,\n",
            "\u001b[0;32m/usr/local/lib/python3.6/dist-packages/pexpect/spawnbase.py\u001b[0m in \u001b[0;36mexpect_list\u001b[0;34m(self, pattern_list, timeout, searchwindowsize, async_, **kw)\u001b[0m\n\u001b[1;32m    367\u001b[0m             \u001b[0;32mreturn\u001b[0m \u001b[0mexpect_async\u001b[0m\u001b[0;34m(\u001b[0m\u001b[0mexp\u001b[0m\u001b[0;34m,\u001b[0m \u001b[0mtimeout\u001b[0m\u001b[0;34m)\u001b[0m\u001b[0;34m\u001b[0m\u001b[0m\n\u001b[1;32m    368\u001b[0m         \u001b[0;32melse\u001b[0m\u001b[0;34m:\u001b[0m\u001b[0;34m\u001b[0m\u001b[0m\n\u001b[0;32m--> 369\u001b[0;31m             \u001b[0;32mreturn\u001b[0m \u001b[0mexp\u001b[0m\u001b[0;34m.\u001b[0m\u001b[0mexpect_loop\u001b[0m\u001b[0;34m(\u001b[0m\u001b[0mtimeout\u001b[0m\u001b[0;34m)\u001b[0m\u001b[0;34m\u001b[0m\u001b[0m\n\u001b[0m\u001b[1;32m    370\u001b[0m \u001b[0;34m\u001b[0m\u001b[0m\n\u001b[1;32m    371\u001b[0m     def expect_exact(self, pattern_list, timeout=-1, searchwindowsize=-1,\n",
            "\u001b[0;32m/usr/local/lib/python3.6/dist-packages/pexpect/expect.py\u001b[0m in \u001b[0;36mexpect_loop\u001b[0;34m(self, timeout)\u001b[0m\n\u001b[1;32m    117\u001b[0m             \u001b[0;32mreturn\u001b[0m \u001b[0mself\u001b[0m\u001b[0;34m.\u001b[0m\u001b[0meof\u001b[0m\u001b[0;34m(\u001b[0m\u001b[0me\u001b[0m\u001b[0;34m)\u001b[0m\u001b[0;34m\u001b[0m\u001b[0m\n\u001b[1;32m    118\u001b[0m         \u001b[0;32mexcept\u001b[0m \u001b[0mTIMEOUT\u001b[0m \u001b[0;32mas\u001b[0m \u001b[0me\u001b[0m\u001b[0;34m:\u001b[0m\u001b[0;34m\u001b[0m\u001b[0m\n\u001b[0;32m--> 119\u001b[0;31m             \u001b[0;32mreturn\u001b[0m \u001b[0mself\u001b[0m\u001b[0;34m.\u001b[0m\u001b[0mtimeout\u001b[0m\u001b[0;34m(\u001b[0m\u001b[0me\u001b[0m\u001b[0;34m)\u001b[0m\u001b[0;34m\u001b[0m\u001b[0m\n\u001b[0m\u001b[1;32m    120\u001b[0m         \u001b[0;32mexcept\u001b[0m\u001b[0;34m:\u001b[0m\u001b[0;34m\u001b[0m\u001b[0m\n\u001b[1;32m    121\u001b[0m             \u001b[0mself\u001b[0m\u001b[0;34m.\u001b[0m\u001b[0merrored\u001b[0m\u001b[0;34m(\u001b[0m\u001b[0;34m)\u001b[0m\u001b[0;34m\u001b[0m\u001b[0m\n",
            "\u001b[0;32m/usr/local/lib/python3.6/dist-packages/pexpect/expect.py\u001b[0m in \u001b[0;36mtimeout\u001b[0;34m(self, err)\u001b[0m\n\u001b[1;32m     80\u001b[0m             \u001b[0;32mif\u001b[0m \u001b[0merr\u001b[0m \u001b[0;32mis\u001b[0m \u001b[0;32mnot\u001b[0m \u001b[0;32mNone\u001b[0m\u001b[0;34m:\u001b[0m\u001b[0;34m\u001b[0m\u001b[0m\n\u001b[1;32m     81\u001b[0m                 \u001b[0mmsg\u001b[0m \u001b[0;34m=\u001b[0m \u001b[0mstr\u001b[0m\u001b[0;34m(\u001b[0m\u001b[0merr\u001b[0m\u001b[0;34m)\u001b[0m \u001b[0;34m+\u001b[0m \u001b[0;34m'\\n'\u001b[0m \u001b[0;34m+\u001b[0m \u001b[0mmsg\u001b[0m\u001b[0;34m\u001b[0m\u001b[0m\n\u001b[0;32m---> 82\u001b[0;31m             \u001b[0;32mraise\u001b[0m \u001b[0mTIMEOUT\u001b[0m\u001b[0;34m(\u001b[0m\u001b[0mmsg\u001b[0m\u001b[0;34m)\u001b[0m\u001b[0;34m\u001b[0m\u001b[0m\n\u001b[0m\u001b[1;32m     83\u001b[0m \u001b[0;34m\u001b[0m\u001b[0m\n\u001b[1;32m     84\u001b[0m     \u001b[0;32mdef\u001b[0m \u001b[0merrored\u001b[0m\u001b[0;34m(\u001b[0m\u001b[0mself\u001b[0m\u001b[0;34m)\u001b[0m\u001b[0;34m:\u001b[0m\u001b[0;34m\u001b[0m\u001b[0m\n",
            "\u001b[0;31mTIMEOUT\u001b[0m: Timeout exceeded.\n<pexpect.pty_spawn.spawn object at 0x7fcd396ecf28>\ncommand: /bin/bash\nargs: [b'/bin/bash', b'--noediting']\nbuffer (last 100 chars): 'ZI [69933952] ui.cc:80:DisplayNotification Drive File Stream encountered a problem and has stopped\\r\\n'\nbefore (last 100 chars): 'ZI [69933952] ui.cc:80:DisplayNotification Drive File Stream encountered a problem and has stopped\\r\\n'\nafter: <class 'pexpect.exceptions.TIMEOUT'>\nmatch: None\nmatch_index: None\nexitstatus: None\nflag_eof: False\npid: 452\nchild_fd: 61\nclosed: False\ntimeout: 120\ndelimiter: <class 'pexpect.exceptions.EOF'>\nlogfile: None\nlogfile_read: None\nlogfile_send: None\nmaxread: 1000000\nignorecase: False\nsearchwindowsize: None\ndelaybeforesend: 0.05\ndelayafterclose: 0.1\ndelayafterterminate: 0.1\nsearcher: searcher_re:\n    0: re.compile('google.colab.drive MOUNTED')\n    1: re.compile('root@a7e37d8106b7-2d1d3c1d23304841a2694914b2dd4455: ')\n    2: re.compile('(Go to this URL in a browser: https://.*)\\r\\n')"
          ]
        }
      ]
    },
    {
      "metadata": {
        "id": "ZX2d2ZQi52Dp",
        "colab_type": "code",
        "colab": {}
      },
      "cell_type": "code",
      "source": [
        "import gzip\n",
        "\n",
        "with gzip.open('/content/gdrive/My Drive/Columbia/Personalization/Final Project/Beeradvocate.txt.gz', 'r') as f:\n",
        "  rb_file = f.readlines()"
      ],
      "execution_count": 0,
      "outputs": []
    },
    {
      "metadata": {
        "id": "sKn3pVCvzyQ5",
        "colab_type": "code",
        "colab": {
          "base_uri": "https://localhost:8080/",
          "height": 205
        },
        "outputId": "8e52bc9a-a51c-4c20-f5d6-822372732e27"
      },
      "cell_type": "code",
      "source": [
        "#Use this if your file is in txt format\n",
        "\n",
        "with open('your path', 'r') as f:\n",
        "  rb_file = f.readlines()"
      ],
      "execution_count": 3,
      "outputs": [
        {
          "output_type": "error",
          "ename": "FileNotFoundError",
          "evalue": "ignored",
          "traceback": [
            "\u001b[0;31m---------------------------------------------------------------------------\u001b[0m",
            "\u001b[0;31mFileNotFoundError\u001b[0m                         Traceback (most recent call last)",
            "\u001b[0;32m<ipython-input-3-fa61492d6a4b>\u001b[0m in \u001b[0;36m<module>\u001b[0;34m()\u001b[0m\n\u001b[1;32m      1\u001b[0m \u001b[0;34m\u001b[0m\u001b[0m\n\u001b[0;32m----> 2\u001b[0;31m \u001b[0;32mwith\u001b[0m \u001b[0mopen\u001b[0m\u001b[0;34m(\u001b[0m\u001b[0;34m'your path'\u001b[0m\u001b[0;34m,\u001b[0m \u001b[0;34m'r'\u001b[0m\u001b[0;34m)\u001b[0m \u001b[0;32mas\u001b[0m \u001b[0mf\u001b[0m\u001b[0;34m:\u001b[0m\u001b[0;34m\u001b[0m\u001b[0m\n\u001b[0m\u001b[1;32m      3\u001b[0m   \u001b[0mrb_file\u001b[0m \u001b[0;34m=\u001b[0m \u001b[0mf\u001b[0m\u001b[0;34m.\u001b[0m\u001b[0mreadlines\u001b[0m\u001b[0;34m(\u001b[0m\u001b[0;34m)\u001b[0m\u001b[0;34m\u001b[0m\u001b[0m\n",
            "\u001b[0;31mFileNotFoundError\u001b[0m: [Errno 2] No such file or directory: 'your path'"
          ]
        }
      ]
    },
    {
      "metadata": {
        "id": "PLQQTqr56T0H",
        "colab_type": "code",
        "colab": {}
      },
      "cell_type": "code",
      "source": [
        "# python2\n",
        "import pandas as pd\n",
        "import numpy as np\n",
        "import os"
      ],
      "execution_count": 0,
      "outputs": []
    },
    {
      "metadata": {
        "id": "qyiMGlHahTLW",
        "colab_type": "code",
        "colab": {}
      },
      "cell_type": "code",
      "source": [
        "data = []\n",
        "row_out = []\n",
        "\n",
        "for i in rb_file:\n",
        "    row = i.decode('utf-8', errors = 'ignore')\n",
        "    #print(row)\n",
        "    if row == '\\n':\n",
        "      data.append(row_out)\n",
        "      row_out = []\n",
        "      continue\n",
        "    row = row.split(\":\", 1)[1].rstrip()\n",
        "    row_out.append(row)\n",
        "\n",
        "        \n",
        "        "
      ],
      "execution_count": 0,
      "outputs": []
    },
    {
      "metadata": {
        "id": "kBiMyrvPhIVJ",
        "colab_type": "code",
        "colab": {
          "base_uri": "https://localhost:8080/",
          "height": 35
        },
        "outputId": "90d2d935-c2d8-4429-f75e-6b5976e09160"
      },
      "cell_type": "code",
      "source": [
        "data = pd.DataFrame(data)\n",
        "\n",
        "data.columns = ['beer_name', 'beer_beerId', 'beer_brewer', 'beer_ABV', 'beer_style', \n",
        "                'review_appearance', 'review_aroma', 'review_palate', 'review_taste', \n",
        "                'review_overall', 'review_time', 'review_profileName', 'review_text']\n",
        "\n",
        "# keep 3 columns: user name, beer name, overall score\n",
        "data2 = data[['beer_name', 'review_profileName', 'review_overall','review_time']]\n",
        "#print(data2.shape)\n",
        "\n",
        "# remove NA\n",
        "data2 = data2[pd.notnull(data2.beer_name)]\n",
        "data2 = data2[pd.notnull(data2.review_profileName)]\n",
        "data2 = data2[pd.notnull(data2.review_overall)]\n",
        "print(data2.shape)\n",
        "#data2.head(10)"
      ],
      "execution_count": 26,
      "outputs": [
        {
          "output_type": "stream",
          "text": [
            "(1586614, 4)\n"
          ],
          "name": "stdout"
        }
      ]
    },
    {
      "metadata": {
        "id": "KufOvtFHhG6F",
        "colab_type": "code",
        "colab": {
          "base_uri": "https://localhost:8080/",
          "height": 377
        },
        "outputId": "93bd7855-813d-4dc1-b3bd-45e5707ebd23"
      },
      "cell_type": "code",
      "source": [
        "# keep top 2000/33382 frequent users\n",
        "user = data2.review_profileName.value_counts()\n",
        "user_list = user.keys()[:2000].tolist()\n",
        "\n",
        "# keep top 200/56855 most reviewed beer\n",
        "beer = data2.beer_name.value_counts()[:200]\n",
        "beer_list = beer.keys()[:200].tolist()\n",
        "\n",
        "# keep (beer&user) pair in (user_list) and (beer_list)\n",
        "subdata = data2[data2.beer_name.isin(beer_list)]\n",
        "subdata = subdata[subdata.review_profileName.isin(user_list)]\n",
        "\n",
        "# sort by user names\n",
        "subdata = subdata.sort_values(by=['review_profileName','beer_name','review_time'])\n",
        "\n",
        "print(subdata.shape)\n",
        "subdata.head(10)"
      ],
      "execution_count": 27,
      "outputs": [
        {
          "output_type": "stream",
          "text": [
            "(177350, 4)\n"
          ],
          "name": "stdout"
        },
        {
          "output_type": "execute_result",
          "data": {
            "text/html": [
              "<div>\n",
              "<style scoped>\n",
              "    .dataframe tbody tr th:only-of-type {\n",
              "        vertical-align: middle;\n",
              "    }\n",
              "\n",
              "    .dataframe tbody tr th {\n",
              "        vertical-align: top;\n",
              "    }\n",
              "\n",
              "    .dataframe thead th {\n",
              "        text-align: right;\n",
              "    }\n",
              "</style>\n",
              "<table border=\"1\" class=\"dataframe\">\n",
              "  <thead>\n",
              "    <tr style=\"text-align: right;\">\n",
              "      <th></th>\n",
              "      <th>beer_name</th>\n",
              "      <th>review_profileName</th>\n",
              "      <th>review_overall</th>\n",
              "      <th>review_time</th>\n",
              "    </tr>\n",
              "  </thead>\n",
              "  <tbody>\n",
              "    <tr>\n",
              "      <th>203255</th>\n",
              "      <td>1554 Enlightened Black Ale</td>\n",
              "      <td></td>\n",
              "      <td>5</td>\n",
              "      <td>1230572555</td>\n",
              "    </tr>\n",
              "    <tr>\n",
              "      <th>1171411</th>\n",
              "      <td>60 Minute IPA</td>\n",
              "      <td></td>\n",
              "      <td>5</td>\n",
              "      <td>1092634453</td>\n",
              "    </tr>\n",
              "    <tr>\n",
              "      <th>1170196</th>\n",
              "      <td>60 Minute IPA</td>\n",
              "      <td></td>\n",
              "      <td>4.5</td>\n",
              "      <td>1231377089</td>\n",
              "    </tr>\n",
              "    <tr>\n",
              "      <th>1175028</th>\n",
              "      <td>90 Minute IPA</td>\n",
              "      <td></td>\n",
              "      <td>5</td>\n",
              "      <td>1120085235</td>\n",
              "    </tr>\n",
              "    <tr>\n",
              "      <th>179764</th>\n",
              "      <td>AleSmith Speedway Stout</td>\n",
              "      <td></td>\n",
              "      <td>4.5</td>\n",
              "      <td>1104186971</td>\n",
              "    </tr>\n",
              "    <tr>\n",
              "      <th>1320696</th>\n",
              "      <td>Anchor Porter</td>\n",
              "      <td></td>\n",
              "      <td>5</td>\n",
              "      <td>1085582845</td>\n",
              "    </tr>\n",
              "    <tr>\n",
              "      <th>1322585</th>\n",
              "      <td>Anchor Steam Beer</td>\n",
              "      <td></td>\n",
              "      <td>3.5</td>\n",
              "      <td>1161395034</td>\n",
              "    </tr>\n",
              "    <tr>\n",
              "      <th>1190684</th>\n",
              "      <td>ApriHop</td>\n",
              "      <td></td>\n",
              "      <td>4</td>\n",
              "      <td>1238969849</td>\n",
              "    </tr>\n",
              "    <tr>\n",
              "      <th>869290</th>\n",
              "      <td>Arrogant Bastard Ale</td>\n",
              "      <td></td>\n",
              "      <td>4.5</td>\n",
              "      <td>1082163606</td>\n",
              "    </tr>\n",
              "    <tr>\n",
              "      <th>868115</th>\n",
              "      <td>Arrogant Bastard Ale</td>\n",
              "      <td></td>\n",
              "      <td>4.5</td>\n",
              "      <td>1215045531</td>\n",
              "    </tr>\n",
              "  </tbody>\n",
              "</table>\n",
              "</div>"
            ],
            "text/plain": [
              "                           beer_name review_profileName review_overall  \\\n",
              "203255    1554 Enlightened Black Ale                                 5   \n",
              "1171411                60 Minute IPA                                 5   \n",
              "1170196                60 Minute IPA                               4.5   \n",
              "1175028                90 Minute IPA                                 5   \n",
              "179764       AleSmith Speedway Stout                               4.5   \n",
              "1320696                Anchor Porter                                 5   \n",
              "1322585            Anchor Steam Beer                               3.5   \n",
              "1190684                      ApriHop                                 4   \n",
              "869290          Arrogant Bastard Ale                               4.5   \n",
              "868115          Arrogant Bastard Ale                               4.5   \n",
              "\n",
              "         review_time  \n",
              "203255    1230572555  \n",
              "1171411   1092634453  \n",
              "1170196   1231377089  \n",
              "1175028   1120085235  \n",
              "179764    1104186971  \n",
              "1320696   1085582845  \n",
              "1322585   1161395034  \n",
              "1190684   1238969849  \n",
              "869290    1082163606  \n",
              "868115    1215045531  "
            ]
          },
          "metadata": {
            "tags": []
          },
          "execution_count": 27
        }
      ]
    },
    {
      "metadata": {
        "id": "HNVxCyxQ5ox2",
        "colab_type": "text"
      },
      "cell_type": "markdown",
      "source": [
        "Only keeping latest reviews by user in case they rated the same beer multipe times"
      ]
    },
    {
      "metadata": {
        "id": "5FNjcy0F2WrY",
        "colab_type": "code",
        "colab": {}
      },
      "cell_type": "code",
      "source": [
        "#subdata.groupby(['beer_name', 'review_profileName'])['review_time'].max()\n",
        "\n",
        "data_clean = subdata.sort_values(by='review_time')\n",
        "\n",
        "data_clean.drop_duplicates(['beer_name', 'review_profileName'], keep = 'last',\n",
        "                          inplace = True)\n"
      ],
      "execution_count": 0,
      "outputs": []
    },
    {
      "metadata": {
        "id": "UAAPSf8K5Ccr",
        "colab_type": "code",
        "colab": {
          "base_uri": "https://localhost:8080/",
          "height": 359
        },
        "outputId": "707cc281-9040-4a16-c045-bcfc0e6eb1ab"
      },
      "cell_type": "code",
      "source": [
        "data_clean.head(10)\n",
        "#data_clean.shape"
      ],
      "execution_count": 31,
      "outputs": [
        {
          "output_type": "execute_result",
          "data": {
            "text/html": [
              "<div>\n",
              "<style scoped>\n",
              "    .dataframe tbody tr th:only-of-type {\n",
              "        vertical-align: middle;\n",
              "    }\n",
              "\n",
              "    .dataframe tbody tr th {\n",
              "        vertical-align: top;\n",
              "    }\n",
              "\n",
              "    .dataframe thead th {\n",
              "        text-align: right;\n",
              "    }\n",
              "</style>\n",
              "<table border=\"1\" class=\"dataframe\">\n",
              "  <thead>\n",
              "    <tr style=\"text-align: right;\">\n",
              "      <th></th>\n",
              "      <th>beer_name</th>\n",
              "      <th>review_profileName</th>\n",
              "      <th>review_overall</th>\n",
              "      <th>review_time</th>\n",
              "    </tr>\n",
              "  </thead>\n",
              "  <tbody>\n",
              "    <tr>\n",
              "      <th>282223</th>\n",
              "      <td>Samuel Adams Boston Lager</td>\n",
              "      <td>Jason</td>\n",
              "      <td>4</td>\n",
              "      <td>1000083887</td>\n",
              "    </tr>\n",
              "    <tr>\n",
              "      <th>292025</th>\n",
              "      <td>Samuel Adams Octoberfest</td>\n",
              "      <td>AaronRed</td>\n",
              "      <td>4</td>\n",
              "      <td>1000135216</td>\n",
              "    </tr>\n",
              "    <tr>\n",
              "      <th>518392</th>\n",
              "      <td>Samuel Smith's Oatmeal Stout</td>\n",
              "      <td>Jason</td>\n",
              "      <td>4</td>\n",
              "      <td>1000336190</td>\n",
              "    </tr>\n",
              "    <tr>\n",
              "      <th>518391</th>\n",
              "      <td>Samuel Smith's Oatmeal Stout</td>\n",
              "      <td>guinness33</td>\n",
              "      <td>5</td>\n",
              "      <td>1000464943</td>\n",
              "    </tr>\n",
              "    <tr>\n",
              "      <th>1440424</th>\n",
              "      <td>Black Butte Porter</td>\n",
              "      <td>Tim</td>\n",
              "      <td>5</td>\n",
              "      <td>1000674768</td>\n",
              "    </tr>\n",
              "    <tr>\n",
              "      <th>1339361</th>\n",
              "      <td>Alpha King Pale Ale</td>\n",
              "      <td>John</td>\n",
              "      <td>5</td>\n",
              "      <td>1000733852</td>\n",
              "    </tr>\n",
              "    <tr>\n",
              "      <th>1148316</th>\n",
              "      <td>Fuller's ESB</td>\n",
              "      <td>John</td>\n",
              "      <td>5</td>\n",
              "      <td>1000804529</td>\n",
              "    </tr>\n",
              "    <tr>\n",
              "      <th>1541504</th>\n",
              "      <td>Golden Monkey</td>\n",
              "      <td>John</td>\n",
              "      <td>5</td>\n",
              "      <td>1000809985</td>\n",
              "    </tr>\n",
              "    <tr>\n",
              "      <th>344591</th>\n",
              "      <td>Orval Trappist Ale</td>\n",
              "      <td>AaronRed</td>\n",
              "      <td>5</td>\n",
              "      <td>1000832810</td>\n",
              "    </tr>\n",
              "    <tr>\n",
              "      <th>275832</th>\n",
              "      <td>Hoegaarden Original White Ale</td>\n",
              "      <td>AaronRed</td>\n",
              "      <td>4</td>\n",
              "      <td>1000833130</td>\n",
              "    </tr>\n",
              "  </tbody>\n",
              "</table>\n",
              "</div>"
            ],
            "text/plain": [
              "                              beer_name review_profileName review_overall  \\\n",
              "282223        Samuel Adams Boston Lager              Jason              4   \n",
              "292025         Samuel Adams Octoberfest           AaronRed              4   \n",
              "518392     Samuel Smith's Oatmeal Stout              Jason              4   \n",
              "518391     Samuel Smith's Oatmeal Stout         guinness33              5   \n",
              "1440424              Black Butte Porter                Tim              5   \n",
              "1339361             Alpha King Pale Ale               John              5   \n",
              "1148316                    Fuller's ESB               John              5   \n",
              "1541504                   Golden Monkey               John              5   \n",
              "344591               Orval Trappist Ale           AaronRed              5   \n",
              "275832    Hoegaarden Original White Ale           AaronRed              4   \n",
              "\n",
              "         review_time  \n",
              "282223    1000083887  \n",
              "292025    1000135216  \n",
              "518392    1000336190  \n",
              "518391    1000464943  \n",
              "1440424   1000674768  \n",
              "1339361   1000733852  \n",
              "1148316   1000804529  \n",
              "1541504   1000809985  \n",
              "344591    1000832810  \n",
              "275832    1000833130  "
            ]
          },
          "metadata": {
            "tags": []
          },
          "execution_count": 31
        }
      ]
    }
  ]
}