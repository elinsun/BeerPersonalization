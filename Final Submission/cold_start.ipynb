{
 "cells": [
  {
   "cell_type": "code",
   "execution_count": 1,
   "metadata": {},
   "outputs": [],
   "source": [
    "# read .csv into python\n",
    "import pandas as pd\n",
    "import numpy as np\n",
    "import operator\n",
    "import os\n",
    "import gzip\n",
    "import re"
   ]
  },
  {
   "cell_type": "code",
   "execution_count": 5,
   "metadata": {},
   "outputs": [],
   "source": [
    "with gzip.open('../Beeradvocate.txt.gz', 'r') as f:\n",
    "  rb_file = f.readlines()\n",
    "\n",
    "\n",
    "data = []\n",
    "row_out = []\n",
    "\n",
    "for i in rb_file:\n",
    "    row = i.decode('utf-8', errors = 'replace')\n",
    "    #print(row)\n",
    "    if row == '\\n':\n",
    "      data.append(row_out)\n",
    "      row_out = []\n",
    "      continue\n",
    "    cat, field = row.split(\":\", 1)\n",
    "    #remove leading white spaces\n",
    "    field = field.rstrip()\n",
    "    row_out.append(field)"
   ]
  },
  {
   "cell_type": "code",
   "execution_count": 8,
   "metadata": {},
   "outputs": [
    {
     "name": "stdout",
     "output_type": "stream",
     "text": [
      "(1586614, 5)\n"
     ]
    }
   ],
   "source": [
    "data = pd.DataFrame(data)\n",
    "\n",
    "data.columns = ['beer_name', 'beer_beerId', 'beer_brewer', 'beer_ABV', 'beer_style', \n",
    "                'review_appearance', 'review_aroma', 'review_palate', 'review_taste', \n",
    "                'review_overall', 'review_time', 'review_profileName', 'review_text']\n",
    "\n",
    "# keep 3 columns: user name, beer name, overall score\n",
    "data2 = data[['beer_name', 'review_profileName', 'review_overall', 'review_time', 'beer_style']]\n",
    "\n",
    "m = 33382 # number of users\n",
    "n = 56855 # Number of items\n",
    "# remove NA\n",
    "data2 = data2[pd.notnull(data2.beer_name)]\n",
    "data2 = data2[pd.notnull(data2.review_profileName)]\n",
    "data2 = data2[pd.notnull(data2.review_overall)]\n",
    "print(data2.shape)\n"
   ]
  },
  {
   "cell_type": "code",
   "execution_count": 9,
   "metadata": {},
   "outputs": [
    {
     "name": "stdout",
     "output_type": "stream",
     "text": [
      "(1586606, 5)\n"
     ]
    }
   ],
   "source": [
    "# keep top 1000/33382 frequent users\n",
    "user = data2.review_profileName.value_counts()\n",
    "user_list = user.keys()[:m].tolist()\n",
    "\n",
    "# keep top 100/56855 most reviewed beer\n",
    "beer = data2.beer_name.value_counts()[:n]\n",
    "beer_list = beer.keys()[:n].tolist()\n",
    "\n",
    "# keep (beer&user) pair in (user_list) and (beer_list)\n",
    "subdata = data2[data2.beer_name.isin(beer_list)]\n",
    "subdata = subdata[subdata.review_profileName.isin(user_list)]\n",
    "\n",
    "# sort by user names\n",
    "subdata = subdata.sort_values(by=['review_profileName','beer_name','review_time','beer_style'])\n",
    "\n",
    "print(subdata.shape)"
   ]
  },
  {
   "cell_type": "code",
   "execution_count": 40,
   "metadata": {},
   "outputs": [],
   "source": [
    "\n",
    "#To be Pre calculated - TBD everyday/everyhour during service downtime.....\n",
    "Beer_styles = list(set(subdata['beer_style']))\n",
    "Popular = {}\n",
    "for style in Beer_styles:\n",
    "    new_data = subdata[subdata['beer_style'] == style]\n",
    "    beers = list(set(new_data['beer_name']))\n",
    "    tempdict = {}\n",
    "    popdict = {}\n",
    "    for beer in beers:\n",
    "        beerdata = new_data[new_data['beer_name'] == beer]\n",
    "        if len(beerdata) > 50:\n",
    "            val = (pd.to_numeric(beerdata['review_overall']).sum())/len(beerdata)\n",
    "            tempdict[beer] = val\n",
    "            popdict[beer] = val\n",
    "    newA = list(sorted(tempdict.items(), key=operator.itemgetter(1), reverse=True)[:10])\n",
    "    Popular[style] = newA\n",
    "\n",
    "Most_popular = list(sorted(popdict.items(), key=operator.itemgetter(1), reverse=True)[:10])\n",
    "\n",
    "   \n"
   ]
  },
  {
   "cell_type": "code",
   "execution_count": 41,
   "metadata": {},
   "outputs": [
    {
     "data": {
      "text/plain": [
       "[(' Duvel', 4.3422448979591834),\n",
       " (' Unibroue 10', 4.286363636363636),\n",
       " (' Struise Tsjeeses Reserva', 4.2164179104477615),\n",
       " (' Southampton Grand Cru', 4.20979020979021),\n",
       " (' Unibroue 11', 4.205696202531645),\n",
       " (' Damnation', 4.156043956043956),\n",
       " (' La Chouffe', 4.13921568627451),\n",
       " (' De Proef Signature Les Deux Brasseurs Ale (w/Jason Perkins)',\n",
       "  4.113970588235294),\n",
       " (' De Proef Flemish Primitive Wild Ale (Pig Nun)', 4.105263157894737),\n",
       " (' Don de Dieu', 4.10264598540146)]"
      ]
     },
     "execution_count": 41,
     "metadata": {},
     "output_type": "execute_result"
    }
   ],
   "source": [
    "Most_popular"
   ]
  },
  {
   "cell_type": "code",
   "execution_count": 52,
   "metadata": {},
   "outputs": [],
   "source": [
    "def cold_start(name, flag, demand = \"\"):\n",
    "    recommendation = [item[0] for item in Most_popular[:5]]\n",
    "    if flag == 0:\n",
    "        types = demand.split(\",\")\n",
    "        if len(types) == 1:\n",
    "            i = 0\n",
    "            while((len(recommendation) < 10) and (len(Popular[Beer_styles[int(types[0])]]) < i)):\n",
    "                if Popular[Beer_styles[int(types[0])]][i][0] not in recommendation:\n",
    "                        recommendation.append(Popular[Beer_styles[int(types[0])]][i][0])\n",
    "                i = i + 1\n",
    "\n",
    "        if len(types) == 2:\n",
    "            i = 0\n",
    "            while((len(recommendation) < 8) and (len(Popular[Beer_styles[int(types[0])]]) < i)):\n",
    "                if Popular[Beer_styles[int(types[0])]][i][0] not in recommendation:\n",
    "                    recommendation.append(Popular[Beer_styles[int(types[0])]][i][0])\n",
    "                i = i + 1\n",
    "                \n",
    "            while((len(recommendation) < 10) and (len(Popular[Beer_styles[int(types[0])]]) < i)):\n",
    "                if Popular[Beer_styles[int(types[1])]][i][0] not in recommendation:\n",
    "                    recommendation.append(Popular[Beer_styles[int(types[0])]][i][0])\n",
    "                i = i + 1\n",
    "        \n",
    "    elif flag == 1: \n",
    "        new_data = subdata[subdata['review_profileName'] == name]\n",
    "        main_beer_style = new_data.groupby(\"beer_style\")['beer_name'].count().reset_index(name='count').sort_values(['count'], ascending=False).head(1)\n",
    "        k = 1 #new_data['beer_name'].values\n",
    "        print(type(k))\n",
    "        print(k)\n",
    "        i = 0\n",
    "        while(len(recommendation) < 10):\n",
    "            if Popular[main_beer_style.iloc[0]['beer_style']][i][0] not in recommendation and Popular[main_beer_style.iloc[0]['beer_style']][i][0] not in new_data['beer_name'].values:\n",
    "                    recommendation.append(Popular[main_beer_style.iloc[0]['beer_style']][i][0])\n",
    "            i = i + 1\n",
    "            print(len(recommendation))\n",
    "    \n",
    "    i = 5\n",
    "    while(len(recommendation) < 10):\n",
    "        if Most_popular[i][0] not in recommendation:\n",
    "            recommendation.append(Most_popular[i][0])\n",
    "        i = i+ 1\n",
    "    return recommendation\n"
   ]
  },
  {
   "cell_type": "code",
   "execution_count": 53,
   "metadata": {},
   "outputs": [
    {
     "data": {
      "text/plain": [
       "[' Duvel',\n",
       " ' Unibroue 10',\n",
       " ' Struise Tsjeeses Reserva',\n",
       " ' Southampton Grand Cru',\n",
       " ' Unibroue 11',\n",
       " ' Damnation',\n",
       " ' La Chouffe',\n",
       " ' De Proef Signature Les Deux Brasseurs Ale (w/Jason Perkins)',\n",
       " ' De Proef Flemish Primitive Wild Ale (Pig Nun)',\n",
       " ' Don de Dieu']"
      ]
     },
     "execution_count": 53,
     "metadata": {},
     "output_type": "execute_result"
    }
   ],
   "source": [
    "# for a new user\n",
    "cold_start(\"Assdas\", 0 , \"11\")\n"
   ]
  },
  {
   "cell_type": "code",
   "execution_count": null,
   "metadata": {},
   "outputs": [],
   "source": [
    "# for a old user ( Assuming he has less review)\n",
    "cold_start(\" Tilley4\", 1)\n"
   ]
  }
 ],
 "metadata": {
  "kernelspec": {
   "display_name": "Python 3",
   "language": "python",
   "name": "python3"
  },
  "language_info": {
   "codemirror_mode": {
    "name": "ipython",
    "version": 3
   },
   "file_extension": ".py",
   "mimetype": "text/x-python",
   "name": "python",
   "nbconvert_exporter": "python",
   "pygments_lexer": "ipython3",
   "version": "3.6.5"
  }
 },
 "nbformat": 4,
 "nbformat_minor": 2
}
