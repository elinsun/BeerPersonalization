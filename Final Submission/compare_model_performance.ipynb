{
  "nbformat": 4,
  "nbformat_minor": 0,
  "metadata": {
    "colab": {
      "name": "compare model performance.ipynb",
      "version": "0.3.2",
      "provenance": [],
      "collapsed_sections": [],
      "toc_visible": true,
      "include_colab_link": true
    },
    "kernelspec": {
      "name": "python3",
      "display_name": "Python 3"
    },
    "accelerator": "GPU"
  },
  "cells": [
    {
      "cell_type": "markdown",
      "metadata": {
        "id": "view-in-github",
        "colab_type": "text"
      },
      "source": [
        "<a href=\"https://colab.research.google.com/github/elinsun/beer-recommendation-system/blob/master/Final%20Submission/compare_model_performance.ipynb\" target=\"_parent\"><img src=\"https://colab.research.google.com/assets/colab-badge.svg\" alt=\"Open In Colab\"/></a>"
      ]
    },
    {
      "metadata": {
        "id": "NfAiVolcpZvH",
        "colab_type": "text"
      },
      "cell_type": "markdown",
      "source": [
        "# Beer Recommendation\n",
        "Fall 2018, 4571 Recommendation System Final Project\n",
        "\n",
        "- Scalability: compare the performance of different algorithms among users/items with different number of reviews\n",
        "\n"
      ]
    },
    {
      "metadata": {
        "id": "Mssd0ltK8JDx",
        "colab_type": "text"
      },
      "cell_type": "markdown",
      "source": [
        "## Part 1: Data Preprocessing"
      ]
    },
    {
      "metadata": {
        "id": "M2Ca1Bu7ybHf",
        "colab_type": "code",
        "outputId": "d1c00793-8e9a-49c1-9b11-a86cb1fb1f7f",
        "colab": {
          "base_uri": "https://localhost:8080/",
          "height": 193
        }
      },
      "cell_type": "code",
      "source": [
        "# based on Google Colab \n",
        "# python 3\n",
        "!pip install scikit-surprise"
      ],
      "execution_count": 1,
      "outputs": [
        {
          "output_type": "stream",
          "text": [
            "Requirement already satisfied: scikit-surprise in /usr/local/lib/python3.6/dist-packages (1.0.6)\n",
            "Requirement already satisfied: numpy>=1.11.2 in /usr/local/lib/python3.6/dist-packages (from scikit-surprise) (1.14.6)\n",
            "Requirement already satisfied: joblib>=0.11 in /usr/local/lib/python3.6/dist-packages (from scikit-surprise) (0.13.0)\n",
            "Requirement already satisfied: scipy>=1.0.0 in /usr/local/lib/python3.6/dist-packages (from scikit-surprise) (1.1.0)\n",
            "Requirement already satisfied: six>=1.10.0 in /usr/local/lib/python3.6/dist-packages (from scikit-surprise) (1.11.0)\n"
          ],
          "name": "stdout"
        }
      ]
    },
    {
      "metadata": {
        "id": "0UNJOz1iLEEz",
        "colab_type": "code",
        "colab": {}
      },
      "cell_type": "code",
      "source": [
        "import pandas as pd\n",
        "import numpy as np\n",
        "import os\n",
        "import itertools as it\n",
        "import matplotlib.pyplot as plt\n",
        "import matplotlib.pyplot as plt\n",
        "\n",
        "from sklearn.model_selection import train_test_split\n",
        "from matplotlib.ticker import FormatStrFormatter\n",
        "from surprise.model_selection import train_test_split\n",
        "from surprise import NMF, Reader, Dataset, SVD, NMF, accuracy, KNNWithMeans"
      ],
      "execution_count": 0,
      "outputs": []
    },
    {
      "metadata": {
        "id": "QneWL06UpaQk",
        "colab_type": "code",
        "outputId": "cac3717b-c718-4d94-c23c-cfa8272dba30",
        "colab": {
          "base_uri": "https://localhost:8080/",
          "height": 74
        }
      },
      "cell_type": "code",
      "source": [
        "from google.colab import drive\n",
        "drive.mount('/content/gdrive')"
      ],
      "execution_count": 3,
      "outputs": [
        {
          "output_type": "stream",
          "text": [
            "Drive already mounted at /content/gdrive; to attempt to forcibly remount, call drive.mount(\"/content/gdrive\", force_remount=True).\n"
          ],
          "name": "stdout"
        }
      ]
    },
    {
      "metadata": {
        "id": "5apjyVYtwt1H",
        "colab_type": "text"
      },
      "cell_type": "markdown",
      "source": [
        "### 1.1 Load Data"
      ]
    },
    {
      "metadata": {
        "id": "VrCif9HWaZt2",
        "colab_type": "code",
        "colab": {}
      },
      "cell_type": "code",
      "source": [
        "# load metadata from Google Drive \n",
        "# save as a list\n",
        "data = []\n",
        "one_complete_review = []\n",
        "\n",
        "with open('/content/gdrive/My Drive/beeradvocate.txt', 'r') as f:\n",
        "  for i in f: \n",
        "    #row = i.decode(encoding = 'UTF-8',errors = 'ignore')\n",
        "    row = i.replace('beer/', 'beer_').replace('review/','review_') \n",
        "    if row == '\\n':\n",
        "      data.append(one_complete_review)\n",
        "      one_complete_review = []\n",
        "      continue\n",
        "    row = row.split(\": \", 1)[1].rstrip()\n",
        "    one_complete_review.append(row)"
      ],
      "execution_count": 0,
      "outputs": []
    },
    {
      "metadata": {
        "id": "Lsw0ncLmJrdH",
        "colab_type": "code",
        "colab": {}
      },
      "cell_type": "code",
      "source": [
        "# convert list to dataframe\n",
        "column_names = ['beer_name', 'beer_beerId', 'beer_brewer', 'beer_ABV', 'beer_style', \n",
        "                'review_appearance', 'review_aroma', 'review_palate', 'review_taste', \n",
        "                'review_overall', 'review_time', 'review_profileName', 'review_text']\n",
        "\n",
        "df = pd.DataFrame.from_records(data, columns=column_names)"
      ],
      "execution_count": 0,
      "outputs": []
    },
    {
      "metadata": {
        "id": "D7pe2FKQlAEl",
        "colab_type": "code",
        "outputId": "460a6daa-0df0-4bc7-c0e5-610ce3a2356c",
        "colab": {
          "base_uri": "https://localhost:8080/",
          "height": 323
        }
      },
      "cell_type": "code",
      "source": [
        "# descriptive \n",
        "df.info()"
      ],
      "execution_count": 6,
      "outputs": [
        {
          "output_type": "stream",
          "text": [
            "<class 'pandas.core.frame.DataFrame'>\n",
            "RangeIndex: 1586614 entries, 0 to 1586613\n",
            "Data columns (total 13 columns):\n",
            "beer_name             1586614 non-null object\n",
            "beer_beerId           1586614 non-null object\n",
            "beer_brewer           1586614 non-null object\n",
            "beer_ABV              1586614 non-null object\n",
            "beer_style            1586614 non-null object\n",
            "review_appearance     1586614 non-null object\n",
            "review_aroma          1586614 non-null object\n",
            "review_palate         1586614 non-null object\n",
            "review_taste          1586614 non-null object\n",
            "review_overall        1586614 non-null object\n",
            "review_time           1586614 non-null object\n",
            "review_profileName    1586614 non-null object\n",
            "review_text           1586614 non-null object\n",
            "dtypes: object(13)\n",
            "memory usage: 157.4+ MB\n"
          ],
          "name": "stdout"
        }
      ]
    },
    {
      "metadata": {
        "id": "jf_Sd4_WK7kl",
        "colab_type": "code",
        "outputId": "68dda9d6-29e3-4714-91f3-223853a74803",
        "colab": {
          "base_uri": "https://localhost:8080/",
          "height": 335
        }
      },
      "cell_type": "code",
      "source": [
        "df.head(3)"
      ],
      "execution_count": 7,
      "outputs": [
        {
          "output_type": "execute_result",
          "data": {
            "text/html": [
              "<div>\n",
              "<style scoped>\n",
              "    .dataframe tbody tr th:only-of-type {\n",
              "        vertical-align: middle;\n",
              "    }\n",
              "\n",
              "    .dataframe tbody tr th {\n",
              "        vertical-align: top;\n",
              "    }\n",
              "\n",
              "    .dataframe thead th {\n",
              "        text-align: right;\n",
              "    }\n",
              "</style>\n",
              "<table border=\"1\" class=\"dataframe\">\n",
              "  <thead>\n",
              "    <tr style=\"text-align: right;\">\n",
              "      <th></th>\n",
              "      <th>beer_name</th>\n",
              "      <th>beer_beerId</th>\n",
              "      <th>beer_brewer</th>\n",
              "      <th>beer_ABV</th>\n",
              "      <th>beer_style</th>\n",
              "      <th>review_appearance</th>\n",
              "      <th>review_aroma</th>\n",
              "      <th>review_palate</th>\n",
              "      <th>review_taste</th>\n",
              "      <th>review_overall</th>\n",
              "      <th>review_time</th>\n",
              "      <th>review_profileName</th>\n",
              "      <th>review_text</th>\n",
              "    </tr>\n",
              "  </thead>\n",
              "  <tbody>\n",
              "    <tr>\n",
              "      <th>0</th>\n",
              "      <td>Sausa Weizen</td>\n",
              "      <td>47986</td>\n",
              "      <td>10325</td>\n",
              "      <td>5.00</td>\n",
              "      <td>Hefeweizen</td>\n",
              "      <td>2.5</td>\n",
              "      <td>2</td>\n",
              "      <td>1.5</td>\n",
              "      <td>1.5</td>\n",
              "      <td>1.5</td>\n",
              "      <td>1234817823</td>\n",
              "      <td>stcules</td>\n",
              "      <td>A lot of foam. But a lot.\\tIn the smell some b...</td>\n",
              "    </tr>\n",
              "    <tr>\n",
              "      <th>1</th>\n",
              "      <td>Red Moon</td>\n",
              "      <td>48213</td>\n",
              "      <td>10325</td>\n",
              "      <td>6.20</td>\n",
              "      <td>English Strong Ale</td>\n",
              "      <td>3</td>\n",
              "      <td>2.5</td>\n",
              "      <td>3</td>\n",
              "      <td>3</td>\n",
              "      <td>3</td>\n",
              "      <td>1235915097</td>\n",
              "      <td>stcules</td>\n",
              "      <td>Dark red color, light beige foam, average.\\tIn...</td>\n",
              "    </tr>\n",
              "    <tr>\n",
              "      <th>2</th>\n",
              "      <td>Black Horse Black Beer</td>\n",
              "      <td>48215</td>\n",
              "      <td>10325</td>\n",
              "      <td>6.50</td>\n",
              "      <td>Foreign / Export Stout</td>\n",
              "      <td>3</td>\n",
              "      <td>2.5</td>\n",
              "      <td>3</td>\n",
              "      <td>3</td>\n",
              "      <td>3</td>\n",
              "      <td>1235916604</td>\n",
              "      <td>stcules</td>\n",
              "      <td>Almost totally black. Beige foam, quite compac...</td>\n",
              "    </tr>\n",
              "  </tbody>\n",
              "</table>\n",
              "</div>"
            ],
            "text/plain": [
              "                beer_name beer_beerId beer_brewer beer_ABV  \\\n",
              "0            Sausa Weizen       47986       10325     5.00   \n",
              "1                Red Moon       48213       10325     6.20   \n",
              "2  Black Horse Black Beer       48215       10325     6.50   \n",
              "\n",
              "               beer_style review_appearance review_aroma review_palate  \\\n",
              "0              Hefeweizen               2.5            2           1.5   \n",
              "1      English Strong Ale                 3          2.5             3   \n",
              "2  Foreign / Export Stout                 3          2.5             3   \n",
              "\n",
              "  review_taste review_overall review_time review_profileName  \\\n",
              "0          1.5            1.5  1234817823            stcules   \n",
              "1            3              3  1235915097            stcules   \n",
              "2            3              3  1235916604            stcules   \n",
              "\n",
              "                                         review_text  \n",
              "0  A lot of foam. But a lot.\\tIn the smell some b...  \n",
              "1  Dark red color, light beige foam, average.\\tIn...  \n",
              "2  Almost totally black. Beige foam, quite compac...  "
            ]
          },
          "metadata": {
            "tags": []
          },
          "execution_count": 7
        }
      ]
    },
    {
      "metadata": {
        "id": "smNuxKZYjdW1",
        "colab_type": "code",
        "outputId": "b8885f67-b884-441f-8091-9dac4fc64f22",
        "colab": {
          "base_uri": "https://localhost:8080/",
          "height": 85
        }
      },
      "cell_type": "code",
      "source": [
        "print('The full dataset includes:')\n",
        "print('%d unique beers;' % df.beer_beerId.nunique())\n",
        "print('%d unique users;' % df.review_profileName.nunique())\n",
        "print('and %d reviews in total.' % df.shape[0])"
      ],
      "execution_count": 8,
      "outputs": [
        {
          "output_type": "stream",
          "text": [
            "The full dataset includes:\n",
            "66055 unique beers;\n",
            "33388 unique users;\n",
            "and 1586614 reviews in total.\n"
          ],
          "name": "stdout"
        }
      ]
    },
    {
      "metadata": {
        "id": "p43O38umy4Y2",
        "colab_type": "text"
      },
      "cell_type": "markdown",
      "source": [
        "### 1.2 Exploratory Data Analysis"
      ]
    },
    {
      "metadata": {
        "id": "rPigP-ls6UEN",
        "colab_type": "text"
      },
      "cell_type": "markdown",
      "source": [
        "#### users"
      ]
    },
    {
      "metadata": {
        "id": "Qt57koiXy7nw",
        "colab_type": "code",
        "colab": {}
      },
      "cell_type": "code",
      "source": [
        "num_review_byuser = df.review_profileName.value_counts()\n",
        "freq_list_user = np.array(list(dict(num_review_byuser).values()))"
      ],
      "execution_count": 0,
      "outputs": []
    },
    {
      "metadata": {
        "id": "hLlMub79L2Au",
        "colab_type": "code",
        "outputId": "b8996ec5-f1dc-4a23-efda-680c85772bea",
        "colab": {
          "base_uri": "https://localhost:8080/",
          "height": 265
        }
      },
      "cell_type": "code",
      "source": [
        "plt.figure(figsize=(14, 4))\n",
        "plt.hist(freq_list_user, bins=300)\n",
        "plt.show()"
      ],
      "execution_count": 10,
      "outputs": [
        {
          "output_type": "display_data",
          "data": {
            "image/png": "[encoded data removed]",
            "text/plain": [
              "<matplotlib.figure.Figure at 0x7fbed980db70>"
            ]
          },
          "metadata": {
            "tags": []
          }
        }
      ]
    },
    {
      "metadata": {
        "id": "WGifsVmBy8GW",
        "colab_type": "code",
        "outputId": "95d4fdf5-176c-4518-8a5a-7af6ad1193da",
        "colab": {
          "base_uri": "https://localhost:8080/",
          "height": 294
        }
      },
      "cell_type": "code",
      "source": [
        "user5more = freq_list_user[np.where(freq_list_user >= 300)]\n",
        "user5less = freq_list_user[np.where(freq_list_user < 300)]\n",
        "\n",
        "plt.figure(figsize=(14, 4))\n",
        "\n",
        "plt.subplot(121)\n",
        "plt.hist(user5less, bins=30)\n",
        "plt.title('# of users (with Less than 300 reviews)')\n",
        "plt.xlabel('# of reviews')\n",
        "plt.axhline(y=1000, color='r', linestyle='-')\n",
        "\n",
        "plt.subplot(122)\n",
        "plt.hist(user5more, bins=300)\n",
        "plt.title('# of users (with More than 300 reviews)')\n",
        "plt.xlabel('# of reviews')\n",
        "\n",
        "plt.show()"
      ],
      "execution_count": 11,
      "outputs": [
        {
          "output_type": "display_data",
          "data": {
            "image/png": "[encoded data removed]",
            "text/plain": [
              "<matplotlib.figure.Figure at 0x7fbf2dd46b70>"
            ]
          },
          "metadata": {
            "tags": []
          }
        }
      ]
    },
    {
      "metadata": {
        "id": "njLY-TDOLD0B",
        "colab_type": "text"
      },
      "cell_type": "markdown",
      "source": [
        "We have 33388 unique users, among them ~28000 users have less than 30 reviews."
      ]
    },
    {
      "metadata": {
        "id": "QTjzagZ86V_L",
        "colab_type": "text"
      },
      "cell_type": "markdown",
      "source": [
        "#### beers"
      ]
    },
    {
      "metadata": {
        "id": "E1llGa_Y6Zkr",
        "colab_type": "code",
        "colab": {}
      },
      "cell_type": "code",
      "source": [
        "num_review_bybeer = df.beer_name.value_counts()\n",
        "freq_list_beer = np.array(list(dict(num_review_bybeer).values()))"
      ],
      "execution_count": 0,
      "outputs": []
    },
    {
      "metadata": {
        "id": "ddXjZ0dh6sFZ",
        "colab_type": "code",
        "outputId": "759868c3-2c9d-4683-a9bf-c007aaae0324",
        "colab": {
          "base_uri": "https://localhost:8080/",
          "height": 294
        }
      },
      "cell_type": "code",
      "source": [
        "beer5more = freq_list_beer[np.where(freq_list_beer >= 200)]\n",
        "beer5less = freq_list_beer[np.where(freq_list_beer < 200)]\n",
        "\n",
        "plt.figure(figsize=(14, 4))\n",
        "\n",
        "plt.subplot(121)\n",
        "plt.hist(beer5less, bins=40)\n",
        "plt.title('histogram of beer with Less than 200 reviews')\n",
        "plt.xlabel('# of reviews')\n",
        "plt.axhline(y=1200, color='r', linestyle='-')\n",
        "\n",
        "plt.subplot(122)\n",
        "plt.hist(beer5more, bins=300)\n",
        "plt.title('histogram of beer with More than 200 reviews')\n",
        "plt.xlabel('# of reviews')\n",
        "\n",
        "plt.show()"
      ],
      "execution_count": 13,
      "outputs": [
        {
          "output_type": "display_data",
          "data": {
            "image/png": "[encoded data removed]",
            "text/plain": [
              "<matplotlib.figure.Figure at 0x7fbed6c07940>"
            ]
          },
          "metadata": {
            "tags": []
          }
        }
      ]
    },
    {
      "metadata": {
        "id": "DneoL1w4ncSk",
        "colab_type": "text"
      },
      "cell_type": "markdown",
      "source": [
        "### 1.3 Subset from Metadata"
      ]
    },
    {
      "metadata": {
        "id": "4w89UnKGn6tp",
        "colab_type": "code",
        "outputId": "fbfe1a3c-597a-4e5b-a7a6-4196d793a5e0",
        "colab": {
          "base_uri": "https://localhost:8080/",
          "height": 68
        }
      },
      "cell_type": "code",
      "source": [
        "# subset data for collabrotive filtering\n",
        "df1 = df[['beer_name', 'beer_beerId', 'review_profileName', 'review_overall', 'review_time']]\n",
        "print('Original data size: %s' % str(df1.shape)) \n",
        "\n",
        "# remove NA \n",
        "df1 = df1[pd.notnull(df1.beer_name) & pd.notnull(df1.review_profileName) & pd.notnull(df1.review_overall)]\n",
        "# remove blanks\n",
        "df1 = df1.loc[df1.review_profileName != '']\n",
        "df1 = df1.loc[df1.beer_name != '']\n",
        "df1 = df1.loc[df1.review_overall != '']\n",
        "print('After removing NAs and blanks: %s' % str(df1.shape)) \n",
        "\n",
        "# drop duplicate (beer&user) pairs, keep the latest rating\n",
        "df1['beer_user_pair'] = df1.beer_name + df1.review_profileName\n",
        "df1 = df1.sort_values(by=['review_time'], ascending=False).drop_duplicates(subset=['beer_user_pair'])\n",
        "print('After drop duplicate user-item pairs (only keep the latest rating), data size: %s' % str(df1.shape))\n",
        "\n",
        "# convert review ratings to numberic\n",
        "df1.review_overall = pd.to_numeric(df1.review_overall)"
      ],
      "execution_count": 14,
      "outputs": [
        {
          "output_type": "stream",
          "text": [
            "Original data size: (1586614, 5)\n",
            "After removing NAs and blanks: (1586266, 5)\n",
            "After drop duplicate user-item pairs (only keep the latest rating), data size: (1561405, 6)\n"
          ],
          "name": "stdout"
        }
      ]
    },
    {
      "metadata": {
        "id": "StxaZXa96OhD",
        "colab_type": "code",
        "outputId": "f95bd1ac-c302-419c-e778-c97e45c87b9f",
        "colab": {
          "base_uri": "https://localhost:8080/",
          "height": 193
        }
      },
      "cell_type": "code",
      "source": [
        "df1.head(3)"
      ],
      "execution_count": 15,
      "outputs": [
        {
          "output_type": "execute_result",
          "data": {
            "text/html": [
              "<div>\n",
              "<style scoped>\n",
              "    .dataframe tbody tr th:only-of-type {\n",
              "        vertical-align: middle;\n",
              "    }\n",
              "\n",
              "    .dataframe tbody tr th {\n",
              "        vertical-align: top;\n",
              "    }\n",
              "\n",
              "    .dataframe thead th {\n",
              "        text-align: right;\n",
              "    }\n",
              "</style>\n",
              "<table border=\"1\" class=\"dataframe\">\n",
              "  <thead>\n",
              "    <tr style=\"text-align: right;\">\n",
              "      <th></th>\n",
              "      <th>beer_name</th>\n",
              "      <th>beer_beerId</th>\n",
              "      <th>review_profileName</th>\n",
              "      <th>review_overall</th>\n",
              "      <th>review_time</th>\n",
              "      <th>beer_user_pair</th>\n",
              "    </tr>\n",
              "  </thead>\n",
              "  <tbody>\n",
              "    <tr>\n",
              "      <th>581215</th>\n",
              "      <td>Pete's Wicked Strawberry Blonde</td>\n",
              "      <td>381</td>\n",
              "      <td>bk3nj</td>\n",
              "      <td>3.0</td>\n",
              "      <td>999999652</td>\n",
              "      <td>Pete's Wicked Strawberry Blondebk3nj</td>\n",
              "    </tr>\n",
              "    <tr>\n",
              "      <th>1023623</th>\n",
              "      <td>Fiji Bitter</td>\n",
              "      <td>1480</td>\n",
              "      <td>Mark</td>\n",
              "      <td>4.0</td>\n",
              "      <td>999980551</td>\n",
              "      <td>Fiji BitterMark</td>\n",
              "    </tr>\n",
              "    <tr>\n",
              "      <th>1077899</th>\n",
              "      <td>Wolaver's India Pale Ale</td>\n",
              "      <td>399</td>\n",
              "      <td>bcm119</td>\n",
              "      <td>3.5</td>\n",
              "      <td>999903142</td>\n",
              "      <td>Wolaver's India Pale Alebcm119</td>\n",
              "    </tr>\n",
              "  </tbody>\n",
              "</table>\n",
              "</div>"
            ],
            "text/plain": [
              "                               beer_name beer_beerId review_profileName  \\\n",
              "581215   Pete's Wicked Strawberry Blonde         381              bk3nj   \n",
              "1023623                      Fiji Bitter        1480               Mark   \n",
              "1077899         Wolaver's India Pale Ale         399             bcm119   \n",
              "\n",
              "         review_overall review_time                        beer_user_pair  \n",
              "581215              3.0   999999652  Pete's Wicked Strawberry Blondebk3nj  \n",
              "1023623             4.0   999980551                       Fiji BitterMark  \n",
              "1077899             3.5   999903142        Wolaver's India Pale Alebcm119  "
            ]
          },
          "metadata": {
            "tags": []
          },
          "execution_count": 15
        }
      ]
    },
    {
      "metadata": {
        "id": "m9Ht9Sa-OX_U",
        "colab_type": "text"
      },
      "cell_type": "markdown",
      "source": [
        "#### remove bottom users and beers"
      ]
    },
    {
      "metadata": {
        "id": "0Jk6lij9ErZN",
        "colab_type": "code",
        "outputId": "e84dffb1-bef9-4f16-fc43-a5b680451794",
        "colab": {
          "base_uri": "https://localhost:8080/",
          "height": 261
        }
      },
      "cell_type": "code",
      "source": [
        "# subset three columns\n",
        "cf = df1[['review_profileName', 'beer_name', 'review_overall']]\n",
        "\n",
        "# sort user by # of reviews\n",
        "cnt_user = dict(num_review_byuser)\n",
        "cf['user_freq'] = [cnt_user.get(x) for x in cf.review_profileName]\n",
        "\n",
        "# sort beer by # of reviews\n",
        "cnt_beer = dict(num_review_bybeer)\n",
        "cf['beer_freq'] = [cnt_beer.get(x) for x in cf.beer_name]\n",
        "\n",
        "# drop users with less than 10 reviews\n",
        "# drop beers with less than 5 reviews\n",
        "cf = cf.loc[cf.user_freq > 10]\n",
        "cf = cf.loc[cf.beer_freq > 5]"
      ],
      "execution_count": 16,
      "outputs": [
        {
          "output_type": "stream",
          "text": [
            "/usr/local/lib/python3.6/dist-packages/ipykernel_launcher.py:5: SettingWithCopyWarning: \n",
            "A value is trying to be set on a copy of a slice from a DataFrame.\n",
            "Try using .loc[row_indexer,col_indexer] = value instead\n",
            "\n",
            "See the caveats in the documentation: http://pandas.pydata.org/pandas-docs/stable/indexing.html#indexing-view-versus-copy\n",
            "  \"\"\"\n",
            "/usr/local/lib/python3.6/dist-packages/ipykernel_launcher.py:9: SettingWithCopyWarning: \n",
            "A value is trying to be set on a copy of a slice from a DataFrame.\n",
            "Try using .loc[row_indexer,col_indexer] = value instead\n",
            "\n",
            "See the caveats in the documentation: http://pandas.pydata.org/pandas-docs/stable/indexing.html#indexing-view-versus-copy\n",
            "  if __name__ == '__main__':\n"
          ],
          "name": "stderr"
        }
      ]
    },
    {
      "metadata": {
        "id": "FozoopjYKOrC",
        "colab_type": "code",
        "outputId": "ec1abc4e-74a8-4002-f006-6b3e6c2efd36",
        "colab": {
          "base_uri": "https://localhost:8080/",
          "height": 85
        }
      },
      "cell_type": "code",
      "source": [
        "print('After removing bottom users and beers,')\n",
        "print('%d unique beers;' % cf.beer_name.nunique())\n",
        "print('%d unique users;' % cf.review_profileName.nunique())\n",
        "print('and %d reviews in total.' % cf.shape[0])"
      ],
      "execution_count": 17,
      "outputs": [
        {
          "output_type": "stream",
          "text": [
            "After removing bottom users and beers,\n",
            "18925 unique beers;\n",
            "10189 unique users;\n",
            "and 1423856 reviews in total.\n"
          ],
          "name": "stdout"
        }
      ]
    },
    {
      "metadata": {
        "id": "coPrQ4D9JlmU",
        "colab_type": "code",
        "outputId": "e9978988-1beb-4c95-d439-d5d563d17293",
        "colab": {
          "base_uri": "https://localhost:8080/",
          "height": 142
        }
      },
      "cell_type": "code",
      "source": [
        "cf.head(3)"
      ],
      "execution_count": 18,
      "outputs": [
        {
          "output_type": "execute_result",
          "data": {
            "text/html": [
              "<div>\n",
              "<style scoped>\n",
              "    .dataframe tbody tr th:only-of-type {\n",
              "        vertical-align: middle;\n",
              "    }\n",
              "\n",
              "    .dataframe tbody tr th {\n",
              "        vertical-align: top;\n",
              "    }\n",
              "\n",
              "    .dataframe thead th {\n",
              "        text-align: right;\n",
              "    }\n",
              "</style>\n",
              "<table border=\"1\" class=\"dataframe\">\n",
              "  <thead>\n",
              "    <tr style=\"text-align: right;\">\n",
              "      <th></th>\n",
              "      <th>review_profileName</th>\n",
              "      <th>beer_name</th>\n",
              "      <th>review_overall</th>\n",
              "      <th>user_freq</th>\n",
              "      <th>beer_freq</th>\n",
              "    </tr>\n",
              "  </thead>\n",
              "  <tbody>\n",
              "    <tr>\n",
              "      <th>581215</th>\n",
              "      <td>bk3nj</td>\n",
              "      <td>Pete's Wicked Strawberry Blonde</td>\n",
              "      <td>3.0</td>\n",
              "      <td>45</td>\n",
              "      <td>298</td>\n",
              "    </tr>\n",
              "    <tr>\n",
              "      <th>1023623</th>\n",
              "      <td>Mark</td>\n",
              "      <td>Fiji Bitter</td>\n",
              "      <td>4.0</td>\n",
              "      <td>532</td>\n",
              "      <td>8</td>\n",
              "    </tr>\n",
              "    <tr>\n",
              "      <th>1077899</th>\n",
              "      <td>bcm119</td>\n",
              "      <td>Wolaver's India Pale Ale</td>\n",
              "      <td>3.5</td>\n",
              "      <td>175</td>\n",
              "      <td>257</td>\n",
              "    </tr>\n",
              "  </tbody>\n",
              "</table>\n",
              "</div>"
            ],
            "text/plain": [
              "        review_profileName                        beer_name  review_overall  \\\n",
              "581215               bk3nj  Pete's Wicked Strawberry Blonde             3.0   \n",
              "1023623               Mark                      Fiji Bitter             4.0   \n",
              "1077899             bcm119         Wolaver's India Pale Ale             3.5   \n",
              "\n",
              "         user_freq  beer_freq  \n",
              "581215          45        298  \n",
              "1023623        532          8  \n",
              "1077899        175        257  "
            ]
          },
          "metadata": {
            "tags": []
          },
          "execution_count": 18
        }
      ]
    },
    {
      "metadata": {
        "id": "blk5sjcwKiPh",
        "colab_type": "code",
        "outputId": "4d53354f-45fd-44b5-e76c-37522cd61e2d",
        "colab": {
          "base_uri": "https://localhost:8080/",
          "height": 389
        }
      },
      "cell_type": "code",
      "source": [
        "# user \n",
        "freq = cf.review_profileName.value_counts()\n",
        "freq = np.array(list(dict(freq).values()))\n",
        "\n",
        "plt.figure(figsize=(14, 6))\n",
        "plt.subplot(121)\n",
        "plt.boxplot(freq, 0, 'rs', 0)\n",
        "plt.title('# of reviews for each user')\n",
        "\n",
        "plt.subplot(122)\n",
        "plt.hist(freq, bins=400)\n",
        "\n",
        "plt.show()"
      ],
      "execution_count": 19,
      "outputs": [
        {
          "output_type": "display_data",
          "data": {
            "image/png": "[encoded data removed]",
            "text/plain": [
              "<matplotlib.figure.Figure at 0x7fbed6ab7a90>"
            ]
          },
          "metadata": {
            "tags": []
          }
        }
      ]
    },
    {
      "metadata": {
        "id": "1HOYWMt-OExk",
        "colab_type": "code",
        "outputId": "c96f6cb7-810d-491e-c50e-31e0f6851fe7",
        "colab": {
          "base_uri": "https://localhost:8080/",
          "height": 389
        }
      },
      "cell_type": "code",
      "source": [
        "# beer\n",
        "freqb = cf.beer_name.value_counts()\n",
        "freqb = np.array(list(dict(freqb).values()))\n",
        "\n",
        "plt.figure(figsize=(14, 6))\n",
        "plt.subplot(121)\n",
        "plt.boxplot(freqb, 0, 'rs', 0)\n",
        "plt.title('# of reviews for each beer')\n",
        "\n",
        "plt.subplot(122)\n",
        "plt.hist(freqb, bins=250)\n",
        "\n",
        "plt.show()"
      ],
      "execution_count": 20,
      "outputs": [
        {
          "output_type": "display_data",
          "data": {
            "image/png": "[encoded data removed]",
            "text/plain": [
              "<matplotlib.figure.Figure at 0x7fbed6a32710>"
            ]
          },
          "metadata": {
            "tags": []
          }
        }
      ]
    },
    {
      "metadata": {
        "id": "u0cr1LlnOSd8",
        "colab_type": "text"
      },
      "cell_type": "markdown",
      "source": [
        "#### split into two groups\n",
        "- users with more than 100 reviews;\n",
        "- users with less than 100 reviews."
      ]
    },
    {
      "metadata": {
        "id": "d_36fdtMCcNo",
        "colab_type": "code",
        "outputId": "5ea5bfcb-29ff-4d15-cb8a-558e6332a33b",
        "colab": {
          "base_uri": "https://localhost:8080/",
          "height": 204
        }
      },
      "cell_type": "code",
      "source": [
        "# split into two groups\n",
        "threshold = 100\n",
        "\n",
        "more = cf.loc[cf.user_freq > threshold]\n",
        "less = cf.loc[cf.user_freq <= threshold]\n",
        "\n",
        "more.head()"
      ],
      "execution_count": 21,
      "outputs": [
        {
          "output_type": "execute_result",
          "data": {
            "text/html": [
              "<div>\n",
              "<style scoped>\n",
              "    .dataframe tbody tr th:only-of-type {\n",
              "        vertical-align: middle;\n",
              "    }\n",
              "\n",
              "    .dataframe tbody tr th {\n",
              "        vertical-align: top;\n",
              "    }\n",
              "\n",
              "    .dataframe thead th {\n",
              "        text-align: right;\n",
              "    }\n",
              "</style>\n",
              "<table border=\"1\" class=\"dataframe\">\n",
              "  <thead>\n",
              "    <tr style=\"text-align: right;\">\n",
              "      <th></th>\n",
              "      <th>review_profileName</th>\n",
              "      <th>beer_name</th>\n",
              "      <th>review_overall</th>\n",
              "      <th>user_freq</th>\n",
              "      <th>beer_freq</th>\n",
              "    </tr>\n",
              "  </thead>\n",
              "  <tbody>\n",
              "    <tr>\n",
              "      <th>1023623</th>\n",
              "      <td>Mark</td>\n",
              "      <td>Fiji Bitter</td>\n",
              "      <td>4.0</td>\n",
              "      <td>532</td>\n",
              "      <td>8</td>\n",
              "    </tr>\n",
              "    <tr>\n",
              "      <th>1077899</th>\n",
              "      <td>bcm119</td>\n",
              "      <td>Wolaver's India Pale Ale</td>\n",
              "      <td>3.5</td>\n",
              "      <td>175</td>\n",
              "      <td>257</td>\n",
              "    </tr>\n",
              "    <tr>\n",
              "      <th>797362</th>\n",
              "      <td>Jason</td>\n",
              "      <td>Lindemans Framboise</td>\n",
              "      <td>3.5</td>\n",
              "      <td>2350</td>\n",
              "      <td>903</td>\n",
              "    </tr>\n",
              "    <tr>\n",
              "      <th>808675</th>\n",
              "      <td>Jason</td>\n",
              "      <td>Chapeau Framboise Lambic</td>\n",
              "      <td>4.0</td>\n",
              "      <td>2350</td>\n",
              "      <td>44</td>\n",
              "    </tr>\n",
              "    <tr>\n",
              "      <th>961766</th>\n",
              "      <td>Jason</td>\n",
              "      <td>Dooryard Ale</td>\n",
              "      <td>3.0</td>\n",
              "      <td>2350</td>\n",
              "      <td>13</td>\n",
              "    </tr>\n",
              "  </tbody>\n",
              "</table>\n",
              "</div>"
            ],
            "text/plain": [
              "        review_profileName                 beer_name  review_overall  \\\n",
              "1023623               Mark               Fiji Bitter             4.0   \n",
              "1077899             bcm119  Wolaver's India Pale Ale             3.5   \n",
              "797362               Jason       Lindemans Framboise             3.5   \n",
              "808675               Jason  Chapeau Framboise Lambic             4.0   \n",
              "961766               Jason              Dooryard Ale             3.0   \n",
              "\n",
              "         user_freq  beer_freq  \n",
              "1023623        532          8  \n",
              "1077899        175        257  \n",
              "797362        2350        903  \n",
              "808675        2350         44  \n",
              "961766        2350         13  "
            ]
          },
          "metadata": {
            "tags": []
          },
          "execution_count": 21
        }
      ]
    },
    {
      "metadata": {
        "id": "gB63pBeQW33K",
        "colab_type": "code",
        "outputId": "ed16a02c-e959-487d-e5c1-ca3a81f32f91",
        "colab": {
          "base_uri": "https://localhost:8080/",
          "height": 420
        }
      },
      "cell_type": "code",
      "source": [
        "# visualize two groups\n",
        "print('group > %d has the size: %s' % (threshold, str(more.shape)))\n",
        "\n",
        "freqm = more.review_profileName.value_counts()\n",
        "freqm = np.array(list(dict(freqm).values()))\n",
        "\n",
        "plt.figure(figsize=(14, 6))\n",
        "plt.subplot(121)\n",
        "plt.boxplot(freqm, 0, 'rs', 0)\n",
        "plt.title('# of reviews for each user (more than 50 reviews)')\n",
        "\n",
        "plt.subplot(122)\n",
        "plt.hist(freqm, bins=200)\n",
        "plt.ylabel('# of users')\n",
        "plt.xlabel('# of reviews')\n",
        "plt.show()"
      ],
      "execution_count": 22,
      "outputs": [
        {
          "output_type": "stream",
          "text": [
            "group > 100 has the size: (1186781, 5)\n"
          ],
          "name": "stdout"
        },
        {
          "output_type": "display_data",
          "data": {
            "image/png": "[encoded data removed]",
            "text/plain": [
              "<matplotlib.figure.Figure at 0x7fbed6c27908>"
            ]
          },
          "metadata": {
            "tags": []
          }
        }
      ]
    },
    {
      "metadata": {
        "id": "s7jWO3jrXGbi",
        "colab_type": "code",
        "outputId": "885060c8-20b0-47d6-923f-e1697563818d",
        "colab": {
          "base_uri": "https://localhost:8080/",
          "height": 420
        }
      },
      "cell_type": "code",
      "source": [
        "# visualize two groups\n",
        "print('group <= %d has the size: %s' % (threshold, str(less.shape)))\n",
        "\n",
        "freql = less.review_profileName.value_counts()\n",
        "freql = np.array(list(dict(freql).values()))\n",
        "\n",
        "plt.figure(figsize=(14, 6))\n",
        "plt.subplot(121)\n",
        "plt.boxplot(freql, 0, 'rs', 0)\n",
        "plt.title('# of reviews for each user (less than 50 reviews)')\n",
        "\n",
        "plt.subplot(122)\n",
        "plt.hist(freql, bins=100)\n",
        "plt.ylabel('# of users')\n",
        "plt.xlabel('# of reviews')\n",
        "plt.show()"
      ],
      "execution_count": 23,
      "outputs": [
        {
          "output_type": "stream",
          "text": [
            "group <= 100 has the size: (237075, 5)\n"
          ],
          "name": "stdout"
        },
        {
          "output_type": "display_data",
          "data": {
            "image/png": "[encoded data removed]",
            "text/plain": [
              "<matplotlib.figure.Figure at 0x7fbed69b71d0>"
            ]
          },
          "metadata": {
            "tags": []
          }
        }
      ]
    },
    {
      "metadata": {
        "id": "Tl4y9c11PZvj",
        "colab_type": "text"
      },
      "cell_type": "markdown",
      "source": [
        "## Part 2: Prediction Models"
      ]
    },
    {
      "metadata": {
        "id": "ON1T-CcXvBBi",
        "colab_type": "code",
        "colab": {}
      },
      "cell_type": "code",
      "source": [
        "# define functions to generate prediction dataframe\n",
        "# get_Iu and get_Ui are borrowed from Surprise library\n",
        "def get_Iu(uid):\n",
        "    \"\"\"Return the number of items rated by given user\n",
        "    Args:\n",
        "        uid: The raw id of the user.\n",
        "    Returns:\n",
        "        The number of items rated by the user.\n",
        "    \"\"\"\n",
        "    try:\n",
        "        return len(trainset.ur[trainset.to_inner_uid(uid)])\n",
        "    except ValueError:  # user was not part of the trainset\n",
        "        return 0\n",
        "    \n",
        "def get_Ui(iid):\n",
        "    \"\"\"Return the number of users that have rated given item\n",
        "    Args:\n",
        "        iid: The raw id of the item.\n",
        "    Returns:\n",
        "        The number of users that have rated the item.\n",
        "    \"\"\"\n",
        "    try:\n",
        "        return len(trainset.ir[trainset.to_inner_iid(iid)])\n",
        "    except ValueError:  # item was not part of the trainset\n",
        "        return 0\n",
        "\n",
        "# customized function to get predictions\n",
        "def get_pred_df(pred):\n",
        "  pred_df = pd.DataFrame(pred, columns=['uid', 'iid', 'rui', 'est', 'details'])    \n",
        "  pred_df['Iu'] = pred_df.uid.apply(get_Iu)\n",
        "  pred_df['Ui'] = pred_df.iid.apply(get_Ui)\n",
        "  pred_df['err'] = abs(pred_df.est - pred_df.rui)\n",
        "  \n",
        "  # append review counts\n",
        "  pred_df['user_freq'] = [cnt_user.get(x) for x in pred_df.uid]\n",
        "  pred_df = pred_df.sort_values(by=['uid'])\n",
        "  \n",
        "  return pred_df"
      ],
      "execution_count": 0,
      "outputs": []
    },
    {
      "metadata": {
        "id": "rRUhL5QqZHMP",
        "colab_type": "code",
        "colab": {}
      },
      "cell_type": "code",
      "source": [
        "# train test split\n",
        "reader = Reader(rating_scale=(1, 5))\n",
        "data = Dataset.load_from_df(cf[['review_profileName', 'beer_name', 'review_overall']], reader)\n",
        "trainset, testset = train_test_split(data, test_size=.33)"
      ],
      "execution_count": 0,
      "outputs": []
    },
    {
      "metadata": {
        "id": "bpfWuilrgB0s",
        "colab_type": "text"
      },
      "cell_type": "markdown",
      "source": [
        "### 2.1 SVD"
      ]
    },
    {
      "metadata": {
        "id": "36qdidqdgIzN",
        "colab_type": "code",
        "outputId": "33bfb36d-87a9-4738-fe7f-fdd8c35fcce3",
        "colab": {
          "base_uri": "https://localhost:8080/",
          "height": 221
        }
      },
      "cell_type": "code",
      "source": [
        "# fit\n",
        "svd = SVD(n_factors = 30, lr_all = 0.01, reg_all = 0.05)\n",
        "svd.fit(trainset)\n",
        "\n",
        "# test \n",
        "svd_pred = svd.test(testset)\n",
        "accuracy.rmse(svd_pred, verbose=True)\n",
        "\n",
        "# predict\n",
        "svd_pred_df = get_pred_df(svd_pred)\n",
        "svd_pred_df.head()"
      ],
      "execution_count": 26,
      "outputs": [
        {
          "output_type": "stream",
          "text": [
            "RMSE: 0.5897\n"
          ],
          "name": "stdout"
        },
        {
          "output_type": "execute_result",
          "data": {
            "text/html": [
              "<div>\n",
              "<style scoped>\n",
              "    .dataframe tbody tr th:only-of-type {\n",
              "        vertical-align: middle;\n",
              "    }\n",
              "\n",
              "    .dataframe tbody tr th {\n",
              "        vertical-align: top;\n",
              "    }\n",
              "\n",
              "    .dataframe thead th {\n",
              "        text-align: right;\n",
              "    }\n",
              "</style>\n",
              "<table border=\"1\" class=\"dataframe\">\n",
              "  <thead>\n",
              "    <tr style=\"text-align: right;\">\n",
              "      <th></th>\n",
              "      <th>uid</th>\n",
              "      <th>iid</th>\n",
              "      <th>rui</th>\n",
              "      <th>est</th>\n",
              "      <th>details</th>\n",
              "      <th>Iu</th>\n",
              "      <th>Ui</th>\n",
              "      <th>err</th>\n",
              "      <th>user_freq</th>\n",
              "    </tr>\n",
              "  </thead>\n",
              "  <tbody>\n",
              "    <tr>\n",
              "      <th>100818</th>\n",
              "      <td>0110x011</td>\n",
              "      <td>Duchesse De Bourgogne</td>\n",
              "      <td>2.0</td>\n",
              "      <td>4.102216</td>\n",
              "      <td>{'was_impossible': False}</td>\n",
              "      <td>102</td>\n",
              "      <td>736</td>\n",
              "      <td>2.102216</td>\n",
              "      <td>139</td>\n",
              "    </tr>\n",
              "    <tr>\n",
              "      <th>96356</th>\n",
              "      <td>0110x011</td>\n",
              "      <td>InFamous</td>\n",
              "      <td>4.0</td>\n",
              "      <td>4.314472</td>\n",
              "      <td>{'was_impossible': False}</td>\n",
              "      <td>102</td>\n",
              "      <td>12</td>\n",
              "      <td>0.314472</td>\n",
              "      <td>139</td>\n",
              "    </tr>\n",
              "    <tr>\n",
              "      <th>464879</th>\n",
              "      <td>0110x011</td>\n",
              "      <td>Arctic Devil Barley Wine</td>\n",
              "      <td>4.0</td>\n",
              "      <td>4.383212</td>\n",
              "      <td>{'was_impossible': False}</td>\n",
              "      <td>102</td>\n",
              "      <td>135</td>\n",
              "      <td>0.383212</td>\n",
              "      <td>139</td>\n",
              "    </tr>\n",
              "    <tr>\n",
              "      <th>69685</th>\n",
              "      <td>0110x011</td>\n",
              "      <td>Hoppe (Imperial Extra Pale Ale)</td>\n",
              "      <td>3.0</td>\n",
              "      <td>4.218764</td>\n",
              "      <td>{'was_impossible': False}</td>\n",
              "      <td>102</td>\n",
              "      <td>279</td>\n",
              "      <td>1.218764</td>\n",
              "      <td>139</td>\n",
              "    </tr>\n",
              "    <tr>\n",
              "      <th>436440</th>\n",
              "      <td>0110x011</td>\n",
              "      <td>Trappist Westvleteren 12</td>\n",
              "      <td>4.5</td>\n",
              "      <td>4.727700</td>\n",
              "      <td>{'was_impossible': False}</td>\n",
              "      <td>102</td>\n",
              "      <td>777</td>\n",
              "      <td>0.227700</td>\n",
              "      <td>139</td>\n",
              "    </tr>\n",
              "  </tbody>\n",
              "</table>\n",
              "</div>"
            ],
            "text/plain": [
              "             uid                              iid  rui       est  \\\n",
              "100818  0110x011            Duchesse De Bourgogne  2.0  4.102216   \n",
              "96356   0110x011                         InFamous  4.0  4.314472   \n",
              "464879  0110x011         Arctic Devil Barley Wine  4.0  4.383212   \n",
              "69685   0110x011  Hoppe (Imperial Extra Pale Ale)  3.0  4.218764   \n",
              "436440  0110x011         Trappist Westvleteren 12  4.5  4.727700   \n",
              "\n",
              "                          details   Iu   Ui       err  user_freq  \n",
              "100818  {'was_impossible': False}  102  736  2.102216        139  \n",
              "96356   {'was_impossible': False}  102   12  0.314472        139  \n",
              "464879  {'was_impossible': False}  102  135  0.383212        139  \n",
              "69685   {'was_impossible': False}  102  279  1.218764        139  \n",
              "436440  {'was_impossible': False}  102  777  0.227700        139  "
            ]
          },
          "metadata": {
            "tags": []
          },
          "execution_count": 26
        }
      ]
    },
    {
      "metadata": {
        "id": "VpPn5nb07Nso",
        "colab_type": "code",
        "colab": {
          "base_uri": "https://localhost:8080/",
          "height": 289
        },
        "outputId": "224b1b1d-3ea1-4d18-c5a5-e72245c76ee7"
      },
      "cell_type": "code",
      "source": [
        "# predict on whole dataset\n",
        "trainset_s, testset_s = train_test_split(data, test_size=.99)\n",
        "\n",
        "svd_pred_s = svd.test(testset_s)\n",
        "svd_pred_df_s = get_pred_df(svd_pred_s)\n",
        "svd_pred_df_s.head()"
      ],
      "execution_count": 27,
      "outputs": [
        {
          "output_type": "execute_result",
          "data": {
            "text/html": [
              "<div>\n",
              "<style scoped>\n",
              "    .dataframe tbody tr th:only-of-type {\n",
              "        vertical-align: middle;\n",
              "    }\n",
              "\n",
              "    .dataframe tbody tr th {\n",
              "        vertical-align: top;\n",
              "    }\n",
              "\n",
              "    .dataframe thead th {\n",
              "        text-align: right;\n",
              "    }\n",
              "</style>\n",
              "<table border=\"1\" class=\"dataframe\">\n",
              "  <thead>\n",
              "    <tr style=\"text-align: right;\">\n",
              "      <th></th>\n",
              "      <th>uid</th>\n",
              "      <th>iid</th>\n",
              "      <th>rui</th>\n",
              "      <th>est</th>\n",
              "      <th>details</th>\n",
              "      <th>Iu</th>\n",
              "      <th>Ui</th>\n",
              "      <th>err</th>\n",
              "      <th>user_freq</th>\n",
              "    </tr>\n",
              "  </thead>\n",
              "  <tbody>\n",
              "    <tr>\n",
              "      <th>766001</th>\n",
              "      <td>0110x011</td>\n",
              "      <td>Ten FIDY</td>\n",
              "      <td>4.0</td>\n",
              "      <td>4.299918</td>\n",
              "      <td>{'was_impossible': False}</td>\n",
              "      <td>102</td>\n",
              "      <td>1083</td>\n",
              "      <td>0.299918</td>\n",
              "      <td>139</td>\n",
              "    </tr>\n",
              "    <tr>\n",
              "      <th>620916</th>\n",
              "      <td>0110x011</td>\n",
              "      <td>90 Minute IPA</td>\n",
              "      <td>5.0</td>\n",
              "      <td>4.315196</td>\n",
              "      <td>{'was_impossible': False}</td>\n",
              "      <td>102</td>\n",
              "      <td>1912</td>\n",
              "      <td>0.684804</td>\n",
              "      <td>139</td>\n",
              "    </tr>\n",
              "    <tr>\n",
              "      <th>959729</th>\n",
              "      <td>0110x011</td>\n",
              "      <td>Sierra Nevada Southern Hemisphere Harvest Fres...</td>\n",
              "      <td>4.5</td>\n",
              "      <td>4.267547</td>\n",
              "      <td>{'was_impossible': False}</td>\n",
              "      <td>102</td>\n",
              "      <td>732</td>\n",
              "      <td>0.232453</td>\n",
              "      <td>139</td>\n",
              "    </tr>\n",
              "    <tr>\n",
              "      <th>598388</th>\n",
              "      <td>0110x011</td>\n",
              "      <td>Cape Cod IPA</td>\n",
              "      <td>3.5</td>\n",
              "      <td>4.230237</td>\n",
              "      <td>{'was_impossible': False}</td>\n",
              "      <td>102</td>\n",
              "      <td>21</td>\n",
              "      <td>0.730237</td>\n",
              "      <td>139</td>\n",
              "    </tr>\n",
              "    <tr>\n",
              "      <th>1093132</th>\n",
              "      <td>0110x011</td>\n",
              "      <td>Stone Old Guardian Barley Wine Style Ale Aged ...</td>\n",
              "      <td>3.0</td>\n",
              "      <td>4.258619</td>\n",
              "      <td>{'was_impossible': False}</td>\n",
              "      <td>102</td>\n",
              "      <td>16</td>\n",
              "      <td>1.258619</td>\n",
              "      <td>139</td>\n",
              "    </tr>\n",
              "  </tbody>\n",
              "</table>\n",
              "</div>"
            ],
            "text/plain": [
              "              uid                                                iid  rui  \\\n",
              "766001   0110x011                                           Ten FIDY  4.0   \n",
              "620916   0110x011                                      90 Minute IPA  5.0   \n",
              "959729   0110x011  Sierra Nevada Southern Hemisphere Harvest Fres...  4.5   \n",
              "598388   0110x011                                       Cape Cod IPA  3.5   \n",
              "1093132  0110x011  Stone Old Guardian Barley Wine Style Ale Aged ...  3.0   \n",
              "\n",
              "              est                    details   Iu    Ui       err  user_freq  \n",
              "766001   4.299918  {'was_impossible': False}  102  1083  0.299918        139  \n",
              "620916   4.315196  {'was_impossible': False}  102  1912  0.684804        139  \n",
              "959729   4.267547  {'was_impossible': False}  102   732  0.232453        139  \n",
              "598388   4.230237  {'was_impossible': False}  102    21  0.730237        139  \n",
              "1093132  4.258619  {'was_impossible': False}  102    16  1.258619        139  "
            ]
          },
          "metadata": {
            "tags": []
          },
          "execution_count": 27
        }
      ]
    },
    {
      "metadata": {
        "id": "cFTht8APvKvV",
        "colab_type": "text"
      },
      "cell_type": "markdown",
      "source": [
        "### 2.2 Non-negative Matrix Factorization (NMF)"
      ]
    },
    {
      "metadata": {
        "id": "IDi08dmivieq",
        "colab_type": "code",
        "outputId": "f3d3f801-4fd4-4e72-f7f9-d7ca85141429",
        "colab": {
          "base_uri": "https://localhost:8080/",
          "height": 238
        }
      },
      "cell_type": "code",
      "source": [
        "# fit\n",
        "nmf = NMF(n_factors = 25, n_epochs = 50, reg_pu = 0.1, reg_qi = 0.1)\n",
        "nmf.fit(trainset)\n",
        "\n",
        "# test \n",
        "nmf_pred = nmf.test(testset)\n",
        "nmf_rmse = accuracy.rmse(nmf_pred, verbose=True) \n",
        "print('Test RMSE of NMF is %s' % round(nmf_rmse, 3))\n",
        "\n",
        "# predict\n",
        "nmf_pred_df = get_pred_df(nmf_pred)\n",
        "nmf_pred_df.head()"
      ],
      "execution_count": 28,
      "outputs": [
        {
          "output_type": "stream",
          "text": [
            "RMSE: 0.5977\n",
            "Test RMSE of NMF is 0.598\n"
          ],
          "name": "stdout"
        },
        {
          "output_type": "execute_result",
          "data": {
            "text/html": [
              "<div>\n",
              "<style scoped>\n",
              "    .dataframe tbody tr th:only-of-type {\n",
              "        vertical-align: middle;\n",
              "    }\n",
              "\n",
              "    .dataframe tbody tr th {\n",
              "        vertical-align: top;\n",
              "    }\n",
              "\n",
              "    .dataframe thead th {\n",
              "        text-align: right;\n",
              "    }\n",
              "</style>\n",
              "<table border=\"1\" class=\"dataframe\">\n",
              "  <thead>\n",
              "    <tr style=\"text-align: right;\">\n",
              "      <th></th>\n",
              "      <th>uid</th>\n",
              "      <th>iid</th>\n",
              "      <th>rui</th>\n",
              "      <th>est</th>\n",
              "      <th>details</th>\n",
              "      <th>Iu</th>\n",
              "      <th>Ui</th>\n",
              "      <th>err</th>\n",
              "      <th>user_freq</th>\n",
              "    </tr>\n",
              "  </thead>\n",
              "  <tbody>\n",
              "    <tr>\n",
              "      <th>100818</th>\n",
              "      <td>0110x011</td>\n",
              "      <td>Duchesse De Bourgogne</td>\n",
              "      <td>2.0</td>\n",
              "      <td>4.109565</td>\n",
              "      <td>{'was_impossible': False}</td>\n",
              "      <td>102</td>\n",
              "      <td>736</td>\n",
              "      <td>2.109565</td>\n",
              "      <td>139</td>\n",
              "    </tr>\n",
              "    <tr>\n",
              "      <th>96356</th>\n",
              "      <td>0110x011</td>\n",
              "      <td>InFamous</td>\n",
              "      <td>4.0</td>\n",
              "      <td>4.274446</td>\n",
              "      <td>{'was_impossible': False}</td>\n",
              "      <td>102</td>\n",
              "      <td>12</td>\n",
              "      <td>0.274446</td>\n",
              "      <td>139</td>\n",
              "    </tr>\n",
              "    <tr>\n",
              "      <th>464879</th>\n",
              "      <td>0110x011</td>\n",
              "      <td>Arctic Devil Barley Wine</td>\n",
              "      <td>4.0</td>\n",
              "      <td>4.438986</td>\n",
              "      <td>{'was_impossible': False}</td>\n",
              "      <td>102</td>\n",
              "      <td>135</td>\n",
              "      <td>0.438986</td>\n",
              "      <td>139</td>\n",
              "    </tr>\n",
              "    <tr>\n",
              "      <th>69685</th>\n",
              "      <td>0110x011</td>\n",
              "      <td>Hoppe (Imperial Extra Pale Ale)</td>\n",
              "      <td>3.0</td>\n",
              "      <td>4.290298</td>\n",
              "      <td>{'was_impossible': False}</td>\n",
              "      <td>102</td>\n",
              "      <td>279</td>\n",
              "      <td>1.290298</td>\n",
              "      <td>139</td>\n",
              "    </tr>\n",
              "    <tr>\n",
              "      <th>436440</th>\n",
              "      <td>0110x011</td>\n",
              "      <td>Trappist Westvleteren 12</td>\n",
              "      <td>4.5</td>\n",
              "      <td>4.944133</td>\n",
              "      <td>{'was_impossible': False}</td>\n",
              "      <td>102</td>\n",
              "      <td>777</td>\n",
              "      <td>0.444133</td>\n",
              "      <td>139</td>\n",
              "    </tr>\n",
              "  </tbody>\n",
              "</table>\n",
              "</div>"
            ],
            "text/plain": [
              "             uid                              iid  rui       est  \\\n",
              "100818  0110x011            Duchesse De Bourgogne  2.0  4.109565   \n",
              "96356   0110x011                         InFamous  4.0  4.274446   \n",
              "464879  0110x011         Arctic Devil Barley Wine  4.0  4.438986   \n",
              "69685   0110x011  Hoppe (Imperial Extra Pale Ale)  3.0  4.290298   \n",
              "436440  0110x011         Trappist Westvleteren 12  4.5  4.944133   \n",
              "\n",
              "                          details   Iu   Ui       err  user_freq  \n",
              "100818  {'was_impossible': False}  102  736  2.109565        139  \n",
              "96356   {'was_impossible': False}  102   12  0.274446        139  \n",
              "464879  {'was_impossible': False}  102  135  0.438986        139  \n",
              "69685   {'was_impossible': False}  102  279  1.290298        139  \n",
              "436440  {'was_impossible': False}  102  777  0.444133        139  "
            ]
          },
          "metadata": {
            "tags": []
          },
          "execution_count": 28
        }
      ]
    },
    {
      "metadata": {
        "id": "YOJZ-xruEA32",
        "colab_type": "code",
        "colab": {
          "base_uri": "https://localhost:8080/",
          "height": 289
        },
        "outputId": "0cdaa56d-58cd-4745-9d70-16bcc465c305"
      },
      "cell_type": "code",
      "source": [
        "# predict on whole dataset\n",
        "nmf_pred_s = nmf.test(testset_s)\n",
        "nmf_pred_df_s = get_pred_df(nmf_pred_s)\n",
        "nmf_pred_df_s.head()"
      ],
      "execution_count": 29,
      "outputs": [
        {
          "output_type": "execute_result",
          "data": {
            "text/html": [
              "<div>\n",
              "<style scoped>\n",
              "    .dataframe tbody tr th:only-of-type {\n",
              "        vertical-align: middle;\n",
              "    }\n",
              "\n",
              "    .dataframe tbody tr th {\n",
              "        vertical-align: top;\n",
              "    }\n",
              "\n",
              "    .dataframe thead th {\n",
              "        text-align: right;\n",
              "    }\n",
              "</style>\n",
              "<table border=\"1\" class=\"dataframe\">\n",
              "  <thead>\n",
              "    <tr style=\"text-align: right;\">\n",
              "      <th></th>\n",
              "      <th>uid</th>\n",
              "      <th>iid</th>\n",
              "      <th>rui</th>\n",
              "      <th>est</th>\n",
              "      <th>details</th>\n",
              "      <th>Iu</th>\n",
              "      <th>Ui</th>\n",
              "      <th>err</th>\n",
              "      <th>user_freq</th>\n",
              "    </tr>\n",
              "  </thead>\n",
              "  <tbody>\n",
              "    <tr>\n",
              "      <th>766001</th>\n",
              "      <td>0110x011</td>\n",
              "      <td>Ten FIDY</td>\n",
              "      <td>4.0</td>\n",
              "      <td>4.264586</td>\n",
              "      <td>{'was_impossible': False}</td>\n",
              "      <td>102</td>\n",
              "      <td>1083</td>\n",
              "      <td>0.264586</td>\n",
              "      <td>139</td>\n",
              "    </tr>\n",
              "    <tr>\n",
              "      <th>620916</th>\n",
              "      <td>0110x011</td>\n",
              "      <td>90 Minute IPA</td>\n",
              "      <td>5.0</td>\n",
              "      <td>4.375750</td>\n",
              "      <td>{'was_impossible': False}</td>\n",
              "      <td>102</td>\n",
              "      <td>1912</td>\n",
              "      <td>0.624250</td>\n",
              "      <td>139</td>\n",
              "    </tr>\n",
              "    <tr>\n",
              "      <th>959729</th>\n",
              "      <td>0110x011</td>\n",
              "      <td>Sierra Nevada Southern Hemisphere Harvest Fres...</td>\n",
              "      <td>4.5</td>\n",
              "      <td>4.344356</td>\n",
              "      <td>{'was_impossible': False}</td>\n",
              "      <td>102</td>\n",
              "      <td>732</td>\n",
              "      <td>0.155644</td>\n",
              "      <td>139</td>\n",
              "    </tr>\n",
              "    <tr>\n",
              "      <th>598388</th>\n",
              "      <td>0110x011</td>\n",
              "      <td>Cape Cod IPA</td>\n",
              "      <td>3.5</td>\n",
              "      <td>4.333783</td>\n",
              "      <td>{'was_impossible': False}</td>\n",
              "      <td>102</td>\n",
              "      <td>21</td>\n",
              "      <td>0.833783</td>\n",
              "      <td>139</td>\n",
              "    </tr>\n",
              "    <tr>\n",
              "      <th>1093132</th>\n",
              "      <td>0110x011</td>\n",
              "      <td>Stone Old Guardian Barley Wine Style Ale Aged ...</td>\n",
              "      <td>3.0</td>\n",
              "      <td>4.269051</td>\n",
              "      <td>{'was_impossible': False}</td>\n",
              "      <td>102</td>\n",
              "      <td>16</td>\n",
              "      <td>1.269051</td>\n",
              "      <td>139</td>\n",
              "    </tr>\n",
              "  </tbody>\n",
              "</table>\n",
              "</div>"
            ],
            "text/plain": [
              "              uid                                                iid  rui  \\\n",
              "766001   0110x011                                           Ten FIDY  4.0   \n",
              "620916   0110x011                                      90 Minute IPA  5.0   \n",
              "959729   0110x011  Sierra Nevada Southern Hemisphere Harvest Fres...  4.5   \n",
              "598388   0110x011                                       Cape Cod IPA  3.5   \n",
              "1093132  0110x011  Stone Old Guardian Barley Wine Style Ale Aged ...  3.0   \n",
              "\n",
              "              est                    details   Iu    Ui       err  user_freq  \n",
              "766001   4.264586  {'was_impossible': False}  102  1083  0.264586        139  \n",
              "620916   4.375750  {'was_impossible': False}  102  1912  0.624250        139  \n",
              "959729   4.344356  {'was_impossible': False}  102   732  0.155644        139  \n",
              "598388   4.333783  {'was_impossible': False}  102    21  0.833783        139  \n",
              "1093132  4.269051  {'was_impossible': False}  102    16  1.269051        139  "
            ]
          },
          "metadata": {
            "tags": []
          },
          "execution_count": 29
        }
      ]
    },
    {
      "metadata": {
        "id": "KfC9a_wKxjS1",
        "colab_type": "text"
      },
      "cell_type": "markdown",
      "source": [
        "### 2.3 KNN user-based"
      ]
    },
    {
      "metadata": {
        "id": "gKeSGs2wVvae",
        "colab_type": "text"
      },
      "cell_type": "markdown",
      "source": [
        "#### 2.3.1 KNN on whole dataset (after trimmed)"
      ]
    },
    {
      "metadata": {
        "id": "-DqBR73DRgXN",
        "colab_type": "code",
        "colab": {
          "base_uri": "https://localhost:8080/",
          "height": 323
        },
        "outputId": "b4578f8e-d2d0-4fd7-b1c4-2a4a296a92ca"
      },
      "cell_type": "code",
      "source": [
        "# model set up\n",
        "sim_options = {'name': 'pearson', 'user_based': True, 'min_support':10}  \n",
        "knnmean = KNNWithMeans(k=300, \n",
        "                       min_k=10, \n",
        "                       sim_options=sim_options, \n",
        "                       verbose=True)\n",
        "# fit\n",
        "knnmean.fit(trainset)\n",
        "\n",
        "# test\n",
        "knn_pred = knnmean.test(testset)\n",
        "\n",
        "# predict\n",
        "knn_pred_df = get_pred_df(knn_pred)\n",
        "knn_pred_df.head()"
      ],
      "execution_count": 30,
      "outputs": [
        {
          "output_type": "stream",
          "text": [
            "Computing the pearson similarity matrix...\n",
            "Done computing similarity matrix.\n"
          ],
          "name": "stdout"
        },
        {
          "output_type": "execute_result",
          "data": {
            "text/html": [
              "<div>\n",
              "<style scoped>\n",
              "    .dataframe tbody tr th:only-of-type {\n",
              "        vertical-align: middle;\n",
              "    }\n",
              "\n",
              "    .dataframe tbody tr th {\n",
              "        vertical-align: top;\n",
              "    }\n",
              "\n",
              "    .dataframe thead th {\n",
              "        text-align: right;\n",
              "    }\n",
              "</style>\n",
              "<table border=\"1\" class=\"dataframe\">\n",
              "  <thead>\n",
              "    <tr style=\"text-align: right;\">\n",
              "      <th></th>\n",
              "      <th>uid</th>\n",
              "      <th>iid</th>\n",
              "      <th>rui</th>\n",
              "      <th>est</th>\n",
              "      <th>details</th>\n",
              "      <th>Iu</th>\n",
              "      <th>Ui</th>\n",
              "      <th>err</th>\n",
              "      <th>user_freq</th>\n",
              "    </tr>\n",
              "  </thead>\n",
              "  <tbody>\n",
              "    <tr>\n",
              "      <th>100818</th>\n",
              "      <td>0110x011</td>\n",
              "      <td>Duchesse De Bourgogne</td>\n",
              "      <td>2.0</td>\n",
              "      <td>4.370442</td>\n",
              "      <td>{'actual_k': 285, 'was_impossible': False}</td>\n",
              "      <td>102</td>\n",
              "      <td>736</td>\n",
              "      <td>2.370442</td>\n",
              "      <td>139</td>\n",
              "    </tr>\n",
              "    <tr>\n",
              "      <th>96356</th>\n",
              "      <td>0110x011</td>\n",
              "      <td>InFamous</td>\n",
              "      <td>4.0</td>\n",
              "      <td>4.313725</td>\n",
              "      <td>{'actual_k': 9, 'was_impossible': False}</td>\n",
              "      <td>102</td>\n",
              "      <td>12</td>\n",
              "      <td>0.313725</td>\n",
              "      <td>139</td>\n",
              "    </tr>\n",
              "    <tr>\n",
              "      <th>464879</th>\n",
              "      <td>0110x011</td>\n",
              "      <td>Arctic Devil Barley Wine</td>\n",
              "      <td>4.0</td>\n",
              "      <td>4.583490</td>\n",
              "      <td>{'actual_k': 98, 'was_impossible': False}</td>\n",
              "      <td>102</td>\n",
              "      <td>135</td>\n",
              "      <td>0.583490</td>\n",
              "      <td>139</td>\n",
              "    </tr>\n",
              "    <tr>\n",
              "      <th>69685</th>\n",
              "      <td>0110x011</td>\n",
              "      <td>Hoppe (Imperial Extra Pale Ale)</td>\n",
              "      <td>3.0</td>\n",
              "      <td>4.520114</td>\n",
              "      <td>{'actual_k': 149, 'was_impossible': False}</td>\n",
              "      <td>102</td>\n",
              "      <td>279</td>\n",
              "      <td>1.520114</td>\n",
              "      <td>139</td>\n",
              "    </tr>\n",
              "    <tr>\n",
              "      <th>436440</th>\n",
              "      <td>0110x011</td>\n",
              "      <td>Trappist Westvleteren 12</td>\n",
              "      <td>4.5</td>\n",
              "      <td>5.000000</td>\n",
              "      <td>{'actual_k': 300, 'was_impossible': False}</td>\n",
              "      <td>102</td>\n",
              "      <td>777</td>\n",
              "      <td>0.500000</td>\n",
              "      <td>139</td>\n",
              "    </tr>\n",
              "  </tbody>\n",
              "</table>\n",
              "</div>"
            ],
            "text/plain": [
              "             uid                              iid  rui       est  \\\n",
              "100818  0110x011            Duchesse De Bourgogne  2.0  4.370442   \n",
              "96356   0110x011                         InFamous  4.0  4.313725   \n",
              "464879  0110x011         Arctic Devil Barley Wine  4.0  4.583490   \n",
              "69685   0110x011  Hoppe (Imperial Extra Pale Ale)  3.0  4.520114   \n",
              "436440  0110x011         Trappist Westvleteren 12  4.5  5.000000   \n",
              "\n",
              "                                           details   Iu   Ui       err  \\\n",
              "100818  {'actual_k': 285, 'was_impossible': False}  102  736  2.370442   \n",
              "96356     {'actual_k': 9, 'was_impossible': False}  102   12  0.313725   \n",
              "464879   {'actual_k': 98, 'was_impossible': False}  102  135  0.583490   \n",
              "69685   {'actual_k': 149, 'was_impossible': False}  102  279  1.520114   \n",
              "436440  {'actual_k': 300, 'was_impossible': False}  102  777  0.500000   \n",
              "\n",
              "        user_freq  \n",
              "100818        139  \n",
              "96356         139  \n",
              "464879        139  \n",
              "69685         139  \n",
              "436440        139  "
            ]
          },
          "metadata": {
            "tags": []
          },
          "execution_count": 30
        }
      ]
    },
    {
      "metadata": {
        "id": "q6NgKWt0WdgZ",
        "colab_type": "code",
        "colab": {
          "base_uri": "https://localhost:8080/",
          "height": 289
        },
        "outputId": "a13bfc65-10cb-44d3-843b-27b3620b5cc1"
      },
      "cell_type": "code",
      "source": [
        "# predict whole dataset\n",
        "knn_pred_s = knnmean.test(testset_s)\n",
        "knn_pred_df_s = get_pred_df(knn_pred_s)\n",
        "knn_pred_df_s.head()"
      ],
      "execution_count": 31,
      "outputs": [
        {
          "output_type": "execute_result",
          "data": {
            "text/html": [
              "<div>\n",
              "<style scoped>\n",
              "    .dataframe tbody tr th:only-of-type {\n",
              "        vertical-align: middle;\n",
              "    }\n",
              "\n",
              "    .dataframe tbody tr th {\n",
              "        vertical-align: top;\n",
              "    }\n",
              "\n",
              "    .dataframe thead th {\n",
              "        text-align: right;\n",
              "    }\n",
              "</style>\n",
              "<table border=\"1\" class=\"dataframe\">\n",
              "  <thead>\n",
              "    <tr style=\"text-align: right;\">\n",
              "      <th></th>\n",
              "      <th>uid</th>\n",
              "      <th>iid</th>\n",
              "      <th>rui</th>\n",
              "      <th>est</th>\n",
              "      <th>details</th>\n",
              "      <th>Iu</th>\n",
              "      <th>Ui</th>\n",
              "      <th>err</th>\n",
              "      <th>user_freq</th>\n",
              "    </tr>\n",
              "  </thead>\n",
              "  <tbody>\n",
              "    <tr>\n",
              "      <th>766001</th>\n",
              "      <td>0110x011</td>\n",
              "      <td>Ten FIDY</td>\n",
              "      <td>4.0</td>\n",
              "      <td>4.536693</td>\n",
              "      <td>{'actual_k': 300, 'was_impossible': False}</td>\n",
              "      <td>102</td>\n",
              "      <td>1083</td>\n",
              "      <td>0.536693</td>\n",
              "      <td>139</td>\n",
              "    </tr>\n",
              "    <tr>\n",
              "      <th>620916</th>\n",
              "      <td>0110x011</td>\n",
              "      <td>90 Minute IPA</td>\n",
              "      <td>5.0</td>\n",
              "      <td>4.572465</td>\n",
              "      <td>{'actual_k': 300, 'was_impossible': False}</td>\n",
              "      <td>102</td>\n",
              "      <td>1912</td>\n",
              "      <td>0.427535</td>\n",
              "      <td>139</td>\n",
              "    </tr>\n",
              "    <tr>\n",
              "      <th>959729</th>\n",
              "      <td>0110x011</td>\n",
              "      <td>Sierra Nevada Southern Hemisphere Harvest Fres...</td>\n",
              "      <td>4.5</td>\n",
              "      <td>4.562544</td>\n",
              "      <td>{'actual_k': 300, 'was_impossible': False}</td>\n",
              "      <td>102</td>\n",
              "      <td>732</td>\n",
              "      <td>0.062544</td>\n",
              "      <td>139</td>\n",
              "    </tr>\n",
              "    <tr>\n",
              "      <th>598388</th>\n",
              "      <td>0110x011</td>\n",
              "      <td>Cape Cod IPA</td>\n",
              "      <td>3.5</td>\n",
              "      <td>4.423353</td>\n",
              "      <td>{'actual_k': 10, 'was_impossible': False}</td>\n",
              "      <td>102</td>\n",
              "      <td>21</td>\n",
              "      <td>0.923353</td>\n",
              "      <td>139</td>\n",
              "    </tr>\n",
              "    <tr>\n",
              "      <th>1093132</th>\n",
              "      <td>0110x011</td>\n",
              "      <td>Stone Old Guardian Barley Wine Style Ale Aged ...</td>\n",
              "      <td>3.0</td>\n",
              "      <td>4.418318</td>\n",
              "      <td>{'actual_k': 11, 'was_impossible': False}</td>\n",
              "      <td>102</td>\n",
              "      <td>16</td>\n",
              "      <td>1.418318</td>\n",
              "      <td>139</td>\n",
              "    </tr>\n",
              "  </tbody>\n",
              "</table>\n",
              "</div>"
            ],
            "text/plain": [
              "              uid                                                iid  rui  \\\n",
              "766001   0110x011                                           Ten FIDY  4.0   \n",
              "620916   0110x011                                      90 Minute IPA  5.0   \n",
              "959729   0110x011  Sierra Nevada Southern Hemisphere Harvest Fres...  4.5   \n",
              "598388   0110x011                                       Cape Cod IPA  3.5   \n",
              "1093132  0110x011  Stone Old Guardian Barley Wine Style Ale Aged ...  3.0   \n",
              "\n",
              "              est                                     details   Iu    Ui  \\\n",
              "766001   4.536693  {'actual_k': 300, 'was_impossible': False}  102  1083   \n",
              "620916   4.572465  {'actual_k': 300, 'was_impossible': False}  102  1912   \n",
              "959729   4.562544  {'actual_k': 300, 'was_impossible': False}  102   732   \n",
              "598388   4.423353   {'actual_k': 10, 'was_impossible': False}  102    21   \n",
              "1093132  4.418318   {'actual_k': 11, 'was_impossible': False}  102    16   \n",
              "\n",
              "              err  user_freq  \n",
              "766001   0.536693        139  \n",
              "620916   0.427535        139  \n",
              "959729   0.062544        139  \n",
              "598388   0.923353        139  \n",
              "1093132  1.418318        139  "
            ]
          },
          "metadata": {
            "tags": []
          },
          "execution_count": 31
        }
      ]
    },
    {
      "metadata": {
        "id": "t33gjdly-q6o",
        "colab_type": "text"
      },
      "cell_type": "markdown",
      "source": [
        "#### 2.3.2 KNN on two separate sets"
      ]
    },
    {
      "metadata": {
        "id": "iM7GIvfC-XFM",
        "colab_type": "code",
        "colab": {}
      },
      "cell_type": "code",
      "source": [
        "# set up model\n",
        "sim_options = {'name': 'pearson', 'user_based': True, 'min_support':10}  \n",
        "knnmean1 = KNNWithMeans(k=300, \n",
        "                       min_k=10, \n",
        "                       sim_options=sim_options, \n",
        "                       verbose=True)\n",
        "\n",
        "knnmean2 = KNNWithMeans(k=300, \n",
        "                       min_k=10, \n",
        "                       sim_options=sim_options, \n",
        "                       verbose=True)"
      ],
      "execution_count": 0,
      "outputs": []
    },
    {
      "metadata": {
        "id": "vp3N5GSTh9II",
        "colab_type": "text"
      },
      "cell_type": "markdown",
      "source": [
        "##### 1) users with more than 100 reviews"
      ]
    },
    {
      "metadata": {
        "id": "FJNCa2XGhVdm",
        "colab_type": "code",
        "outputId": "bb858b63-9293-45ae-e0c0-bca5b5978bfc",
        "colab": {
          "base_uri": "https://localhost:8080/",
          "height": 68
        }
      },
      "cell_type": "code",
      "source": [
        "# split train & test \n",
        "knn_more = Dataset.load_from_df(more[['review_profileName', 'beer_name', 'review_overall']], reader)\n",
        "trainset_more, testset_more = train_test_split(knn_more, test_size=.33)\n",
        "\n",
        "# fit\n",
        "knnmean1.fit(trainset_more)"
      ],
      "execution_count": 33,
      "outputs": [
        {
          "output_type": "stream",
          "text": [
            "Computing the pearson similarity matrix...\n",
            "Done computing similarity matrix.\n"
          ],
          "name": "stdout"
        },
        {
          "output_type": "execute_result",
          "data": {
            "text/plain": [
              "<surprise.prediction_algorithms.knns.KNNWithMeans at 0x7fbeccd0da20>"
            ]
          },
          "metadata": {
            "tags": []
          },
          "execution_count": 33
        }
      ]
    },
    {
      "metadata": {
        "id": "tTX66ugkiSF3",
        "colab_type": "code",
        "colab": {}
      },
      "cell_type": "code",
      "source": [
        "# test\n",
        "pred_more = knnmean1.test(testset_more)"
      ],
      "execution_count": 0,
      "outputs": []
    },
    {
      "metadata": {
        "id": "yT5i-8NnCH5U",
        "colab_type": "code",
        "outputId": "b5d30eec-cb3b-4ee1-b37b-3a57b7ff504a",
        "colab": {
          "base_uri": "https://localhost:8080/",
          "height": 289
        }
      },
      "cell_type": "code",
      "source": [
        "# prediction\n",
        "pred_more_df = get_pred_df(pred_more)\n",
        "pred_more_df.head()"
      ],
      "execution_count": 35,
      "outputs": [
        {
          "output_type": "execute_result",
          "data": {
            "text/html": [
              "<div>\n",
              "<style scoped>\n",
              "    .dataframe tbody tr th:only-of-type {\n",
              "        vertical-align: middle;\n",
              "    }\n",
              "\n",
              "    .dataframe tbody tr th {\n",
              "        vertical-align: top;\n",
              "    }\n",
              "\n",
              "    .dataframe thead th {\n",
              "        text-align: right;\n",
              "    }\n",
              "</style>\n",
              "<table border=\"1\" class=\"dataframe\">\n",
              "  <thead>\n",
              "    <tr style=\"text-align: right;\">\n",
              "      <th></th>\n",
              "      <th>uid</th>\n",
              "      <th>iid</th>\n",
              "      <th>rui</th>\n",
              "      <th>est</th>\n",
              "      <th>details</th>\n",
              "      <th>Iu</th>\n",
              "      <th>Ui</th>\n",
              "      <th>err</th>\n",
              "      <th>user_freq</th>\n",
              "    </tr>\n",
              "  </thead>\n",
              "  <tbody>\n",
              "    <tr>\n",
              "      <th>352546</th>\n",
              "      <td>0110x011</td>\n",
              "      <td>The Angel's Share - Bourbon Barrel-Aged</td>\n",
              "      <td>5.0</td>\n",
              "      <td>4.301306</td>\n",
              "      <td>{'actual_k': 195, 'was_impossible': False}</td>\n",
              "      <td>102</td>\n",
              "      <td>337</td>\n",
              "      <td>0.698694</td>\n",
              "      <td>139</td>\n",
              "    </tr>\n",
              "    <tr>\n",
              "      <th>103180</th>\n",
              "      <td>0110x011</td>\n",
              "      <td>La Folie</td>\n",
              "      <td>5.0</td>\n",
              "      <td>4.372654</td>\n",
              "      <td>{'actual_k': 249, 'was_impossible': False}</td>\n",
              "      <td>102</td>\n",
              "      <td>453</td>\n",
              "      <td>0.627346</td>\n",
              "      <td>139</td>\n",
              "    </tr>\n",
              "    <tr>\n",
              "      <th>296527</th>\n",
              "      <td>0110x011</td>\n",
              "      <td>Raspberry Tart</td>\n",
              "      <td>5.0</td>\n",
              "      <td>4.579579</td>\n",
              "      <td>{'actual_k': 261, 'was_impossible': False}</td>\n",
              "      <td>102</td>\n",
              "      <td>460</td>\n",
              "      <td>0.420421</td>\n",
              "      <td>139</td>\n",
              "    </tr>\n",
              "    <tr>\n",
              "      <th>54746</th>\n",
              "      <td>0110x011</td>\n",
              "      <td>Consecration</td>\n",
              "      <td>4.5</td>\n",
              "      <td>4.600612</td>\n",
              "      <td>{'actual_k': 279, 'was_impossible': False}</td>\n",
              "      <td>102</td>\n",
              "      <td>528</td>\n",
              "      <td>0.100612</td>\n",
              "      <td>139</td>\n",
              "    </tr>\n",
              "    <tr>\n",
              "      <th>111692</th>\n",
              "      <td>0110x011</td>\n",
              "      <td>Schlafly Oatmeal Stout</td>\n",
              "      <td>4.0</td>\n",
              "      <td>3.934061</td>\n",
              "      <td>{'actual_k': 53, 'was_impossible': False}</td>\n",
              "      <td>102</td>\n",
              "      <td>125</td>\n",
              "      <td>0.065939</td>\n",
              "      <td>139</td>\n",
              "    </tr>\n",
              "  </tbody>\n",
              "</table>\n",
              "</div>"
            ],
            "text/plain": [
              "             uid                                      iid  rui       est  \\\n",
              "352546  0110x011  The Angel's Share - Bourbon Barrel-Aged  5.0  4.301306   \n",
              "103180  0110x011                                 La Folie  5.0  4.372654   \n",
              "296527  0110x011                           Raspberry Tart  5.0  4.579579   \n",
              "54746   0110x011                             Consecration  4.5  4.600612   \n",
              "111692  0110x011                   Schlafly Oatmeal Stout  4.0  3.934061   \n",
              "\n",
              "                                           details   Iu   Ui       err  \\\n",
              "352546  {'actual_k': 195, 'was_impossible': False}  102  337  0.698694   \n",
              "103180  {'actual_k': 249, 'was_impossible': False}  102  453  0.627346   \n",
              "296527  {'actual_k': 261, 'was_impossible': False}  102  460  0.420421   \n",
              "54746   {'actual_k': 279, 'was_impossible': False}  102  528  0.100612   \n",
              "111692   {'actual_k': 53, 'was_impossible': False}  102  125  0.065939   \n",
              "\n",
              "        user_freq  \n",
              "352546        139  \n",
              "103180        139  \n",
              "296527        139  \n",
              "54746         139  \n",
              "111692        139  "
            ]
          },
          "metadata": {
            "tags": []
          },
          "execution_count": 35
        }
      ]
    },
    {
      "metadata": {
        "id": "dEoKi3PtiHHP",
        "colab_type": "text"
      },
      "cell_type": "markdown",
      "source": [
        "##### 2) users with less than 100 reviews"
      ]
    },
    {
      "metadata": {
        "id": "yb7Z-JWuguWZ",
        "colab_type": "code",
        "outputId": "b4ec7249-2cc2-4ada-9db1-1cf3aae4c41a",
        "colab": {
          "base_uri": "https://localhost:8080/",
          "height": 68
        }
      },
      "cell_type": "code",
      "source": [
        "# split train & test \n",
        "knn_less = Dataset.load_from_df(less[['review_profileName', 'beer_name', 'review_overall']], reader)\n",
        "trainset_less, testset_less = train_test_split(knn_less, test_size=.33)\n",
        "\n",
        "# fit\n",
        "knnmean2.fit(trainset_less)"
      ],
      "execution_count": 36,
      "outputs": [
        {
          "output_type": "stream",
          "text": [
            "Computing the pearson similarity matrix...\n",
            "Done computing similarity matrix.\n"
          ],
          "name": "stdout"
        },
        {
          "output_type": "execute_result",
          "data": {
            "text/plain": [
              "<surprise.prediction_algorithms.knns.KNNWithMeans at 0x7fbeccd0d6a0>"
            ]
          },
          "metadata": {
            "tags": []
          },
          "execution_count": 36
        }
      ]
    },
    {
      "metadata": {
        "id": "jR97JJkJmB88",
        "colab_type": "code",
        "outputId": "09190441-3271-4f6f-99ee-4353060064d3",
        "colab": {
          "base_uri": "https://localhost:8080/",
          "height": 238
        }
      },
      "cell_type": "code",
      "source": [
        "# test\n",
        "pred_less = knnmean2.test(testset_less)\n",
        "\n",
        "# predict\n",
        "pred_less_df = get_pred_df(pred_less)\n",
        "pred_less_df.head()"
      ],
      "execution_count": 37,
      "outputs": [
        {
          "output_type": "execute_result",
          "data": {
            "text/html": [
              "<div>\n",
              "<style scoped>\n",
              "    .dataframe tbody tr th:only-of-type {\n",
              "        vertical-align: middle;\n",
              "    }\n",
              "\n",
              "    .dataframe tbody tr th {\n",
              "        vertical-align: top;\n",
              "    }\n",
              "\n",
              "    .dataframe thead th {\n",
              "        text-align: right;\n",
              "    }\n",
              "</style>\n",
              "<table border=\"1\" class=\"dataframe\">\n",
              "  <thead>\n",
              "    <tr style=\"text-align: right;\">\n",
              "      <th></th>\n",
              "      <th>uid</th>\n",
              "      <th>iid</th>\n",
              "      <th>rui</th>\n",
              "      <th>est</th>\n",
              "      <th>details</th>\n",
              "      <th>Iu</th>\n",
              "      <th>Ui</th>\n",
              "      <th>err</th>\n",
              "      <th>user_freq</th>\n",
              "    </tr>\n",
              "  </thead>\n",
              "  <tbody>\n",
              "    <tr>\n",
              "      <th>70651</th>\n",
              "      <td>01121987</td>\n",
              "      <td>Belle Gueule Originale</td>\n",
              "      <td>4.5</td>\n",
              "      <td>3.864826</td>\n",
              "      <td>{'was_impossible': True, 'reason': 'User and/o...</td>\n",
              "      <td>19</td>\n",
              "      <td>9</td>\n",
              "      <td>0.635174</td>\n",
              "      <td>29</td>\n",
              "    </tr>\n",
              "    <tr>\n",
              "      <th>50075</th>\n",
              "      <td>01121987</td>\n",
              "      <td>Duchesse De Bourgogne</td>\n",
              "      <td>5.0</td>\n",
              "      <td>4.175000</td>\n",
              "      <td>{'actual_k': 0, 'was_impossible': False}</td>\n",
              "      <td>19</td>\n",
              "      <td>736</td>\n",
              "      <td>0.825000</td>\n",
              "      <td>29</td>\n",
              "    </tr>\n",
              "    <tr>\n",
              "      <th>40621</th>\n",
              "      <td>01121987</td>\n",
              "      <td>Boréale Blanche</td>\n",
              "      <td>5.0</td>\n",
              "      <td>4.175000</td>\n",
              "      <td>{'actual_k': 0, 'was_impossible': False}</td>\n",
              "      <td>19</td>\n",
              "      <td>15</td>\n",
              "      <td>0.825000</td>\n",
              "      <td>29</td>\n",
              "    </tr>\n",
              "    <tr>\n",
              "      <th>60422</th>\n",
              "      <td>01121987</td>\n",
              "      <td>Budweiser</td>\n",
              "      <td>5.0</td>\n",
              "      <td>4.175000</td>\n",
              "      <td>{'actual_k': 0, 'was_impossible': False}</td>\n",
              "      <td>19</td>\n",
              "      <td>854</td>\n",
              "      <td>0.825000</td>\n",
              "      <td>29</td>\n",
              "    </tr>\n",
              "    <tr>\n",
              "      <th>60098</th>\n",
              "      <td>01121987</td>\n",
              "      <td>Dernière Volonté</td>\n",
              "      <td>4.5</td>\n",
              "      <td>4.175000</td>\n",
              "      <td>{'actual_k': 0, 'was_impossible': False}</td>\n",
              "      <td>19</td>\n",
              "      <td>153</td>\n",
              "      <td>0.325000</td>\n",
              "      <td>29</td>\n",
              "    </tr>\n",
              "  </tbody>\n",
              "</table>\n",
              "</div>"
            ],
            "text/plain": [
              "            uid                     iid  rui       est  \\\n",
              "70651  01121987  Belle Gueule Originale  4.5  3.864826   \n",
              "50075  01121987   Duchesse De Bourgogne  5.0  4.175000   \n",
              "40621  01121987         Boréale Blanche  5.0  4.175000   \n",
              "60422  01121987               Budweiser  5.0  4.175000   \n",
              "60098  01121987        Dernière Volonté  4.5  4.175000   \n",
              "\n",
              "                                                 details  Iu   Ui       err  \\\n",
              "70651  {'was_impossible': True, 'reason': 'User and/o...  19    9  0.635174   \n",
              "50075           {'actual_k': 0, 'was_impossible': False}  19  736  0.825000   \n",
              "40621           {'actual_k': 0, 'was_impossible': False}  19   15  0.825000   \n",
              "60422           {'actual_k': 0, 'was_impossible': False}  19  854  0.825000   \n",
              "60098           {'actual_k': 0, 'was_impossible': False}  19  153  0.325000   \n",
              "\n",
              "       user_freq  \n",
              "70651         29  \n",
              "50075         29  \n",
              "40621         29  \n",
              "60422         29  \n",
              "60098         29  "
            ]
          },
          "metadata": {
            "tags": []
          },
          "execution_count": 37
        }
      ]
    },
    {
      "metadata": {
        "id": "Cj7FnVas9NnC",
        "colab_type": "text"
      },
      "cell_type": "markdown",
      "source": [
        "### 2.4 KNN item-based\n",
        "- failed: runtime died"
      ]
    },
    {
      "metadata": {
        "id": "oc4gpLRZwEKL",
        "colab_type": "text"
      },
      "cell_type": "markdown",
      "source": [
        "## Part 3: Summary\n",
        "\n",
        "summarize rmse dict for three models"
      ]
    },
    {
      "metadata": {
        "id": "-vAMuELLK4rw",
        "colab_type": "code",
        "colab": {}
      },
      "cell_type": "code",
      "source": [
        "# define function to get group prediction error\n",
        "def error_bygroup(pred_df, model_name):\n",
        "  \"\"\"\n",
        "  input complete pred_error df\n",
        "  output pred_error by group\n",
        "  \"\"\"\n",
        "  # cut into groups\n",
        "  bins = [10, 20, 30, 40, 50, 100, 200, 500, 1000, 2000, 6000]\n",
        "  labels = ['11-20', '21-30', '31-40', '41-50', '51-100', '101-200', \n",
        "            '201-500', '501-1000', '1001-2000', '2001-6000']\n",
        "  \n",
        "  # add group label\n",
        "  pred_df['review_group'] = pd.cut(pred_df['user_freq'], bins = bins, labels = labels)\n",
        "  \n",
        "  # calculate group mean\n",
        "  pred_df = pred_df.groupby('review_group').mean()\n",
        "  \n",
        "  # rename the error column\n",
        "  #pred_df['err'].columns = model_name\n",
        "  pred_df = pred_df.rename(columns = {'err':model_name})\n",
        "  return pred_df"
      ],
      "execution_count": 0,
      "outputs": []
    },
    {
      "metadata": {
        "id": "hnlezxZfwHPM",
        "colab_type": "code",
        "colab": {}
      },
      "cell_type": "code",
      "source": [
        "# get prediction error\n",
        "#knn_pred_df = pd.concat([pred_more_df, pred_less_df])\n",
        "svd_err = error_bygroup(svd_pred_df_s, 'SVD')\n",
        "nmf_err = error_bygroup(nmf_pred_df_s, 'NMF')\n",
        "knn_err_separate = error_bygroup(knn_pred_df, 'KNN_separate')\n",
        "knn_err = error_bygroup(knn_pred_df_s, 'KNN')"
      ],
      "execution_count": 0,
      "outputs": []
    },
    {
      "metadata": {
        "id": "kwuOdNv0M4Sb",
        "colab_type": "code",
        "colab": {
          "base_uri": "https://localhost:8080/",
          "height": 390
        },
        "outputId": "47eb48b5-07b4-453e-cd80-fb3c7467b8d9"
      },
      "cell_type": "code",
      "source": [
        "svd_err"
      ],
      "execution_count": 40,
      "outputs": [
        {
          "output_type": "execute_result",
          "data": {
            "text/html": [
              "<div>\n",
              "<style scoped>\n",
              "    .dataframe tbody tr th:only-of-type {\n",
              "        vertical-align: middle;\n",
              "    }\n",
              "\n",
              "    .dataframe tbody tr th {\n",
              "        vertical-align: top;\n",
              "    }\n",
              "\n",
              "    .dataframe thead th {\n",
              "        text-align: right;\n",
              "    }\n",
              "</style>\n",
              "<table border=\"1\" class=\"dataframe\">\n",
              "  <thead>\n",
              "    <tr style=\"text-align: right;\">\n",
              "      <th></th>\n",
              "      <th>rui</th>\n",
              "      <th>est</th>\n",
              "      <th>Iu</th>\n",
              "      <th>Ui</th>\n",
              "      <th>SVD</th>\n",
              "      <th>user_freq</th>\n",
              "    </tr>\n",
              "    <tr>\n",
              "      <th>review_group</th>\n",
              "      <th></th>\n",
              "      <th></th>\n",
              "      <th></th>\n",
              "      <th></th>\n",
              "      <th></th>\n",
              "      <th></th>\n",
              "    </tr>\n",
              "  </thead>\n",
              "  <tbody>\n",
              "    <tr>\n",
              "      <th>11-20</th>\n",
              "      <td>3.875306</td>\n",
              "      <td>3.862262</td>\n",
              "      <td>10.053687</td>\n",
              "      <td>484.375333</td>\n",
              "      <td>0.484076</td>\n",
              "      <td>15.275441</td>\n",
              "    </tr>\n",
              "    <tr>\n",
              "      <th>21-30</th>\n",
              "      <td>3.866833</td>\n",
              "      <td>3.860480</td>\n",
              "      <td>16.417426</td>\n",
              "      <td>476.735648</td>\n",
              "      <td>0.472632</td>\n",
              "      <td>25.160666</td>\n",
              "    </tr>\n",
              "    <tr>\n",
              "      <th>31-40</th>\n",
              "      <td>3.872889</td>\n",
              "      <td>3.872775</td>\n",
              "      <td>22.950869</td>\n",
              "      <td>476.603899</td>\n",
              "      <td>0.450606</td>\n",
              "      <td>35.314181</td>\n",
              "    </tr>\n",
              "    <tr>\n",
              "      <th>41-50</th>\n",
              "      <td>3.852471</td>\n",
              "      <td>3.849427</td>\n",
              "      <td>29.696384</td>\n",
              "      <td>469.464046</td>\n",
              "      <td>0.454336</td>\n",
              "      <td>45.462032</td>\n",
              "    </tr>\n",
              "    <tr>\n",
              "      <th>51-100</th>\n",
              "      <td>3.861826</td>\n",
              "      <td>3.860536</td>\n",
              "      <td>48.970417</td>\n",
              "      <td>464.122841</td>\n",
              "      <td>0.439580</td>\n",
              "      <td>74.973962</td>\n",
              "    </tr>\n",
              "    <tr>\n",
              "      <th>101-200</th>\n",
              "      <td>3.847591</td>\n",
              "      <td>3.846266</td>\n",
              "      <td>96.291213</td>\n",
              "      <td>438.258919</td>\n",
              "      <td>0.427963</td>\n",
              "      <td>148.601304</td>\n",
              "    </tr>\n",
              "    <tr>\n",
              "      <th>201-500</th>\n",
              "      <td>3.821235</td>\n",
              "      <td>3.819970</td>\n",
              "      <td>216.073874</td>\n",
              "      <td>385.037221</td>\n",
              "      <td>0.425274</td>\n",
              "      <td>337.729334</td>\n",
              "    </tr>\n",
              "    <tr>\n",
              "      <th>501-1000</th>\n",
              "      <td>3.800747</td>\n",
              "      <td>3.798333</td>\n",
              "      <td>454.381211</td>\n",
              "      <td>322.255284</td>\n",
              "      <td>0.415163</td>\n",
              "      <td>724.058796</td>\n",
              "    </tr>\n",
              "    <tr>\n",
              "      <th>1001-2000</th>\n",
              "      <td>3.770995</td>\n",
              "      <td>3.768350</td>\n",
              "      <td>857.699348</td>\n",
              "      <td>250.346960</td>\n",
              "      <td>0.429810</td>\n",
              "      <td>1424.713863</td>\n",
              "    </tr>\n",
              "    <tr>\n",
              "      <th>2001-6000</th>\n",
              "      <td>3.801445</td>\n",
              "      <td>3.799065</td>\n",
              "      <td>1729.679499</td>\n",
              "      <td>195.706267</td>\n",
              "      <td>0.390506</td>\n",
              "      <td>2918.216458</td>\n",
              "    </tr>\n",
              "  </tbody>\n",
              "</table>\n",
              "</div>"
            ],
            "text/plain": [
              "                   rui       est           Iu          Ui       SVD  \\\n",
              "review_group                                                          \n",
              "11-20         3.875306  3.862262    10.053687  484.375333  0.484076   \n",
              "21-30         3.866833  3.860480    16.417426  476.735648  0.472632   \n",
              "31-40         3.872889  3.872775    22.950869  476.603899  0.450606   \n",
              "41-50         3.852471  3.849427    29.696384  469.464046  0.454336   \n",
              "51-100        3.861826  3.860536    48.970417  464.122841  0.439580   \n",
              "101-200       3.847591  3.846266    96.291213  438.258919  0.427963   \n",
              "201-500       3.821235  3.819970   216.073874  385.037221  0.425274   \n",
              "501-1000      3.800747  3.798333   454.381211  322.255284  0.415163   \n",
              "1001-2000     3.770995  3.768350   857.699348  250.346960  0.429810   \n",
              "2001-6000     3.801445  3.799065  1729.679499  195.706267  0.390506   \n",
              "\n",
              "                user_freq  \n",
              "review_group               \n",
              "11-20           15.275441  \n",
              "21-30           25.160666  \n",
              "31-40           35.314181  \n",
              "41-50           45.462032  \n",
              "51-100          74.973962  \n",
              "101-200        148.601304  \n",
              "201-500        337.729334  \n",
              "501-1000       724.058796  \n",
              "1001-2000     1424.713863  \n",
              "2001-6000     2918.216458  "
            ]
          },
          "metadata": {
            "tags": []
          },
          "execution_count": 40
        }
      ]
    },
    {
      "metadata": {
        "id": "1f7yezfz5vtL",
        "colab_type": "code",
        "outputId": "71b3456b-6e80-4cd9-8edf-2412467d087e",
        "colab": {
          "base_uri": "https://localhost:8080/",
          "height": 390
        }
      },
      "cell_type": "code",
      "source": [
        "# combine three models\n",
        "final = pd.concat([svd_err['SVD'], nmf_err['NMF'], knn_err['KNN'], \n",
        "                   knn_err_separate['KNN_separate']], axis=1)\n",
        "final"
      ],
      "execution_count": 41,
      "outputs": [
        {
          "output_type": "execute_result",
          "data": {
            "text/html": [
              "<div>\n",
              "<style scoped>\n",
              "    .dataframe tbody tr th:only-of-type {\n",
              "        vertical-align: middle;\n",
              "    }\n",
              "\n",
              "    .dataframe tbody tr th {\n",
              "        vertical-align: top;\n",
              "    }\n",
              "\n",
              "    .dataframe thead th {\n",
              "        text-align: right;\n",
              "    }\n",
              "</style>\n",
              "<table border=\"1\" class=\"dataframe\">\n",
              "  <thead>\n",
              "    <tr style=\"text-align: right;\">\n",
              "      <th></th>\n",
              "      <th>SVD</th>\n",
              "      <th>NMF</th>\n",
              "      <th>KNN</th>\n",
              "      <th>KNN_separate</th>\n",
              "    </tr>\n",
              "    <tr>\n",
              "      <th>review_group</th>\n",
              "      <th></th>\n",
              "      <th></th>\n",
              "      <th></th>\n",
              "      <th></th>\n",
              "    </tr>\n",
              "  </thead>\n",
              "  <tbody>\n",
              "    <tr>\n",
              "      <th>11-20</th>\n",
              "      <td>0.484076</td>\n",
              "      <td>0.429791</td>\n",
              "      <td>0.568836</td>\n",
              "      <td>0.607942</td>\n",
              "    </tr>\n",
              "    <tr>\n",
              "      <th>21-30</th>\n",
              "      <td>0.472632</td>\n",
              "      <td>0.437920</td>\n",
              "      <td>0.524776</td>\n",
              "      <td>0.573945</td>\n",
              "    </tr>\n",
              "    <tr>\n",
              "      <th>31-40</th>\n",
              "      <td>0.450606</td>\n",
              "      <td>0.428334</td>\n",
              "      <td>0.459335</td>\n",
              "      <td>0.524662</td>\n",
              "    </tr>\n",
              "    <tr>\n",
              "      <th>41-50</th>\n",
              "      <td>0.454336</td>\n",
              "      <td>0.439233</td>\n",
              "      <td>0.443965</td>\n",
              "      <td>0.517666</td>\n",
              "    </tr>\n",
              "    <tr>\n",
              "      <th>51-100</th>\n",
              "      <td>0.439580</td>\n",
              "      <td>0.432885</td>\n",
              "      <td>0.421809</td>\n",
              "      <td>0.483871</td>\n",
              "    </tr>\n",
              "    <tr>\n",
              "      <th>101-200</th>\n",
              "      <td>0.427963</td>\n",
              "      <td>0.426487</td>\n",
              "      <td>0.406679</td>\n",
              "      <td>0.459357</td>\n",
              "    </tr>\n",
              "    <tr>\n",
              "      <th>201-500</th>\n",
              "      <td>0.425274</td>\n",
              "      <td>0.424643</td>\n",
              "      <td>0.407187</td>\n",
              "      <td>0.450348</td>\n",
              "    </tr>\n",
              "    <tr>\n",
              "      <th>501-1000</th>\n",
              "      <td>0.415163</td>\n",
              "      <td>0.412225</td>\n",
              "      <td>0.399324</td>\n",
              "      <td>0.433006</td>\n",
              "    </tr>\n",
              "    <tr>\n",
              "      <th>1001-2000</th>\n",
              "      <td>0.429810</td>\n",
              "      <td>0.423222</td>\n",
              "      <td>0.421173</td>\n",
              "      <td>0.452779</td>\n",
              "    </tr>\n",
              "    <tr>\n",
              "      <th>2001-6000</th>\n",
              "      <td>0.390506</td>\n",
              "      <td>0.379771</td>\n",
              "      <td>0.385498</td>\n",
              "      <td>0.413901</td>\n",
              "    </tr>\n",
              "  </tbody>\n",
              "</table>\n",
              "</div>"
            ],
            "text/plain": [
              "                   SVD       NMF       KNN  KNN_separate\n",
              "review_group                                            \n",
              "11-20         0.484076  0.429791  0.568836      0.607942\n",
              "21-30         0.472632  0.437920  0.524776      0.573945\n",
              "31-40         0.450606  0.428334  0.459335      0.524662\n",
              "41-50         0.454336  0.439233  0.443965      0.517666\n",
              "51-100        0.439580  0.432885  0.421809      0.483871\n",
              "101-200       0.427963  0.426487  0.406679      0.459357\n",
              "201-500       0.425274  0.424643  0.407187      0.450348\n",
              "501-1000      0.415163  0.412225  0.399324      0.433006\n",
              "1001-2000     0.429810  0.423222  0.421173      0.452779\n",
              "2001-6000     0.390506  0.379771  0.385498      0.413901"
            ]
          },
          "metadata": {
            "tags": []
          },
          "execution_count": 41
        }
      ]
    },
    {
      "metadata": {
        "id": "qgoVf-J-i2Kh",
        "colab_type": "text"
      },
      "cell_type": "markdown",
      "source": [
        "According to the error matrix above, using two separate groups in KNN will significantly improve model accuracy. For the purpose of compare model performance over all review groups, we will use the result of 'KNN on whole dataset' for comparison in the following plots."
      ]
    },
    {
      "metadata": {
        "id": "MpV5o72s6Ccx",
        "colab_type": "code",
        "outputId": "0a84031a-b5de-4ca6-f93f-2cbdacc369b6",
        "colab": {
          "base_uri": "https://localhost:8080/",
          "height": 376
        }
      },
      "cell_type": "code",
      "source": [
        "# visualize\n",
        "x = [20, 30, 40, 50, 100, 200, 500, 1000, 2000, 6000]\n",
        "y_svd = svd_err['SVD'].values.tolist()\n",
        "y_nmf = nmf_err['NMF'].values.tolist()\n",
        "y_knn = knn_err['KNN'].values.tolist()\n",
        "\n",
        "plt.plot(x, y_svd, '.r-') \n",
        "plt.plot(x, y_nmf, '.b-') \n",
        "plt.plot(x, y_knn, '.g-') \n",
        "plt.legend(('SVD', 'NMF', 'KNN'), loc='upper right')\n",
        "\n",
        "plt.xlabel('number of reviews')\n",
        "plt.ylabel('test rmse')\n",
        "plt.title('Compare model performance over different # of reviews')\n",
        "\n",
        "plt.show()"
      ],
      "execution_count": 42,
      "outputs": [
        {
          "output_type": "display_data",
          "data": {
            "image/png": "[encoded data removed]",
            "text/plain": [
              "<matplotlib.figure.Figure at 0x7fbeccc76978>"
            ]
          },
          "metadata": {
            "tags": []
          }
        }
      ]
    },
    {
      "metadata": {
        "id": "aHnekAeGjwbx",
        "colab_type": "code",
        "colab": {
          "base_uri": "https://localhost:8080/",
          "height": 376
        },
        "outputId": "a5d3ac63-315c-4611-ea86-e2f85e1a5c39"
      },
      "cell_type": "code",
      "source": [
        "# visualize: reviews 10-200\n",
        "\n",
        "x = [20, 30, 40, 50, 100, 200]\n",
        "y_svd = svd_err['SVD'].values.tolist()[:6]\n",
        "y_nmf = nmf_err['NMF'].values.tolist()[:6]\n",
        "y_knn = knn_err['KNN'].values.tolist()[:6]\n",
        "\n",
        "plt.plot(x, y_svd, '.r-') \n",
        "plt.plot(x, y_nmf, '.b-') \n",
        "plt.plot(x, y_knn, '.g-') \n",
        "plt.legend(('SVD', 'NMF', 'KNN'), loc='upper right')\n",
        "\n",
        "plt.xlabel('number of reviews')\n",
        "plt.ylabel('test rmse')\n",
        "plt.title('Compare model performance over different # of reviews (0~200)')\n",
        "\n",
        "plt.show()"
      ],
      "execution_count": 43,
      "outputs": [
        {
          "output_type": "display_data",
          "data": {
            "image/png": "[encoded data removed]",
            "text/plain": [
              "<matplotlib.figure.Figure at 0x7fbeccd30a90>"
            ]
          },
          "metadata": {
            "tags": []
          }
        }
      ]
    }
  ]
}