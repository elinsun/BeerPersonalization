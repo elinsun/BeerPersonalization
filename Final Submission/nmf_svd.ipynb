{
 "cells": [
  {
   "cell_type": "code",
   "execution_count": 1,
   "metadata": {},
   "outputs": [],
   "source": [
    "# read .csv into python\n",
    "import pandas as pd\n",
    "import numpy as np\n",
    "import os\n",
    "data = pd.read_csv('D:/Columbia/Fall 2018/PTA/Project/beeradvocate1.csv', sep='^', engine='python', \n",
    "                   header=None, error_bad_lines=False, warn_bad_lines=False)"
   ]
  },
  {
   "cell_type": "code",
   "execution_count": 2,
   "metadata": {},
   "outputs": [
    {
     "name": "stdout",
     "output_type": "stream",
     "text": [
      "(1585696, 4)\n"
     ]
    }
   ],
   "source": [
    "data.columns = ['beer_name', 'beer_beerId', 'beer_brewer', 'beer_ABV', 'beer_style', \n",
    "                'review_appearance', 'review_aroma', 'review_palate', 'review_taste', \n",
    "                'review_overall', 'review_time', 'review_profileName', 'review_text']\n",
    "\n",
    "# keep 3 columns: user name, beer name, overall score\n",
    "data2 = data[['beer_name', 'review_profileName', 'review_overall', 'review_time']]\n",
    "\n",
    "m = 33382 # number of users\n",
    "n = 56855 # Number of items\n",
    "# remove NA\n",
    "data2 = data2[pd.notnull(data2.beer_name)]\n",
    "data2 = data2[pd.notnull(data2.review_profileName)]\n",
    "data2 = data2[pd.notnull(data2.review_overall)]\n",
    "print(data2.shape)"
   ]
  },
  {
   "cell_type": "code",
   "execution_count": 3,
   "metadata": {},
   "outputs": [
    {
     "name": "stdout",
     "output_type": "stream",
     "text": [
      "(308218, 4)\n"
     ]
    }
   ],
   "source": [
    "# keep top 1000/33382 frequent users\n",
    "user = data2.review_profileName.value_counts()\n",
    "user_list = user.keys()[:m].tolist()\n",
    "\n",
    "# keep top 100/56855 most reviewed beer\n",
    "beer = data2.beer_name.value_counts()[:200]\n",
    "beer_list = beer.keys()[:n].tolist()\n",
    "\n",
    "# keep (beer&user) pair in (user_list) and (beer_list)\n",
    "subdata = data2[data2.beer_name.isin(beer_list)]\n",
    "subdata = subdata[subdata.review_profileName.isin(user_list)]\n",
    "\n",
    "# sort by user names\n",
    "subdata = subdata.sort_values(by=['review_profileName','beer_name','review_time'])\n",
    "\n",
    "print(subdata.shape)\n"
   ]
  },
  {
   "cell_type": "code",
   "execution_count": 4,
   "metadata": {},
   "outputs": [],
   "source": [
    "#subdata.groupby(['beer_name', 'review_profileName'])['review_time'].max()\n",
    "\n",
    "data_clean = subdata.sort_values(by='review_time')\n",
    "\n",
    "data_clean.drop_duplicates(['beer_name', 'review_profileName'], keep = 'last',\n",
    "                          inplace = True)\n",
    "data_clean['review_overall'] = data_clean['review_overall'].astype(float)\n",
    "\n",
    "data_train = data_clean.sample(frac = 0.7, random_state=1)\n",
    "data_test = data_clean.drop(data_train.index)\n",
    "\n"
   ]
  },
  {
   "cell_type": "code",
   "execution_count": 5,
   "metadata": {},
   "outputs": [],
   "source": [
    "from surprise import NMF, GridSearch, Reader, Dataset, SVD\n",
    "from surprise.model_selection import GridSearchCV"
   ]
  },
  {
   "cell_type": "code",
   "execution_count": 6,
   "metadata": {},
   "outputs": [],
   "source": [
    "reader = Reader(rating_scale=(1, 5))\n",
    "data = Dataset.load_from_df(data_clean[['review_profileName', 'beer_name', 'review_overall']], reader)"
   ]
  },
  {
   "cell_type": "code",
   "execution_count": 7,
   "metadata": {},
   "outputs": [
    {
     "data": {
      "text/html": [
       "<div>\n",
       "<style scoped>\n",
       "    .dataframe tbody tr th:only-of-type {\n",
       "        vertical-align: middle;\n",
       "    }\n",
       "\n",
       "    .dataframe tbody tr th {\n",
       "        vertical-align: top;\n",
       "    }\n",
       "\n",
       "    .dataframe thead th {\n",
       "        text-align: right;\n",
       "    }\n",
       "</style>\n",
       "<table border=\"1\" class=\"dataframe\">\n",
       "  <thead>\n",
       "    <tr style=\"text-align: right;\">\n",
       "      <th></th>\n",
       "      <th>split0_test_rmse</th>\n",
       "      <th>split1_test_rmse</th>\n",
       "      <th>split2_test_rmse</th>\n",
       "      <th>split3_test_rmse</th>\n",
       "      <th>split4_test_rmse</th>\n",
       "      <th>mean_test_rmse</th>\n",
       "      <th>std_test_rmse</th>\n",
       "      <th>rank_test_rmse</th>\n",
       "      <th>split0_test_mae</th>\n",
       "      <th>split1_test_mae</th>\n",
       "      <th>...</th>\n",
       "      <th>rank_test_mae</th>\n",
       "      <th>mean_fit_time</th>\n",
       "      <th>std_fit_time</th>\n",
       "      <th>mean_test_time</th>\n",
       "      <th>std_test_time</th>\n",
       "      <th>params</th>\n",
       "      <th>param_n_factors</th>\n",
       "      <th>param_n_epochs</th>\n",
       "      <th>param_reg_pu</th>\n",
       "      <th>param_reg_qi</th>\n",
       "    </tr>\n",
       "  </thead>\n",
       "  <tbody>\n",
       "    <tr>\n",
       "      <th>0</th>\n",
       "      <td>0.609763</td>\n",
       "      <td>0.613279</td>\n",
       "      <td>0.61129</td>\n",
       "      <td>0.609375</td>\n",
       "      <td>0.61008</td>\n",
       "      <td>0.610757</td>\n",
       "      <td>0.001414</td>\n",
       "      <td>1</td>\n",
       "      <td>0.450857</td>\n",
       "      <td>0.452819</td>\n",
       "      <td>...</td>\n",
       "      <td>1</td>\n",
       "      <td>22.484699</td>\n",
       "      <td>0.330696</td>\n",
       "      <td>0.521607</td>\n",
       "      <td>0.027191</td>\n",
       "      <td>{'n_factors': 25, 'n_epochs': 50, 'reg_pu': 0....</td>\n",
       "      <td>25</td>\n",
       "      <td>50</td>\n",
       "      <td>0.1</td>\n",
       "      <td>0.1</td>\n",
       "    </tr>\n",
       "  </tbody>\n",
       "</table>\n",
       "<p>1 rows × 25 columns</p>\n",
       "</div>"
      ],
      "text/plain": [
       "   split0_test_rmse  split1_test_rmse  split2_test_rmse  split3_test_rmse  \\\n",
       "0          0.609763          0.613279           0.61129          0.609375   \n",
       "\n",
       "   split4_test_rmse  mean_test_rmse  std_test_rmse  rank_test_rmse  \\\n",
       "0           0.61008        0.610757       0.001414               1   \n",
       "\n",
       "   split0_test_mae  split1_test_mae      ...       rank_test_mae  \\\n",
       "0         0.450857         0.452819      ...                   1   \n",
       "\n",
       "   mean_fit_time  std_fit_time  mean_test_time  std_test_time  \\\n",
       "0      22.484699      0.330696        0.521607       0.027191   \n",
       "\n",
       "                                              params  param_n_factors  \\\n",
       "0  {'n_factors': 25, 'n_epochs': 50, 'reg_pu': 0....               25   \n",
       "\n",
       "   param_n_epochs  param_reg_pu  param_reg_qi  \n",
       "0              50           0.1           0.1  \n",
       "\n",
       "[1 rows x 25 columns]"
      ]
     },
     "execution_count": 7,
     "metadata": {},
     "output_type": "execute_result"
    }
   ],
   "source": [
    "# NMF\n",
    "param_grid_pu = {'n_factors': [25], 'n_epochs': [50], 'reg_pu': [0.1], 'reg_qi': [0.1]}\n",
    "grid_search_pu = GridSearchCV(NMF, param_grid_pu, measures=['RMSE', 'MAE'], cv = 5)\n",
    "grid_search_pu.fit(data)\n",
    "results_pu = pd.DataFrame.from_dict(grid_search_pu.cv_results)\n",
    "results_pu\n",
    "\n"
   ]
  },
  {
   "cell_type": "code",
   "execution_count": 8,
   "metadata": {
    "scrolled": true
   },
   "outputs": [
    {
     "name": "stdout",
     "output_type": "stream",
     "text": [
      "0    0.610757\n",
      "Name: mean_test_rmse, dtype: float64\n",
      "0    0.451954\n",
      "Name: mean_test_mae, dtype: float64\n"
     ]
    }
   ],
   "source": [
    "print(results_pu[\"mean_test_rmse\"])\n",
    "print(results_pu[\"mean_test_mae\"])"
   ]
  },
  {
   "cell_type": "code",
   "execution_count": null,
   "metadata": {},
   "outputs": [],
   "source": [
    "# SVD\n",
    "param_grid_pu2 = {'n_factors': [25], 'n_epochs': [50], 'lr_all': [0.01], 'reg_all': [0.05]}\n",
    "grid_search_pu2 = GridSearchCV(SVD, param_grid_pu2, measures=['RMSE', 'MAE'], cv = 5)\n",
    "grid_search_pu2.fit(data)\n",
    "results_pu2 = pd.DataFrame.from_dict(grid_search_pu2.cv_results)\n",
    "results_pu2"
   ]
  },
  {
   "cell_type": "code",
   "execution_count": null,
   "metadata": {},
   "outputs": [],
   "source": [
    "print(results_pu2[\"mean_test_rmse\"])\n",
    "print(results_pu2[\"mean_test_mae\"])"
   ]
  }
 ],
 "metadata": {
  "kernelspec": {
   "display_name": "'coms007'",
   "language": "python",
   "name": "coms007"
  },
  "language_info": {
   "codemirror_mode": {
    "name": "ipython",
    "version": 3
   },
   "file_extension": ".py",
   "mimetype": "text/x-python",
   "name": "python",
   "nbconvert_exporter": "python",
   "pygments_lexer": "ipython3",
   "version": "3.6.5"
  }
 },
 "nbformat": 4,
 "nbformat_minor": 2
}
