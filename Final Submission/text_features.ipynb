{
 "cells": [
  {
   "cell_type": "code",
   "execution_count": 20,
   "metadata": {
    "collapsed": true
   },
   "outputs": [],
   "source": [
    "# python3\n",
    "import gzip\n",
    "import pandas as pd\n",
    "import numpy as np\n",
    "import string\n",
    "from nltk.corpus import stopwords\n",
    "import re\n",
    "from time import time"
   ]
  },
  {
   "cell_type": "code",
   "execution_count": 10,
   "metadata": {},
   "outputs": [],
   "source": [
    "with gzip.open('Beeradvocate.txt.gz', 'r') as f:\n",
    "  rb_file = f.readlines()\n",
    "\n",
    "\n",
    "data = []\n",
    "row_out = []\n",
    "stop = stopwords.words('english')\n",
    "\n",
    "for i in rb_file:\n",
    "    row = i.decode('utf-8', errors = 'replace')\n",
    "    #print(row)\n",
    "    if row == '\\n':\n",
    "      data.append(row_out)\n",
    "      row_out = []\n",
    "      continue\n",
    "    cat, field = row.split(\":\", 1)\n",
    "    #remove leading white spaces\n",
    "    field = field.rstrip()\n",
    "    if cat == 'review/text':\n",
    "        #remove tab and newspace characters\n",
    "        field = field.replace('\\t', ' ')\n",
    "        field = field.replace('\\n', '')\n",
    "        \n",
    "        #remove punctuation\n",
    "        \n",
    "        #field = field.translate(str.maketrans('','',string.punctuation)) #this can be used for python 3\n",
    "        #field = field.translate(None, string.punctuation) #this has issues with unicode characters\n",
    "        field = re.sub(r'[^\\w\\s]','',field) #slower but effective\n",
    "        field = field.lower()\n",
    "    row_out.append(field)"
   ]
  },
  {
   "cell_type": "code",
   "execution_count": 24,
   "metadata": {},
   "outputs": [],
   "source": [
    "data = pd.DataFrame(data)\n",
    "\n",
    "data.columns = ['beer_name', 'beer_beerId', 'beer_brewer', 'beer_ABV', 'beer_style', \n",
    "                'review_appearance', 'review_aroma', 'review_palate', 'review_taste', \n",
    "                'review_overall', 'review_time', 'review_profileName', 'review_text']\n",
    "\n",
    "sample = data.iloc[0:1000]"
   ]
  },
  {
   "cell_type": "markdown",
   "metadata": {},
   "source": [
    "### TF-IDF"
   ]
  },
  {
   "cell_type": "code",
   "execution_count": 25,
   "metadata": {},
   "outputs": [
    {
     "name": "stdout",
     "output_type": "stream",
     "text": [
      "done in 1.966s.\n"
     ]
    }
   ],
   "source": [
    "import nltk\n",
    "from nltk.stem.snowball import SnowballStemmer\n",
    "from sklearn.feature_extraction.text import TfidfVectorizer\n",
    "\n",
    "stemmer = SnowballStemmer(\"english\")\n",
    "n_features = 1000\n",
    "\n",
    "def stem_tokens(tokens, stemmer):\n",
    "    stemmed = []\n",
    "    for item in tokens:\n",
    "        stemmed.append(stemmer.stem(item))\n",
    "    return stemmed\n",
    "\n",
    "def tokenize(text):\n",
    "    tokens = nltk.word_tokenize(text)\n",
    "    stems = stem_tokens(tokens, stemmer)\n",
    "    return stems\n",
    "\n",
    "t0 = time()\n",
    "\n",
    "tfidf_vectorizer = TfidfVectorizer(tokenizer=tokenize, stop_words='english', max_features = n_features)\n",
    "tfidf = tfidf_vectorizer.fit_transform(sample['review_text'])\n",
    "print(\"done in %0.3fs.\" % (time() - t0))"
   ]
  },
  {
   "cell_type": "markdown",
   "metadata": {},
   "source": [
    "https://scikit-learn.org/stable/auto_examples/applications/plot_topics_extraction_with_nmf_lda.html#sphx-glr-auto-examples-applications-plot-topics-extraction-with-nmf-lda-py"
   ]
  },
  {
   "cell_type": "code",
   "execution_count": 35,
   "metadata": {},
   "outputs": [
    {
     "name": "stdout",
     "output_type": "stream",
     "text": [
      "yellow  -  0.212356887853\n",
      "wheat  -  0.353478657237\n",
      "veri  -  0.103584820058\n",
      "time  -  0.200932627497\n",
      "t  -  0.138323681064\n",
      "s  -  0.137672818315\n",
      "pick  -  0.221951295741\n",
      "past  -  0.307771344264\n",
      "malt  -  0.180748907846\n",
      "m  -  0.146234100344\n",
      "low  -  0.23657491203\n",
      "limit  -  0.324038370911\n",
      "light  -  0.234662915419\n",
      "head  -  0.0702688958867\n",
      "good  -  0.104827448185\n",
      "drinkabl  -  0.135344366678\n",
      "domin  -  0.235482303541\n",
      "decent  -  0.182576255654\n",
      "d  -  0.157989609487\n",
      "bud  -  0.294957955852\n",
      "bit  -  0.128479744116\n",
      "beer  -  0.194342721388\n",
      "appear  -  0.193451154302\n"
     ]
    }
   ],
   "source": [
    "test = data.iloc[1001]['review_text']\n",
    "response = tfidf_vectorizer.transform([test])\n",
    "\n",
    "feature_names = tfidf_vectorizer.get_feature_names()\n",
    "for col in response.nonzero()[1]:\n",
    "    print feature_names[col], ' - ', response[0, col]"
   ]
  }
 ],
 "metadata": {
  "kernelspec": {
   "display_name": "Python 2",
   "language": "python",
   "name": "python2"
  },
  "language_info": {
   "codemirror_mode": {
    "name": "ipython",
    "version": 2
   },
   "file_extension": ".py",
   "mimetype": "text/x-python",
   "name": "python",
   "nbconvert_exporter": "python",
   "pygments_lexer": "ipython2",
   "version": "2.7.13"
  }
 },
 "nbformat": 4,
 "nbformat_minor": 2
}
