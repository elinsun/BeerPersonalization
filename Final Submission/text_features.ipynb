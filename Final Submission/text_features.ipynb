{
 "cells": [
  {
   "cell_type": "code",
   "execution_count": 1,
   "metadata": {},
   "outputs": [],
   "source": [
    "# python2\n",
    "import gzip\n",
    "import pandas as pd\n",
    "import numpy as np\n",
    "import string\n",
    "from nltk.corpus import stopwords"
   ]
  },
  {
   "cell_type": "code",
   "execution_count": 49,
   "metadata": {},
   "outputs": [
    {
     "ename": "AttributeError",
     "evalue": "type object 'str' has no attribute 'maketrans'",
     "output_type": "error",
     "traceback": [
      "\u001b[1;31m---------------------------------------------------------------------------\u001b[0m",
      "\u001b[1;31mAttributeError\u001b[0m                            Traceback (most recent call last)",
      "\u001b[1;32m<ipython-input-49-0dc43104831c>\u001b[0m in \u001b[0;36m<module>\u001b[1;34m()\u001b[0m\n\u001b[0;32m     22\u001b[0m         \u001b[0mfield\u001b[0m \u001b[1;33m=\u001b[0m \u001b[0mfield\u001b[0m\u001b[1;33m.\u001b[0m\u001b[0mreplace\u001b[0m\u001b[1;33m(\u001b[0m\u001b[1;34m'\\n'\u001b[0m\u001b[1;33m,\u001b[0m \u001b[1;34m''\u001b[0m\u001b[1;33m)\u001b[0m\u001b[1;33m\u001b[0m\u001b[0m\n\u001b[0;32m     23\u001b[0m         \u001b[1;31m#remove punctuation\u001b[0m\u001b[1;33m\u001b[0m\u001b[1;33m\u001b[0m\u001b[0m\n\u001b[1;32m---> 24\u001b[1;33m         \u001b[0mfield\u001b[0m \u001b[1;33m=\u001b[0m \u001b[0mfield\u001b[0m\u001b[1;33m.\u001b[0m\u001b[0mtranslate\u001b[0m\u001b[1;33m(\u001b[0m\u001b[0mstr\u001b[0m\u001b[1;33m.\u001b[0m\u001b[0mmaketrans\u001b[0m\u001b[1;33m(\u001b[0m\u001b[1;34m''\u001b[0m\u001b[1;33m,\u001b[0m\u001b[1;34m''\u001b[0m\u001b[1;33m,\u001b[0m\u001b[0mstring\u001b[0m\u001b[1;33m.\u001b[0m\u001b[0mpunctuation\u001b[0m\u001b[1;33m)\u001b[0m\u001b[1;33m)\u001b[0m\u001b[1;33m\u001b[0m\u001b[0m\n\u001b[0m\u001b[0;32m     25\u001b[0m         \u001b[0mfield\u001b[0m \u001b[1;33m=\u001b[0m \u001b[0mfield\u001b[0m\u001b[1;33m.\u001b[0m\u001b[0mlower\u001b[0m\u001b[1;33m(\u001b[0m\u001b[1;33m)\u001b[0m\u001b[1;33m\u001b[0m\u001b[0m\n\u001b[0;32m     26\u001b[0m         \u001b[1;31m#tokens = nltk.word_tokenize(review)\u001b[0m\u001b[1;33m\u001b[0m\u001b[1;33m\u001b[0m\u001b[0m\n",
      "\u001b[1;31mAttributeError\u001b[0m: type object 'str' has no attribute 'maketrans'"
     ]
    }
   ],
   "source": [
    "with gzip.open('Beeradvocate.txt.gz', 'r') as f:\n",
    "  rb_file = f.readlines()\n",
    "\n",
    "\n",
    "data = []\n",
    "row_out = []\n",
    "stop = stopwords.words('english')\n",
    "\n",
    "for i in rb_file:\n",
    "    row = i.decode('utf-8', errors = 'ignore')\n",
    "    #print(row)\n",
    "    if row == '\\n':\n",
    "      data.append(row_out)\n",
    "      row_out = []\n",
    "      continue\n",
    "    cat, field = row.split(\":\", 1)\n",
    "    #remove leading white spaces\n",
    "    field = field.rstrip()\n",
    "    if cat == 'review/text':\n",
    "        #do text cleaning\n",
    "        field = field.replace('\\t', ' ')\n",
    "        field = field.replace('\\n', '')\n",
    "        #remove punctuation\n",
    "        field = field.translate(str.maketrans('','',string.punctuation))\n",
    "        field = field.lower()\n",
    "        #tokens = nltk.word_tokenize(review)\n",
    "        #no_stopwords = [w for w in tokens if not w in stopwords.words('english')]\n",
    "    row_out.append(field)"
   ]
  },
  {
   "cell_type": "code",
   "execution_count": 45,
   "metadata": {},
   "outputs": [
    {
     "data": {
      "text/plain": [
       "['lot',\n",
       " 'foam',\n",
       " 'lot',\n",
       " 'smell',\n",
       " 'banana',\n",
       " 'lactic',\n",
       " 'tart',\n",
       " 'good',\n",
       " 'start',\n",
       " 'quite',\n",
       " 'dark',\n",
       " 'orange',\n",
       " 'color',\n",
       " 'lively',\n",
       " 'carbonation',\n",
       " 'visible',\n",
       " 'foam',\n",
       " 'tending',\n",
       " 'lactic',\n",
       " 'sourness',\n",
       " 'taste',\n",
       " 'yeast',\n",
       " 'banana']"
      ]
     },
     "execution_count": 45,
     "metadata": {},
     "output_type": "execute_result"
    }
   ],
   "source": [
    "w =rb_file[12].split(\":\", 1)[1].lower().replace('\\t', ' ').translate(None, '\\n').translate(None, string.punctuation)\n",
    "t = nltk.word_tokenize(w)\n",
    "[w for w in t if not w in stopwords.words('english')]"
   ]
  },
  {
   "cell_type": "code",
   "execution_count": 4,
   "metadata": {},
   "outputs": [],
   "source": [
    "data = pd.DataFrame(data)\n",
    "\n",
    "data.columns = ['beer_name', 'beer_beerId', 'beer_brewer', 'beer_ABV', 'beer_style', \n",
    "                'review_appearance', 'review_aroma', 'review_palate', 'review_taste', \n",
    "                'review_overall', 'review_time', 'review_profileName', 'review_text']"
   ]
  },
  {
   "cell_type": "markdown",
   "metadata": {},
   "source": [
    "### Removing Stopwords"
   ]
  },
  {
   "cell_type": "code",
   "execution_count": 20,
   "metadata": {},
   "outputs": [
    {
     "data": {
      "text/plain": [
       "0         A lot of foam. But a lot.\\tIn the smell some ...\n",
       "1         Dark red color, light beige foam, average.\\tI...\n",
       "2         Almost totally black. Beige foam, quite compa...\n",
       "3         Golden yellow color. White, compact foam, qui...\n",
       "4         According to the website, the style for the C...\n",
       "5         Poured from the bottle into a Chimay goblet.\\...\n",
       "6         22 oz bottle from \"Lifesource\" Salem. $3.95 N...\n",
       "7         Bottle says \"Malt beverage brewed with Ginger...\n",
       "8         I'm not sure why I picked this up... I like g...\n",
       "9         Poured from a 22oz bomber into my Drie Fontei...\n",
       "10        OK, so the only reason I bought this while sh...\n",
       "11        Notes from 6/24\\t\\tA: Bright golden glowing b...\n",
       "12        22 oz. bomber,\\t\\tA: Pours a clear yellow wit...\n",
       "13        Is it possible for a bottle to be a novelty p...\n",
       "14        Brown in color, somewhere between a porter an...\n",
       "15        Caldera presents yet another circumstance whe...\n",
       "16        More of a 'dry' than a lager, tasted at the 2...\n",
       "17        Pours a murky light brown with a 1 inch fizzy...\n",
       "18        Faint sudsy head with some with some dissipat...\n",
       "19        A new arrival to the West TN area... \\t\\tPour...\n",
       "20        Sampled 10/30/11 - Transferring the notes.\\t\\...\n",
       "21        This is my first rauchbier. \\tPours a burnt a...\n",
       "22        A: Pours a rich, ruby color, clear. Maybe a f...\n",
       "23        Pours a mahogany color, rich, with a tan head...\n",
       "24        Pours light caramel brown with reddish highli...\n",
       "25        Poured a slightly cloudy deep amber/red color...\n",
       "26        Big thanks to N2168 for knocking this off my ...\n",
       "27        On tap last night at the Caldera Tap House.\\t...\n",
       "28        22 oz. Think I picked this up in Chicago Binn...\n",
       "29        Poured into a 1/2 liter stein a deep rich amb...\n",
       "                               ...                        \n",
       "99970     Seeing this beer at all is always a good thin...\n",
       "99971     BFM La Douze on cask at ChurchKey in Washingt...\n",
       "99972     I liked this beer quite a bit. Pours a hazy g...\n",
       "99973     Bottle: Poured a hazy orangey color ale with ...\n",
       "99974     Thanks to Gritty for sharing this one.\\t\\tBoy...\n",
       "99975     A - Pours with two fingers of white foam on t...\n",
       "99976     Quick notes from Tigris Beverage/g.housen Tas...\n",
       "99977     On-tap at the Porter in Atlanta.\\t\\tPours a h...\n",
       "99978     On tap at Max's today.\\t\\tThe beer pours a sl...\n",
       "99979     On-tap at Beachwood BBQ, on to the beer:\\t\\tT...\n",
       "99980     pretty sure the tap handle mentioned this as ...\n",
       "99981     On-tap at Beachwood BBQ, a pale ale brewed wi...\n",
       "99982     small bottle looks to be about 12oz (can't re...\n",
       "99983     Bottle compliments of the famous Simon-- than...\n",
       "99984     Bottle from pixieskid and Simon in Paris, two...\n",
       "99985     A slightly sour ale, dark brown in color, the...\n",
       "99986     On cask, of all things, at Max's today. Accor...\n",
       "99987     Had a bottle of this from Tom's Beer Box in C...\n",
       "99988     Pours black with foamy brown head that fades ...\n",
       "99989     On tap at the Brick Store Pub. I like this be...\n",
       "99990     On tap at Beer Table in Park Slope, Brooklyn....\n",
       "99991     On Tap at The Brickstore Pub - Pours pitch bl...\n",
       "99992     On tap at the Brick Store poured into a snift...\n",
       "99993     Bottle: Poured a pitch-black color ale with a...\n",
       "99994     bottled, 2004 version - dark black colour wit...\n",
       "99995     Sampled at the Monk's Cafe BFM tasting. The b...\n",
       "99996     Bottle: Poured a light amber color ale with a...\n",
       "99997     Jurassian Pale Ale :-), limited to 3276 bottl...\n",
       "99998     I really, really wanted to like this beer. Th...\n",
       "99999     From notes:\\t\\tI heated this up as per the in...\n",
       "Name: review_text, Length: 100000, dtype: object"
      ]
     },
     "execution_count": 20,
     "metadata": {},
     "output_type": "execute_result"
    }
   ],
   "source": [
    "corpus = data['review_text'][0:100000]\n",
    "\n",
    "corpus = corpus.apply(lambda x: [item for item in str(x).translate(None, string.punctuation).split() if item not in stop])"
   ]
  }
 ],
 "metadata": {
  "kernelspec": {
   "display_name": "Python 2",
   "language": "python",
   "name": "python2"
  },
  "language_info": {
   "codemirror_mode": {
    "name": "ipython",
    "version": 2
   },
   "file_extension": ".py",
   "mimetype": "text/x-python",
   "name": "python",
   "nbconvert_exporter": "python",
   "pygments_lexer": "ipython2",
   "version": "2.7.15"
  }
 },
 "nbformat": 4,
 "nbformat_minor": 2
}
