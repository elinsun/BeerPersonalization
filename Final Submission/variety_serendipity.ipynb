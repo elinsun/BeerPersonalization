{
 "cells": [
  {
   "cell_type": "code",
   "execution_count": null,
   "metadata": {},
   "outputs": [],
   "source": [
    "#Serendipity, High score, High Serendpity\n",
    "#Make sure that there is a 'subdata' data frame which has all beers users and scores. Else replace it here with your dataframe name\n",
    "def inter_list_rating(name, recom_list):\n",
    "    serendipidy = 0 \n",
    "    consumed = list(set(subdata[subdata['review_profileName'] == name]['beer_style']))\n",
    "    for beer in consumed:\n",
    "        for item in recom_list:\n",
    "            if list(set(subdata[subdata['beer_name'] == item]['beer_style']))[0] != beer:\n",
    "                serendipidy = serendipidy + 1\n",
    "    return serendipidy/(len(recom_list) * len(consumed)) "
   ]
  },
  {
   "cell_type": "code",
   "execution_count": null,
   "metadata": {},
   "outputs": [],
   "source": [
    "# Variety High score, high variety\n",
    "#Make sure that there is a 'subdata' data frame which has all beers users and scores. Else replace it here with your dataframe name\n",
    "def intra_list_rating(name, recom_list):\n",
    "    variety = 0 \n",
    "    for i in range(len(recom_list)):\n",
    "        for j in range(i+1, len(recom_list)):\n",
    "            if list(set(subdata[subdata['beer_name'] == recom_list[i]]['beer_style'])) != list(set(subdata[subdata['beer_name'] == recom_list[j]][\"beer_style\"])):\n",
    "                variety = variety + 1\n",
    "    print(variety)\n",
    "    return variety/(len(recom_list) **2) "
   ]
  }
 ],
 "metadata": {
  "kernelspec": {
   "display_name": "Python 3",
   "language": "python",
   "name": "python3"
  },
  "language_info": {
   "codemirror_mode": {
    "name": "ipython",
    "version": 3
   },
   "file_extension": ".py",
   "mimetype": "text/x-python",
   "name": "python",
   "nbconvert_exporter": "python",
   "pygments_lexer": "ipython3",
   "version": "3.6.5"
  }
 },
 "nbformat": 4,
 "nbformat_minor": 2
}
