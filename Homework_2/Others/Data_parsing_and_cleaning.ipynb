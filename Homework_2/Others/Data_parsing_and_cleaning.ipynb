{
 "cells": [
  {
   "cell_type": "code",
   "execution_count": 1,
   "metadata": {},
   "outputs": [],
   "source": [
    "# python2\n",
    "import gzip\n",
    "import pandas as pd\n",
    "import numpy as np\n",
    "from sklearn.model_selection import train_test_split"
   ]
  },
  {
   "cell_type": "markdown",
   "metadata": {
    "colab": {},
    "colab_type": "code",
    "id": "PLQQTqr56T0H"
   },
   "source": [
    "# Parsing and cleaning"
   ]
  },
  {
   "cell_type": "markdown",
   "metadata": {},
   "source": [
    "Load in the data"
   ]
  },
  {
   "cell_type": "code",
   "execution_count": 2,
   "metadata": {
    "colab": {},
    "colab_type": "code",
    "id": "qyiMGlHahTLW"
   },
   "outputs": [],
   "source": [
    "with gzip.open('Beeradvocate.txt.gz', 'r') as f:\n",
    "  rb_file = f.readlines()\n",
    "\n",
    "\n",
    "data = []\n",
    "row_out = []\n",
    "\n",
    "for i in rb_file:\n",
    "    row = i.decode('utf-8', errors = 'ignore')\n",
    "    #print(row)\n",
    "    if row == '\\n':\n",
    "      data.append(row_out)\n",
    "      row_out = []\n",
    "      continue\n",
    "    row = row.split(\":\", 1)[1].rstrip()\n",
    "    row_out.append(row)\n"
   ]
  },
  {
   "cell_type": "code",
   "execution_count": 3,
   "metadata": {
    "colab": {
     "base_uri": "https://localhost:8080/",
     "height": 34
    },
    "colab_type": "code",
    "id": "kBiMyrvPhIVJ",
    "outputId": "0b60dbda-1b0d-42c7-e152-716d5758c52a"
   },
   "outputs": [],
   "source": [
    "data = pd.DataFrame(data)\n",
    "\n",
    "data.columns = ['beer_name', 'beer_beerId', 'beer_brewer', 'beer_ABV', 'beer_style', \n",
    "                'review_appearance', 'review_aroma', 'review_palate', 'review_taste', \n",
    "                'review_overall', 'review_time', 'review_profileName', 'review_text']\n",
    "\n",
    "# keep 3 columns: user name, beer name, overall score\n",
    "data2 = data[['beer_name', 'review_profileName', 'review_overall','review_time']]\n",
    "\n",
    "# remove NA\n",
    "data2 = data2[pd.notnull(data2.beer_name)]\n",
    "data2 = data2[pd.notnull(data2.review_profileName)]\n",
    "data2 = data2[pd.notnull(data2.review_overall)]\n"
   ]
  },
  {
   "cell_type": "code",
   "execution_count": 4,
   "metadata": {
    "colab": {
     "base_uri": "https://localhost:8080/",
     "height": 376
    },
    "colab_type": "code",
    "id": "KufOvtFHhG6F",
    "outputId": "52d5dd6b-f874-4d1b-e090-64d2f8fb2ce3"
   },
   "outputs": [
    {
     "name": "stdout",
     "output_type": "stream",
     "text": [
      "(68929, 4)\n"
     ]
    },
    {
     "data": {
      "text/html": [
       "<div>\n",
       "<style scoped>\n",
       "    .dataframe tbody tr th:only-of-type {\n",
       "        vertical-align: middle;\n",
       "    }\n",
       "\n",
       "    .dataframe tbody tr th {\n",
       "        vertical-align: top;\n",
       "    }\n",
       "\n",
       "    .dataframe thead th {\n",
       "        text-align: right;\n",
       "    }\n",
       "</style>\n",
       "<table border=\"1\" class=\"dataframe\">\n",
       "  <thead>\n",
       "    <tr style=\"text-align: right;\">\n",
       "      <th></th>\n",
       "      <th>beer_name</th>\n",
       "      <th>review_profileName</th>\n",
       "      <th>review_overall</th>\n",
       "      <th>review_time</th>\n",
       "    </tr>\n",
       "  </thead>\n",
       "  <tbody>\n",
       "    <tr>\n",
       "      <th>1191634</th>\n",
       "      <td>120 Minute IPA</td>\n",
       "      <td>1fastz28</td>\n",
       "      <td>3</td>\n",
       "      <td>1198733748</td>\n",
       "    </tr>\n",
       "    <tr>\n",
       "      <th>1170777</th>\n",
       "      <td>60 Minute IPA</td>\n",
       "      <td>1fastz28</td>\n",
       "      <td>4</td>\n",
       "      <td>1176428202</td>\n",
       "    </tr>\n",
       "    <tr>\n",
       "      <th>1174390</th>\n",
       "      <td>90 Minute IPA</td>\n",
       "      <td>1fastz28</td>\n",
       "      <td>4.5</td>\n",
       "      <td>1173146934</td>\n",
       "    </tr>\n",
       "    <tr>\n",
       "      <th>1339659</th>\n",
       "      <td>Alpha King Pale Ale</td>\n",
       "      <td>1fastz28</td>\n",
       "      <td>4.5</td>\n",
       "      <td>1275961162</td>\n",
       "    </tr>\n",
       "    <tr>\n",
       "      <th>868119</th>\n",
       "      <td>Arrogant Bastard Ale</td>\n",
       "      <td>1fastz28</td>\n",
       "      <td>4</td>\n",
       "      <td>1214535830</td>\n",
       "    </tr>\n",
       "    <tr>\n",
       "      <th>1032119</th>\n",
       "      <td>Ayinger Celebrator Doppelbock</td>\n",
       "      <td>1fastz28</td>\n",
       "      <td>4</td>\n",
       "      <td>1240105718</td>\n",
       "    </tr>\n",
       "    <tr>\n",
       "      <th>931404</th>\n",
       "      <td>Bell's Hopslam Ale</td>\n",
       "      <td>1fastz28</td>\n",
       "      <td>4.5</td>\n",
       "      <td>1236131835</td>\n",
       "    </tr>\n",
       "    <tr>\n",
       "      <th>944912</th>\n",
       "      <td>Bell's Oberon Ale</td>\n",
       "      <td>1fastz28</td>\n",
       "      <td>4.5</td>\n",
       "      <td>1240099321</td>\n",
       "    </tr>\n",
       "    <tr>\n",
       "      <th>353066</th>\n",
       "      <td>Blue Moon Belgian White</td>\n",
       "      <td>1fastz28</td>\n",
       "      <td>3</td>\n",
       "      <td>1204429269</td>\n",
       "    </tr>\n",
       "    <tr>\n",
       "      <th>591597</th>\n",
       "      <td>Bourbon County Brand Stout</td>\n",
       "      <td>1fastz28</td>\n",
       "      <td>4</td>\n",
       "      <td>1207029127</td>\n",
       "    </tr>\n",
       "  </tbody>\n",
       "</table>\n",
       "</div>"
      ],
      "text/plain": [
       "                              beer_name review_profileName review_overall  \\\n",
       "1191634                  120 Minute IPA           1fastz28              3   \n",
       "1170777                   60 Minute IPA           1fastz28              4   \n",
       "1174390                   90 Minute IPA           1fastz28            4.5   \n",
       "1339659             Alpha King Pale Ale           1fastz28            4.5   \n",
       "868119             Arrogant Bastard Ale           1fastz28              4   \n",
       "1032119   Ayinger Celebrator Doppelbock           1fastz28              4   \n",
       "931404               Bell's Hopslam Ale           1fastz28            4.5   \n",
       "944912                Bell's Oberon Ale           1fastz28            4.5   \n",
       "353066          Blue Moon Belgian White           1fastz28              3   \n",
       "591597       Bourbon County Brand Stout           1fastz28              4   \n",
       "\n",
       "         review_time  \n",
       "1191634   1198733748  \n",
       "1170777   1176428202  \n",
       "1174390   1173146934  \n",
       "1339659   1275961162  \n",
       "868119    1214535830  \n",
       "1032119   1240105718  \n",
       "931404    1236131835  \n",
       "944912    1240099321  \n",
       "353066    1204429269  \n",
       "591597    1207029127  "
      ]
     },
     "execution_count": 4,
     "metadata": {},
     "output_type": "execute_result"
    }
   ],
   "source": [
    "# keep top 1000/33382 frequent users\n",
    "user = data2.review_profileName.value_counts()\n",
    "user_list = user.keys()[:1000].tolist()\n",
    "\n",
    "# keep top 100/56855 most reviewed beer\n",
    "beer = data2.beer_name.value_counts()[:100]\n",
    "beer_list = beer.keys()[:100].tolist()\n",
    "\n",
    "# keep (beer&user) pair in (user_list) and (beer_list)\n",
    "subdata = data2[data2.beer_name.isin(beer_list)]\n",
    "subdata = subdata[subdata.review_profileName.isin(user_list)]\n",
    "\n",
    "# sort by user names\n",
    "subdata = subdata.sort_values(by=['review_profileName','beer_name','review_time'])\n",
    "\n",
    "print(subdata.shape)\n",
    "subdata.head(10)"
   ]
  },
  {
   "cell_type": "markdown",
   "metadata": {
    "colab_type": "text",
    "id": "HNVxCyxQ5ox2"
   },
   "source": [
    "Only keeping latest reviews by user in case they rated the same beer multipe times"
   ]
  },
  {
   "cell_type": "code",
   "execution_count": 5,
   "metadata": {
    "colab": {},
    "colab_type": "code",
    "id": "5FNjcy0F2WrY"
   },
   "outputs": [],
   "source": [
    "data_clean = subdata.sort_values(by='review_time')\n",
    "\n",
    "data_clean.drop_duplicates(['beer_name', 'review_profileName'], keep = 'last',\n",
    "                          inplace = True)"
   ]
  },
  {
   "cell_type": "code",
   "execution_count": 6,
   "metadata": {
    "colab": {
     "base_uri": "https://localhost:8080/",
     "height": 359
    },
    "colab_type": "code",
    "id": "UAAPSf8K5Ccr",
    "outputId": "ade252cd-5162-45d0-a86d-291e3d7c7be6"
   },
   "outputs": [
    {
     "data": {
      "text/html": [
       "<div>\n",
       "<style scoped>\n",
       "    .dataframe tbody tr th:only-of-type {\n",
       "        vertical-align: middle;\n",
       "    }\n",
       "\n",
       "    .dataframe tbody tr th {\n",
       "        vertical-align: top;\n",
       "    }\n",
       "\n",
       "    .dataframe thead th {\n",
       "        text-align: right;\n",
       "    }\n",
       "</style>\n",
       "<table border=\"1\" class=\"dataframe\">\n",
       "  <thead>\n",
       "    <tr style=\"text-align: right;\">\n",
       "      <th></th>\n",
       "      <th>beer_name</th>\n",
       "      <th>review_profileName</th>\n",
       "      <th>review_overall</th>\n",
       "      <th>review_time</th>\n",
       "    </tr>\n",
       "  </thead>\n",
       "  <tbody>\n",
       "    <tr>\n",
       "      <th>282223</th>\n",
       "      <td>Samuel Adams Boston Lager</td>\n",
       "      <td>Jason</td>\n",
       "      <td>4</td>\n",
       "      <td>1000083887</td>\n",
       "    </tr>\n",
       "    <tr>\n",
       "      <th>518392</th>\n",
       "      <td>Samuel Smith's Oatmeal Stout</td>\n",
       "      <td>Jason</td>\n",
       "      <td>4</td>\n",
       "      <td>1000336190</td>\n",
       "    </tr>\n",
       "    <tr>\n",
       "      <th>518391</th>\n",
       "      <td>Samuel Smith's Oatmeal Stout</td>\n",
       "      <td>guinness33</td>\n",
       "      <td>5</td>\n",
       "      <td>1000464943</td>\n",
       "    </tr>\n",
       "    <tr>\n",
       "      <th>1339361</th>\n",
       "      <td>Alpha King Pale Ale</td>\n",
       "      <td>John</td>\n",
       "      <td>5</td>\n",
       "      <td>1000733852</td>\n",
       "    </tr>\n",
       "    <tr>\n",
       "      <th>1541504</th>\n",
       "      <td>Golden Monkey</td>\n",
       "      <td>John</td>\n",
       "      <td>5</td>\n",
       "      <td>1000809985</td>\n",
       "    </tr>\n",
       "    <tr>\n",
       "      <th>1334473</th>\n",
       "      <td>Dreadnaught IPA</td>\n",
       "      <td>John</td>\n",
       "      <td>5</td>\n",
       "      <td>1000890164</td>\n",
       "    </tr>\n",
       "    <tr>\n",
       "      <th>1544699</th>\n",
       "      <td>HopDevil Ale</td>\n",
       "      <td>John</td>\n",
       "      <td>5</td>\n",
       "      <td>1000904483</td>\n",
       "    </tr>\n",
       "    <tr>\n",
       "      <th>91268</th>\n",
       "      <td>Sierra Nevada Pale Ale</td>\n",
       "      <td>John</td>\n",
       "      <td>4</td>\n",
       "      <td>1000905152</td>\n",
       "    </tr>\n",
       "    <tr>\n",
       "      <th>518390</th>\n",
       "      <td>Samuel Smith's Oatmeal Stout</td>\n",
       "      <td>stoutman</td>\n",
       "      <td>5</td>\n",
       "      <td>1000931285</td>\n",
       "    </tr>\n",
       "    <tr>\n",
       "      <th>1548897</th>\n",
       "      <td>Storm King Stout</td>\n",
       "      <td>John</td>\n",
       "      <td>5</td>\n",
       "      <td>1001336489</td>\n",
       "    </tr>\n",
       "  </tbody>\n",
       "</table>\n",
       "</div>"
      ],
      "text/plain": [
       "                             beer_name review_profileName review_overall  \\\n",
       "282223       Samuel Adams Boston Lager              Jason              4   \n",
       "518392    Samuel Smith's Oatmeal Stout              Jason              4   \n",
       "518391    Samuel Smith's Oatmeal Stout         guinness33              5   \n",
       "1339361            Alpha King Pale Ale               John              5   \n",
       "1541504                  Golden Monkey               John              5   \n",
       "1334473                Dreadnaught IPA               John              5   \n",
       "1544699                   HopDevil Ale               John              5   \n",
       "91268           Sierra Nevada Pale Ale               John              4   \n",
       "518390    Samuel Smith's Oatmeal Stout           stoutman              5   \n",
       "1548897               Storm King Stout               John              5   \n",
       "\n",
       "         review_time  \n",
       "282223    1000083887  \n",
       "518392    1000336190  \n",
       "518391    1000464943  \n",
       "1339361   1000733852  \n",
       "1541504   1000809985  \n",
       "1334473   1000890164  \n",
       "1544699   1000904483  \n",
       "91268     1000905152  \n",
       "518390    1000931285  \n",
       "1548897   1001336489  "
      ]
     },
     "execution_count": 6,
     "metadata": {},
     "output_type": "execute_result"
    }
   ],
   "source": [
    "data_clean.head(10)\n",
    "#data_clean.shape"
   ]
  },
  {
   "cell_type": "markdown",
   "metadata": {
    "colab_type": "text",
    "id": "6L5e3qe-QeAP"
   },
   "source": [
    "**Splitting the data into training and testing**"
   ]
  },
  {
   "cell_type": "code",
   "execution_count": 7,
   "metadata": {
    "colab": {},
    "colab_type": "code",
    "id": "jDQWy8ugQdA1"
   },
   "outputs": [],
   "source": [
    "data_clean['review_overall'] = data_clean['review_overall'].astype(float)\n",
    "\n",
    "data_train, data_test = train_test_split(data_clean, test_size=.3, random_state=1)"
   ]
  },
  {
   "cell_type": "markdown",
   "metadata": {
    "colab_type": "text",
    "id": "CuSC5GO_R0YV"
   },
   "source": [
    "Calculate the average rating for each item"
   ]
  },
  {
   "cell_type": "code",
   "execution_count": 8,
   "metadata": {
    "colab": {},
    "colab_type": "code",
    "id": "WXBDZB7QR9CQ"
   },
   "outputs": [],
   "source": [
    "mean_rating = data_train.groupby(['beer_name'], as_index = False, sort = False)['review_overall'].mean().rename(columns = {'review_overall': 'item_mean'})\n",
    "\n",
    "data_train = pd.merge(data_train, mean_rating, on = 'beer_name', how = 'left')\n",
    "data_train['adjusted_rating'] = data_train['review_overall'] - data_train['item_mean']"
   ]
  },
  {
   "cell_type": "code",
   "execution_count": 20,
   "metadata": {
    "colab": {
     "base_uri": "https://localhost:8080/",
     "height": 204
    },
    "colab_type": "code",
    "id": "bDaDmbTSb70d",
    "outputId": "a271f9c4-1fbc-4271-cec0-62268aa87555"
   },
   "outputs": [
    {
     "data": {
      "text/html": [
       "<div>\n",
       "<style scoped>\n",
       "    .dataframe tbody tr th:only-of-type {\n",
       "        vertical-align: middle;\n",
       "    }\n",
       "\n",
       "    .dataframe tbody tr th {\n",
       "        vertical-align: top;\n",
       "    }\n",
       "\n",
       "    .dataframe thead th {\n",
       "        text-align: right;\n",
       "    }\n",
       "</style>\n",
       "<table border=\"1\" class=\"dataframe\">\n",
       "  <thead>\n",
       "    <tr style=\"text-align: right;\">\n",
       "      <th></th>\n",
       "      <th>beer_name</th>\n",
       "      <th>review_profileName</th>\n",
       "      <th>review_overall</th>\n",
       "      <th>review_time</th>\n",
       "      <th>item_mean</th>\n",
       "      <th>adjusted_rating</th>\n",
       "    </tr>\n",
       "  </thead>\n",
       "  <tbody>\n",
       "    <tr>\n",
       "      <th>0</th>\n",
       "      <td>Sierra Nevada Pale Ale</td>\n",
       "      <td>LilBeerDoctor</td>\n",
       "      <td>4.0</td>\n",
       "      <td>1228189535</td>\n",
       "      <td>4.261006</td>\n",
       "      <td>-0.261006</td>\n",
       "    </tr>\n",
       "    <tr>\n",
       "      <th>1</th>\n",
       "      <td>Anchor Steam Beer</td>\n",
       "      <td>JamesS</td>\n",
       "      <td>4.0</td>\n",
       "      <td>1199459768</td>\n",
       "      <td>4.038283</td>\n",
       "      <td>-0.038283</td>\n",
       "    </tr>\n",
       "    <tr>\n",
       "      <th>2</th>\n",
       "      <td>Ommegang (Abbey Ale)</td>\n",
       "      <td>projectflam86</td>\n",
       "      <td>4.0</td>\n",
       "      <td>1316131551</td>\n",
       "      <td>4.057951</td>\n",
       "      <td>-0.057951</td>\n",
       "    </tr>\n",
       "    <tr>\n",
       "      <th>3</th>\n",
       "      <td>Stone Imperial Russian Stout</td>\n",
       "      <td>Naerhu</td>\n",
       "      <td>5.0</td>\n",
       "      <td>1057695990</td>\n",
       "      <td>4.244163</td>\n",
       "      <td>0.755837</td>\n",
       "    </tr>\n",
       "    <tr>\n",
       "      <th>4</th>\n",
       "      <td>#9</td>\n",
       "      <td>Golden2wenty1</td>\n",
       "      <td>4.0</td>\n",
       "      <td>1152928924</td>\n",
       "      <td>3.478933</td>\n",
       "      <td>0.521067</td>\n",
       "    </tr>\n",
       "  </tbody>\n",
       "</table>\n",
       "</div>"
      ],
      "text/plain": [
       "                       beer_name review_profileName  review_overall  \\\n",
       "0         Sierra Nevada Pale Ale      LilBeerDoctor             4.0   \n",
       "1              Anchor Steam Beer             JamesS             4.0   \n",
       "2           Ommegang (Abbey Ale)      projectflam86             4.0   \n",
       "3   Stone Imperial Russian Stout             Naerhu             5.0   \n",
       "4                             #9      Golden2wenty1             4.0   \n",
       "\n",
       "   review_time  item_mean  adjusted_rating  \n",
       "0   1228189535   4.261006        -0.261006  \n",
       "1   1199459768   4.038283        -0.038283  \n",
       "2   1316131551   4.057951        -0.057951  \n",
       "3   1057695990   4.244163         0.755837  \n",
       "4   1152928924   3.478933         0.521067  "
      ]
     },
     "execution_count": 20,
     "metadata": {},
     "output_type": "execute_result"
    }
   ],
   "source": [
    "data_train.head()"
   ]
  },
  {
   "cell_type": "markdown",
   "metadata": {
    "colab_type": "text",
    "id": "J42Nn92ac05g"
   },
   "source": [
    "**Build the similarity matrix**"
   ]
  },
  {
   "cell_type": "code",
   "execution_count": 21,
   "metadata": {
    "colab": {},
    "colab_type": "code",
    "id": "SHmXRYX5c65k"
   },
   "outputs": [],
   "source": [
    "def item_matrix(train_sample):\n",
    "  #find distinct beers\n",
    "  beers = np.unique(train_sample['beer_name'])\n",
    "  beer_pairs = []\n",
    "\n",
    "  for beer1 in beers:\n",
    "    #determine users who consumed the beer\n",
    "    users = train_sample.loc[train_sample['beer_name'] == beer1] \n",
    "    for index, user in users.iterrows():\n",
    "      #find rating for first beer\n",
    "      user_name = user['review_profileName']  \n",
    "      beer1_rating = user['adjusted_rating']\n",
    "      #find other beer ratings by same users, excluding beer1 rating\n",
    "      user_ratings = train_sample.loc[(train_sample['review_profileName'] == user_name) & (train_sample['beer_name'] != beer1)]\n",
    "      for index, beer2 in user_ratings.iterrows():\n",
    "        beer2_name = beer2['beer_name']\n",
    "        beer2_rating = beer2['adjusted_rating']\n",
    "        #print([user_name, beer1, beer2_name, beer1_rating, beer2_rating])\n",
    "        beer_pairs.append([user_name, beer1, beer2_name, beer1_rating, beer2_rating])\n",
    "  \n",
    "  beer_pairs = pd.DataFrame(beer_pairs, columns = ['user', 'beer1', 'beer2', 'scaled_r1', 'scaled_r2'])\n",
    "  \n",
    "  return beer_pairs.groupby(['beer1', 'beer2'])[['scaled_r1','scaled_r2']].corr(method = 'pearson')\n",
    "      "
   ]
  },
  {
   "cell_type": "code",
   "execution_count": 22,
   "metadata": {
    "colab": {
     "base_uri": "https://localhost:8080/",
     "height": 51
    },
    "colab_type": "code",
    "id": "asgotHeCqYwZ",
    "outputId": "4f717bc1-4489-4dd1-8819-281399d60832"
   },
   "outputs": [],
   "source": [
    "beer_pairs = item_matrix(data_train)"
   ]
  },
  {
   "cell_type": "code",
   "execution_count": 23,
   "metadata": {},
   "outputs": [
    {
     "name": "stdout",
     "output_type": "stream",
     "text": [
      "(19800, 2)\n"
     ]
    }
   ],
   "source": [
    "print (beer_pairs.shape)\n",
    "beer_corr = beer_pairs.iloc[0::2][['scaled_r2']].reset_index()[['beer1', 'beer2', 'scaled_r2']]\n",
    "beer_corr = beer_corr.rename(columns = {'scaled_r2': 'Pearson_corr'})\n",
    "\n",
    "beer_corr.to_csv('beer_corr.csv', index = False, encoding = 'utf-8')"
   ]
  },
  {
   "cell_type": "markdown",
   "metadata": {},
   "source": [
    "**Load the similarity matrix**"
   ]
  },
  {
   "cell_type": "code",
   "execution_count": 9,
   "metadata": {},
   "outputs": [
    {
     "data": {
      "text/html": [
       "<div>\n",
       "<style scoped>\n",
       "    .dataframe tbody tr th:only-of-type {\n",
       "        vertical-align: middle;\n",
       "    }\n",
       "\n",
       "    .dataframe tbody tr th {\n",
       "        vertical-align: top;\n",
       "    }\n",
       "\n",
       "    .dataframe thead th {\n",
       "        text-align: right;\n",
       "    }\n",
       "</style>\n",
       "<table border=\"1\" class=\"dataframe\">\n",
       "  <thead>\n",
       "    <tr style=\"text-align: right;\">\n",
       "      <th></th>\n",
       "      <th>beer1</th>\n",
       "      <th>beer2</th>\n",
       "      <th>Pearson_corr</th>\n",
       "    </tr>\n",
       "  </thead>\n",
       "  <tbody>\n",
       "    <tr>\n",
       "      <th>0</th>\n",
       "      <td>#9</td>\n",
       "      <td>120 Minute IPA</td>\n",
       "      <td>0.003980</td>\n",
       "    </tr>\n",
       "    <tr>\n",
       "      <th>1</th>\n",
       "      <td>#9</td>\n",
       "      <td>60 Minute IPA</td>\n",
       "      <td>0.074866</td>\n",
       "    </tr>\n",
       "    <tr>\n",
       "      <th>2</th>\n",
       "      <td>#9</td>\n",
       "      <td>90 Minute IPA</td>\n",
       "      <td>0.052636</td>\n",
       "    </tr>\n",
       "    <tr>\n",
       "      <th>3</th>\n",
       "      <td>#9</td>\n",
       "      <td>Alpha King Pale Ale</td>\n",
       "      <td>-0.011340</td>\n",
       "    </tr>\n",
       "    <tr>\n",
       "      <th>4</th>\n",
       "      <td>#9</td>\n",
       "      <td>Anchor Steam Beer</td>\n",
       "      <td>0.029190</td>\n",
       "    </tr>\n",
       "  </tbody>\n",
       "</table>\n",
       "</div>"
      ],
      "text/plain": [
       "  beer1                 beer2  Pearson_corr\n",
       "0    #9        120 Minute IPA      0.003980\n",
       "1    #9         60 Minute IPA      0.074866\n",
       "2    #9         90 Minute IPA      0.052636\n",
       "3    #9   Alpha King Pale Ale     -0.011340\n",
       "4    #9     Anchor Steam Beer      0.029190"
      ]
     },
     "execution_count": 9,
     "metadata": {},
     "output_type": "execute_result"
    }
   ],
   "source": [
    "beer_corr = pd.read_csv('beer_corr.csv', encoding = 'utf-8')\n",
    "beer_corr = beer_corr.rename(columns = {'scaled_r2': 'Pearson_corr'})\n",
    "beer_corr.head()"
   ]
  },
  {
   "cell_type": "code",
   "execution_count": 62,
   "metadata": {},
   "outputs": [],
   "source": [
    "def predict(user, beer, n_neighbors):\n",
    "    #find the beers that have been rated by the user \n",
    "    user_ratings = data_train.loc[(data_train['review_profileName'] == user) & (data_train['beer_name'] != beer)]\n",
    "    user_ratings = user_ratings.rename(columns = {'beer_name': 'beer2'})\n",
    "    #find list of potential neighbors\n",
    "    similarities = beer_corr.loc[beer_corr['beer1'] == beer]\n",
    "    #narrow down to neighbors that were rated by users\n",
    "    neighbors = user_ratings.merge(similarities, how = 'inner', on='beer2')\n",
    "    #select n nearest neighbors\n",
    "    neighbors = neighbors.sort_values(by = ['Pearson_corr'], ascending = False)[0:n_neighbors]\n",
    "    #calculate numerator\n",
    "    num = sum(neighbors['Pearson_corr']*neighbors['adjusted_rating'])\n",
    "    den = sum(abs(neighbors['Pearson_corr']))\n",
    "    #find item mean\n",
    "    #try:\n",
    "    beer_mean = data_train.loc[data_train['beer_name'] == beer][0:1]['item_mean'].values[0]\n",
    "    #except KeyError:\n",
    "    #    return None\n",
    "    return beer_mean + num/den"
   ]
  },
  {
   "cell_type": "code",
   "execution_count": 63,
   "metadata": {},
   "outputs": [
    {
     "data": {
      "text/plain": [
       "4.298725123527138"
      ]
     },
     "execution_count": 63,
     "metadata": {},
     "output_type": "execute_result"
    }
   ],
   "source": [
    "t_u = data_train['review_profileName'][0]\n",
    "t_b = data_train['beer_name'][0]\n",
    "predict(t_u, t_b, 5)"
   ]
  },
  {
   "cell_type": "markdown",
   "metadata": {},
   "source": [
    "# Testing "
   ]
  },
  {
   "cell_type": "markdown",
   "metadata": {},
   "source": [
    "Define the evaluation metrics"
   ]
  },
  {
   "cell_type": "code",
   "execution_count": 19,
   "metadata": {},
   "outputs": [],
   "source": [
    "def RMSE(y, y_hat):\n",
    "    return (y - y_hat)**2"
   ]
  },
  {
   "cell_type": "code",
   "execution_count": 64,
   "metadata": {},
   "outputs": [
    {
     "name": "stdout",
     "output_type": "stream",
     "text": [
      "0.5438915311781987\n"
     ]
    }
   ],
   "source": [
    "se = 0\n",
    "count = 0\n",
    "for index, review in data_train.iterrows():\n",
    "    predicted_rating = predict(review['review_profileName'], review['beer_name'], 5)\n",
    "    #print (predicted_rating)\n",
    "    se += RMSE(review['review_overall'], predicted_rating)\n",
    "    count += 1\n",
    "    #else:\n",
    "    #    print (review['beer_name'], review['review_profileName'])\n",
    "\n",
    "rmse = (se/count)**0.5\n",
    "        \n",
    "print(rmse)"
   ]
  }
 ],
 "metadata": {
  "colab": {
   "collapsed_sections": [],
   "name": "Data parsing and cleaning.ipynb",
   "provenance": [],
   "version": "0.3.2"
  },
  "kernelspec": {
   "display_name": "Python 2",
   "language": "python",
   "name": "python2"
  },
  "language_info": {
   "codemirror_mode": {
    "name": "ipython",
    "version": 2
   },
   "file_extension": ".py",
   "mimetype": "text/x-python",
   "name": "python",
   "nbconvert_exporter": "python",
   "pygments_lexer": "ipython2",
   "version": "2.7.15"
  }
 },
 "nbformat": 4,
 "nbformat_minor": 1
}
