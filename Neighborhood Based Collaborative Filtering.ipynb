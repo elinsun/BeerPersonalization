{
 "cells": [
  {
   "cell_type": "markdown",
   "metadata": {},
   "source": [
    "## Beer Recommendation System \n",
    "\n",
    "Fall 2018, 4571 Recommendation System and Personalization \n",
    "\n",
    "Homework 2"
   ]
  },
  {
   "cell_type": "code",
   "execution_count": 1,
   "metadata": {},
   "outputs": [],
   "source": [
    "# python2\n",
    "import pandas as pd\n",
    "import numpy as np\n",
    "import os\n",
    "import itertools as it\n",
    "import matplotlib.pyplot as plt\n",
    "from sklearn.model_selection import train_test_split\n",
    "from matplotlib.ticker import FormatStrFormatter"
   ]
  },
  {
   "cell_type": "code",
   "execution_count": 2,
   "metadata": {},
   "outputs": [],
   "source": [
    "os.getcwd()\n",
    "os.chdir('/Users/yilinsun/Desktop/4571/project/')"
   ]
  },
  {
   "cell_type": "markdown",
   "metadata": {},
   "source": [
    "## Preprocess Metadata"
   ]
  },
  {
   "cell_type": "code",
   "execution_count": 3,
   "metadata": {},
   "outputs": [
    {
     "data": {
      "text/plain": [
       "\"\\nimport gzip\\n\\nwith gzip.open('Beeradvocate.txt.gz', 'r') as f:\\n    rb_file = f.readlines()\\n\""
      ]
     },
     "execution_count": 3,
     "metadata": {},
     "output_type": "execute_result"
    }
   ],
   "source": [
    "\"\"\"\n",
    "import gzip\n",
    "\n",
    "with gzip.open('Beeradvocate.txt.gz', 'r') as f:\n",
    "    rb_file = f.readlines()\n",
    "\"\"\""
   ]
  },
  {
   "cell_type": "code",
   "execution_count": 4,
   "metadata": {},
   "outputs": [
    {
     "data": {
      "text/plain": [
       "'\\ndata = []\\nrow_out = []\\n\\nfor i in rb_file:\\n    row = i.decode(\\'utf-8\\', errors = \\'ignore\\')\\n    if row == \\'\\n\\':\\n        data.append(row_out)\\n        row_out = []\\n        continue\\n    row = row.split(\":\", 1)[1].rstrip()\\n    row_out.append(row)\\n'"
      ]
     },
     "execution_count": 4,
     "metadata": {},
     "output_type": "execute_result"
    }
   ],
   "source": [
    "\"\"\"\n",
    "data = []\n",
    "row_out = []\n",
    "\n",
    "for i in rb_file:\n",
    "    row = i.decode('utf-8', errors = 'ignore')\n",
    "    if row == '\\n':\n",
    "        data.append(row_out)\n",
    "        row_out = []\n",
    "        continue\n",
    "    row = row.split(\":\", 1)[1].rstrip()\n",
    "    row_out.append(row)\n",
    "\"\"\""
   ]
  },
  {
   "cell_type": "code",
   "execution_count": 5,
   "metadata": {},
   "outputs": [],
   "source": [
    "# Convert .txt to .csv file\n",
    "file = open('beeradvocate.txt')\n",
    "file2 = open(\"beeradvocate_fullset.csv\", \"w\")\n",
    "#count = 0\n",
    "for i in file:\n",
    "    #count = count + 1 \n",
    "    line = \"\"\n",
    "    while i != '\\n':\n",
    "        line = line + i.split(\":\", 1)[1].rstrip()\n",
    "        if(not(\"review/text\" in i)):\n",
    "            line = line +  \"^\" \n",
    "        i = file.next()\n",
    "    file2.write(line + \"\\n\")\n",
    "    #if count > 200:\n",
    "    #    break\n",
    "file.close()"
   ]
  },
  {
   "cell_type": "code",
   "execution_count": 6,
   "metadata": {
    "scrolled": true
   },
   "outputs": [
    {
     "name": "stderr",
     "output_type": "stream",
     "text": [
      "Skipping line 145: Expected 13 fields in line 145, saw 14\n",
      "Skipping line 196: Expected 13 fields in line 196, saw 14\n",
      "Skipping line 5469: Expected 13 fields in line 5469, saw 15\n",
      "Skipping line 5814: Expected 13 fields in line 5814, saw 14\n",
      "Skipping line 8841: Expected 13 fields in line 8841, saw 14\n",
      "Skipping line 11571: Expected 13 fields in line 11571, saw 14\n",
      "Skipping line 20876: Expected 13 fields in line 20876, saw 14\n",
      "Skipping line 21293: Expected 13 fields in line 21293, saw 15\n",
      "Skipping line 23101: Expected 13 fields in line 23101, saw 14\n",
      "Skipping line 28433: Expected 13 fields in line 28433, saw 14\n",
      "Skipping line 29728: Expected 13 fields in line 29728, saw 14\n",
      "Skipping line 30979: Expected 13 fields in line 30979, saw 14\n",
      "Skipping line 32985: Expected 13 fields in line 32985, saw 15\n",
      "Skipping line 33671: Expected 13 fields in line 33671, saw 14\n",
      "Skipping line 33866: Expected 13 fields in line 33866, saw 14\n",
      "Skipping line 38703: Expected 13 fields in line 38703, saw 14\n",
      "Skipping line 39391: Expected 13 fields in line 39391, saw 15\n",
      "Skipping line 45462: Expected 13 fields in line 45462, saw 15\n",
      "Skipping line 46223: Expected 13 fields in line 46223, saw 14\n",
      "Skipping line 52287: Expected 13 fields in line 52287, saw 14\n",
      "Skipping line 55319: Expected 13 fields in line 55319, saw 14\n",
      "Skipping line 58658: Expected 13 fields in line 58658, saw 14\n",
      "Skipping line 60367: Expected 13 fields in line 60367, saw 14\n",
      "Skipping line 62384: Expected 13 fields in line 62384, saw 16\n",
      "Skipping line 62833: Expected 13 fields in line 62833, saw 14\n",
      "Skipping line 62984: Expected 13 fields in line 62984, saw 14\n",
      "Skipping line 63698: Expected 13 fields in line 63698, saw 14\n",
      "Skipping line 66028: Expected 13 fields in line 66028, saw 14\n",
      "Skipping line 73443: Expected 13 fields in line 73443, saw 14\n",
      "Skipping line 77723: Expected 13 fields in line 77723, saw 14\n",
      "Skipping line 81786: Expected 13 fields in line 81786, saw 14\n",
      "Skipping line 83317: Expected 13 fields in line 83317, saw 14\n",
      "Skipping line 90031: Expected 13 fields in line 90031, saw 14\n",
      "Skipping line 100263: Expected 13 fields in line 100263, saw 14\n",
      "Skipping line 101881: Expected 13 fields in line 101881, saw 14\n",
      "Skipping line 102794: Expected 13 fields in line 102794, saw 14\n",
      "Skipping line 102809: Expected 13 fields in line 102809, saw 14\n",
      "Skipping line 102833: Expected 13 fields in line 102833, saw 14\n",
      "Skipping line 102907: Expected 13 fields in line 102907, saw 14\n",
      "Skipping line 102909: Expected 13 fields in line 102909, saw 14\n",
      "Skipping line 104899: Expected 13 fields in line 104899, saw 14\n",
      "Skipping line 105099: Expected 13 fields in line 105099, saw 14\n",
      "Skipping line 106562: Expected 13 fields in line 106562, saw 15\n",
      "Skipping line 111183: Expected 13 fields in line 111183, saw 14\n",
      "Skipping line 117084: Expected 13 fields in line 117084, saw 14\n",
      "Skipping line 117315: Expected 13 fields in line 117315, saw 14\n",
      "Skipping line 117666: Expected 13 fields in line 117666, saw 14\n",
      "Skipping line 121654: Expected 13 fields in line 121654, saw 14\n",
      "Skipping line 121755: Expected 13 fields in line 121755, saw 14\n",
      "Skipping line 128926: Expected 13 fields in line 128926, saw 14\n",
      "Skipping line 129030: Expected 13 fields in line 129030, saw 14\n",
      "Skipping line 130325: Expected 13 fields in line 130325, saw 14\n",
      "Skipping line 131847: Expected 13 fields in line 131847, saw 15\n",
      "Skipping line 132058: Expected 13 fields in line 132058, saw 14\n",
      "Skipping line 134897: Expected 13 fields in line 134897, saw 14\n",
      "Skipping line 136012: Expected 13 fields in line 136012, saw 14\n",
      "Skipping line 136831: Expected 13 fields in line 136831, saw 14\n",
      "Skipping line 137342: Expected 13 fields in line 137342, saw 14\n",
      "Skipping line 137528: Expected 13 fields in line 137528, saw 14\n",
      "Skipping line 138065: Expected 13 fields in line 138065, saw 14\n",
      "Skipping line 142440: Expected 13 fields in line 142440, saw 14\n",
      "Skipping line 153174: Expected 13 fields in line 153174, saw 15\n",
      "Skipping line 153214: Expected 13 fields in line 153214, saw 15\n",
      "Skipping line 154748: Expected 13 fields in line 154748, saw 14\n",
      "Skipping line 157361: Expected 13 fields in line 157361, saw 14\n",
      "Skipping line 160442: Expected 13 fields in line 160442, saw 14\n",
      "Skipping line 162657: Expected 13 fields in line 162657, saw 14\n",
      "Skipping line 176982: Expected 13 fields in line 176982, saw 14\n",
      "Skipping line 181911: Expected 13 fields in line 181911, saw 14\n",
      "Skipping line 182054: Expected 13 fields in line 182054, saw 14\n",
      "Skipping line 184182: Expected 13 fields in line 184182, saw 14\n",
      "Skipping line 184895: Expected 13 fields in line 184895, saw 14\n",
      "Skipping line 185123: Expected 13 fields in line 185123, saw 14\n",
      "Skipping line 186851: Expected 13 fields in line 186851, saw 14\n",
      "Skipping line 189206: Expected 13 fields in line 189206, saw 14\n",
      "Skipping line 189520: Expected 13 fields in line 189520, saw 15\n",
      "Skipping line 196346: Expected 13 fields in line 196346, saw 14\n",
      "Skipping line 198069: Expected 13 fields in line 198069, saw 14\n",
      "Skipping line 198942: Expected 13 fields in line 198942, saw 14\n",
      "Skipping line 199854: Expected 13 fields in line 199854, saw 14\n",
      "Skipping line 205394: Expected 13 fields in line 205394, saw 14\n",
      "Skipping line 205602: Expected 13 fields in line 205602, saw 14\n",
      "Skipping line 206149: Expected 13 fields in line 206149, saw 14\n",
      "Skipping line 207771: Expected 13 fields in line 207771, saw 14\n",
      "Skipping line 208794: Expected 13 fields in line 208794, saw 14\n",
      "Skipping line 210979: Expected 13 fields in line 210979, saw 14\n",
      "Skipping line 221779: Expected 13 fields in line 221779, saw 15\n",
      "Skipping line 222676: Expected 13 fields in line 222676, saw 14\n",
      "Skipping line 231359: Expected 13 fields in line 231359, saw 14\n",
      "Skipping line 232406: Expected 13 fields in line 232406, saw 14\n",
      "Skipping line 233246: Expected 13 fields in line 233246, saw 14\n",
      "Skipping line 233768: Expected 13 fields in line 233768, saw 14\n",
      "Skipping line 234262: Expected 13 fields in line 234262, saw 14\n",
      "Skipping line 234804: Expected 13 fields in line 234804, saw 14\n",
      "Skipping line 234862: Expected 13 fields in line 234862, saw 14\n",
      "Skipping line 235245: Expected 13 fields in line 235245, saw 14\n",
      "Skipping line 235913: Expected 13 fields in line 235913, saw 14\n",
      "Skipping line 241822: Expected 13 fields in line 241822, saw 14\n",
      "Skipping line 242801: Expected 13 fields in line 242801, saw 14\n",
      "Skipping line 245842: Expected 13 fields in line 245842, saw 14\n",
      "Skipping line 245917: Expected 13 fields in line 245917, saw 14\n",
      "Skipping line 252320: Expected 13 fields in line 252320, saw 14\n",
      "Skipping line 253261: Expected 13 fields in line 253261, saw 14\n",
      "Skipping line 253592: Expected 13 fields in line 253592, saw 15\n",
      "Skipping line 260747: Expected 13 fields in line 260747, saw 14\n",
      "Skipping line 264297: Expected 13 fields in line 264297, saw 14\n",
      "Skipping line 264317: Expected 13 fields in line 264317, saw 14\n",
      "Skipping line 265247: Expected 13 fields in line 265247, saw 14\n",
      "Skipping line 273203: Expected 13 fields in line 273203, saw 14\n",
      "Skipping line 278249: Expected 13 fields in line 278249, saw 15\n",
      "Skipping line 281172: Expected 13 fields in line 281172, saw 14\n",
      "Skipping line 284634: Expected 13 fields in line 284634, saw 14\n",
      "Skipping line 290718: Expected 13 fields in line 290718, saw 14\n",
      "Skipping line 295308: Expected 13 fields in line 295308, saw 14\n",
      "Skipping line 298382: Expected 13 fields in line 298382, saw 14\n",
      "Skipping line 299098: Expected 13 fields in line 299098, saw 14\n",
      "Skipping line 300939: Expected 13 fields in line 300939, saw 14\n",
      "Skipping line 308204: Expected 13 fields in line 308204, saw 14\n",
      "Skipping line 318550: Expected 13 fields in line 318550, saw 14\n",
      "Skipping line 326185: Expected 13 fields in line 326185, saw 14\n",
      "Skipping line 326440: Expected 13 fields in line 326440, saw 14\n",
      "Skipping line 327463: Expected 13 fields in line 327463, saw 14\n",
      "Skipping line 328681: Expected 13 fields in line 328681, saw 14\n",
      "Skipping line 328741: Expected 13 fields in line 328741, saw 14\n",
      "Skipping line 328939: Expected 13 fields in line 328939, saw 14\n",
      "Skipping line 329008: Expected 13 fields in line 329008, saw 14\n",
      "Skipping line 331865: Expected 13 fields in line 331865, saw 15\n",
      "Skipping line 331932: Expected 13 fields in line 331932, saw 15\n",
      "Skipping line 334977: Expected 13 fields in line 334977, saw 14\n",
      "Skipping line 341024: Expected 13 fields in line 341024, saw 14\n",
      "Skipping line 343228: Expected 13 fields in line 343228, saw 14\n",
      "Skipping line 350048: Expected 13 fields in line 350048, saw 14\n",
      "Skipping line 357015: Expected 13 fields in line 357015, saw 14\n",
      "Skipping line 360328: Expected 13 fields in line 360328, saw 14\n",
      "Skipping line 360487: Expected 13 fields in line 360487, saw 14\n",
      "Skipping line 360694: Expected 13 fields in line 360694, saw 14\n",
      "Skipping line 364111: Expected 13 fields in line 364111, saw 15\n",
      "Skipping line 365534: Expected 13 fields in line 365534, saw 14\n",
      "Skipping line 372713: Expected 13 fields in line 372713, saw 14\n",
      "Skipping line 376474: Expected 13 fields in line 376474, saw 15\n",
      "Skipping line 381057: Expected 13 fields in line 381057, saw 14\n",
      "Skipping line 387341: Expected 13 fields in line 387341, saw 14\n",
      "Skipping line 390121: Expected 13 fields in line 390121, saw 15\n",
      "Skipping line 396983: Expected 13 fields in line 396983, saw 14\n",
      "Skipping line 397351: Expected 13 fields in line 397351, saw 14\n",
      "Skipping line 400552: Expected 13 fields in line 400552, saw 14\n",
      "Skipping line 415019: Expected 13 fields in line 415019, saw 15\n",
      "Skipping line 421043: Expected 13 fields in line 421043, saw 14\n",
      "Skipping line 427875: Expected 13 fields in line 427875, saw 15\n",
      "Skipping line 435735: Expected 13 fields in line 435735, saw 14\n",
      "Skipping line 442071: Expected 13 fields in line 442071, saw 14\n",
      "Skipping line 449222: Expected 13 fields in line 449222, saw 14\n",
      "Skipping line 451698: Expected 13 fields in line 451698, saw 14\n",
      "Skipping line 455044: Expected 13 fields in line 455044, saw 15\n",
      "Skipping line 455488: Expected 13 fields in line 455488, saw 14\n",
      "Skipping line 456503: Expected 13 fields in line 456503, saw 14\n",
      "Skipping line 460452: Expected 13 fields in line 460452, saw 14\n",
      "Skipping line 466624: Expected 13 fields in line 466624, saw 14\n",
      "Skipping line 468092: Expected 13 fields in line 468092, saw 14\n",
      "Skipping line 468611: Expected 13 fields in line 468611, saw 14\n",
      "Skipping line 471801: Expected 13 fields in line 471801, saw 15\n",
      "Skipping line 472680: Expected 13 fields in line 472680, saw 14\n",
      "Skipping line 474041: Expected 13 fields in line 474041, saw 15\n",
      "Skipping line 476839: Expected 13 fields in line 476839, saw 15\n",
      "Skipping line 480042: Expected 13 fields in line 480042, saw 14\n",
      "Skipping line 488917: Expected 13 fields in line 488917, saw 14\n",
      "Skipping line 491665: Expected 13 fields in line 491665, saw 14\n",
      "Skipping line 493081: Expected 13 fields in line 493081, saw 14\n",
      "Skipping line 493378: Expected 13 fields in line 493378, saw 14\n",
      "Skipping line 493888: Expected 13 fields in line 493888, saw 14\n",
      "Skipping line 494270: Expected 13 fields in line 494270, saw 14\n",
      "Skipping line 496809: Expected 13 fields in line 496809, saw 14\n",
      "Skipping line 502560: Expected 13 fields in line 502560, saw 14\n",
      "Skipping line 505810: Expected 13 fields in line 505810, saw 14\n",
      "Skipping line 516437: Expected 13 fields in line 516437, saw 14\n",
      "Skipping line 517749: Expected 13 fields in line 517749, saw 14\n",
      "Skipping line 523054: Expected 13 fields in line 523054, saw 14\n",
      "Skipping line 524990: Expected 13 fields in line 524990, saw 14\n",
      "Skipping line 525217: Expected 13 fields in line 525217, saw 14\n",
      "Skipping line 525725: Expected 13 fields in line 525725, saw 14\n",
      "Skipping line 533945: Expected 13 fields in line 533945, saw 14\n",
      "Skipping line 534937: Expected 13 fields in line 534937, saw 14\n",
      "Skipping line 537368: Expected 13 fields in line 537368, saw 19\n",
      "Skipping line 538894: Expected 13 fields in line 538894, saw 14\n",
      "Skipping line 540497: Expected 13 fields in line 540497, saw 14\n",
      "Skipping line 540532: Expected 13 fields in line 540532, saw 14\n",
      "Skipping line 540558: Expected 13 fields in line 540558, saw 14\n",
      "Skipping line 541277: Expected 13 fields in line 541277, saw 14\n",
      "Skipping line 541413: Expected 13 fields in line 541413, saw 14\n",
      "Skipping line 544866: Expected 13 fields in line 544866, saw 14\n",
      "Skipping line 556829: Expected 13 fields in line 556829, saw 14\n",
      "Skipping line 557268: Expected 13 fields in line 557268, saw 14\n",
      "Skipping line 558316: Expected 13 fields in line 558316, saw 14\n",
      "Skipping line 559249: Expected 13 fields in line 559249, saw 14\n",
      "Skipping line 559693: Expected 13 fields in line 559693, saw 14\n",
      "Skipping line 561256: Expected 13 fields in line 561256, saw 15\n",
      "Skipping line 562558: Expected 13 fields in line 562558, saw 14\n",
      "Skipping line 563180: Expected 13 fields in line 563180, saw 14\n",
      "Skipping line 568086: Expected 13 fields in line 568086, saw 14\n",
      "Skipping line 575592: Expected 13 fields in line 575592, saw 14\n",
      "Skipping line 576562: Expected 13 fields in line 576562, saw 14\n",
      "Skipping line 582099: Expected 13 fields in line 582099, saw 14\n",
      "Skipping line 587084: Expected 13 fields in line 587084, saw 14\n",
      "Skipping line 587494: Expected 13 fields in line 587494, saw 14\n",
      "Skipping line 589343: Expected 13 fields in line 589343, saw 14\n",
      "Skipping line 591672: Expected 13 fields in line 591672, saw 14\n",
      "Skipping line 592750: Expected 13 fields in line 592750, saw 14\n",
      "Skipping line 599228: Expected 13 fields in line 599228, saw 14\n",
      "Skipping line 600275: Expected 13 fields in line 600275, saw 14\n",
      "Skipping line 601105: Expected 13 fields in line 601105, saw 14\n",
      "Skipping line 601761: Expected 13 fields in line 601761, saw 14\n",
      "Skipping line 601838: Expected 13 fields in line 601838, saw 14\n",
      "Skipping line 602066: Expected 13 fields in line 602066, saw 14\n",
      "Skipping line 602406: Expected 13 fields in line 602406, saw 14\n",
      "Skipping line 604271: Expected 13 fields in line 604271, saw 14\n",
      "Skipping line 604382: Expected 13 fields in line 604382, saw 14\n",
      "Skipping line 609976: Expected 13 fields in line 609976, saw 14\n",
      "Skipping line 614118: Expected 13 fields in line 614118, saw 14\n",
      "Skipping line 614485: Expected 13 fields in line 614485, saw 14\n",
      "Skipping line 615080: Expected 13 fields in line 615080, saw 14\n",
      "Skipping line 616318: Expected 13 fields in line 616318, saw 14\n",
      "Skipping line 622308: Expected 13 fields in line 622308, saw 14\n",
      "Skipping line 627700: Expected 13 fields in line 627700, saw 15\n",
      "Skipping line 629242: Expected 13 fields in line 629242, saw 14\n",
      "Skipping line 630416: Expected 13 fields in line 630416, saw 14\n",
      "Skipping line 630428: Expected 13 fields in line 630428, saw 14\n",
      "Skipping line 633927: Expected 13 fields in line 633927, saw 14\n",
      "Skipping line 637199: Expected 13 fields in line 637199, saw 14\n",
      "Skipping line 637216: Expected 13 fields in line 637216, saw 14\n",
      "Skipping line 642188: Expected 13 fields in line 642188, saw 14\n",
      "Skipping line 647165: Expected 13 fields in line 647165, saw 14\n",
      "Skipping line 651900: Expected 13 fields in line 651900, saw 14\n",
      "Skipping line 653588: Expected 13 fields in line 653588, saw 14\n",
      "Skipping line 654033: Expected 13 fields in line 654033, saw 14\n",
      "Skipping line 661055: Expected 13 fields in line 661055, saw 14\n",
      "Skipping line 661149: Expected 13 fields in line 661149, saw 14\n",
      "Skipping line 662125: Expected 13 fields in line 662125, saw 14\n",
      "Skipping line 665640: Expected 13 fields in line 665640, saw 14\n",
      "Skipping line 666300: Expected 13 fields in line 666300, saw 15\n",
      "Skipping line 668305: Expected 13 fields in line 668305, saw 14\n",
      "Skipping line 669831: Expected 13 fields in line 669831, saw 14\n",
      "Skipping line 670048: Expected 13 fields in line 670048, saw 14\n",
      "Skipping line 671648: Expected 13 fields in line 671648, saw 14\n",
      "Skipping line 672074: Expected 13 fields in line 672074, saw 14\n",
      "Skipping line 683351: Expected 13 fields in line 683351, saw 14\n",
      "Skipping line 687924: Expected 13 fields in line 687924, saw 14\n",
      "Skipping line 695749: Expected 13 fields in line 695749, saw 14\n",
      "Skipping line 696076: Expected 13 fields in line 696076, saw 15\n",
      "Skipping line 697402: Expected 13 fields in line 697402, saw 14\n",
      "Skipping line 697945: Expected 13 fields in line 697945, saw 14\n",
      "Skipping line 699159: Expected 13 fields in line 699159, saw 14\n",
      "Skipping line 701664: Expected 13 fields in line 701664, saw 14\n",
      "Skipping line 707208: Expected 13 fields in line 707208, saw 14\n",
      "Skipping line 710896: Expected 13 fields in line 710896, saw 14\n",
      "Skipping line 714761: Expected 13 fields in line 714761, saw 14\n",
      "Skipping line 724649: Expected 13 fields in line 724649, saw 14\n",
      "Skipping line 731147: Expected 13 fields in line 731147, saw 14\n",
      "Skipping line 732637: Expected 13 fields in line 732637, saw 14\n",
      "Skipping line 753565: Expected 13 fields in line 753565, saw 14\n",
      "Skipping line 755168: Expected 13 fields in line 755168, saw 14\n",
      "Skipping line 756534: Expected 13 fields in line 756534, saw 14\n",
      "Skipping line 761939: Expected 13 fields in line 761939, saw 16\n",
      "Skipping line 764664: Expected 13 fields in line 764664, saw 14\n",
      "Skipping line 764728: Expected 13 fields in line 764728, saw 14\n",
      "Skipping line 768667: Expected 13 fields in line 768667, saw 14\n",
      "Skipping line 773266: Expected 13 fields in line 773266, saw 15\n",
      "Skipping line 777485: Expected 13 fields in line 777485, saw 14\n",
      "Skipping line 780680: Expected 13 fields in line 780680, saw 14\n",
      "Skipping line 781680: Expected 13 fields in line 781680, saw 14\n",
      "Skipping line 784217: Expected 13 fields in line 784217, saw 14\n",
      "Skipping line 785531: Expected 13 fields in line 785531, saw 15\n",
      "Skipping line 786693: Expected 13 fields in line 786693, saw 14\n",
      "Skipping line 787029: Expected 13 fields in line 787029, saw 14\n",
      "Skipping line 787041: Expected 13 fields in line 787041, saw 14\n",
      "Skipping line 788141: Expected 13 fields in line 788141, saw 14\n",
      "Skipping line 788596: Expected 13 fields in line 788596, saw 14\n",
      "Skipping line 789560: Expected 13 fields in line 789560, saw 14\n",
      "Skipping line 789703: Expected 13 fields in line 789703, saw 14\n",
      "Skipping line 794644: Expected 13 fields in line 794644, saw 15\n",
      "Skipping line 797066: Expected 13 fields in line 797066, saw 14\n",
      "Skipping line 797884: Expected 13 fields in line 797884, saw 14\n",
      "Skipping line 801269: Expected 13 fields in line 801269, saw 14\n",
      "Skipping line 802718: Expected 13 fields in line 802718, saw 14\n",
      "Skipping line 803042: Expected 13 fields in line 803042, saw 14\n",
      "Skipping line 803432: Expected 13 fields in line 803432, saw 14\n",
      "Skipping line 803753: Expected 13 fields in line 803753, saw 14\n",
      "Skipping line 804292: Expected 13 fields in line 804292, saw 14\n",
      "Skipping line 805180: Expected 13 fields in line 805180, saw 14\n",
      "Skipping line 809518: Expected 13 fields in line 809518, saw 14\n",
      "Skipping line 809532: Expected 13 fields in line 809532, saw 14\n",
      "Skipping line 817329: Expected 13 fields in line 817329, saw 14\n",
      "Skipping line 826322: Expected 13 fields in line 826322, saw 14\n",
      "Skipping line 826751: Expected 13 fields in line 826751, saw 14\n",
      "Skipping line 828511: Expected 13 fields in line 828511, saw 14\n",
      "Skipping line 828536: Expected 13 fields in line 828536, saw 14\n",
      "Skipping line 831211: Expected 13 fields in line 831211, saw 14\n",
      "Skipping line 832626: Expected 13 fields in line 832626, saw 14\n",
      "Skipping line 834818: Expected 13 fields in line 834818, saw 14\n",
      "Skipping line 835016: Expected 13 fields in line 835016, saw 14\n",
      "Skipping line 837444: Expected 13 fields in line 837444, saw 14\n",
      "Skipping line 838290: Expected 13 fields in line 838290, saw 15\n",
      "Skipping line 838729: Expected 13 fields in line 838729, saw 14\n",
      "Skipping line 839037: Expected 13 fields in line 839037, saw 14\n",
      "Skipping line 839314: Expected 13 fields in line 839314, saw 14\n",
      "Skipping line 840555: Expected 13 fields in line 840555, saw 15\n",
      "Skipping line 844916: Expected 13 fields in line 844916, saw 14\n",
      "Skipping line 852373: Expected 13 fields in line 852373, saw 14\n",
      "Skipping line 853682: Expected 13 fields in line 853682, saw 14\n",
      "Skipping line 856521: Expected 13 fields in line 856521, saw 14\n",
      "Skipping line 858477: Expected 13 fields in line 858477, saw 14\n",
      "Skipping line 861611: Expected 13 fields in line 861611, saw 14\n",
      "Skipping line 863738: Expected 13 fields in line 863738, saw 14\n",
      "Skipping line 864612: Expected 13 fields in line 864612, saw 14\n",
      "Skipping line 865958: Expected 13 fields in line 865958, saw 14\n",
      "Skipping line 866689: Expected 13 fields in line 866689, saw 14\n",
      "Skipping line 868509: Expected 13 fields in line 868509, saw 14\n",
      "Skipping line 873060: Expected 13 fields in line 873060, saw 14\n",
      "Skipping line 874969: Expected 13 fields in line 874969, saw 14\n",
      "Skipping line 875255: Expected 13 fields in line 875255, saw 15\n",
      "Skipping line 880392: Expected 13 fields in line 880392, saw 14\n",
      "Skipping line 883237: Expected 13 fields in line 883237, saw 14\n",
      "Skipping line 886056: Expected 13 fields in line 886056, saw 14\n",
      "Skipping line 887458: Expected 13 fields in line 887458, saw 14\n",
      "Skipping line 888909: Expected 13 fields in line 888909, saw 14\n",
      "Skipping line 892113: Expected 13 fields in line 892113, saw 14\n",
      "Skipping line 894249: Expected 13 fields in line 894249, saw 14\n",
      "Skipping line 896236: Expected 13 fields in line 896236, saw 14\n",
      "Skipping line 900181: Expected 13 fields in line 900181, saw 14\n",
      "Skipping line 902668: Expected 13 fields in line 902668, saw 14\n",
      "Skipping line 907283: Expected 13 fields in line 907283, saw 14\n",
      "Skipping line 907395: Expected 13 fields in line 907395, saw 14\n",
      "Skipping line 908686: Expected 13 fields in line 908686, saw 14\n",
      "Skipping line 918089: Expected 13 fields in line 918089, saw 14\n",
      "Skipping line 918678: Expected 13 fields in line 918678, saw 14\n",
      "Skipping line 919268: Expected 13 fields in line 919268, saw 14\n",
      "Skipping line 927410: Expected 13 fields in line 927410, saw 14\n",
      "Skipping line 932315: Expected 13 fields in line 932315, saw 15\n",
      "Skipping line 933329: Expected 13 fields in line 933329, saw 14\n",
      "Skipping line 934022: Expected 13 fields in line 934022, saw 15\n",
      "Skipping line 934799: Expected 13 fields in line 934799, saw 14\n",
      "Skipping line 939331: Expected 13 fields in line 939331, saw 14\n",
      "Skipping line 951020: Expected 13 fields in line 951020, saw 14\n",
      "Skipping line 952790: Expected 13 fields in line 952790, saw 14\n",
      "Skipping line 960900: Expected 13 fields in line 960900, saw 14\n",
      "Skipping line 961599: Expected 13 fields in line 961599, saw 14\n",
      "Skipping line 963036: Expected 13 fields in line 963036, saw 14\n",
      "Skipping line 966538: Expected 13 fields in line 966538, saw 14\n",
      "Skipping line 969828: Expected 13 fields in line 969828, saw 14\n",
      "Skipping line 979758: Expected 13 fields in line 979758, saw 14\n",
      "Skipping line 983049: Expected 13 fields in line 983049, saw 14\n",
      "Skipping line 984381: Expected 13 fields in line 984381, saw 14\n",
      "Skipping line 986482: Expected 13 fields in line 986482, saw 15\n",
      "Skipping line 991317: Expected 13 fields in line 991317, saw 14\n",
      "Skipping line 994759: Expected 13 fields in line 994759, saw 14\n",
      "Skipping line 995496: Expected 13 fields in line 995496, saw 14\n",
      "Skipping line 998011: Expected 13 fields in line 998011, saw 14\n",
      "Skipping line 998909: Expected 13 fields in line 998909, saw 14\n",
      "Skipping line 1001311: Expected 13 fields in line 1001311, saw 14\n",
      "Skipping line 1004470: Expected 13 fields in line 1004470, saw 14\n",
      "Skipping line 1004973: Expected 13 fields in line 1004973, saw 14\n",
      "Skipping line 1005246: Expected 13 fields in line 1005246, saw 14\n",
      "Skipping line 1005713: Expected 13 fields in line 1005713, saw 14\n",
      "Skipping line 1009007: Expected 13 fields in line 1009007, saw 14\n",
      "Skipping line 1010042: Expected 13 fields in line 1010042, saw 14\n",
      "Skipping line 1014483: Expected 13 fields in line 1014483, saw 14\n",
      "Skipping line 1015185: Expected 13 fields in line 1015185, saw 14\n",
      "Skipping line 1020376: Expected 13 fields in line 1020376, saw 14\n",
      "Skipping line 1033926: Expected 13 fields in line 1033926, saw 14\n",
      "Skipping line 1037427: Expected 13 fields in line 1037427, saw 14\n",
      "Skipping line 1040087: Expected 13 fields in line 1040087, saw 15\n",
      "Skipping line 1043176: Expected 13 fields in line 1043176, saw 14\n",
      "Skipping line 1043792: Expected 13 fields in line 1043792, saw 14\n",
      "Skipping line 1045796: Expected 13 fields in line 1045796, saw 15\n",
      "Skipping line 1047808: Expected 13 fields in line 1047808, saw 14\n",
      "Skipping line 1048208: Expected 13 fields in line 1048208, saw 14\n",
      "Skipping line 1056466: Expected 13 fields in line 1056466, saw 17\n",
      "Skipping line 1059941: Expected 13 fields in line 1059941, saw 14\n",
      "Skipping line 1062011: Expected 13 fields in line 1062011, saw 15\n",
      "Skipping line 1071300: Expected 13 fields in line 1071300, saw 14\n",
      "Skipping line 1072531: Expected 13 fields in line 1072531, saw 14\n",
      "Skipping line 1075068: Expected 13 fields in line 1075068, saw 14\n",
      "Skipping line 1075549: Expected 13 fields in line 1075549, saw 15\n",
      "Skipping line 1077035: Expected 13 fields in line 1077035, saw 14\n",
      "Skipping line 1080832: Expected 13 fields in line 1080832, saw 14\n",
      "Skipping line 1082628: Expected 13 fields in line 1082628, saw 14\n",
      "Skipping line 1089353: Expected 13 fields in line 1089353, saw 14\n",
      "Skipping line 1091405: Expected 13 fields in line 1091405, saw 14\n",
      "Skipping line 1097680: Expected 13 fields in line 1097680, saw 14\n",
      "Skipping line 1101857: Expected 13 fields in line 1101857, saw 14\n",
      "Skipping line 1104850: Expected 13 fields in line 1104850, saw 14\n",
      "Skipping line 1113300: Expected 13 fields in line 1113300, saw 14\n",
      "Skipping line 1114598: Expected 13 fields in line 1114598, saw 14\n",
      "Skipping line 1116010: Expected 13 fields in line 1116010, saw 14\n",
      "Skipping line 1117634: Expected 13 fields in line 1117634, saw 14\n",
      "Skipping line 1119343: Expected 13 fields in line 1119343, saw 14\n",
      "Skipping line 1123570: Expected 13 fields in line 1123570, saw 14\n",
      "Skipping line 1125965: Expected 13 fields in line 1125965, saw 14\n",
      "Skipping line 1128945: Expected 13 fields in line 1128945, saw 14\n",
      "Skipping line 1128948: Expected 13 fields in line 1128948, saw 14\n",
      "Skipping line 1129493: Expected 13 fields in line 1129493, saw 14\n",
      "Skipping line 1129899: Expected 13 fields in line 1129899, saw 14\n",
      "Skipping line 1130500: Expected 13 fields in line 1130500, saw 14\n",
      "Skipping line 1134486: Expected 13 fields in line 1134486, saw 14\n",
      "Skipping line 1136744: Expected 13 fields in line 1136744, saw 14\n",
      "Skipping line 1137632: Expected 13 fields in line 1137632, saw 14\n",
      "Skipping line 1139632: Expected 13 fields in line 1139632, saw 14\n",
      "Skipping line 1140634: Expected 13 fields in line 1140634, saw 14\n",
      "Skipping line 1141238: Expected 13 fields in line 1141238, saw 14\n",
      "Skipping line 1143139: Expected 13 fields in line 1143139, saw 14\n",
      "Skipping line 1143757: Expected 13 fields in line 1143757, saw 14\n",
      "Skipping line 1150962: Expected 13 fields in line 1150962, saw 14\n",
      "Skipping line 1152703: Expected 13 fields in line 1152703, saw 14\n",
      "Skipping line 1160990: Expected 13 fields in line 1160990, saw 14\n",
      "Skipping line 1163517: Expected 13 fields in line 1163517, saw 14\n",
      "Skipping line 1163650: Expected 13 fields in line 1163650, saw 14\n",
      "Skipping line 1176788: Expected 13 fields in line 1176788, saw 14\n",
      "Skipping line 1180241: Expected 13 fields in line 1180241, saw 14\n",
      "Skipping line 1184471: Expected 13 fields in line 1184471, saw 14\n",
      "Skipping line 1185066: Expected 13 fields in line 1185066, saw 14\n",
      "Skipping line 1189770: Expected 13 fields in line 1189770, saw 14\n",
      "Skipping line 1190965: Expected 13 fields in line 1190965, saw 14\n",
      "Skipping line 1192578: Expected 13 fields in line 1192578, saw 14\n",
      "Skipping line 1195308: Expected 13 fields in line 1195308, saw 14\n",
      "Skipping line 1199301: Expected 13 fields in line 1199301, saw 14\n",
      "Skipping line 1206203: Expected 13 fields in line 1206203, saw 14\n",
      "Skipping line 1208567: Expected 13 fields in line 1208567, saw 14\n",
      "Skipping line 1208686: Expected 13 fields in line 1208686, saw 14\n",
      "Skipping line 1208789: Expected 13 fields in line 1208789, saw 14\n",
      "Skipping line 1208926: Expected 13 fields in line 1208926, saw 14\n",
      "Skipping line 1208992: Expected 13 fields in line 1208992, saw 14\n",
      "Skipping line 1209323: Expected 13 fields in line 1209323, saw 14\n",
      "Skipping line 1209436: Expected 13 fields in line 1209436, saw 14\n",
      "Skipping line 1213062: Expected 13 fields in line 1213062, saw 14\n",
      "Skipping line 1216228: Expected 13 fields in line 1216228, saw 14\n",
      "Skipping line 1220335: Expected 13 fields in line 1220335, saw 14\n",
      "Skipping line 1220359: Expected 13 fields in line 1220359, saw 14\n",
      "Skipping line 1226965: Expected 13 fields in line 1226965, saw 15\n",
      "Skipping line 1228420: Expected 13 fields in line 1228420, saw 14\n",
      "Skipping line 1238367: Expected 13 fields in line 1238367, saw 14\n",
      "Skipping line 1242690: Expected 13 fields in line 1242690, saw 14\n",
      "Skipping line 1246358: Expected 13 fields in line 1246358, saw 14\n",
      "Skipping line 1251545: Expected 13 fields in line 1251545, saw 14\n",
      "Skipping line 1253835: Expected 13 fields in line 1253835, saw 14\n",
      "Skipping line 1260620: Expected 13 fields in line 1260620, saw 14\n",
      "Skipping line 1263559: Expected 13 fields in line 1263559, saw 14\n",
      "Skipping line 1264112: Expected 13 fields in line 1264112, saw 14\n",
      "Skipping line 1267410: Expected 13 fields in line 1267410, saw 14\n",
      "Skipping line 1267563: Expected 13 fields in line 1267563, saw 14\n",
      "Skipping line 1272867: Expected 13 fields in line 1272867, saw 14\n",
      "Skipping line 1284366: Expected 13 fields in line 1284366, saw 14\n",
      "Skipping line 1286607: Expected 13 fields in line 1286607, saw 19\n",
      "Skipping line 1294477: Expected 13 fields in line 1294477, saw 14\n",
      "Skipping line 1295258: Expected 13 fields in line 1295258, saw 14\n",
      "Skipping line 1297685: Expected 13 fields in line 1297685, saw 14\n",
      "Skipping line 1297968: Expected 13 fields in line 1297968, saw 14\n",
      "Skipping line 1304249: Expected 13 fields in line 1304249, saw 14\n",
      "Skipping line 1306134: Expected 13 fields in line 1306134, saw 14\n",
      "Skipping line 1306168: Expected 13 fields in line 1306168, saw 15\n",
      "Skipping line 1306198: Expected 13 fields in line 1306198, saw 19\n",
      "Skipping line 1306656: Expected 13 fields in line 1306656, saw 14\n",
      "Skipping line 1310075: Expected 13 fields in line 1310075, saw 14\n",
      "Skipping line 1313242: Expected 13 fields in line 1313242, saw 15\n",
      "Skipping line 1317605: Expected 13 fields in line 1317605, saw 14\n",
      "Skipping line 1319929: Expected 13 fields in line 1319929, saw 14\n",
      "Skipping line 1326706: Expected 13 fields in line 1326706, saw 14\n",
      "Skipping line 1329515: Expected 13 fields in line 1329515, saw 14\n",
      "Skipping line 1335633: Expected 13 fields in line 1335633, saw 14\n",
      "Skipping line 1336903: Expected 13 fields in line 1336903, saw 14\n",
      "Skipping line 1337594: Expected 13 fields in line 1337594, saw 14\n",
      "Skipping line 1337945: Expected 13 fields in line 1337945, saw 14\n",
      "Skipping line 1338300: Expected 13 fields in line 1338300, saw 14\n",
      "Skipping line 1340629: Expected 13 fields in line 1340629, saw 14\n",
      "Skipping line 1341409: Expected 13 fields in line 1341409, saw 14\n",
      "Skipping line 1346166: Expected 13 fields in line 1346166, saw 15\n",
      "Skipping line 1353274: Expected 13 fields in line 1353274, saw 14\n",
      "Skipping line 1354895: Expected 13 fields in line 1354895, saw 14\n",
      "Skipping line 1358706: Expected 13 fields in line 1358706, saw 14\n",
      "Skipping line 1362846: Expected 13 fields in line 1362846, saw 14\n",
      "Skipping line 1365578: Expected 13 fields in line 1365578, saw 14\n",
      "Skipping line 1365579: Expected 13 fields in line 1365579, saw 14\n",
      "Skipping line 1365777: Expected 13 fields in line 1365777, saw 14\n",
      "Skipping line 1369051: Expected 13 fields in line 1369051, saw 16\n",
      "Skipping line 1370142: Expected 13 fields in line 1370142, saw 14\n",
      "Skipping line 1371573: Expected 13 fields in line 1371573, saw 14\n",
      "Skipping line 1371699: Expected 13 fields in line 1371699, saw 14\n",
      "Skipping line 1371709: Expected 13 fields in line 1371709, saw 14\n",
      "Skipping line 1375470: Expected 13 fields in line 1375470, saw 14\n",
      "Skipping line 1376447: Expected 13 fields in line 1376447, saw 14\n",
      "Skipping line 1380367: Expected 13 fields in line 1380367, saw 14\n",
      "Skipping line 1382327: Expected 13 fields in line 1382327, saw 14\n",
      "Skipping line 1383097: Expected 13 fields in line 1383097, saw 14\n",
      "Skipping line 1384366: Expected 13 fields in line 1384366, saw 14\n",
      "Skipping line 1384386: Expected 13 fields in line 1384386, saw 14\n",
      "Skipping line 1394412: Expected 13 fields in line 1394412, saw 14\n",
      "Skipping line 1394752: Expected 13 fields in line 1394752, saw 14\n",
      "Skipping line 1394772: Expected 13 fields in line 1394772, saw 14\n",
      "Skipping line 1402459: Expected 13 fields in line 1402459, saw 14\n",
      "Skipping line 1413079: Expected 13 fields in line 1413079, saw 14\n",
      "Skipping line 1413772: Expected 13 fields in line 1413772, saw 14\n",
      "Skipping line 1418784: Expected 13 fields in line 1418784, saw 14\n",
      "Skipping line 1421154: Expected 13 fields in line 1421154, saw 15\n",
      "Skipping line 1425267: Expected 13 fields in line 1425267, saw 14\n",
      "Skipping line 1426140: Expected 13 fields in line 1426140, saw 14\n",
      "Skipping line 1428368: Expected 13 fields in line 1428368, saw 14\n",
      "Skipping line 1430940: Expected 13 fields in line 1430940, saw 14\n",
      "Skipping line 1434240: Expected 13 fields in line 1434240, saw 14\n",
      "Skipping line 1435618: Expected 13 fields in line 1435618, saw 14\n",
      "Skipping line 1437074: Expected 13 fields in line 1437074, saw 14\n",
      "Skipping line 1438296: Expected 13 fields in line 1438296, saw 14\n",
      "Skipping line 1439241: Expected 13 fields in line 1439241, saw 15\n",
      "Skipping line 1442080: Expected 13 fields in line 1442080, saw 14\n",
      "Skipping line 1442382: Expected 13 fields in line 1442382, saw 14\n",
      "Skipping line 1444538: Expected 13 fields in line 1444538, saw 14\n",
      "Skipping line 1445901: Expected 13 fields in line 1445901, saw 14\n",
      "Skipping line 1446681: Expected 13 fields in line 1446681, saw 14\n",
      "Skipping line 1448758: Expected 13 fields in line 1448758, saw 14\n",
      "Skipping line 1450176: Expected 13 fields in line 1450176, saw 14\n",
      "Skipping line 1451241: Expected 13 fields in line 1451241, saw 14\n",
      "Skipping line 1452675: Expected 13 fields in line 1452675, saw 14\n",
      "Skipping line 1455148: Expected 13 fields in line 1455148, saw 17\n",
      "Skipping line 1458988: Expected 13 fields in line 1458988, saw 15\n",
      "Skipping line 1464262: Expected 13 fields in line 1464262, saw 14\n",
      "Skipping line 1471528: Expected 13 fields in line 1471528, saw 15\n",
      "Skipping line 1474871: Expected 13 fields in line 1474871, saw 14\n",
      "Skipping line 1476736: Expected 13 fields in line 1476736, saw 14\n",
      "Skipping line 1476744: Expected 13 fields in line 1476744, saw 14\n",
      "Skipping line 1481797: Expected 13 fields in line 1481797, saw 14\n",
      "Skipping line 1482200: Expected 13 fields in line 1482200, saw 14\n",
      "Skipping line 1482370: Expected 13 fields in line 1482370, saw 19\n",
      "Skipping line 1483475: Expected 13 fields in line 1483475, saw 14\n",
      "Skipping line 1483864: Expected 13 fields in line 1483864, saw 14\n",
      "Skipping line 1487608: Expected 13 fields in line 1487608, saw 14\n",
      "Skipping line 1491764: Expected 13 fields in line 1491764, saw 14\n",
      "Skipping line 1492356: Expected 13 fields in line 1492356, saw 14\n",
      "Skipping line 1497059: Expected 13 fields in line 1497059, saw 14\n",
      "Skipping line 1502258: Expected 13 fields in line 1502258, saw 16\n",
      "Skipping line 1506135: Expected 13 fields in line 1506135, saw 14\n",
      "Skipping line 1509315: Expected 13 fields in line 1509315, saw 14\n",
      "Skipping line 1509874: Expected 13 fields in line 1509874, saw 14\n",
      "Skipping line 1512277: Expected 13 fields in line 1512277, saw 14\n",
      "Skipping line 1520731: Expected 13 fields in line 1520731, saw 14\n",
      "Skipping line 1521735: Expected 13 fields in line 1521735, saw 14\n",
      "Skipping line 1524956: Expected 13 fields in line 1524956, saw 14\n",
      "Skipping line 1525666: Expected 13 fields in line 1525666, saw 14\n",
      "Skipping line 1534188: Expected 13 fields in line 1534188, saw 14\n",
      "Skipping line 1534643: Expected 13 fields in line 1534643, saw 14\n",
      "Skipping line 1537779: Expected 13 fields in line 1537779, saw 14\n",
      "Skipping line 1539781: Expected 13 fields in line 1539781, saw 14\n",
      "Skipping line 1542312: Expected 13 fields in line 1542312, saw 14\n",
      "Skipping line 1542923: Expected 13 fields in line 1542923, saw 14\n",
      "Skipping line 1545772: Expected 13 fields in line 1545772, saw 14\n",
      "Skipping line 1550352: Expected 13 fields in line 1550352, saw 14\n",
      "Skipping line 1554694: Expected 13 fields in line 1554694, saw 14\n",
      "Skipping line 1561225: Expected 13 fields in line 1561225, saw 14\n",
      "Skipping line 1561257: Expected 13 fields in line 1561257, saw 14\n",
      "Skipping line 1561357: Expected 13 fields in line 1561357, saw 14\n",
      "Skipping line 1561476: Expected 13 fields in line 1561476, saw 14\n",
      "Skipping line 1561608: Expected 13 fields in line 1561608, saw 14\n",
      "Skipping line 1562352: Expected 13 fields in line 1562352, saw 14\n",
      "Skipping line 1562753: Expected 13 fields in line 1562753, saw 14\n",
      "Skipping line 1562950: Expected 13 fields in line 1562950, saw 14\n",
      "Skipping line 1563673: Expected 13 fields in line 1563673, saw 14\n",
      "Skipping line 1565654: Expected 13 fields in line 1565654, saw 14\n",
      "Skipping line 1571892: Expected 13 fields in line 1571892, saw 14\n",
      "Skipping line 1580176: Expected 13 fields in line 1580176, saw 14\n",
      "Skipping line 1580435: Expected 13 fields in line 1580435, saw 14\n",
      "Skipping line 1581091: Expected 13 fields in line 1581091, saw 14\n",
      "Skipping line 1581500: Expected 13 fields in line 1581500, saw 14\n",
      "Skipping line 1582121: Expected 13 fields in line 1582121, saw 14\n",
      "Skipping line 1584976: Expected 13 fields in line 1584976, saw 14\n",
      "Skipping line 1585283: Expected 13 fields in line 1585283, saw 14\n"
     ]
    },
    {
     "name": "stdout",
     "output_type": "stream",
     "text": [
      "Metadata size: (1586040, 13)\n"
     ]
    }
   ],
   "source": [
    "#### Read .csv into python\n",
    "#warnings.filterwarnings('ignore')\n",
    "\n",
    "data = pd.read_csv('beeradvocate_fullset.csv', sep=\"^\" , engine='python', \n",
    "                   header=None, error_bad_lines=False)\n",
    "\n",
    "data.columns = ['beer_name', 'beer_beerId', 'beer_brewer', 'beer_ABV', 'beer_style', \n",
    "                'review_appearance', 'review_aroma', 'review_palate', 'review_taste', \n",
    "                'review_overall', 'review_time', 'review_profileName', 'review_text']\n",
    "\n",
    "print('Metadata size: %s' % str(data.shape))"
   ]
  },
  {
   "cell_type": "markdown",
   "metadata": {},
   "source": [
    "## Part 1:  Neighborhood-based Collabrotive Filtering\n",
    "\n",
    "- two types: item-based, user-based\n",
    "- distances: use Pearson similiarity for now (could use cosine,  Euclidean, adjusted-cosine too)\n",
    "- tune param: neighborhood_size k"
   ]
  },
  {
   "cell_type": "code",
   "execution_count": 7,
   "metadata": {},
   "outputs": [],
   "source": [
    "# Define function: convert input dataframe to rating matrix\n",
    "# matrix shape = num_user * num_item\n",
    "\n",
    "def Rmat(users_dict, beers_dict, trainset):\n",
    "    rmat = np.full([m, n], np.nan)\n",
    "    for i in range(trainset.shape[0]):\n",
    "        row, col = users_dict.get(trainset.review_profileName[i]), beers_dict.get(trainset.beer_name[i])\n",
    "        rmat[row][col] = trainset.review_overall[i]\n",
    "    return rmat"
   ]
  },
  {
   "cell_type": "code",
   "execution_count": 8,
   "metadata": {},
   "outputs": [],
   "source": [
    "# Define function: Pearson distance\n",
    "# pairwise correlation between users/items\n",
    "def Pearson(u, v):\n",
    "    common_ind = pd.notnull(u) & pd.notnull(v)\n",
    "    if sum(common_ind) == 0:\n",
    "        return None\n",
    "    else:\n",
    "        u2, v2 = u[common_ind], v[common_ind]\n",
    "        sim = sum(u2*v2)/((sum(u2**2)**(.5))*(sum(v2**2)**(.5)))\n",
    "        return np.round(sim, 5)"
   ]
  },
  {
   "cell_type": "code",
   "execution_count": 9,
   "metadata": {},
   "outputs": [],
   "source": [
    "# Define function: Predict rating\n",
    "def PredRating(sim_mat, adj_rmat, i, j, k_neighbor, user_or_item):\n",
    "    \n",
    "    # find mu, similiarity_vector, adj_rating vector\n",
    "    if user_or_item == 'user':\n",
    "        mu = np.nanmean(train_rmat[i]) \n",
    "        ind1 = pd.notnull(adj_rmat[:,j])\n",
    "        adj_r_vec = adj_rmat[:,j][ind1]\n",
    "        sim_vec = sim_mat[i][ind1] \n",
    "    elif user_or_item == 'item':\n",
    "        mu = np.nanmean(train_rmat[:,j])\n",
    "        ind1 = pd.notnull(adj_rmat[i])\n",
    "        adj_r_vec = adj_rmat[i][ind1]\n",
    "        sim_vec = sim_mat[j][ind1]\n",
    "    else:\n",
    "        return 'wrong input: user or item'\n",
    "    \n",
    "    if sum(pd.isnull(sim_vec))>0:\n",
    "        ind = pd.notnull(sim_vec)\n",
    "        if len(ind) == 0:\n",
    "            return None\n",
    "        sim_vec, adj_r_vec = sim_vec[ind], adj_r_vec[ind]\n",
    "    \n",
    "    # take k nearest neighbor \n",
    "    if len(sim_vec) > k_neighbor:\n",
    "        ind2 = np.argsort(sim_vec, kind='quicksort')[-k_neighbor:]\n",
    "        sim_vec, adj_r_vec = sim_vec[ind2], adj_r_vec[ind2]\n",
    "     \n",
    "    # final rating\n",
    "    numer, demon = sim_vec*adj_r_vec, np.absolute(sim_vec)\n",
    "    pred_rating = mu + sum(numer)/sum(demon)\n",
    "\n",
    "    return np.round(pred_rating, 3)"
   ]
  },
  {
   "cell_type": "code",
   "execution_count": 10,
   "metadata": {},
   "outputs": [],
   "source": [
    "# Define error metric: RMSE\n",
    "def RMSE(test_mat, pred_mat):\n",
    "    test_mat, pred_mat = np.ndarray.flatten(test_mat), np.ndarray.flatten(pred_mat)\n",
    "    ind_rmse = pd.notnull(test_mat) & pd.notnull(pred_mat)\n",
    "    test_mat, pred_mat = test_mat[ind_rmse], pred_mat[ind_rmse]\n",
    "    \n",
    "    error = np.mean((test_mat - pred_mat)**2)**(.5)\n",
    "    \n",
    "    return np.round(error, 4)"
   ]
  },
  {
   "cell_type": "markdown",
   "metadata": {},
   "source": [
    "### 0. Data Prepocessing"
   ]
  },
  {
   "cell_type": "code",
   "execution_count": 11,
   "metadata": {},
   "outputs": [
    {
     "name": "stdout",
     "output_type": "stream",
     "text": [
      "Original data size: (1586040, 4)\n",
      "After removing NAs: (1585692, 4)\n",
      "After drop duplicate user-item pairs (only keep the latest score), data size: (1560849, 5)\n"
     ]
    }
   ],
   "source": [
    "#### Subset original dataset for hw2\n",
    "\n",
    "# Subset 4 columns: user name, beer name, overall score, review_time\n",
    "data2 = data[['beer_name', 'review_profileName', 'review_overall','review_time']]\n",
    "print('Original data size: %s' % str(data2.shape)) \n",
    "\n",
    "# Remove NA \n",
    "data2 = data2[pd.notnull(data2.beer_name)]\n",
    "data2 = data2[pd.notnull(data2.review_profileName)]\n",
    "data2 = data2[pd.notnull(data2.review_overall)]\n",
    "print('After removing NAs: %s' % str(data2.shape)) \n",
    "\n",
    "# Drop duplicate (beer&user) pairs, keep the latest rating\n",
    "data2['beer_user_pair'] = data2.beer_name + data2.review_profileName\n",
    "data2 = data2.sort_values(by=['review_time'], ascending=False).drop_duplicates(subset=['beer_user_pair'])\n",
    "print('After drop duplicate user-item pairs (only keep the latest score), data size: %s' % str(data2.shape)) "
   ]
  },
  {
   "cell_type": "code",
   "execution_count": 12,
   "metadata": {},
   "outputs": [
    {
     "name": "stdout",
     "output_type": "stream",
     "text": [
      "Take the top 1000 users and top 100 items as sample data. The Sample size is (62244, 5).\n"
     ]
    }
   ],
   "source": [
    "# Take m users & n items\n",
    "m, n = 1000, 100\n",
    "\n",
    "# Take top 1000/33382 most frequent users\n",
    "user_freqtable = data2.review_profileName.value_counts()\n",
    "user_list = user_freqtable.keys()[:m].tolist()\n",
    "\n",
    "# Take top 100/56855 most reviewed beer\n",
    "beer_freqtable = data2.beer_name.value_counts()[:200]\n",
    "beer_list = beer_freqtable.keys()[:n].tolist()\n",
    "\n",
    "# Final sample size\n",
    "subdata = data2[data2.beer_name.isin(beer_list)]\n",
    "subdata = subdata[subdata.review_profileName.isin(user_list)]\n",
    "print('Take the top %d users and top %d items as sample data. The Sample size is %s.' % (m,n,str(subdata.shape))) "
   ]
  },
  {
   "cell_type": "code",
   "execution_count": 13,
   "metadata": {},
   "outputs": [],
   "source": [
    "# Split training & test set: should not have empty rows or columns\n",
    "subdata2 = subdata[['beer_name','review_profileName','review_overall']]\n",
    "\n",
    "train, test = train_test_split(subdata2, test_size=.2, random_state=1)\n",
    "train.reset_index(drop=True, inplace=True)\n",
    "test.reset_index(drop=True, inplace=True)\n",
    "\n",
    "# Create index dict; keys are user/beer names, values are corresponding row/col in rmat\n",
    "m = len(user_list)\n",
    "n = len(beer_list)\n",
    "user_dict = {user_list[k]: k for k in range(m)}\n",
    "beer_dict = {beer_list[k]: k for k in range(n)}"
   ]
  },
  {
   "cell_type": "code",
   "execution_count": 14,
   "metadata": {
    "scrolled": true
   },
   "outputs": [],
   "source": [
    "# Create train rating matrix: for both used- and item-based\n",
    "train_rmat = Rmat(user_dict, beer_dict, train)\n",
    "\n",
    "# Create test rating matrix: for both used- and item-based\n",
    "test_rmat = Rmat(user_dict, beer_dict, test)\n",
    "\n",
    "# Create prediction matrix - NaN\n",
    "user = np.where(pd.notnull(test_rmat))[0] \n",
    "item = np.where(pd.notnull(test_rmat))[1] \n",
    "\n",
    "pred_rmat_user = np.full([m, n], np.nan)\n",
    "pred_rmat_item = np.full([m, n], np.nan)"
   ]
  },
  {
   "cell_type": "code",
   "execution_count": 15,
   "metadata": {},
   "outputs": [
    {
     "name": "stdout",
     "output_type": "stream",
     "text": [
      "                       beer_name review_profileName  review_overall\n",
      "0         Trappistes Rochefort 8             WesWes             4.5\n",
      "1   Chimay Grande Réserve (Blue)           1fastz28             4.5\n",
      "2    Hennepin (Farmhouse Saison)           dgallina             5.0\n",
      "3                     Prima Pils        fisherman34             4.5\n",
      "4         Trappistes Rochefort 8             nrbw23             4.0\n"
     ]
    }
   ],
   "source": [
    "print(train.head(5))"
   ]
  },
  {
   "cell_type": "code",
   "execution_count": 16,
   "metadata": {},
   "outputs": [
    {
     "name": "stdout",
     "output_type": "stream",
     "text": [
      "                    beer_name review_profileName  review_overall\n",
      "0           Palo Santo Marron     johnmichaelsen             3.5\n",
      "1     Bell's Expedition Stout          OWSLEY069             4.5\n",
      "2   Samuel Adams Boston Lager    treehugger02010             3.5\n",
      "3          Bell's Hopslam Ale      feloniousmonk             4.0\n",
      "4           Bell's Oberon Ale         prototypic             4.5\n"
     ]
    }
   ],
   "source": [
    "print(test.head(5))"
   ]
  },
  {
   "cell_type": "code",
   "execution_count": 17,
   "metadata": {},
   "outputs": [
    {
     "data": {
      "text/plain": [
       "array([[4.5, 4. , 4.5, 4. , nan, 4.5, 3.5, 4. , 4. , 4. , 4. , 4.5, 4. ,\n",
       "        nan, 4.5, 4.5, 3.5, 4. , 4.5, nan, 3.5, 4. , 5. , 4. , nan, 4.5,\n",
       "        3.5, 3.5, 4.5, 2. , nan, 5. , 4.5, 4. , 4.5, 4.5, nan, 4.5, nan,\n",
       "        4. , 4. , nan, 4. , nan, nan, 3.5, 3.5, 4.5, 3.5, nan, 3. , 4. ,\n",
       "        4. , 3.5, 3.5, nan, 4.5, 4. , 3.5, 4.5, 3. , nan, nan, 4. , 4.5,\n",
       "        4. , 4. , 3.5, 3.5, 3. , 4. , 3.5, 4. , 4.5, nan, 4.5, 3.5, 4. ,\n",
       "        3.5, 3. , 4. , 4. , 4. , 4.5, nan, 3. , 3. , nan, nan, 4. , 1. ,\n",
       "        nan, 4. , 4.5, nan, 4. , 3.5, 4. , nan, 4. ],\n",
       "       [4. , nan, 4.5, 4.5, 4. , nan, 4.5, 4.5, 4. , 5. , 4. , 5. , 5. ,\n",
       "        4. , nan, 4.5, 4.5, 5. , nan, 4.5, 4. , 5. , 4.5, 4.5, 4. , 5. ,\n",
       "        nan, 4. , nan, 2. , 4.5, 4.5, 2. , 3. , 4.5, 4.5, 5. , 3.5, 3.5,\n",
       "        3.5, 5. , 4. , 4.5, 4. , 4.5, 4. , 4.5, nan, 4.5, 5. , 4.5, nan,\n",
       "        5. , 5. , 4. , 5. , 5. , 4.5, 3.5, nan, 4. , 4.5, 3.5, nan, 4.5,\n",
       "        4. , 4.5, nan, nan, 3.5, 4. , 3.5, 5. , 4. , nan, 4. , 5. , 5. ,\n",
       "        4. , 3. , 4.5, 2.5, 4.5, nan, 3.5, 4.5, nan, 4.5, 2.5, 4. , 1.5,\n",
       "        4.5, 3.5, 4.5, 3.5, 4.5, 4.5, nan, 4.5, 5. ]])"
      ]
     },
     "execution_count": 17,
     "metadata": {},
     "output_type": "execute_result"
    }
   ],
   "source": [
    "train_rmat[:2,] # rating of user1 and user2 for all beers"
   ]
  },
  {
   "cell_type": "markdown",
   "metadata": {},
   "source": [
    "### 1.  User-based Collaborative Filtering"
   ]
  },
  {
   "cell_type": "code",
   "execution_count": 18,
   "metadata": {},
   "outputs": [],
   "source": [
    "# compute mean rating of each user\n",
    "# mean_rating_user = {key: train.review_overall.loc[train['review_profileName'] == key].mean() for key in user_list}\n",
    "\n",
    "# compute mean_adjusted rating of each user: subtract mean from ratings\n",
    "adj_rmat_user = [train_rmat[0] - np.nanmean(train_rmat[0])]\n",
    "for i in range(1,len(train_rmat)):\n",
    "    adj_rmat_user = np.append(adj_rmat_user, [train_rmat[i] - np.nanmean(train_rmat[i])], axis=0)"
   ]
  },
  {
   "cell_type": "code",
   "execution_count": 19,
   "metadata": {},
   "outputs": [
    {
     "name": "stderr",
     "output_type": "stream",
     "text": [
      "/Users/yilinsun/anaconda3/envs/py27/lib/python2.7/site-packages/ipykernel_launcher.py:9: RuntimeWarning: invalid value encountered in double_scalars\n",
      "  if __name__ == '__main__':\n"
     ]
    }
   ],
   "source": [
    "# compute Pearson similiarity matrix \n",
    "sim_user = np.full([m, m], np.nan)\n",
    "\n",
    "for u,v in it.combinations(range(len(user_list)), 2): \n",
    "    sim_user[u][v] = Pearson(adj_rmat_user[u], adj_rmat_user[v])\n",
    "    sim_user[v][u] = sim_user[u][v]"
   ]
  },
  {
   "cell_type": "code",
   "execution_count": 20,
   "metadata": {},
   "outputs": [],
   "source": [
    "# predict\n",
    "k = 500\n",
    "for ind in range(len(user)): \n",
    "    i, j = user[ind], item[ind]\n",
    "    pred_rmat_user[i, j] = PredRating(sim_user, adj_rmat_user, i, j, k, 'user')"
   ]
  },
  {
   "cell_type": "code",
   "execution_count": 21,
   "metadata": {},
   "outputs": [
    {
     "name": "stdout",
     "output_type": "stream",
     "text": [
      "User-based collaborative filtering error is 0.5319\n"
     ]
    }
   ],
   "source": [
    "# calculate MSE\n",
    "user_rmse = RMSE(test_rmat, pred_rmat_user)\n",
    "print('User-based collaborative filtering error is %.4f' % (user_rmse))"
   ]
  },
  {
   "cell_type": "markdown",
   "metadata": {},
   "source": [
    "### 2.  Item-based Collaborative Filtering"
   ]
  },
  {
   "cell_type": "code",
   "execution_count": 22,
   "metadata": {},
   "outputs": [],
   "source": [
    "# compute mean rating of each item \n",
    "# mean_rating_item = {key: train.review_overall.loc[train['beer_name'] == key].mean() for key in beer_list}\n",
    "\n",
    "# compute mean_adjusted rating vector of each item\n",
    "adj_rmat_item = [train_rmat[:,0] - np.nanmean(train_rmat[:,0])]\n",
    "for i in range(1,len(train_rmat[0])):\n",
    "    adj_rmat_item = np.append(adj_rmat_item, [train_rmat[:,i] - np.nanmean(train_rmat[:,i])], axis=0)\n",
    "\n",
    "adj_rmat_item = np.transpose(adj_rmat_item)"
   ]
  },
  {
   "cell_type": "code",
   "execution_count": 23,
   "metadata": {},
   "outputs": [],
   "source": [
    "# compuete Pearson similiarity matrix \n",
    "sim_item = np.full([n, n], np.nan)\n",
    "for u,v in it.combinations(range(len(beer_list)), 2): \n",
    "    sim_item[u][v] = Pearson(adj_rmat_item[u], adj_rmat_item[v])\n",
    "    sim_item[v][u] = sim_item[u][v]"
   ]
  },
  {
   "cell_type": "code",
   "execution_count": 24,
   "metadata": {},
   "outputs": [],
   "source": [
    "# predict \n",
    "k = 50\n",
    "for ind in range(len(item)): \n",
    "    i, j = user[ind], item[ind]\n",
    "    pred_rmat_item[i, j] = PredRating(sim_item, adj_rmat_item, i, j, k, 'item')"
   ]
  },
  {
   "cell_type": "code",
   "execution_count": 25,
   "metadata": {},
   "outputs": [
    {
     "name": "stdout",
     "output_type": "stream",
     "text": [
      "Item-based collaborative filtering error is 0.5487\n"
     ]
    }
   ],
   "source": [
    "# calculate MSE\n",
    "item_rmse = RMSE(test_rmat, pred_rmat_item)\n",
    "print('Item-based collaborative filtering error is %.4f' % (item_rmse))"
   ]
  },
  {
   "cell_type": "markdown",
   "metadata": {},
   "source": [
    "### 3.  Tuning Parameter  - Neighborhood Size *k*\n",
    "\n",
    "- 3.1 user-based \n",
    "- 3.2 item-based \n",
    "\n",
    "\n",
    "\n",
    "- `Other parameters`: sample size *user* $*$ *item* = *1000 $*$ 100*; error metric = *RMSE*\n",
    "\n",
    "\n",
    "- `Result`: the optimal neighborhood size for user-based `k=300`; item-based `k=30`"
   ]
  },
  {
   "cell_type": "code",
   "execution_count": 26,
   "metadata": {},
   "outputs": [],
   "source": [
    "# define function: get mu, similiarity_vector, adj_rating vector\n",
    "def get_sim_adjr(sim_mat, adj_rmat, i, j, user_or_item):\n",
    "    \n",
    "    # find mu, similiarity_vector, adj_rating vector\n",
    "    if user_or_item == 'user':\n",
    "        mu = np.nanmean(train_rmat[i]) \n",
    "        ind1 = pd.notnull(adj_rmat[:,j])\n",
    "        adj_r_vec = adj_rmat[:,j][ind1]\n",
    "        sim_vec = sim_mat[i][ind1] \n",
    "    elif user_or_item == 'item':\n",
    "        mu = np.nanmean(train_rmat[:,j])\n",
    "        ind1 = pd.notnull(adj_rmat[i])\n",
    "        adj_r_vec = adj_rmat[i][ind1]\n",
    "        sim_vec = sim_mat[j][ind1]\n",
    "    else:\n",
    "        return 'wrong input: user or item'\n",
    "    \n",
    "    if sum(pd.isnull(sim_vec))>0:\n",
    "        ind = pd.notnull(sim_vec)\n",
    "        if len(ind) == 0:\n",
    "            return None\n",
    "        sim_vec, adj_r_vec = sim_vec[ind], adj_r_vec[ind]\n",
    "    \n",
    "    return [sim_vec, adj_r_vec, mu]"
   ]
  },
  {
   "cell_type": "code",
   "execution_count": 27,
   "metadata": {},
   "outputs": [],
   "source": [
    "# define function: predict ratings based on similiarity & neighborhood size k\n",
    "def get_pred(sim_vec, adj_r_vec, mu, k):\n",
    "    # get k neighbors\n",
    "    if len(sim_vec) > k:\n",
    "        ind2 = np.argsort(sim_vec, kind='quicksort')[-k:]\n",
    "        sim_vec, adj_r_vec = sim_vec[ind2], adj_r_vec[ind2]\n",
    "     \n",
    "    # predict \n",
    "    numer, demon = sim_vec*adj_r_vec, np.absolute(sim_vec)\n",
    "    pred_rating = mu + sum(numer)/sum(demon)\n",
    "\n",
    "    return np.round(pred_rating, 5)"
   ]
  },
  {
   "cell_type": "markdown",
   "metadata": {},
   "source": [
    "#### 3.1 Tuning neighborhood size *k* for User-based collaborative filtering"
   ]
  },
  {
   "cell_type": "code",
   "execution_count": 28,
   "metadata": {},
   "outputs": [],
   "source": [
    "user_k = [50, 100, 200, 225, 250, 275, 300, 325, 350, 375, 400, 450, 500, 550, 600]\n",
    "\n",
    "# create prediction matrix\n",
    "pred_rmat_user_dict = {}\n",
    "for k in user_k:\n",
    "    pred_rmat_user_dict[str(k)] = np.full([m, n], np.nan)\n",
    "\n",
    "# predict\n",
    "for ind in range(len(item)):\n",
    "    i, j = user[ind], item[ind]\n",
    "    sim, adjr, mu = get_sim_adjr(sim_user, adj_rmat_user, i, j, 'user') \n",
    "\n",
    "    for k in user_k:\n",
    "        pred_rmat_user_dict[str(k)][i, j] = get_pred(sim, adjr, mu, k)\n",
    "        \n",
    "# calculate error\n",
    "rmse_user = []\n",
    "for k in user_k:\n",
    "    rmse_user.append(RMSE(test_rmat, pred_rmat_user_dict[str(k)]))"
   ]
  },
  {
   "cell_type": "code",
   "execution_count": 29,
   "metadata": {},
   "outputs": [
    {
     "data": {
      "image/png": "[encoded data removed]",
      "text/plain": [
       "<Figure size 432x288 with 1 Axes>"
      ]
     },
     "metadata": {
      "needs_background": "light"
     },
     "output_type": "display_data"
    }
   ],
   "source": [
    "# Plot error\n",
    "fig, ax = plt.subplots()\n",
    "ax.plot(user_k, rmse_user)\n",
    "ax.set(xlabel='Neighborhood Size k', ylabel='RMSE', title='User-based RMSE for different k')\n",
    "ax.grid()"
   ]
  },
  {
   "cell_type": "markdown",
   "metadata": {},
   "source": [
    "#### 3.2 Tuning neighborhood size *k* for Item-based collaborative filtering"
   ]
  },
  {
   "cell_type": "code",
   "execution_count": 30,
   "metadata": {},
   "outputs": [],
   "source": [
    "item_k = [5, 10, 20, 25, 30, 35, 40, 50, 60, 70, 80, 90, 95, 100]\n",
    "\n",
    "# create prediction matrix\n",
    "pred_rmat_item_dict = {}\n",
    "for k in item_k:\n",
    "    pred_rmat_item_dict[str(k)] = np.full([m, n], np.nan)\n",
    "\n",
    "# predict\n",
    "for ind in range(len(item)):\n",
    "    i, j = user[ind], item[ind]\n",
    "    sim, adjr, mu = get_sim_adjr(sim_item, adj_rmat_item, i, j, 'item') \n",
    "\n",
    "    for k in item_k:\n",
    "        pred_rmat_item_dict[str(k)][i, j] = get_pred(sim, adjr, mu, k)\n",
    "        \n",
    "# calculate error\n",
    "rmse_item = []\n",
    "for k in item_k:\n",
    "    rmse_item.append(RMSE(test_rmat, pred_rmat_item_dict[str(k)]))"
   ]
  },
  {
   "cell_type": "code",
   "execution_count": 31,
   "metadata": {},
   "outputs": [
    {
     "data": {
      "image/png": "[encoded data removed]",
      "text/plain": [
       "<Figure size 432x288 with 1 Axes>"
      ]
     },
     "metadata": {
      "needs_background": "light"
     },
     "output_type": "display_data"
    }
   ],
   "source": [
    "# Plot error\n",
    "fig, ax = plt.subplots()\n",
    "ax.plot(item_k, rmse_item)\n",
    "ax.set(xlabel='Neighborhood Size k', ylabel='RMSE', title='Item-based RMSE for different k')\n",
    "ax.grid()"
   ]
  },
  {
   "cell_type": "markdown",
   "metadata": {},
   "source": [
    "### 4. Compare Three Error Metrics\n",
    "\n",
    "\n",
    "- 4.1 Root Mean Square Error (RMSE) \n",
    "- 4.2 Mean Absolute Error (MAE)\n",
    "\n",
    "`Methods`: find the optimal neighborhood size *k* using *RMSE* and *MAE* and compare\n",
    "\n",
    "\n",
    "- 4.3 Ranking Based Error \n",
    "\n",
    "`Methods`: calculate the percentage of predicted top _t_ beers in the true top _t_ beer list for each user. (Using beers with explicit ratings. For example, if user _i_ have rated 60 beers out of 100, then the true-top-10-beer-list is the top 10 out of 60. ignore the rest 40.)"
   ]
  },
  {
   "cell_type": "markdown",
   "metadata": {},
   "source": [
    "#### 4.1 Root Mean Square Error (RMSE)"
   ]
  },
  {
   "cell_type": "code",
   "execution_count": 32,
   "metadata": {},
   "outputs": [
    {
     "data": {
      "image/png": "[encoded data removed]",
      "text/plain": [
       "<Figure size 864x216 with 2 Axes>"
      ]
     },
     "metadata": {
      "needs_background": "light"
     },
     "output_type": "display_data"
    }
   ],
   "source": [
    "# Plot RMSE error, follow the previous section\n",
    "fig = plt.figure(figsize=(12,3))\n",
    "\n",
    "ax1 = fig.add_subplot(121)\n",
    "ax1.plot(user_k, rmse_user)\n",
    "ax1.set(xlabel='Neighborhood Size k', ylabel='RMSE', title='User-based RMSE for different k')\n",
    "ax1.yaxis.set_major_formatter(FormatStrFormatter('%.3f'))\n",
    "ax1.grid()\n",
    "\n",
    "ax2 = fig.add_subplot(122)\n",
    "ax2.plot(item_k, rmse_item)\n",
    "ax2.set(xlabel='Neighborhood Size k', ylabel='RMSE', title='Item-based RMSE with different k')\n",
    "ax2.yaxis.set_major_formatter(FormatStrFormatter('%.3f'))\n",
    "ax2.grid()\n",
    "\n",
    "plt.show()"
   ]
  },
  {
   "cell_type": "markdown",
   "metadata": {},
   "source": [
    "#### 4.2 Mean Absolute Error (MAE)"
   ]
  },
  {
   "cell_type": "code",
   "execution_count": 33,
   "metadata": {},
   "outputs": [],
   "source": [
    "# Define error metric: MAE\n",
    "def MAE(test_mat, pred_mat):\n",
    "    test_mat, pred_mat = np.ndarray.flatten(test_mat), np.ndarray.flatten(pred_mat)\n",
    "    ind_rmse = pd.notnull(test_mat) & pd.notnull(pred_mat)\n",
    "    test_mat, pred_mat = test_mat[ind_rmse], pred_mat[ind_rmse]\n",
    "    \n",
    "    error = np.mean(np.absolute(test_mat - pred_mat))\n",
    "    \n",
    "    return np.round(error, 3)"
   ]
  },
  {
   "cell_type": "code",
   "execution_count": 34,
   "metadata": {},
   "outputs": [],
   "source": [
    "# compute user-based MAE\n",
    "mae_user = []\n",
    "for k in user_k:\n",
    "    mae_user.append(MAE(test_rmat, pred_rmat_user_dict[str(k)]))\n",
    "\n",
    "# compute item-based MAE\n",
    "mae_item = []\n",
    "for k in item_k:\n",
    "    mae_item.append(MAE(test_rmat, pred_rmat_item_dict[str(k)]))"
   ]
  },
  {
   "cell_type": "code",
   "execution_count": 35,
   "metadata": {},
   "outputs": [
    {
     "data": {
      "image/png": "[encoded data removed]",
      "text/plain": [
       "<Figure size 864x216 with 2 Axes>"
      ]
     },
     "metadata": {
      "needs_background": "light"
     },
     "output_type": "display_data"
    }
   ],
   "source": [
    "# Plot error\n",
    "fig = plt.figure(figsize=(12,3))\n",
    "\n",
    "ax1 = fig.add_subplot(121)\n",
    "ax1.plot(user_k, mae_user)\n",
    "ax1.set(xlabel='Neighborhood Size k', ylabel='MAE', title='User-based MAE for different k')\n",
    "ax1.yaxis.set_major_formatter(FormatStrFormatter('%.3f'))\n",
    "ax1.grid()\n",
    "\n",
    "ax2 = fig.add_subplot(122)\n",
    "ax2.plot(item_k, mae_item)\n",
    "ax2.set(xlabel='Neighborhood Size k', ylabel='MAE', title='Item-based MAE for different k')\n",
    "ax2.yaxis.set_major_formatter(FormatStrFormatter('%.3f'))\n",
    "ax2.grid()\n",
    "\n",
    "plt.show()"
   ]
  },
  {
   "cell_type": "markdown",
   "metadata": {},
   "source": [
    "#### 4.3 Ranking Based Error"
   ]
  },
  {
   "cell_type": "code",
   "execution_count": 36,
   "metadata": {},
   "outputs": [],
   "source": [
    "# Define function: combine train + test/pred\n",
    "def combine_train_pred(train_mat, test_mat):\n",
    "    rbo_train_rmat = train_mat\n",
    "    rbo_test_rmat = test_mat\n",
    "    \n",
    "    rbo_train_rmat[np.isnan(rbo_train_rmat)] = 0\n",
    "    rbo_test_rmat[np.isnan(rbo_test_rmat)] = 0\n",
    "    \n",
    "    rbo_true = rbo_train_rmat + rbo_test_rmat\n",
    "    return rbo_true"
   ]
  },
  {
   "cell_type": "code",
   "execution_count": 37,
   "metadata": {},
   "outputs": [],
   "source": [
    "# Define function: find the top t items for each user given a rating matrix\n",
    "def top_t_item(rating_mat, t):\n",
    "    # create a zero matrix to store the location of top t items\n",
    "    ind_rmat = np.zeros_like(rating_mat)\n",
    "    \n",
    "    # find the location of top t items for each user\n",
    "    col_ind = np.argsort(-rating_mat)[:,range(t)].flatten() #ind of top t items in each row\n",
    "    row_ind = np.repeat(range(len(col_ind)), t).flatten() #corresponding row number\n",
    "    \n",
    "    for i in range(len(col_ind)):\n",
    "        ind_rmat[row_ind[i], col_ind[i]] = 1\n",
    "        \n",
    "    return ind_rmat"
   ]
  },
  {
   "cell_type": "code",
   "execution_count": 38,
   "metadata": {},
   "outputs": [],
   "source": [
    "# Define function: calculate the percentage of predicted top t in true top t items for each user\n",
    "# return mean(percentage) of all users\n",
    "\n",
    "def top_t_perc(true_ind_mat, pred_ind_mat, top_t_num):\n",
    "    prod = true_ind_mat * pred_ind_mat\n",
    "    rbo = np.mean(np.sum(prod, axis=1))/top_t_num\n",
    "    return np.round(rbo, 4)"
   ]
  },
  {
   "cell_type": "code",
   "execution_count": 39,
   "metadata": {},
   "outputs": [],
   "source": [
    "# train + test \n",
    "rbo_true = combine_train_pred(train_rmat, test_rmat) #rating matrix of all data, including train & test\n",
    "rbo_true_ind = top_t_item(rbo_true, 10) #find top 5 of each row"
   ]
  },
  {
   "cell_type": "code",
   "execution_count": 40,
   "metadata": {},
   "outputs": [],
   "source": [
    "# try top 10\n",
    "topt = 15"
   ]
  },
  {
   "cell_type": "code",
   "execution_count": 41,
   "metadata": {},
   "outputs": [],
   "source": [
    "# user_based\n",
    "\n",
    "# if needed, use the following to store intermediate results\n",
    "rbo_pred_user = {}  #dict to store whole rmat (train & pred) for each k\n",
    "rbo_pred_user_ind = {}  # dict to store corresponding indicator matrix for each k\n",
    "\n",
    "# get indicator matrix for each k, then calculate average percentage\n",
    "rbo_perc_user = []\n",
    "\n",
    "for k in user_k: \n",
    "    pred_rmat_rbo = pred_rmat_user_dict[str(k)]\n",
    "    rbo_pred_user[str(k)] = combine_train_pred(train_rmat, pred_rmat_rbo) #combine pred & train \n",
    "    rbo_pred_user_ind[str(k)] = top_t_item(rbo_pred_user[str(k)], topt) #find top t  \n",
    "    \n",
    "    perc = top_t_perc(rbo_true_ind, rbo_pred_user_ind[str(k)], topt) #calculate percentage\n",
    "    rbo_perc_user.append(perc)"
   ]
  },
  {
   "cell_type": "code",
   "execution_count": 42,
   "metadata": {},
   "outputs": [],
   "source": [
    "# item_based\n",
    "\n",
    "# if needed, use the following to store intermediate results\n",
    "rbo_pred_item = {} #dict to store whole rmat (train & pred) for each k\n",
    "rbo_pred_item_ind = {} # dict to store corresponding indicator matrix for each k\n",
    "\n",
    "# get indicator matrix for each k, then calculate average percentage\n",
    "rbo_perc_item = []\n",
    "\n",
    "for k in item_k: \n",
    "    pred_rmat_rbo = pred_rmat_item_dict[str(k)]\n",
    "    rbo_pred_item[str(k)] = combine_train_pred(train_rmat, pred_rmat_rbo) #combine pred & train\n",
    "    rbo_pred_item_ind[str(k)] = top_t_item(rbo_pred_item[str(k)], topt) #find top t\n",
    "    \n",
    "    perc = top_t_perc(rbo_true_ind, rbo_pred_item_ind[str(k)], topt) #calculate percentage\n",
    "    rbo_perc_item.append(perc)"
   ]
  },
  {
   "cell_type": "markdown",
   "metadata": {},
   "source": [
    "#### Top 10 Prediction, Correct Ranking Rate (the higher the better)"
   ]
  },
  {
   "cell_type": "code",
   "execution_count": 43,
   "metadata": {},
   "outputs": [
    {
     "data": {
      "image/png": "[encoded data removed]",
      "text/plain": [
       "<Figure size 864x216 with 2 Axes>"
      ]
     },
     "metadata": {
      "needs_background": "light"
     },
     "output_type": "display_data"
    }
   ],
   "source": [
    "# Plot Ranking-Based Error\n",
    "# Correct Ranking Rate = percentage of predicted top_t items in the true top_t items\n",
    "\n",
    "fig = plt.figure(figsize=(12,3))\n",
    "\n",
    "ax1 = fig.add_subplot(121)\n",
    "ax1.plot(user_k, rbo_perc_user)\n",
    "ax1.set(xlabel='Neighborhood Size k', ylabel='Correct Ranking Rate', \n",
    "        title='User-based Correct Ranking Rate')\n",
    "ax1.yaxis.set_major_formatter(FormatStrFormatter('%.3f'))\n",
    "ax1.grid()\n",
    "\n",
    "ax2 = fig.add_subplot(122)\n",
    "ax2.plot(item_k, rbo_perc_item)\n",
    "ax2.set(xlabel='Neighborhood Size k', ylabel='Correct Ranking Rate', \n",
    "        title='Item-based Correct Ranking Rate')\n",
    "ax2.yaxis.set_major_formatter(FormatStrFormatter('%.3f'))\n",
    "ax2.grid()\n",
    "\n",
    "plt.show()"
   ]
  },
  {
   "cell_type": "markdown",
   "metadata": {},
   "source": [
    "#### Given neighborhood size K, compare Correct Ranking Rate for various recommendation size *T* \n",
    "\n",
    "user-based neighborhood size k = 300\n",
    "\n",
    "item-based neighborhood size k = 40"
   ]
  },
  {
   "cell_type": "code",
   "execution_count": 44,
   "metadata": {},
   "outputs": [],
   "source": [
    "t = [5,8,10,15,20,25,30,35,40,45,50,60]"
   ]
  },
  {
   "cell_type": "code",
   "execution_count": 45,
   "metadata": {},
   "outputs": [],
   "source": [
    "# user_based\n",
    "k = 300\n",
    "\n",
    "rbo_perc_user2 = []\n",
    "for topt in t:\n",
    "    rbo_pred_user_ind[str(k)] = top_t_item(rbo_pred_user[str(k)], topt) #find top t  \n",
    "    perc = top_t_perc(rbo_true_ind, rbo_pred_user_ind[str(k)], topt) #calculate percentage\n",
    "    rbo_perc_user2.append(perc)"
   ]
  },
  {
   "cell_type": "code",
   "execution_count": 46,
   "metadata": {},
   "outputs": [],
   "source": [
    "# item_based\n",
    "k = 40\n",
    "\n",
    "rbo_perc_item2 = []\n",
    "for topt in t:\n",
    "    rbo_pred_item_ind[str(k)] = top_t_item(rbo_pred_item[str(k)], topt) #find top t \n",
    "    perc = top_t_perc(rbo_true_ind, rbo_pred_item_ind[str(k)], topt) #calculate percentage\n",
    "    rbo_perc_item2.append(perc)"
   ]
  },
  {
   "cell_type": "code",
   "execution_count": 47,
   "metadata": {},
   "outputs": [
    {
     "data": {
      "image/png": "[encoded data removed]",
      "text/plain": [
       "<Figure size 864x216 with 2 Axes>"
      ]
     },
     "metadata": {
      "needs_background": "light"
     },
     "output_type": "display_data"
    }
   ],
   "source": [
    "# Plot Ranking-Based Error\n",
    "# Correct Ranking Rate = percentage of predicted top_t items in the true top_t items\n",
    "\n",
    "fig = plt.figure(figsize=(12,3))\n",
    "\n",
    "ax1 = fig.add_subplot(121)\n",
    "ax1.plot(t, rbo_perc_user2)\n",
    "ax1.set(xlabel='Recommendation Size: Top T', ylabel='Correct Ranking Rate', \n",
    "        title='User-based Correct Ranking Rate')\n",
    "ax1.yaxis.set_major_formatter(FormatStrFormatter('%.3f'))\n",
    "ax1.grid()\n",
    "\n",
    "ax2 = fig.add_subplot(122)\n",
    "ax2.plot(t, rbo_perc_item2)\n",
    "ax2.set(xlabel='Recommendation Size: Top T', ylabel='Correct Ranking Rate', \n",
    "        title='Item-based Correct Ranking Rate')\n",
    "ax2.yaxis.set_major_formatter(FormatStrFormatter('%.2f'))\n",
    "ax2.grid()\n",
    "\n",
    "plt.show()"
   ]
  },
  {
   "cell_type": "code",
   "execution_count": null,
   "metadata": {},
   "outputs": [],
   "source": []
  }
 ],
 "metadata": {
  "kernelspec": {
   "display_name": "Python 2",
   "language": "python",
   "name": "python2"
  },
  "language_info": {
   "codemirror_mode": {
    "name": "ipython",
    "version": 2
   },
   "file_extension": ".py",
   "mimetype": "text/x-python",
   "name": "python",
   "nbconvert_exporter": "python",
   "pygments_lexer": "ipython2",
   "version": "2.7.15"
  }
 },
 "nbformat": 4,
 "nbformat_minor": 2
}
