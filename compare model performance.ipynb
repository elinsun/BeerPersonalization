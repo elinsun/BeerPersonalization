{
  "nbformat": 4,
  "nbformat_minor": 0,
  "metadata": {
    "colab": {
      "name": "Copy of 4571.ipynb",
      "version": "0.3.2",
      "provenance": [],
      "collapsed_sections": [],
      "toc_visible": true
    },
    "kernelspec": {
      "name": "python3",
      "display_name": "Python 3"
    },
    "accelerator": "GPU"
  },
  "cells": [
    {
      "metadata": {
        "id": "NfAiVolcpZvH",
        "colab_type": "text"
      },
      "cell_type": "markdown",
      "source": [
        "# Beer Recommendation\n",
        "Fall 2018, 4571 Recommendation System Final Project\n",
        "\n",
        "- Scalability: compare the performance of different algorithms among users/items with different number of reviews\n",
        "\n"
      ]
    },
    {
      "metadata": {
        "id": "Mssd0ltK8JDx",
        "colab_type": "text"
      },
      "cell_type": "markdown",
      "source": [
        "## Part 1: Data Preprocessing"
      ]
    },
    {
      "metadata": {
        "id": "M2Ca1Bu7ybHf",
        "colab_type": "code",
        "outputId": "094aa7ff-ee39-4281-eb96-41b0468882a4",
        "colab": {
          "base_uri": "https://localhost:8080/",
          "height": 193
        }
      },
      "cell_type": "code",
      "source": [
        "# based on Google Colab \n",
        "# python 3\n",
        "!pip install scikit-surprise"
      ],
      "execution_count": 1,
      "outputs": [
        {
          "output_type": "stream",
          "text": [
            "Requirement already satisfied: scikit-surprise in /usr/local/lib/python3.6/dist-packages (1.0.6)\n",
            "Requirement already satisfied: six>=1.10.0 in /usr/local/lib/python3.6/dist-packages (from scikit-surprise) (1.11.0)\n",
            "Requirement already satisfied: numpy>=1.11.2 in /usr/local/lib/python3.6/dist-packages (from scikit-surprise) (1.14.6)\n",
            "Requirement already satisfied: scipy>=1.0.0 in /usr/local/lib/python3.6/dist-packages (from scikit-surprise) (1.1.0)\n",
            "Requirement already satisfied: joblib>=0.11 in /usr/local/lib/python3.6/dist-packages (from scikit-surprise) (0.13.0)\n"
          ],
          "name": "stdout"
        }
      ]
    },
    {
      "metadata": {
        "id": "0UNJOz1iLEEz",
        "colab_type": "code",
        "colab": {}
      },
      "cell_type": "code",
      "source": [
        "import pandas as pd\n",
        "import numpy as np\n",
        "import os\n",
        "import itertools as it\n",
        "import matplotlib.pyplot as plt\n",
        "import matplotlib.pyplot as plt\n",
        "\n",
        "from sklearn.model_selection import train_test_split\n",
        "from matplotlib.ticker import FormatStrFormatter\n",
        "from surprise.model_selection import train_test_split\n",
        "from surprise import NMF, Reader, Dataset, SVD, NMF, accuracy"
      ],
      "execution_count": 0,
      "outputs": []
    },
    {
      "metadata": {
        "id": "QneWL06UpaQk",
        "colab_type": "code",
        "outputId": "43dac892-2f7f-4ac1-a87d-5fcf585f2478",
        "colab": {
          "base_uri": "https://localhost:8080/",
          "height": 74
        }
      },
      "cell_type": "code",
      "source": [
        "from google.colab import drive\n",
        "drive.mount('/content/gdrive')"
      ],
      "execution_count": 3,
      "outputs": [
        {
          "output_type": "stream",
          "text": [
            "Drive already mounted at /content/gdrive; to attempt to forcibly remount, call drive.mount(\"/content/gdrive\", force_remount=True).\n"
          ],
          "name": "stdout"
        }
      ]
    },
    {
      "metadata": {
        "id": "5apjyVYtwt1H",
        "colab_type": "text"
      },
      "cell_type": "markdown",
      "source": [
        "### 1.1 Load Data"
      ]
    },
    {
      "metadata": {
        "id": "VrCif9HWaZt2",
        "colab_type": "code",
        "colab": {}
      },
      "cell_type": "code",
      "source": [
        "# load metadata from Google Drive \n",
        "# save as a list\n",
        "data = []\n",
        "one_complete_review = []\n",
        "\n",
        "with open('/content/gdrive/My Drive/beeradvocate.txt', 'r') as f:\n",
        "  for i in f: \n",
        "    #row = i.decode(encoding = 'UTF-8',errors = 'ignore')\n",
        "    row = i.replace('beer/', 'beer_').replace('review/','review_') \n",
        "    if row == '\\n':\n",
        "      data.append(one_complete_review)\n",
        "      one_complete_review = []\n",
        "      continue\n",
        "    row = row.split(\": \", 1)[1].rstrip()\n",
        "    one_complete_review.append(row)"
      ],
      "execution_count": 0,
      "outputs": []
    },
    {
      "metadata": {
        "id": "Lsw0ncLmJrdH",
        "colab_type": "code",
        "colab": {}
      },
      "cell_type": "code",
      "source": [
        "# convert list to dataframe\n",
        "column_names = ['beer_name', 'beer_beerId', 'beer_brewer', 'beer_ABV', 'beer_style', \n",
        "                'review_appearance', 'review_aroma', 'review_palate', 'review_taste', \n",
        "                'review_overall', 'review_time', 'review_profileName', 'review_text']\n",
        "\n",
        "df = pd.DataFrame.from_records(data, columns=column_names)"
      ],
      "execution_count": 0,
      "outputs": []
    },
    {
      "metadata": {
        "id": "D7pe2FKQlAEl",
        "colab_type": "code",
        "outputId": "2fe3a2e9-d472-4376-d012-cef4386d1756",
        "colab": {
          "base_uri": "https://localhost:8080/",
          "height": 323
        }
      },
      "cell_type": "code",
      "source": [
        "# descriptive \n",
        "df.info()"
      ],
      "execution_count": 6,
      "outputs": [
        {
          "output_type": "stream",
          "text": [
            "<class 'pandas.core.frame.DataFrame'>\n",
            "RangeIndex: 1586614 entries, 0 to 1586613\n",
            "Data columns (total 13 columns):\n",
            "beer_name             1586614 non-null object\n",
            "beer_beerId           1586614 non-null object\n",
            "beer_brewer           1586614 non-null object\n",
            "beer_ABV              1586614 non-null object\n",
            "beer_style            1586614 non-null object\n",
            "review_appearance     1586614 non-null object\n",
            "review_aroma          1586614 non-null object\n",
            "review_palate         1586614 non-null object\n",
            "review_taste          1586614 non-null object\n",
            "review_overall        1586614 non-null object\n",
            "review_time           1586614 non-null object\n",
            "review_profileName    1586614 non-null object\n",
            "review_text           1586614 non-null object\n",
            "dtypes: object(13)\n",
            "memory usage: 157.4+ MB\n"
          ],
          "name": "stdout"
        }
      ]
    },
    {
      "metadata": {
        "id": "jf_Sd4_WK7kl",
        "colab_type": "code",
        "outputId": "88011e36-0368-42ac-893a-3d8c5c6c1250",
        "colab": {
          "base_uri": "https://localhost:8080/",
          "height": 335
        }
      },
      "cell_type": "code",
      "source": [
        "df.head(3)"
      ],
      "execution_count": 7,
      "outputs": [
        {
          "output_type": "execute_result",
          "data": {
            "text/html": [
              "<div>\n",
              "<style scoped>\n",
              "    .dataframe tbody tr th:only-of-type {\n",
              "        vertical-align: middle;\n",
              "    }\n",
              "\n",
              "    .dataframe tbody tr th {\n",
              "        vertical-align: top;\n",
              "    }\n",
              "\n",
              "    .dataframe thead th {\n",
              "        text-align: right;\n",
              "    }\n",
              "</style>\n",
              "<table border=\"1\" class=\"dataframe\">\n",
              "  <thead>\n",
              "    <tr style=\"text-align: right;\">\n",
              "      <th></th>\n",
              "      <th>beer_name</th>\n",
              "      <th>beer_beerId</th>\n",
              "      <th>beer_brewer</th>\n",
              "      <th>beer_ABV</th>\n",
              "      <th>beer_style</th>\n",
              "      <th>review_appearance</th>\n",
              "      <th>review_aroma</th>\n",
              "      <th>review_palate</th>\n",
              "      <th>review_taste</th>\n",
              "      <th>review_overall</th>\n",
              "      <th>review_time</th>\n",
              "      <th>review_profileName</th>\n",
              "      <th>review_text</th>\n",
              "    </tr>\n",
              "  </thead>\n",
              "  <tbody>\n",
              "    <tr>\n",
              "      <th>0</th>\n",
              "      <td>Sausa Weizen</td>\n",
              "      <td>47986</td>\n",
              "      <td>10325</td>\n",
              "      <td>5.00</td>\n",
              "      <td>Hefeweizen</td>\n",
              "      <td>2.5</td>\n",
              "      <td>2</td>\n",
              "      <td>1.5</td>\n",
              "      <td>1.5</td>\n",
              "      <td>1.5</td>\n",
              "      <td>1234817823</td>\n",
              "      <td>stcules</td>\n",
              "      <td>A lot of foam. But a lot.\\tIn the smell some b...</td>\n",
              "    </tr>\n",
              "    <tr>\n",
              "      <th>1</th>\n",
              "      <td>Red Moon</td>\n",
              "      <td>48213</td>\n",
              "      <td>10325</td>\n",
              "      <td>6.20</td>\n",
              "      <td>English Strong Ale</td>\n",
              "      <td>3</td>\n",
              "      <td>2.5</td>\n",
              "      <td>3</td>\n",
              "      <td>3</td>\n",
              "      <td>3</td>\n",
              "      <td>1235915097</td>\n",
              "      <td>stcules</td>\n",
              "      <td>Dark red color, light beige foam, average.\\tIn...</td>\n",
              "    </tr>\n",
              "    <tr>\n",
              "      <th>2</th>\n",
              "      <td>Black Horse Black Beer</td>\n",
              "      <td>48215</td>\n",
              "      <td>10325</td>\n",
              "      <td>6.50</td>\n",
              "      <td>Foreign / Export Stout</td>\n",
              "      <td>3</td>\n",
              "      <td>2.5</td>\n",
              "      <td>3</td>\n",
              "      <td>3</td>\n",
              "      <td>3</td>\n",
              "      <td>1235916604</td>\n",
              "      <td>stcules</td>\n",
              "      <td>Almost totally black. Beige foam, quite compac...</td>\n",
              "    </tr>\n",
              "  </tbody>\n",
              "</table>\n",
              "</div>"
            ],
            "text/plain": [
              "                beer_name beer_beerId beer_brewer beer_ABV  \\\n",
              "0            Sausa Weizen       47986       10325     5.00   \n",
              "1                Red Moon       48213       10325     6.20   \n",
              "2  Black Horse Black Beer       48215       10325     6.50   \n",
              "\n",
              "               beer_style review_appearance review_aroma review_palate  \\\n",
              "0              Hefeweizen               2.5            2           1.5   \n",
              "1      English Strong Ale                 3          2.5             3   \n",
              "2  Foreign / Export Stout                 3          2.5             3   \n",
              "\n",
              "  review_taste review_overall review_time review_profileName  \\\n",
              "0          1.5            1.5  1234817823            stcules   \n",
              "1            3              3  1235915097            stcules   \n",
              "2            3              3  1235916604            stcules   \n",
              "\n",
              "                                         review_text  \n",
              "0  A lot of foam. But a lot.\\tIn the smell some b...  \n",
              "1  Dark red color, light beige foam, average.\\tIn...  \n",
              "2  Almost totally black. Beige foam, quite compac...  "
            ]
          },
          "metadata": {
            "tags": []
          },
          "execution_count": 7
        }
      ]
    },
    {
      "metadata": {
        "id": "smNuxKZYjdW1",
        "colab_type": "code",
        "outputId": "38369cb9-20a6-4577-fc1a-bcefc527989f",
        "colab": {
          "base_uri": "https://localhost:8080/",
          "height": 85
        }
      },
      "cell_type": "code",
      "source": [
        "print('The full dataset includes:')\n",
        "print('%d unique beers;' % df.beer_beerId.nunique())\n",
        "print('%d unique users;' % df.review_profileName.nunique())\n",
        "print('and %d reviews in total.' % df.shape[0])"
      ],
      "execution_count": 8,
      "outputs": [
        {
          "output_type": "stream",
          "text": [
            "The full dataset includes:\n",
            "66055 unique beers;\n",
            "33388 unique users;\n",
            "and 1586614 reviews in total.\n"
          ],
          "name": "stdout"
        }
      ]
    },
    {
      "metadata": {
        "id": "p43O38umy4Y2",
        "colab_type": "text"
      },
      "cell_type": "markdown",
      "source": [
        "### 1.2 Exploratory Data Analysis"
      ]
    },
    {
      "metadata": {
        "id": "rPigP-ls6UEN",
        "colab_type": "text"
      },
      "cell_type": "markdown",
      "source": [
        "#### users"
      ]
    },
    {
      "metadata": {
        "id": "Qt57koiXy7nw",
        "colab_type": "code",
        "colab": {}
      },
      "cell_type": "code",
      "source": [
        "num_review_byuser = df.review_profileName.value_counts()\n",
        "freq_list_user = np.array(list(dict(num_review_byuser).values()))"
      ],
      "execution_count": 0,
      "outputs": []
    },
    {
      "metadata": {
        "id": "hLlMub79L2Au",
        "colab_type": "code",
        "outputId": "757cf267-6c22-4f93-dcea-84eeeec67495",
        "colab": {
          "base_uri": "https://localhost:8080/",
          "height": 265
        }
      },
      "cell_type": "code",
      "source": [
        "plt.figure(figsize=(14, 4))\n",
        "plt.hist(freq_list_user, bins=300)\n",
        "plt.show()"
      ],
      "execution_count": 10,
      "outputs": [
        {
          "output_type": "display_data",
          "data": {
            "image/png": "[encoded data removed]",
            "text/plain": [
              "<matplotlib.figure.Figure at 0x7f59e75de898>"
            ]
          },
          "metadata": {
            "tags": []
          }
        }
      ]
    },
    {
      "metadata": {
        "id": "WGifsVmBy8GW",
        "colab_type": "code",
        "outputId": "326cb6a1-78e4-45ef-c726-fda7e5b0ac36",
        "colab": {
          "base_uri": "https://localhost:8080/",
          "height": 294
        }
      },
      "cell_type": "code",
      "source": [
        "user5more = freq_list_user[np.where(freq_list_user >= 300)]\n",
        "user5less = freq_list_user[np.where(freq_list_user < 300)]\n",
        "\n",
        "plt.figure(figsize=(14, 4))\n",
        "\n",
        "plt.subplot(121)\n",
        "plt.hist(user5less, bins=30)\n",
        "plt.title('# of users (with Less than 300 reviews)')\n",
        "plt.xlabel('# of reviews')\n",
        "plt.axhline(y=1000, color='r', linestyle='-')\n",
        "\n",
        "plt.subplot(122)\n",
        "plt.hist(user5more, bins=300)\n",
        "plt.title('# of users (with More than 300 reviews)')\n",
        "plt.xlabel('# of reviews')\n",
        "\n",
        "plt.show()"
      ],
      "execution_count": 11,
      "outputs": [
        {
          "output_type": "display_data",
          "data": {
            "image/png": "[encoded data removed]",
            "text/plain": [
              "<matplotlib.figure.Figure at 0x7f5a3e869dd8>"
            ]
          },
          "metadata": {
            "tags": []
          }
        }
      ]
    },
    {
      "metadata": {
        "id": "njLY-TDOLD0B",
        "colab_type": "text"
      },
      "cell_type": "markdown",
      "source": [
        "We have 33388 unique users, among them ~28000 users have less than 30 reviews."
      ]
    },
    {
      "metadata": {
        "id": "QTjzagZ86V_L",
        "colab_type": "text"
      },
      "cell_type": "markdown",
      "source": [
        "#### beers"
      ]
    },
    {
      "metadata": {
        "id": "E1llGa_Y6Zkr",
        "colab_type": "code",
        "colab": {}
      },
      "cell_type": "code",
      "source": [
        "num_review_bybeer = df.beer_name.value_counts()\n",
        "freq_list_beer = np.array(list(dict(num_review_bybeer).values()))"
      ],
      "execution_count": 0,
      "outputs": []
    },
    {
      "metadata": {
        "id": "ddXjZ0dh6sFZ",
        "colab_type": "code",
        "outputId": "422486ef-f134-479e-f3dd-147c1ca9c5e8",
        "colab": {
          "base_uri": "https://localhost:8080/",
          "height": 294
        }
      },
      "cell_type": "code",
      "source": [
        "beer5more = freq_list_beer[np.where(freq_list_beer >= 200)]\n",
        "beer5less = freq_list_beer[np.where(freq_list_beer < 200)]\n",
        "\n",
        "plt.figure(figsize=(14, 4))\n",
        "\n",
        "plt.subplot(121)\n",
        "plt.hist(beer5less, bins=40)\n",
        "plt.title('histogram of beer with Less than 200 reviews')\n",
        "plt.xlabel('# of reviews')\n",
        "plt.axhline(y=1200, color='r', linestyle='-')\n",
        "\n",
        "plt.subplot(122)\n",
        "plt.hist(beer5more, bins=300)\n",
        "plt.title('histogram of beer with More than 200 reviews')\n",
        "plt.xlabel('# of reviews')\n",
        "\n",
        "plt.show()"
      ],
      "execution_count": 13,
      "outputs": [
        {
          "output_type": "display_data",
          "data": {
            "image/png": "[encoded data removed]",
            "text/plain": [
              "<matplotlib.figure.Figure at 0x7f59e49daa58>"
            ]
          },
          "metadata": {
            "tags": []
          }
        }
      ]
    },
    {
      "metadata": {
        "id": "DneoL1w4ncSk",
        "colab_type": "text"
      },
      "cell_type": "markdown",
      "source": [
        "### 1.3 Subset from Metadata"
      ]
    },
    {
      "metadata": {
        "id": "4w89UnKGn6tp",
        "colab_type": "code",
        "outputId": "02bdf697-a48e-4f6c-9555-95687ed74c5b",
        "colab": {
          "base_uri": "https://localhost:8080/",
          "height": 68
        }
      },
      "cell_type": "code",
      "source": [
        "# subset data for collabrotive filtering\n",
        "df1 = df[['beer_name', 'beer_beerId', 'review_profileName', 'review_overall', 'review_time']]\n",
        "print('Original data size: %s' % str(df1.shape)) \n",
        "\n",
        "# remove NA \n",
        "df1 = df1[pd.notnull(df1.beer_name) & pd.notnull(df1.review_profileName) & pd.notnull(df1.review_overall)]\n",
        "# remove blanks\n",
        "df1 = df1.loc[df1.review_profileName != '']\n",
        "df1 = df1.loc[df1.beer_name != '']\n",
        "df1 = df1.loc[df1.review_overall != '']\n",
        "print('After removing NAs and blanks: %s' % str(df1.shape)) \n",
        "\n",
        "# drop duplicate (beer&user) pairs, keep the latest rating\n",
        "df1['beer_user_pair'] = df1.beer_name + df1.review_profileName\n",
        "df1 = df1.sort_values(by=['review_time'], ascending=False).drop_duplicates(subset=['beer_user_pair'])\n",
        "print('After drop duplicate user-item pairs (only keep the latest rating), data size: %s' % str(df1.shape))\n",
        "\n",
        "# convert review ratings to numberic\n",
        "df1.review_overall = pd.to_numeric(df1.review_overall)"
      ],
      "execution_count": 14,
      "outputs": [
        {
          "output_type": "stream",
          "text": [
            "Original data size: (1586614, 5)\n",
            "After removing NAs and blanks: (1586266, 5)\n",
            "After drop duplicate user-item pairs (only keep the latest rating), data size: (1561405, 6)\n"
          ],
          "name": "stdout"
        }
      ]
    },
    {
      "metadata": {
        "id": "StxaZXa96OhD",
        "colab_type": "code",
        "outputId": "c80b8619-1b82-4d9f-b0f3-d0a68b70f9aa",
        "colab": {
          "base_uri": "https://localhost:8080/",
          "height": 193
        }
      },
      "cell_type": "code",
      "source": [
        "df1.head(3)"
      ],
      "execution_count": 15,
      "outputs": [
        {
          "output_type": "execute_result",
          "data": {
            "text/html": [
              "<div>\n",
              "<style scoped>\n",
              "    .dataframe tbody tr th:only-of-type {\n",
              "        vertical-align: middle;\n",
              "    }\n",
              "\n",
              "    .dataframe tbody tr th {\n",
              "        vertical-align: top;\n",
              "    }\n",
              "\n",
              "    .dataframe thead th {\n",
              "        text-align: right;\n",
              "    }\n",
              "</style>\n",
              "<table border=\"1\" class=\"dataframe\">\n",
              "  <thead>\n",
              "    <tr style=\"text-align: right;\">\n",
              "      <th></th>\n",
              "      <th>beer_name</th>\n",
              "      <th>beer_beerId</th>\n",
              "      <th>review_profileName</th>\n",
              "      <th>review_overall</th>\n",
              "      <th>review_time</th>\n",
              "      <th>beer_user_pair</th>\n",
              "    </tr>\n",
              "  </thead>\n",
              "  <tbody>\n",
              "    <tr>\n",
              "      <th>581215</th>\n",
              "      <td>Pete's Wicked Strawberry Blonde</td>\n",
              "      <td>381</td>\n",
              "      <td>bk3nj</td>\n",
              "      <td>3.0</td>\n",
              "      <td>999999652</td>\n",
              "      <td>Pete's Wicked Strawberry Blondebk3nj</td>\n",
              "    </tr>\n",
              "    <tr>\n",
              "      <th>1023623</th>\n",
              "      <td>Fiji Bitter</td>\n",
              "      <td>1480</td>\n",
              "      <td>Mark</td>\n",
              "      <td>4.0</td>\n",
              "      <td>999980551</td>\n",
              "      <td>Fiji BitterMark</td>\n",
              "    </tr>\n",
              "    <tr>\n",
              "      <th>1077899</th>\n",
              "      <td>Wolaver's India Pale Ale</td>\n",
              "      <td>399</td>\n",
              "      <td>bcm119</td>\n",
              "      <td>3.5</td>\n",
              "      <td>999903142</td>\n",
              "      <td>Wolaver's India Pale Alebcm119</td>\n",
              "    </tr>\n",
              "  </tbody>\n",
              "</table>\n",
              "</div>"
            ],
            "text/plain": [
              "                               beer_name beer_beerId review_profileName  \\\n",
              "581215   Pete's Wicked Strawberry Blonde         381              bk3nj   \n",
              "1023623                      Fiji Bitter        1480               Mark   \n",
              "1077899         Wolaver's India Pale Ale         399             bcm119   \n",
              "\n",
              "         review_overall review_time                        beer_user_pair  \n",
              "581215              3.0   999999652  Pete's Wicked Strawberry Blondebk3nj  \n",
              "1023623             4.0   999980551                       Fiji BitterMark  \n",
              "1077899             3.5   999903142        Wolaver's India Pale Alebcm119  "
            ]
          },
          "metadata": {
            "tags": []
          },
          "execution_count": 15
        }
      ]
    },
    {
      "metadata": {
        "id": "m9Ht9Sa-OX_U",
        "colab_type": "text"
      },
      "cell_type": "markdown",
      "source": [
        "#### remove bottom users and beers"
      ]
    },
    {
      "metadata": {
        "id": "0Jk6lij9ErZN",
        "colab_type": "code",
        "outputId": "34d54c90-8959-4a41-b45f-07d9c74e2db2",
        "colab": {
          "base_uri": "https://localhost:8080/",
          "height": 261
        }
      },
      "cell_type": "code",
      "source": [
        "# subset three columns\n",
        "cf = df1[['review_profileName', 'beer_name', 'review_overall']]\n",
        "\n",
        "# sort user by # of reviews\n",
        "cnt_user = dict(num_review_byuser)\n",
        "cf['user_freq'] = [cnt_user.get(x) for x in cf.review_profileName]\n",
        "\n",
        "# sort beer by # of reviews\n",
        "cnt_beer = dict(num_review_bybeer)\n",
        "cf['beer_freq'] = [cnt_beer.get(x) for x in cf.beer_name]\n",
        "\n",
        "# drop users with less than 10 reviews\n",
        "# drop beers with less than 5 reviews\n",
        "cf = cf.loc[cf.user_freq > 10]\n",
        "cf = cf.loc[cf.beer_freq > 5]"
      ],
      "execution_count": 16,
      "outputs": [
        {
          "output_type": "stream",
          "text": [
            "/usr/local/lib/python3.6/dist-packages/ipykernel_launcher.py:5: SettingWithCopyWarning: \n",
            "A value is trying to be set on a copy of a slice from a DataFrame.\n",
            "Try using .loc[row_indexer,col_indexer] = value instead\n",
            "\n",
            "See the caveats in the documentation: http://pandas.pydata.org/pandas-docs/stable/indexing.html#indexing-view-versus-copy\n",
            "  \"\"\"\n",
            "/usr/local/lib/python3.6/dist-packages/ipykernel_launcher.py:9: SettingWithCopyWarning: \n",
            "A value is trying to be set on a copy of a slice from a DataFrame.\n",
            "Try using .loc[row_indexer,col_indexer] = value instead\n",
            "\n",
            "See the caveats in the documentation: http://pandas.pydata.org/pandas-docs/stable/indexing.html#indexing-view-versus-copy\n",
            "  if __name__ == '__main__':\n"
          ],
          "name": "stderr"
        }
      ]
    },
    {
      "metadata": {
        "id": "FozoopjYKOrC",
        "colab_type": "code",
        "outputId": "4035bcb0-e3d7-474d-8157-a7718853ba7f",
        "colab": {
          "base_uri": "https://localhost:8080/",
          "height": 85
        }
      },
      "cell_type": "code",
      "source": [
        "print('After removing bottom users and beers,')\n",
        "print('%d unique beers;' % cf.beer_name.nunique())\n",
        "print('%d unique users;' % cf.review_profileName.nunique())\n",
        "print('and %d reviews in total.' % cf.shape[0])"
      ],
      "execution_count": 17,
      "outputs": [
        {
          "output_type": "stream",
          "text": [
            "After removing bottom users and beers,\n",
            "18925 unique beers;\n",
            "10189 unique users;\n",
            "and 1423856 reviews in total.\n"
          ],
          "name": "stdout"
        }
      ]
    },
    {
      "metadata": {
        "id": "coPrQ4D9JlmU",
        "colab_type": "code",
        "outputId": "249b29d6-affc-435f-fe9e-868791935f42",
        "colab": {
          "base_uri": "https://localhost:8080/",
          "height": 142
        }
      },
      "cell_type": "code",
      "source": [
        "cf.head(3)"
      ],
      "execution_count": 18,
      "outputs": [
        {
          "output_type": "execute_result",
          "data": {
            "text/html": [
              "<div>\n",
              "<style scoped>\n",
              "    .dataframe tbody tr th:only-of-type {\n",
              "        vertical-align: middle;\n",
              "    }\n",
              "\n",
              "    .dataframe tbody tr th {\n",
              "        vertical-align: top;\n",
              "    }\n",
              "\n",
              "    .dataframe thead th {\n",
              "        text-align: right;\n",
              "    }\n",
              "</style>\n",
              "<table border=\"1\" class=\"dataframe\">\n",
              "  <thead>\n",
              "    <tr style=\"text-align: right;\">\n",
              "      <th></th>\n",
              "      <th>review_profileName</th>\n",
              "      <th>beer_name</th>\n",
              "      <th>review_overall</th>\n",
              "      <th>user_freq</th>\n",
              "      <th>beer_freq</th>\n",
              "    </tr>\n",
              "  </thead>\n",
              "  <tbody>\n",
              "    <tr>\n",
              "      <th>581215</th>\n",
              "      <td>bk3nj</td>\n",
              "      <td>Pete's Wicked Strawberry Blonde</td>\n",
              "      <td>3.0</td>\n",
              "      <td>45</td>\n",
              "      <td>298</td>\n",
              "    </tr>\n",
              "    <tr>\n",
              "      <th>1023623</th>\n",
              "      <td>Mark</td>\n",
              "      <td>Fiji Bitter</td>\n",
              "      <td>4.0</td>\n",
              "      <td>532</td>\n",
              "      <td>8</td>\n",
              "    </tr>\n",
              "    <tr>\n",
              "      <th>1077899</th>\n",
              "      <td>bcm119</td>\n",
              "      <td>Wolaver's India Pale Ale</td>\n",
              "      <td>3.5</td>\n",
              "      <td>175</td>\n",
              "      <td>257</td>\n",
              "    </tr>\n",
              "  </tbody>\n",
              "</table>\n",
              "</div>"
            ],
            "text/plain": [
              "        review_profileName                        beer_name  review_overall  \\\n",
              "581215               bk3nj  Pete's Wicked Strawberry Blonde             3.0   \n",
              "1023623               Mark                      Fiji Bitter             4.0   \n",
              "1077899             bcm119         Wolaver's India Pale Ale             3.5   \n",
              "\n",
              "         user_freq  beer_freq  \n",
              "581215          45        298  \n",
              "1023623        532          8  \n",
              "1077899        175        257  "
            ]
          },
          "metadata": {
            "tags": []
          },
          "execution_count": 18
        }
      ]
    },
    {
      "metadata": {
        "id": "blk5sjcwKiPh",
        "colab_type": "code",
        "outputId": "729a23d8-ebce-4465-9cc6-1505479ba9f1",
        "colab": {
          "base_uri": "https://localhost:8080/",
          "height": 389
        }
      },
      "cell_type": "code",
      "source": [
        "# user \n",
        "freq = cf.review_profileName.value_counts()\n",
        "freq = np.array(list(dict(freq).values()))\n",
        "\n",
        "plt.figure(figsize=(14, 6))\n",
        "plt.subplot(121)\n",
        "plt.boxplot(freq, 0, 'rs', 0)\n",
        "plt.title('# of reviews for each user')\n",
        "\n",
        "plt.subplot(122)\n",
        "plt.hist(freq, bins=400)\n",
        "\n",
        "plt.show()"
      ],
      "execution_count": 19,
      "outputs": [
        {
          "output_type": "display_data",
          "data": {
            "image/png": "[encoded data removed]",
            "text/plain": [
              "<matplotlib.figure.Figure at 0x7f59e44ebe48>"
            ]
          },
          "metadata": {
            "tags": []
          }
        }
      ]
    },
    {
      "metadata": {
        "id": "1HOYWMt-OExk",
        "colab_type": "code",
        "outputId": "b8c51062-d516-4b85-b031-8a4489018ea7",
        "colab": {
          "base_uri": "https://localhost:8080/",
          "height": 389
        }
      },
      "cell_type": "code",
      "source": [
        "# beer\n",
        "freqb = cf.beer_name.value_counts()\n",
        "freqb = np.array(list(dict(freqb).values()))\n",
        "\n",
        "plt.figure(figsize=(14, 6))\n",
        "plt.subplot(121)\n",
        "plt.boxplot(freqb, 0, 'rs', 0)\n",
        "plt.title('# of reviews for each beer')\n",
        "\n",
        "plt.subplot(122)\n",
        "plt.hist(freqb, bins=250)\n",
        "\n",
        "plt.show()"
      ],
      "execution_count": 20,
      "outputs": [
        {
          "output_type": "display_data",
          "data": {
            "image/png": "[encoded data removed]",
            "text/plain": [
              "<matplotlib.figure.Figure at 0x7f59e47e9eb8>"
            ]
          },
          "metadata": {
            "tags": []
          }
        }
      ]
    },
    {
      "metadata": {
        "id": "u0cr1LlnOSd8",
        "colab_type": "text"
      },
      "cell_type": "markdown",
      "source": [
        "#### split into two groups\n",
        "- users with more than 100 reviews;\n",
        "- users with less than 100 reviews."
      ]
    },
    {
      "metadata": {
        "id": "d_36fdtMCcNo",
        "colab_type": "code",
        "outputId": "838cb050-729b-4ca3-f356-a903e1602f2d",
        "colab": {
          "base_uri": "https://localhost:8080/",
          "height": 204
        }
      },
      "cell_type": "code",
      "source": [
        "# split into two groups\n",
        "threshold = 100\n",
        "\n",
        "more = cf.loc[cf.user_freq > threshold]\n",
        "less = cf.loc[cf.user_freq <= threshold]\n",
        "\n",
        "more.head()"
      ],
      "execution_count": 21,
      "outputs": [
        {
          "output_type": "execute_result",
          "data": {
            "text/html": [
              "<div>\n",
              "<style scoped>\n",
              "    .dataframe tbody tr th:only-of-type {\n",
              "        vertical-align: middle;\n",
              "    }\n",
              "\n",
              "    .dataframe tbody tr th {\n",
              "        vertical-align: top;\n",
              "    }\n",
              "\n",
              "    .dataframe thead th {\n",
              "        text-align: right;\n",
              "    }\n",
              "</style>\n",
              "<table border=\"1\" class=\"dataframe\">\n",
              "  <thead>\n",
              "    <tr style=\"text-align: right;\">\n",
              "      <th></th>\n",
              "      <th>review_profileName</th>\n",
              "      <th>beer_name</th>\n",
              "      <th>review_overall</th>\n",
              "      <th>user_freq</th>\n",
              "      <th>beer_freq</th>\n",
              "    </tr>\n",
              "  </thead>\n",
              "  <tbody>\n",
              "    <tr>\n",
              "      <th>1023623</th>\n",
              "      <td>Mark</td>\n",
              "      <td>Fiji Bitter</td>\n",
              "      <td>4.0</td>\n",
              "      <td>532</td>\n",
              "      <td>8</td>\n",
              "    </tr>\n",
              "    <tr>\n",
              "      <th>1077899</th>\n",
              "      <td>bcm119</td>\n",
              "      <td>Wolaver's India Pale Ale</td>\n",
              "      <td>3.5</td>\n",
              "      <td>175</td>\n",
              "      <td>257</td>\n",
              "    </tr>\n",
              "    <tr>\n",
              "      <th>797362</th>\n",
              "      <td>Jason</td>\n",
              "      <td>Lindemans Framboise</td>\n",
              "      <td>3.5</td>\n",
              "      <td>2350</td>\n",
              "      <td>903</td>\n",
              "    </tr>\n",
              "    <tr>\n",
              "      <th>808675</th>\n",
              "      <td>Jason</td>\n",
              "      <td>Chapeau Framboise Lambic</td>\n",
              "      <td>4.0</td>\n",
              "      <td>2350</td>\n",
              "      <td>44</td>\n",
              "    </tr>\n",
              "    <tr>\n",
              "      <th>961766</th>\n",
              "      <td>Jason</td>\n",
              "      <td>Dooryard Ale</td>\n",
              "      <td>3.0</td>\n",
              "      <td>2350</td>\n",
              "      <td>13</td>\n",
              "    </tr>\n",
              "  </tbody>\n",
              "</table>\n",
              "</div>"
            ],
            "text/plain": [
              "        review_profileName                 beer_name  review_overall  \\\n",
              "1023623               Mark               Fiji Bitter             4.0   \n",
              "1077899             bcm119  Wolaver's India Pale Ale             3.5   \n",
              "797362               Jason       Lindemans Framboise             3.5   \n",
              "808675               Jason  Chapeau Framboise Lambic             4.0   \n",
              "961766               Jason              Dooryard Ale             3.0   \n",
              "\n",
              "         user_freq  beer_freq  \n",
              "1023623        532          8  \n",
              "1077899        175        257  \n",
              "797362        2350        903  \n",
              "808675        2350         44  \n",
              "961766        2350         13  "
            ]
          },
          "metadata": {
            "tags": []
          },
          "execution_count": 21
        }
      ]
    },
    {
      "metadata": {
        "id": "gB63pBeQW33K",
        "colab_type": "code",
        "outputId": "8ccc2e93-1477-410f-e46f-72475501d8bc",
        "colab": {
          "base_uri": "https://localhost:8080/",
          "height": 420
        }
      },
      "cell_type": "code",
      "source": [
        "# visualize two groups\n",
        "print('group > %d has the size: %s' % (threshold, str(more.shape)))\n",
        "\n",
        "freqm = more.review_profileName.value_counts()\n",
        "freqm = np.array(list(dict(freqm).values()))\n",
        "\n",
        "plt.figure(figsize=(14, 6))\n",
        "plt.subplot(121)\n",
        "plt.boxplot(freqm, 0, 'rs', 0)\n",
        "plt.title('# of reviews for each user (more than 50 reviews)')\n",
        "\n",
        "plt.subplot(122)\n",
        "plt.hist(freqm, bins=200)\n",
        "plt.ylabel('# of users')\n",
        "plt.xlabel('# of reviews')\n",
        "plt.show()"
      ],
      "execution_count": 22,
      "outputs": [
        {
          "output_type": "stream",
          "text": [
            "group > 100 has the size: (1186781, 5)\n"
          ],
          "name": "stdout"
        },
        {
          "output_type": "display_data",
          "data": {
            "image/png": "[encoded data removed]",
            "text/plain": [
              "<matplotlib.figure.Figure at 0x7f59db02d9e8>"
            ]
          },
          "metadata": {
            "tags": []
          }
        }
      ]
    },
    {
      "metadata": {
        "id": "s7jWO3jrXGbi",
        "colab_type": "code",
        "outputId": "8f1e0856-9fec-4fa3-cf7a-664a0a2d340b",
        "colab": {
          "base_uri": "https://localhost:8080/",
          "height": 420
        }
      },
      "cell_type": "code",
      "source": [
        "# visualize two groups\n",
        "print('group <= %d has the size: %s' % (threshold, str(less.shape)))\n",
        "\n",
        "freql = less.review_profileName.value_counts()\n",
        "freql = np.array(list(dict(freql).values()))\n",
        "\n",
        "plt.figure(figsize=(14, 6))\n",
        "plt.subplot(121)\n",
        "plt.boxplot(freql, 0, 'rs', 0)\n",
        "plt.title('# of reviews for each user (less than 50 reviews)')\n",
        "\n",
        "plt.subplot(122)\n",
        "plt.hist(freql, bins=100)\n",
        "plt.ylabel('# of users')\n",
        "plt.xlabel('# of reviews')\n",
        "plt.show()"
      ],
      "execution_count": 23,
      "outputs": [
        {
          "output_type": "stream",
          "text": [
            "group <= 100 has the size: (237075, 5)\n"
          ],
          "name": "stdout"
        },
        {
          "output_type": "display_data",
          "data": {
            "image/png": "[encoded data removed]",
            "text/plain": [
              "<matplotlib.figure.Figure at 0x7f59dade8630>"
            ]
          },
          "metadata": {
            "tags": []
          }
        }
      ]
    },
    {
      "metadata": {
        "id": "Tl4y9c11PZvj",
        "colab_type": "text"
      },
      "cell_type": "markdown",
      "source": [
        "## Part 2: Prediction Models"
      ]
    },
    {
      "metadata": {
        "id": "ON1T-CcXvBBi",
        "colab_type": "code",
        "colab": {}
      },
      "cell_type": "code",
      "source": [
        "# define functions to generate prediction dataframe\n",
        "# borrowed from Surprise library\n",
        "def get_Iu(uid):\n",
        "    \"\"\"Return the number of items rated by given user\n",
        "    Args:\n",
        "        uid: The raw id of the user.\n",
        "    Returns:\n",
        "        The number of items rated by the user.\n",
        "    \"\"\"\n",
        "    try:\n",
        "        return len(trainset.ur[trainset.to_inner_uid(uid)])\n",
        "    except ValueError:  # user was not part of the trainset\n",
        "        return 0\n",
        "    \n",
        "def get_Ui(iid):\n",
        "    \"\"\"Return the number of users that have rated given item\n",
        "    Args:\n",
        "        iid: The raw id of the item.\n",
        "    Returns:\n",
        "        The number of users that have rated the item.\n",
        "    \"\"\"\n",
        "    try:\n",
        "        return len(trainset.ir[trainset.to_inner_iid(iid)])\n",
        "    except ValueError:  # item was not part of the trainset\n",
        "        return 0\n",
        "      \n",
        "def get_pred_df(pred):\n",
        "  pred_df = pd.DataFrame(pred, columns=['uid', 'iid', 'rui', 'est', 'details'])    \n",
        "  pred_df['Iu'] = pred_df.uid.apply(get_Iu)\n",
        "  pred_df['Ui'] = pred_df.iid.apply(get_Ui)\n",
        "  pred_df['err'] = abs(pred_df.est - pred_df.rui)\n",
        "  \n",
        "  # append review counts\n",
        "  pred_df['user_freq'] = [cnt_user.get(x) for x in pred_df.uid]\n",
        "  pred_df = pred_df.sort_values(by=['uid'])\n",
        "  \n",
        "  return pred_df\n",
        "  "
      ],
      "execution_count": 0,
      "outputs": []
    },
    {
      "metadata": {
        "id": "bpfWuilrgB0s",
        "colab_type": "text"
      },
      "cell_type": "markdown",
      "source": [
        "### 2.1 SVD"
      ]
    },
    {
      "metadata": {
        "id": "36qdidqdgIzN",
        "colab_type": "code",
        "outputId": "d1f8e04b-e552-4fcd-af68-f2da27d14777",
        "colab": {
          "base_uri": "https://localhost:8080/",
          "height": 51
        }
      },
      "cell_type": "code",
      "source": [
        "reader = Reader(rating_scale=(1, 5))\n",
        "data = Dataset.load_from_df(cf[['review_profileName', 'beer_name', 'review_overall']], reader)\n",
        "trainset, testset = train_test_split(data, test_size=.33)\n",
        "\n",
        "# fit\n",
        "svd = SVD(n_factors = 30, lr_all = 0.01, reg_all = 0.05)\n",
        "svd.fit(trainset)\n",
        "\n",
        "# test \n",
        "svd_pred = svd.test(testset)\n",
        "accuracy.rmse(svd_pred, verbose=True)"
      ],
      "execution_count": 25,
      "outputs": [
        {
          "output_type": "stream",
          "text": [
            "RMSE: 0.5905\n"
          ],
          "name": "stdout"
        },
        {
          "output_type": "execute_result",
          "data": {
            "text/plain": [
              "0.5904706955421769"
            ]
          },
          "metadata": {
            "tags": []
          },
          "execution_count": 25
        }
      ]
    },
    {
      "metadata": {
        "id": "KDhFrQs0nkyt",
        "colab_type": "code",
        "outputId": "01359db1-d32c-4d7c-e2d4-df2261077079",
        "colab": {
          "base_uri": "https://localhost:8080/",
          "height": 204
        }
      },
      "cell_type": "code",
      "source": [
        "# predict\n",
        "svd_pred_df = get_pred_df(svd_pred)\n",
        "svd_pred_df.head()"
      ],
      "execution_count": 26,
      "outputs": [
        {
          "output_type": "execute_result",
          "data": {
            "text/html": [
              "<div>\n",
              "<style scoped>\n",
              "    .dataframe tbody tr th:only-of-type {\n",
              "        vertical-align: middle;\n",
              "    }\n",
              "\n",
              "    .dataframe tbody tr th {\n",
              "        vertical-align: top;\n",
              "    }\n",
              "\n",
              "    .dataframe thead th {\n",
              "        text-align: right;\n",
              "    }\n",
              "</style>\n",
              "<table border=\"1\" class=\"dataframe\">\n",
              "  <thead>\n",
              "    <tr style=\"text-align: right;\">\n",
              "      <th></th>\n",
              "      <th>uid</th>\n",
              "      <th>iid</th>\n",
              "      <th>rui</th>\n",
              "      <th>est</th>\n",
              "      <th>details</th>\n",
              "      <th>Iu</th>\n",
              "      <th>Ui</th>\n",
              "      <th>err</th>\n",
              "      <th>user_freq</th>\n",
              "    </tr>\n",
              "  </thead>\n",
              "  <tbody>\n",
              "    <tr>\n",
              "      <th>223267</th>\n",
              "      <td>0110x011</td>\n",
              "      <td>Brooklyn Local 1</td>\n",
              "      <td>4.5</td>\n",
              "      <td>4.180381</td>\n",
              "      <td>{'was_impossible': False}</td>\n",
              "      <td>91</td>\n",
              "      <td>490</td>\n",
              "      <td>0.319619</td>\n",
              "      <td>139</td>\n",
              "    </tr>\n",
              "    <tr>\n",
              "      <th>26003</th>\n",
              "      <td>0110x011</td>\n",
              "      <td>Hoppe (Imperial Extra Pale Ale)</td>\n",
              "      <td>3.0</td>\n",
              "      <td>4.189322</td>\n",
              "      <td>{'was_impossible': False}</td>\n",
              "      <td>91</td>\n",
              "      <td>294</td>\n",
              "      <td>1.189322</td>\n",
              "      <td>139</td>\n",
              "    </tr>\n",
              "    <tr>\n",
              "      <th>302712</th>\n",
              "      <td>0110x011</td>\n",
              "      <td>Cable Car</td>\n",
              "      <td>4.0</td>\n",
              "      <td>4.705778</td>\n",
              "      <td>{'was_impossible': False}</td>\n",
              "      <td>91</td>\n",
              "      <td>104</td>\n",
              "      <td>0.705778</td>\n",
              "      <td>139</td>\n",
              "    </tr>\n",
              "    <tr>\n",
              "      <th>340377</th>\n",
              "      <td>0110x011</td>\n",
              "      <td>Calabaza Blanca</td>\n",
              "      <td>4.5</td>\n",
              "      <td>4.172912</td>\n",
              "      <td>{'was_impossible': False}</td>\n",
              "      <td>91</td>\n",
              "      <td>251</td>\n",
              "      <td>0.327088</td>\n",
              "      <td>139</td>\n",
              "    </tr>\n",
              "    <tr>\n",
              "      <th>321841</th>\n",
              "      <td>0110x011</td>\n",
              "      <td>Melange No. 1</td>\n",
              "      <td>5.0</td>\n",
              "      <td>4.355664</td>\n",
              "      <td>{'was_impossible': False}</td>\n",
              "      <td>91</td>\n",
              "      <td>34</td>\n",
              "      <td>0.644336</td>\n",
              "      <td>139</td>\n",
              "    </tr>\n",
              "  </tbody>\n",
              "</table>\n",
              "</div>"
            ],
            "text/plain": [
              "             uid                              iid  rui       est  \\\n",
              "223267  0110x011                 Brooklyn Local 1  4.5  4.180381   \n",
              "26003   0110x011  Hoppe (Imperial Extra Pale Ale)  3.0  4.189322   \n",
              "302712  0110x011                        Cable Car  4.0  4.705778   \n",
              "340377  0110x011                  Calabaza Blanca  4.5  4.172912   \n",
              "321841  0110x011                    Melange No. 1  5.0  4.355664   \n",
              "\n",
              "                          details  Iu   Ui       err  user_freq  \n",
              "223267  {'was_impossible': False}  91  490  0.319619        139  \n",
              "26003   {'was_impossible': False}  91  294  1.189322        139  \n",
              "302712  {'was_impossible': False}  91  104  0.705778        139  \n",
              "340377  {'was_impossible': False}  91  251  0.327088        139  \n",
              "321841  {'was_impossible': False}  91   34  0.644336        139  "
            ]
          },
          "metadata": {
            "tags": []
          },
          "execution_count": 26
        }
      ]
    },
    {
      "metadata": {
        "id": "cFTht8APvKvV",
        "colab_type": "text"
      },
      "cell_type": "markdown",
      "source": [
        "### 2.2 Non-negative Matrix Factorization (NMF)"
      ]
    },
    {
      "metadata": {
        "id": "IDi08dmivieq",
        "colab_type": "code",
        "outputId": "15c12c40-b76b-4a19-fb8e-21566c67dc98",
        "colab": {
          "base_uri": "https://localhost:8080/",
          "height": 51
        }
      },
      "cell_type": "code",
      "source": [
        "# fit\n",
        "nmf = NMF(n_factors = 25, n_epochs = 50, reg_pu = 0.1, reg_qi = 0.1)\n",
        "nmf.fit(trainset)\n",
        "\n",
        "# test \n",
        "nmf_pred = nmf.test(testset)\n",
        "accuracy.rmse(nmf_pred, verbose=True) "
      ],
      "execution_count": 27,
      "outputs": [
        {
          "output_type": "stream",
          "text": [
            "RMSE: 0.5982\n"
          ],
          "name": "stdout"
        },
        {
          "output_type": "execute_result",
          "data": {
            "text/plain": [
              "0.5981587554102197"
            ]
          },
          "metadata": {
            "tags": []
          },
          "execution_count": 27
        }
      ]
    },
    {
      "metadata": {
        "id": "XtWSoXlAoNll",
        "colab_type": "code",
        "outputId": "bf012444-8345-49ab-feb0-e34cdbe050f1",
        "colab": {
          "base_uri": "https://localhost:8080/",
          "height": 204
        }
      },
      "cell_type": "code",
      "source": [
        "# prediction\n",
        "nmf_pred_df = get_pred_df(nmf_pred)\n",
        "nmf_pred_df.head()"
      ],
      "execution_count": 28,
      "outputs": [
        {
          "output_type": "execute_result",
          "data": {
            "text/html": [
              "<div>\n",
              "<style scoped>\n",
              "    .dataframe tbody tr th:only-of-type {\n",
              "        vertical-align: middle;\n",
              "    }\n",
              "\n",
              "    .dataframe tbody tr th {\n",
              "        vertical-align: top;\n",
              "    }\n",
              "\n",
              "    .dataframe thead th {\n",
              "        text-align: right;\n",
              "    }\n",
              "</style>\n",
              "<table border=\"1\" class=\"dataframe\">\n",
              "  <thead>\n",
              "    <tr style=\"text-align: right;\">\n",
              "      <th></th>\n",
              "      <th>uid</th>\n",
              "      <th>iid</th>\n",
              "      <th>rui</th>\n",
              "      <th>est</th>\n",
              "      <th>details</th>\n",
              "      <th>Iu</th>\n",
              "      <th>Ui</th>\n",
              "      <th>err</th>\n",
              "      <th>user_freq</th>\n",
              "    </tr>\n",
              "  </thead>\n",
              "  <tbody>\n",
              "    <tr>\n",
              "      <th>223267</th>\n",
              "      <td>0110x011</td>\n",
              "      <td>Brooklyn Local 1</td>\n",
              "      <td>4.5</td>\n",
              "      <td>4.224069</td>\n",
              "      <td>{'was_impossible': False}</td>\n",
              "      <td>91</td>\n",
              "      <td>490</td>\n",
              "      <td>0.275931</td>\n",
              "      <td>139</td>\n",
              "    </tr>\n",
              "    <tr>\n",
              "      <th>26003</th>\n",
              "      <td>0110x011</td>\n",
              "      <td>Hoppe (Imperial Extra Pale Ale)</td>\n",
              "      <td>3.0</td>\n",
              "      <td>4.307013</td>\n",
              "      <td>{'was_impossible': False}</td>\n",
              "      <td>91</td>\n",
              "      <td>294</td>\n",
              "      <td>1.307013</td>\n",
              "      <td>139</td>\n",
              "    </tr>\n",
              "    <tr>\n",
              "      <th>302712</th>\n",
              "      <td>0110x011</td>\n",
              "      <td>Cable Car</td>\n",
              "      <td>4.0</td>\n",
              "      <td>4.723434</td>\n",
              "      <td>{'was_impossible': False}</td>\n",
              "      <td>91</td>\n",
              "      <td>104</td>\n",
              "      <td>0.723434</td>\n",
              "      <td>139</td>\n",
              "    </tr>\n",
              "    <tr>\n",
              "      <th>340377</th>\n",
              "      <td>0110x011</td>\n",
              "      <td>Calabaza Blanca</td>\n",
              "      <td>4.5</td>\n",
              "      <td>4.178317</td>\n",
              "      <td>{'was_impossible': False}</td>\n",
              "      <td>91</td>\n",
              "      <td>251</td>\n",
              "      <td>0.321683</td>\n",
              "      <td>139</td>\n",
              "    </tr>\n",
              "    <tr>\n",
              "      <th>321841</th>\n",
              "      <td>0110x011</td>\n",
              "      <td>Melange No. 1</td>\n",
              "      <td>5.0</td>\n",
              "      <td>4.352681</td>\n",
              "      <td>{'was_impossible': False}</td>\n",
              "      <td>91</td>\n",
              "      <td>34</td>\n",
              "      <td>0.647319</td>\n",
              "      <td>139</td>\n",
              "    </tr>\n",
              "  </tbody>\n",
              "</table>\n",
              "</div>"
            ],
            "text/plain": [
              "             uid                              iid  rui       est  \\\n",
              "223267  0110x011                 Brooklyn Local 1  4.5  4.224069   \n",
              "26003   0110x011  Hoppe (Imperial Extra Pale Ale)  3.0  4.307013   \n",
              "302712  0110x011                        Cable Car  4.0  4.723434   \n",
              "340377  0110x011                  Calabaza Blanca  4.5  4.178317   \n",
              "321841  0110x011                    Melange No. 1  5.0  4.352681   \n",
              "\n",
              "                          details  Iu   Ui       err  user_freq  \n",
              "223267  {'was_impossible': False}  91  490  0.275931        139  \n",
              "26003   {'was_impossible': False}  91  294  1.307013        139  \n",
              "302712  {'was_impossible': False}  91  104  0.723434        139  \n",
              "340377  {'was_impossible': False}  91  251  0.321683        139  \n",
              "321841  {'was_impossible': False}  91   34  0.647319        139  "
            ]
          },
          "metadata": {
            "tags": []
          },
          "execution_count": 28
        }
      ]
    },
    {
      "metadata": {
        "id": "KfC9a_wKxjS1",
        "colab_type": "text"
      },
      "cell_type": "markdown",
      "source": [
        "### 2.3 KNN user-based"
      ]
    },
    {
      "metadata": {
        "id": "t33gjdly-q6o",
        "colab_type": "text"
      },
      "cell_type": "markdown",
      "source": [
        "##### set up model"
      ]
    },
    {
      "metadata": {
        "id": "iM7GIvfC-XFM",
        "colab_type": "code",
        "colab": {}
      },
      "cell_type": "code",
      "source": [
        "# set up model\n",
        "from surprise import KNNWithMeans\n",
        "\n",
        "sim_options = {'name': 'pearson', 'user_based': True, 'min_support':10}  \n",
        "knnmean1 = KNNWithMeans(k=300, \n",
        "                       min_k=10, \n",
        "                       sim_options=sim_options, \n",
        "                       verbose=True)\n",
        "\n",
        "knnmean2 = KNNWithMeans(k=300, \n",
        "                       min_k=10, \n",
        "                       sim_options=sim_options, \n",
        "                       verbose=True)"
      ],
      "execution_count": 0,
      "outputs": []
    },
    {
      "metadata": {
        "id": "vp3N5GSTh9II",
        "colab_type": "text"
      },
      "cell_type": "markdown",
      "source": [
        "#### 2.2.1 users with more than 100 reviews"
      ]
    },
    {
      "metadata": {
        "id": "FJNCa2XGhVdm",
        "colab_type": "code",
        "outputId": "610141d1-ae68-465f-866f-5f2df7aeb61b",
        "colab": {
          "base_uri": "https://localhost:8080/",
          "height": 68
        }
      },
      "cell_type": "code",
      "source": [
        "# prepare train & test for KNN\n",
        "reader = Reader(rating_scale=(1, 5))\n",
        "\n",
        "knn_more = Dataset.load_from_df(more[['review_profileName', 'beer_name', 'review_overall']], reader)\n",
        "trainset_more, testset_more = train_test_split(knn_more, test_size=.33)\n",
        "\n",
        "# fit\n",
        "knnmean1.fit(trainset_more)"
      ],
      "execution_count": 30,
      "outputs": [
        {
          "output_type": "stream",
          "text": [
            "Computing the pearson similarity matrix...\n",
            "Done computing similarity matrix.\n"
          ],
          "name": "stdout"
        },
        {
          "output_type": "execute_result",
          "data": {
            "text/plain": [
              "<surprise.prediction_algorithms.knns.KNNWithMeans at 0x7f59dab00d30>"
            ]
          },
          "metadata": {
            "tags": []
          },
          "execution_count": 30
        }
      ]
    },
    {
      "metadata": {
        "id": "tTX66ugkiSF3",
        "colab_type": "code",
        "colab": {}
      },
      "cell_type": "code",
      "source": [
        "# test\n",
        "pred_more = knnmean1.test(testset_more)"
      ],
      "execution_count": 0,
      "outputs": []
    },
    {
      "metadata": {
        "id": "yT5i-8NnCH5U",
        "colab_type": "code",
        "outputId": "0d6d34dc-15c0-4723-f78d-9b1403a7126a",
        "colab": {
          "base_uri": "https://localhost:8080/",
          "height": 289
        }
      },
      "cell_type": "code",
      "source": [
        "# prediction\n",
        "pred_more_df = get_pred_df(pred_more)\n",
        "pred_more_df.head()"
      ],
      "execution_count": 32,
      "outputs": [
        {
          "output_type": "execute_result",
          "data": {
            "text/html": [
              "<div>\n",
              "<style scoped>\n",
              "    .dataframe tbody tr th:only-of-type {\n",
              "        vertical-align: middle;\n",
              "    }\n",
              "\n",
              "    .dataframe tbody tr th {\n",
              "        vertical-align: top;\n",
              "    }\n",
              "\n",
              "    .dataframe thead th {\n",
              "        text-align: right;\n",
              "    }\n",
              "</style>\n",
              "<table border=\"1\" class=\"dataframe\">\n",
              "  <thead>\n",
              "    <tr style=\"text-align: right;\">\n",
              "      <th></th>\n",
              "      <th>uid</th>\n",
              "      <th>iid</th>\n",
              "      <th>rui</th>\n",
              "      <th>est</th>\n",
              "      <th>details</th>\n",
              "      <th>Iu</th>\n",
              "      <th>Ui</th>\n",
              "      <th>err</th>\n",
              "      <th>user_freq</th>\n",
              "    </tr>\n",
              "  </thead>\n",
              "  <tbody>\n",
              "    <tr>\n",
              "      <th>156699</th>\n",
              "      <td>0110x011</td>\n",
              "      <td>La Folie</td>\n",
              "      <td>5.0</td>\n",
              "      <td>4.504072</td>\n",
              "      <td>{'actual_k': 221, 'was_impossible': False}</td>\n",
              "      <td>91</td>\n",
              "      <td>483</td>\n",
              "      <td>0.495928</td>\n",
              "      <td>139</td>\n",
              "    </tr>\n",
              "    <tr>\n",
              "      <th>243795</th>\n",
              "      <td>0110x011</td>\n",
              "      <td>Brabant</td>\n",
              "      <td>3.5</td>\n",
              "      <td>4.117786</td>\n",
              "      <td>{'actual_k': 102, 'was_impossible': False}</td>\n",
              "      <td>91</td>\n",
              "      <td>181</td>\n",
              "      <td>0.617786</td>\n",
              "      <td>139</td>\n",
              "    </tr>\n",
              "    <tr>\n",
              "      <th>193036</th>\n",
              "      <td>0110x011</td>\n",
              "      <td>IPA</td>\n",
              "      <td>4.0</td>\n",
              "      <td>4.201422</td>\n",
              "      <td>{'actual_k': 240, 'was_impossible': False}</td>\n",
              "      <td>91</td>\n",
              "      <td>708</td>\n",
              "      <td>0.201422</td>\n",
              "      <td>139</td>\n",
              "    </tr>\n",
              "    <tr>\n",
              "      <th>77194</th>\n",
              "      <td>0110x011</td>\n",
              "      <td>Pure Hoppiness</td>\n",
              "      <td>5.0</td>\n",
              "      <td>4.752042</td>\n",
              "      <td>{'actual_k': 186, 'was_impossible': False}</td>\n",
              "      <td>91</td>\n",
              "      <td>347</td>\n",
              "      <td>0.247958</td>\n",
              "      <td>139</td>\n",
              "    </tr>\n",
              "    <tr>\n",
              "      <th>62559</th>\n",
              "      <td>0110x011</td>\n",
              "      <td>Wachusett IPA (India Pale Ale)</td>\n",
              "      <td>3.5</td>\n",
              "      <td>4.322178</td>\n",
              "      <td>{'actual_k': 43, 'was_impossible': False}</td>\n",
              "      <td>91</td>\n",
              "      <td>92</td>\n",
              "      <td>0.822178</td>\n",
              "      <td>139</td>\n",
              "    </tr>\n",
              "  </tbody>\n",
              "</table>\n",
              "</div>"
            ],
            "text/plain": [
              "             uid                             iid  rui       est  \\\n",
              "156699  0110x011                        La Folie  5.0  4.504072   \n",
              "243795  0110x011                         Brabant  3.5  4.117786   \n",
              "193036  0110x011                             IPA  4.0  4.201422   \n",
              "77194   0110x011                  Pure Hoppiness  5.0  4.752042   \n",
              "62559   0110x011  Wachusett IPA (India Pale Ale)  3.5  4.322178   \n",
              "\n",
              "                                           details  Iu   Ui       err  \\\n",
              "156699  {'actual_k': 221, 'was_impossible': False}  91  483  0.495928   \n",
              "243795  {'actual_k': 102, 'was_impossible': False}  91  181  0.617786   \n",
              "193036  {'actual_k': 240, 'was_impossible': False}  91  708  0.201422   \n",
              "77194   {'actual_k': 186, 'was_impossible': False}  91  347  0.247958   \n",
              "62559    {'actual_k': 43, 'was_impossible': False}  91   92  0.822178   \n",
              "\n",
              "        user_freq  \n",
              "156699        139  \n",
              "243795        139  \n",
              "193036        139  \n",
              "77194         139  \n",
              "62559         139  "
            ]
          },
          "metadata": {
            "tags": []
          },
          "execution_count": 32
        }
      ]
    },
    {
      "metadata": {
        "id": "dEoKi3PtiHHP",
        "colab_type": "text"
      },
      "cell_type": "markdown",
      "source": [
        "#### 2.2.2 users with less than 100 reviews"
      ]
    },
    {
      "metadata": {
        "id": "yb7Z-JWuguWZ",
        "colab_type": "code",
        "outputId": "b8406ecc-d57f-4544-e5d3-83280bd51304",
        "colab": {
          "base_uri": "https://localhost:8080/",
          "height": 68
        }
      },
      "cell_type": "code",
      "source": [
        "reader = Reader(rating_scale=(1, 5))\n",
        "\n",
        "knn_less = Dataset.load_from_df(less[['review_profileName', 'beer_name', 'review_overall']], reader)\n",
        "trainset_less, testset_less = train_test_split(knn_less, test_size=.33)\n",
        "\n",
        "# fit\n",
        "knnmean2.fit(trainset_less)"
      ],
      "execution_count": 33,
      "outputs": [
        {
          "output_type": "stream",
          "text": [
            "Computing the pearson similarity matrix...\n",
            "Done computing similarity matrix.\n"
          ],
          "name": "stdout"
        },
        {
          "output_type": "execute_result",
          "data": {
            "text/plain": [
              "<surprise.prediction_algorithms.knns.KNNWithMeans at 0x7f59dab00a90>"
            ]
          },
          "metadata": {
            "tags": []
          },
          "execution_count": 33
        }
      ]
    },
    {
      "metadata": {
        "id": "LI0K4ac2ieFQ",
        "colab_type": "code",
        "colab": {}
      },
      "cell_type": "code",
      "source": [
        "# test\n",
        "pred_less = knnmean2.test(testset_less)"
      ],
      "execution_count": 0,
      "outputs": []
    },
    {
      "metadata": {
        "id": "jR97JJkJmB88",
        "colab_type": "code",
        "outputId": "f08f5580-2a4f-4b87-d020-85bf7f62207b",
        "colab": {
          "base_uri": "https://localhost:8080/",
          "height": 289
        }
      },
      "cell_type": "code",
      "source": [
        "# predict\n",
        "pred_less_df = get_pred_df(pred_less)\n",
        "pred_less_df.head()"
      ],
      "execution_count": 35,
      "outputs": [
        {
          "output_type": "execute_result",
          "data": {
            "text/html": [
              "<div>\n",
              "<style scoped>\n",
              "    .dataframe tbody tr th:only-of-type {\n",
              "        vertical-align: middle;\n",
              "    }\n",
              "\n",
              "    .dataframe tbody tr th {\n",
              "        vertical-align: top;\n",
              "    }\n",
              "\n",
              "    .dataframe thead th {\n",
              "        text-align: right;\n",
              "    }\n",
              "</style>\n",
              "<table border=\"1\" class=\"dataframe\">\n",
              "  <thead>\n",
              "    <tr style=\"text-align: right;\">\n",
              "      <th></th>\n",
              "      <th>uid</th>\n",
              "      <th>iid</th>\n",
              "      <th>rui</th>\n",
              "      <th>est</th>\n",
              "      <th>details</th>\n",
              "      <th>Iu</th>\n",
              "      <th>Ui</th>\n",
              "      <th>err</th>\n",
              "      <th>user_freq</th>\n",
              "    </tr>\n",
              "  </thead>\n",
              "  <tbody>\n",
              "    <tr>\n",
              "      <th>38437</th>\n",
              "      <td>01121987</td>\n",
              "      <td>Écume</td>\n",
              "      <td>5.0</td>\n",
              "      <td>3.865289</td>\n",
              "      <td>{'was_impossible': True, 'reason': 'User and/o...</td>\n",
              "      <td>21</td>\n",
              "      <td>11</td>\n",
              "      <td>1.134711</td>\n",
              "      <td>29</td>\n",
              "    </tr>\n",
              "    <tr>\n",
              "      <th>2732</th>\n",
              "      <td>01121987</td>\n",
              "      <td>Wernesgruner</td>\n",
              "      <td>5.0</td>\n",
              "      <td>4.277778</td>\n",
              "      <td>{'actual_k': 0, 'was_impossible': False}</td>\n",
              "      <td>21</td>\n",
              "      <td>97</td>\n",
              "      <td>0.722222</td>\n",
              "      <td>29</td>\n",
              "    </tr>\n",
              "    <tr>\n",
              "      <th>16538</th>\n",
              "      <td>01121987</td>\n",
              "      <td>Sierra Nevada Summerfest Lager</td>\n",
              "      <td>5.0</td>\n",
              "      <td>4.277778</td>\n",
              "      <td>{'actual_k': 0, 'was_impossible': False}</td>\n",
              "      <td>21</td>\n",
              "      <td>852</td>\n",
              "      <td>0.722222</td>\n",
              "      <td>29</td>\n",
              "    </tr>\n",
              "    <tr>\n",
              "      <th>61976</th>\n",
              "      <td>01121987</td>\n",
              "      <td>Don de Dieu</td>\n",
              "      <td>2.0</td>\n",
              "      <td>4.277778</td>\n",
              "      <td>{'actual_k': 0, 'was_impossible': False}</td>\n",
              "      <td>21</td>\n",
              "      <td>725</td>\n",
              "      <td>2.277778</td>\n",
              "      <td>29</td>\n",
              "    </tr>\n",
              "    <tr>\n",
              "      <th>26402</th>\n",
              "      <td>01121987</td>\n",
              "      <td>König Pilsener</td>\n",
              "      <td>5.0</td>\n",
              "      <td>4.277778</td>\n",
              "      <td>{'actual_k': 0, 'was_impossible': False}</td>\n",
              "      <td>21</td>\n",
              "      <td>146</td>\n",
              "      <td>0.722222</td>\n",
              "      <td>29</td>\n",
              "    </tr>\n",
              "  </tbody>\n",
              "</table>\n",
              "</div>"
            ],
            "text/plain": [
              "            uid                             iid  rui       est  \\\n",
              "38437  01121987                           Écume  5.0  3.865289   \n",
              "2732   01121987                    Wernesgruner  5.0  4.277778   \n",
              "16538  01121987  Sierra Nevada Summerfest Lager  5.0  4.277778   \n",
              "61976  01121987                     Don de Dieu  2.0  4.277778   \n",
              "26402  01121987                  König Pilsener  5.0  4.277778   \n",
              "\n",
              "                                                 details  Iu   Ui       err  \\\n",
              "38437  {'was_impossible': True, 'reason': 'User and/o...  21   11  1.134711   \n",
              "2732            {'actual_k': 0, 'was_impossible': False}  21   97  0.722222   \n",
              "16538           {'actual_k': 0, 'was_impossible': False}  21  852  0.722222   \n",
              "61976           {'actual_k': 0, 'was_impossible': False}  21  725  2.277778   \n",
              "26402           {'actual_k': 0, 'was_impossible': False}  21  146  0.722222   \n",
              "\n",
              "       user_freq  \n",
              "38437         29  \n",
              "2732          29  \n",
              "16538         29  \n",
              "61976         29  \n",
              "26402         29  "
            ]
          },
          "metadata": {
            "tags": []
          },
          "execution_count": 35
        }
      ]
    },
    {
      "metadata": {
        "id": "oc4gpLRZwEKL",
        "colab_type": "text"
      },
      "cell_type": "markdown",
      "source": [
        "## Part 3: Summary\n",
        "\n",
        "summarize rmse dict for three models"
      ]
    },
    {
      "metadata": {
        "id": "hnlezxZfwHPM",
        "colab_type": "code",
        "colab": {}
      },
      "cell_type": "code",
      "source": [
        "# get prediction error\n",
        "svd_error = svd_pred_df[['uid', 'err', 'user_freq']].groupby('uid').mean()\n",
        "nmf_error = nmf_pred_df[['uid', 'err', 'user_freq']].groupby('uid').mean()\n",
        "\n",
        "knnmore_error = pred_more_df[['uid', 'err', 'user_freq']].groupby(['uid']).mean()\n",
        "knnless_error = pred_less_df[['uid', 'err', 'user_freq']].groupby(['uid']).mean()\n",
        "knn_error = pd.concat([knnmore_error, knnless_error])\n",
        "\n",
        "# cut into bins\n",
        "bins = [10, 20, 30, 40, 50, 100, 200, 500, 1000, 2000, 6000]\n",
        "labels = ['11-20', '21-30', '31-40', '41-50', '51-100', '101-200', \n",
        "          '201-500', '501-1000', '1001-2000', '2001-6000']\n",
        "\n",
        "svd_error['review_group'] = pd.cut(svd_error['user_freq'], bins = bins, labels = labels)\n",
        "nmf_error['review_group'] = pd.cut(nmf_error['user_freq'], bins = bins, labels = labels)\n",
        "knn_error['review_group'] = pd.cut(knn_error['user_freq'], bins = bins, labels = labels)\n",
        "\n",
        "# get bins' rmse\n",
        "svd_error = svd_error.groupby('review_group').mean().drop('user_freq',axis=1)\n",
        "nmf_error = nmf_error.groupby('review_group').mean().drop('user_freq',axis=1)\n",
        "knn_error = knn_error.groupby('review_group').mean().drop('user_freq',axis=1)\n",
        "\n",
        "# rename\n",
        "svd_error.columns = ['SVD']\n",
        "nmf_error.columns = ['NMF']\n",
        "knn_error.columns = ['KNN']"
      ],
      "execution_count": 0,
      "outputs": []
    },
    {
      "metadata": {
        "id": "1f7yezfz5vtL",
        "colab_type": "code",
        "outputId": "eb01bd39-3f9d-4b55-fbae-0060950bc2da",
        "colab": {
          "base_uri": "https://localhost:8080/",
          "height": 390
        }
      },
      "cell_type": "code",
      "source": [
        "final = pd.concat([svd_error, nmf_error, knn_error], axis=1)\n",
        "final"
      ],
      "execution_count": 37,
      "outputs": [
        {
          "output_type": "execute_result",
          "data": {
            "text/html": [
              "<div>\n",
              "<style scoped>\n",
              "    .dataframe tbody tr th:only-of-type {\n",
              "        vertical-align: middle;\n",
              "    }\n",
              "\n",
              "    .dataframe tbody tr th {\n",
              "        vertical-align: top;\n",
              "    }\n",
              "\n",
              "    .dataframe thead th {\n",
              "        text-align: right;\n",
              "    }\n",
              "</style>\n",
              "<table border=\"1\" class=\"dataframe\">\n",
              "  <thead>\n",
              "    <tr style=\"text-align: right;\">\n",
              "      <th></th>\n",
              "      <th>SVD</th>\n",
              "      <th>NMF</th>\n",
              "      <th>KNN</th>\n",
              "    </tr>\n",
              "    <tr>\n",
              "      <th>review_group</th>\n",
              "      <th></th>\n",
              "      <th></th>\n",
              "      <th></th>\n",
              "    </tr>\n",
              "  </thead>\n",
              "  <tbody>\n",
              "    <tr>\n",
              "      <th>11-20</th>\n",
              "      <td>0.544777</td>\n",
              "      <td>0.562974</td>\n",
              "      <td>0.620522</td>\n",
              "    </tr>\n",
              "    <tr>\n",
              "      <th>21-30</th>\n",
              "      <td>0.517540</td>\n",
              "      <td>0.530912</td>\n",
              "      <td>0.584400</td>\n",
              "    </tr>\n",
              "    <tr>\n",
              "      <th>31-40</th>\n",
              "      <td>0.486797</td>\n",
              "      <td>0.497518</td>\n",
              "      <td>0.545737</td>\n",
              "    </tr>\n",
              "    <tr>\n",
              "      <th>41-50</th>\n",
              "      <td>0.491313</td>\n",
              "      <td>0.501406</td>\n",
              "      <td>0.548985</td>\n",
              "    </tr>\n",
              "    <tr>\n",
              "      <th>51-100</th>\n",
              "      <td>0.464687</td>\n",
              "      <td>0.473088</td>\n",
              "      <td>0.530519</td>\n",
              "    </tr>\n",
              "    <tr>\n",
              "      <th>101-200</th>\n",
              "      <td>0.447877</td>\n",
              "      <td>0.454506</td>\n",
              "      <td>0.460060</td>\n",
              "    </tr>\n",
              "    <tr>\n",
              "      <th>201-500</th>\n",
              "      <td>0.439610</td>\n",
              "      <td>0.446350</td>\n",
              "      <td>0.451105</td>\n",
              "    </tr>\n",
              "    <tr>\n",
              "      <th>501-1000</th>\n",
              "      <td>0.428859</td>\n",
              "      <td>0.434743</td>\n",
              "      <td>0.437470</td>\n",
              "    </tr>\n",
              "    <tr>\n",
              "      <th>1001-2000</th>\n",
              "      <td>0.445036</td>\n",
              "      <td>0.452086</td>\n",
              "      <td>0.458355</td>\n",
              "    </tr>\n",
              "    <tr>\n",
              "      <th>2001-6000</th>\n",
              "      <td>0.397679</td>\n",
              "      <td>0.405409</td>\n",
              "      <td>0.409925</td>\n",
              "    </tr>\n",
              "  </tbody>\n",
              "</table>\n",
              "</div>"
            ],
            "text/plain": [
              "                   SVD       NMF       KNN\n",
              "review_group                              \n",
              "11-20         0.544777  0.562974  0.620522\n",
              "21-30         0.517540  0.530912  0.584400\n",
              "31-40         0.486797  0.497518  0.545737\n",
              "41-50         0.491313  0.501406  0.548985\n",
              "51-100        0.464687  0.473088  0.530519\n",
              "101-200       0.447877  0.454506  0.460060\n",
              "201-500       0.439610  0.446350  0.451105\n",
              "501-1000      0.428859  0.434743  0.437470\n",
              "1001-2000     0.445036  0.452086  0.458355\n",
              "2001-6000     0.397679  0.405409  0.409925"
            ]
          },
          "metadata": {
            "tags": []
          },
          "execution_count": 37
        }
      ]
    },
    {
      "metadata": {
        "id": "MpV5o72s6Ccx",
        "colab_type": "code",
        "outputId": "c2830880-f52a-4ea0-8123-f1d6c7f83466",
        "colab": {
          "base_uri": "https://localhost:8080/",
          "height": 376
        }
      },
      "cell_type": "code",
      "source": [
        "x = [15, 25, 35, 45, 75, 150, 350, 750, 1500, 4000]\n",
        "y_svd = svd_error.values.tolist()\n",
        "y_nmf = nmf_error.values.tolist()\n",
        "y_knn = knn_error.values.tolist()\n",
        "\n",
        "plt.plot(x, y_svd, '.r-') \n",
        "plt.plot(x, y_nmf, '.b-') \n",
        "plt.plot(x, y_knn, '.g-') \n",
        "plt.xlabel('number of reviews')\n",
        "plt.ylabel('test rmse')\n",
        "plt.title('Compare model performance of different # of review')\n",
        "plt.legend(('SVD', 'NMF', 'KNN'), loc='upper right')\n",
        "plt.show()"
      ],
      "execution_count": 38,
      "outputs": [
        {
          "output_type": "display_data",
          "data": {
            "image/png": "[encoded data removed]",
            "text/plain": [
              "<matplotlib.figure.Figure at 0x7f59daa9a9b0>"
            ]
          },
          "metadata": {
            "tags": []
          }
        }
      ]
    }
  ]
}