{
 "cells": [
  {
   "cell_type": "code",
   "execution_count": 3,
   "metadata": {},
   "outputs": [],
   "source": [
    "# python2\n",
    "import pandas as pd\n",
    "import numpy as np\n",
    "import os\n",
    "import itertools as it\n",
    "from sklearn.model_selection import train_test_split\n",
    "import matplotlib.pyplot as plt\n",
    "from matplotlib.ticker import FormatStrFormatter\n",
    "import gzip"
   ]
  },
  {
   "cell_type": "code",
   "execution_count": 4,
   "metadata": {},
   "outputs": [],
   "source": [
    "with gzip.open('Beeradvocate.txt.gz', 'r') as f:\n",
    "  rb_file = f.readlines()\n",
    "\n",
    "\n",
    "data = []\n",
    "row_out = []\n",
    "\n",
    "for i in rb_file:\n",
    "    row = i.decode('utf-8', errors = 'ignore')\n",
    "    #print(row)\n",
    "    if row == '\\n':\n",
    "      data.append(row_out)\n",
    "      row_out = []\n",
    "      continue\n",
    "    row = row.split(\":\", 1)[1].rstrip()\n",
    "    row_out.append(row)"
   ]
  },
  {
   "cell_type": "code",
   "execution_count": 5,
   "metadata": {},
   "outputs": [],
   "source": [
    "data = pd.DataFrame(data)\n",
    "\n",
    "data.columns = ['beer_name', 'beer_beerId', 'beer_brewer', 'beer_ABV', 'beer_style', \n",
    "                'review_appearance', 'review_aroma', 'review_palate', 'review_taste', \n",
    "                'review_overall', 'review_time', 'review_profileName', 'review_text']\n"
   ]
  },
  {
   "cell_type": "code",
   "execution_count": 6,
   "metadata": {},
   "outputs": [
    {
     "name": "stdout",
     "output_type": "stream",
     "text": [
      "Original data size: (1586614, 4)\n",
      "After removing NAs: (1586614, 4)\n",
      "After drop duplicate user-item pairs (only keep the latest score), data size: (1561732, 5)\n"
     ]
    }
   ],
   "source": [
    "#### Subset original dataset for hw2\n",
    "\n",
    "# Subset 4 columns: user name, beer name, overall score, review_time\n",
    "data2 = data[['beer_name', 'review_profileName', 'review_overall','review_time']]\n",
    "print('Original data size: %s' % str(data2.shape)) \n",
    "\n",
    "# Remove NA \n",
    "data2 = data2[pd.notnull(data2.beer_name)]\n",
    "data2 = data2[pd.notnull(data2.review_profileName)]\n",
    "data2 = data2[pd.notnull(data2.review_overall)]\n",
    "print('After removing NAs: %s' % str(data2.shape)) \n",
    "\n",
    "# Drop duplicate (beer&user) pairs, keep the latest rating\n",
    "data2['beer_user_pair'] = data2.beer_name + data2.review_profileName\n",
    "data2 = data2.sort_values(by=['review_time'], ascending=False).drop_duplicates(subset=['beer_user_pair'])\n",
    "print('After drop duplicate user-item pairs (only keep the latest score), data size: %s' % str(data2.shape))"
   ]
  },
  {
   "cell_type": "code",
   "execution_count": 7,
   "metadata": {},
   "outputs": [
    {
     "name": "stdout",
     "output_type": "stream",
     "text": [
      "Take the top 1000 users and top 100 items as sample data. The Sample size is (62278, 5).\n"
     ]
    }
   ],
   "source": [
    "# Take m users & n items\n",
    "m, n = 1000, 100\n",
    "\n",
    "# Take top 1000/33382 most frequent users\n",
    "user_freqtable = data2.review_profileName.value_counts()\n",
    "user_list = user_freqtable.keys()[:m].tolist()\n",
    "\n",
    "# Take top 100/56855 most reviewed beer\n",
    "beer_freqtable = data2.beer_name.value_counts()[:200]\n",
    "beer_list = beer_freqtable.keys()[:n].tolist()\n",
    "\n",
    "# Final sample size\n",
    "subdata = data2[data2.beer_name.isin(beer_list)]\n",
    "subdata = subdata[subdata.review_profileName.isin(user_list)]\n",
    "print('Take the top %d users and top %d items as sample data. The Sample size is %s.' % (m,n,str(subdata.shape)))"
   ]
  },
  {
   "cell_type": "markdown",
   "metadata": {},
   "source": [
    "# Collaborative Filtering"
   ]
  },
  {
   "cell_type": "code",
   "execution_count": 8,
   "metadata": {},
   "outputs": [],
   "source": [
    "# Define function: convert input dataframe to rating matrix\n",
    "def Rmat(users_dict, beers_dict, trainset):\n",
    "    rmat = np.full([m, n], np.nan)\n",
    "    for i in range(trainset.shape[0]):\n",
    "        row, col = users_dict.get(trainset.review_profileName[i]), beers_dict.get(trainset.beer_name[i])\n",
    "        rmat[row][col] = trainset.review_overall[i]\n",
    "    return rmat"
   ]
  },
  {
   "cell_type": "code",
   "execution_count": 9,
   "metadata": {},
   "outputs": [],
   "source": [
    "# Define function: Pearson distance\n",
    "def Pearson(u, v):\n",
    "    common_ind = pd.notnull(u) & pd.notnull(v)\n",
    "    if sum(common_ind) == 0:\n",
    "        return None\n",
    "    else:\n",
    "        u2, v2 = u[common_ind], v[common_ind]\n",
    "        sim = sum(u2*v2)/((sum(u2**2)**(.5))*(sum(v2**2)**(.5)))\n",
    "        return np.round(sim, 5)"
   ]
  },
  {
   "cell_type": "code",
   "execution_count": 10,
   "metadata": {},
   "outputs": [],
   "source": [
    "# Define function: Predict rating\n",
    "def PredRating(sim_mat, adj_rmat, i, j, k_neighbor, user_or_item):\n",
    "    \n",
    "    # find mu, similiarity_vector, adj_rating vector\n",
    "    if user_or_item == 'user':\n",
    "        mu = np.nanmean(train_rmat[i]) \n",
    "        ind1 = pd.notnull(adj_rmat[:,j])\n",
    "        adj_r_vec = adj_rmat[:,j][ind1]\n",
    "        sim_vec = sim_mat[i][ind1] \n",
    "    elif user_or_item == 'item':\n",
    "        mu = np.nanmean(train_rmat[:,j])\n",
    "        ind1 = pd.notnull(adj_rmat[i])\n",
    "        adj_r_vec = adj_rmat[i][ind1]\n",
    "        sim_vec = sim_mat[j][ind1]\n",
    "    else:\n",
    "        return 'wrong input: user or item'\n",
    "    \n",
    "    if sum(pd.isnull(sim_vec))>0:\n",
    "        ind = pd.notnull(sim_vec)\n",
    "        if len(ind) == 0:\n",
    "            return None\n",
    "        sim_vec, adj_r_vec = sim_vec[ind], adj_r_vec[ind]\n",
    "    \n",
    "    # take k nearest neighbor \n",
    "    if len(sim_vec) > k_neighbor:\n",
    "        ind2 = np.argsort(sim_vec, kind='quicksort')[-k_neighbor:]\n",
    "        sim_vec, adj_r_vec = sim_vec[ind2], adj_r_vec[ind2]\n",
    "     \n",
    "    # final rating\n",
    "    numer, demon = sim_vec*adj_r_vec, np.absolute(sim_vec)\n",
    "    pred_rating = mu + sum(numer)/sum(demon)\n",
    "\n",
    "    return np.round(pred_rating, 5)"
   ]
  },
  {
   "cell_type": "code",
   "execution_count": 11,
   "metadata": {},
   "outputs": [],
   "source": [
    "# Define error metric: RMSE\n",
    "def RMSE(test_mat, pred_mat):\n",
    "    test_mat, pred_mat = np.ndarray.flatten(test_mat), np.ndarray.flatten(pred_mat)\n",
    "    ind_rmse = pd.notnull(test_mat) & pd.notnull(pred_mat)\n",
    "    test_mat, pred_mat = test_mat[ind_rmse], pred_mat[ind_rmse]\n",
    "    \n",
    "    error = np.mean((test_mat - pred_mat)**2)**(.5)\n",
    "    \n",
    "    return np.round(error, 4)"
   ]
  },
  {
   "cell_type": "code",
   "execution_count": 12,
   "metadata": {},
   "outputs": [],
   "source": [
    "\n",
    "# Split training & test set: should not have empty rows or columns\n",
    "subdata2 = subdata[['beer_name','review_profileName','review_overall']]\n",
    "\n",
    "train, test = train_test_split(subdata2, test_size=.2, random_state=1)\n",
    "train.reset_index(drop=True, inplace=True)\n",
    "test.reset_index(drop=True, inplace=True)\n",
    "\n",
    "# Create index dict; keys are user/beer names, values are corresponding row/col in rmat\n",
    "m = len(user_list)\n",
    "n = len(beer_list)\n",
    "user_dict = {user_list[k]: k for k in range(m)}\n",
    "beer_dict = {beer_list[k]: k for k in range(n)}"
   ]
  },
  {
   "cell_type": "code",
   "execution_count": 13,
   "metadata": {},
   "outputs": [],
   "source": [
    "# Create train rating matrix: for both used- and item-based\n",
    "train_rmat = Rmat(user_dict, beer_dict, train)\n",
    "\n",
    "# Create test rating matrix: for both used- and item-based\n",
    "test_rmat = Rmat(user_dict, beer_dict, test)\n",
    "\n",
    "# Create prediction matrix - NaN\n",
    "user = np.where(pd.notnull(test_rmat))[0] \n",
    "item = np.where(pd.notnull(test_rmat))[1] \n",
    "\n",
    "pred_rmat_user = np.full([m, n], np.nan)\n",
    "pred_rmat_item = np.full([m, n], np.nan)"
   ]
  },
  {
   "cell_type": "code",
   "execution_count": 14,
   "metadata": {},
   "outputs": [
    {
     "name": "stdout",
     "output_type": "stream",
     "text": [
      "               beer_name review_profileName review_overall\n",
      "0               Pale Ale      Gambrinus1184            4.5\n",
      "1        La Fin Du Monde             mwa423            4.5\n",
      "2       World Wide Stout      MaltyGoodness            3.5\n",
      "3   Arrogant Bastard Ale       ColoradoBobs            2.5\n",
      "4              The Abyss             Chaney            4.5\n"
     ]
    }
   ],
   "source": [
    "print(train.head(5))"
   ]
  },
  {
   "cell_type": "code",
   "execution_count": 15,
   "metadata": {},
   "outputs": [
    {
     "name": "stdout",
     "output_type": "stream",
     "text": [
      "                              beer_name review_profileName review_overall\n",
      "0   Old Rasputin Russian Imperial Stout          younger35              4\n",
      "1          Stone Imperial Russian Stout             Beejay              4\n",
      "2                    Orval Trappist Ale           dmamiano              4\n",
      "3              Founders Breakfast Stout          UnionMade              5\n",
      "4                               ApriHop            Goliath            3.5\n"
     ]
    }
   ],
   "source": [
    "print(test.head(5))"
   ]
  },
  {
   "cell_type": "code",
   "execution_count": 16,
   "metadata": {},
   "outputs": [
    {
     "data": {
      "text/plain": [
       "array([[4.5, 4. , 4.5, 4. , 4. , 4.5, 3.5, 4. , 4. , 4. , 4. , 4.5, 4. ,\n",
       "        nan, 4.5, nan, 3.5, 4. , 4.5, nan, 3.5, 4. , 5. , nan, 4.5, 4.5,\n",
       "        3.5, 3.5, 4.5, 2. , nan, 5. , 4.5, 4. , 4.5, 4.5, 4. , 4.5, 3.5,\n",
       "        4. , 4. , 3.5, nan, 3.5, 3.5, 3.5, nan, nan, 3.5, nan, 3. , 4. ,\n",
       "        nan, 3.5, 3.5, 4. , 4.5, 4. , 3.5, 4.5, 3. , 4. , 4.5, 4. , 4.5,\n",
       "        4. , 4. , 3.5, 3.5, 3. , 4. , 3.5, 4. , 4.5, nan, 4.5, 3.5, nan,\n",
       "        4. , 3. , 4. , 4. , nan, 4.5, 3. , 3. , 3. , nan, 4. , 4. , 4. ,\n",
       "        4. , 1. , nan, 4.5, 4. , 3.5, 4. , nan, nan],\n",
       "       [4. , 4.5, 4.5, 4.5, 4. , 5. , 4.5, 4.5, 4. , 5. , nan, 5. , nan,\n",
       "        4. , 3. , 4.5, nan, 5. , 5. , 4.5, 4. , 5. , 4.5, nan, 4. , 5. ,\n",
       "        4. , 4. , 4. , nan, 4.5, 4.5, 2. , 3. , 4.5, 4.5, nan, 3.5, 3.5,\n",
       "        nan, 5. , nan, nan, 4. , 4.5, 4. , 4. , 4.5, 4.5, nan, 4.5, 3.5,\n",
       "        5. , 5. , nan, 5. , nan, 4.5, 3.5, nan, 4. , 4.5, 3.5, 3.5, 4.5,\n",
       "        4. , 4.5, 4. , 4. , 3.5, 4. , 3.5, 5. , 4. , 3.5, 4. , 5. , nan,\n",
       "        5. , 3. , 4.5, 2.5, 4.5, nan, 3.5, 4.5, nan, 2.5, 4.5, 4. , 3.5,\n",
       "        4.5, 1.5, 3.5, nan, nan, nan, 5. , 4.5, 5. ]])"
      ]
     },
     "execution_count": 16,
     "metadata": {},
     "output_type": "execute_result"
    }
   ],
   "source": [
    "train_rmat[:2,] # rating of user1 and user2 for all beers"
   ]
  },
  {
   "cell_type": "markdown",
   "metadata": {},
   "source": [
    "***User based collaborative filtering***"
   ]
  },
  {
   "cell_type": "code",
   "execution_count": 17,
   "metadata": {},
   "outputs": [],
   "source": [
    "# compute mean rating of each user\n",
    "# mean_rating_user = {key: train.review_overall.loc[train['review_profileName'] == key].mean() for key in user_list}\n",
    "\n",
    "# compute mean_adjusted rating of each user: subtract mean from ratings\n",
    "adj_rmat_user = [train_rmat[0] - np.nanmean(train_rmat[0])]\n",
    "for i in range(1,len(train_rmat)):\n",
    "    adj_rmat_user = np.append(adj_rmat_user, [train_rmat[i] - np.nanmean(train_rmat[i])], axis=0)"
   ]
  },
  {
   "cell_type": "code",
   "execution_count": 18,
   "metadata": {},
   "outputs": [
    {
     "name": "stderr",
     "output_type": "stream",
     "text": [
      "C:\\Users\\821647\\AppData\\Local\\Continuum\\anaconda2\\lib\\site-packages\\ipykernel_launcher.py:8: RuntimeWarning: invalid value encountered in double_scalars\n",
      "  \n",
      "C:\\Users\\821647\\AppData\\Local\\Continuum\\anaconda2\\lib\\site-packages\\numpy\\core\\fromnumeric.py:51: RuntimeWarning: invalid value encountered in rint\n",
      "  return getattr(obj, method)(*args, **kwds)\n"
     ]
    }
   ],
   "source": [
    "# compute Pearson similiarity matrix \n",
    "sim_user = np.full([m, m], np.nan)\n",
    "\n",
    "for u,v in it.combinations(range(len(user_list)), 2): \n",
    "    sim_user[u][v] = Pearson(adj_rmat_user[u], adj_rmat_user[v])\n",
    "    sim_user[v][u] = sim_user[u][v]"
   ]
  },
  {
   "cell_type": "code",
   "execution_count": 19,
   "metadata": {},
   "outputs": [],
   "source": [
    "# predict\n",
    "k = 500\n",
    "for ind in range(len(user)): \n",
    "    i, j = user[ind], item[ind]\n",
    "    pred_rmat_user[i, j] = PredRating(sim_user, adj_rmat_user, i, j, k, 'user')"
   ]
  },
  {
   "cell_type": "code",
   "execution_count": 20,
   "metadata": {},
   "outputs": [
    {
     "name": "stdout",
     "output_type": "stream",
     "text": [
      "User-based collaborative filtering error is 0.5319\n"
     ]
    }
   ],
   "source": [
    "# calculate MSE\n",
    "user_rmse = RMSE(test_rmat, pred_rmat_user)\n",
    "print('User-based collaborative filtering error is %.4f' % (user_rmse))"
   ]
  },
  {
   "cell_type": "markdown",
   "metadata": {},
   "source": [
    "***Item Based Collaborative Filtering***"
   ]
  },
  {
   "cell_type": "code",
   "execution_count": 21,
   "metadata": {},
   "outputs": [],
   "source": [
    "# compute mean_adjusted rating vector of each item\n",
    "adj_rmat_item = [train_rmat[:,0] - np.nanmean(train_rmat[:,0])]\n",
    "for i in range(1,len(train_rmat[0])):\n",
    "    adj_rmat_item = np.append(adj_rmat_item, [train_rmat[:,i] - np.nanmean(train_rmat[:,i])], axis=0)\n",
    "\n",
    "adj_rmat_item = np.transpose(adj_rmat_item)"
   ]
  },
  {
   "cell_type": "code",
   "execution_count": 22,
   "metadata": {},
   "outputs": [],
   "source": [
    "# compuete Pearson similiarity matrix \n",
    "sim_item = np.full([n, n], np.nan)\n",
    "for u,v in it.combinations(range(len(beer_list)), 2): \n",
    "    sim_item[u][v] = Pearson(adj_rmat_item[u], adj_rmat_item[v])\n",
    "    sim_item[v][u] = sim_item[u][v]"
   ]
  },
  {
   "cell_type": "code",
   "execution_count": 23,
   "metadata": {},
   "outputs": [],
   "source": [
    "# predict \n",
    "k = 50\n",
    "for ind in range(len(item)): \n",
    "    i, j = user[ind], item[ind]\n",
    "    pred_rmat_item[i, j] = PredRating(sim_item, adj_rmat_item, i, j, k, 'item')"
   ]
  },
  {
   "cell_type": "code",
   "execution_count": 24,
   "metadata": {},
   "outputs": [
    {
     "name": "stdout",
     "output_type": "stream",
     "text": [
      "Item-based collaborative filtering error is 0.5493\n"
     ]
    }
   ],
   "source": [
    "# calculate MSE\n",
    "item_rmse = RMSE(test_rmat, pred_rmat_item)\n",
    "print('Item-based collaborative filtering error is %.4f' % (item_rmse))"
   ]
  },
  {
   "cell_type": "markdown",
   "metadata": {},
   "source": [
    "# Tuning Parameters"
   ]
  },
  {
   "cell_type": "code",
   "execution_count": 25,
   "metadata": {},
   "outputs": [],
   "source": [
    "# define function: get mu, similiarity_vector, adj_rating vector\n",
    "def get_sim_adjr(sim_mat, adj_rmat, i, j, user_or_item):\n",
    "    \n",
    "    # find mu, similiarity_vector, adj_rating vector\n",
    "    if user_or_item == 'user':\n",
    "        mu = np.nanmean(train_rmat[i]) \n",
    "        ind1 = pd.notnull(adj_rmat[:,j])\n",
    "        adj_r_vec = adj_rmat[:,j][ind1]\n",
    "        sim_vec = sim_mat[i][ind1] \n",
    "    elif user_or_item == 'item':\n",
    "        mu = np.nanmean(train_rmat[:,j])\n",
    "        ind1 = pd.notnull(adj_rmat[i])\n",
    "        adj_r_vec = adj_rmat[i][ind1]\n",
    "        sim_vec = sim_mat[j][ind1]\n",
    "    else:\n",
    "        return 'wrong input: user or item'\n",
    "    \n",
    "    if sum(pd.isnull(sim_vec))>0:\n",
    "        ind = pd.notnull(sim_vec)\n",
    "        if len(ind) == 0:\n",
    "            return None\n",
    "        sim_vec, adj_r_vec = sim_vec[ind], adj_r_vec[ind]\n",
    "    \n",
    "    return [sim_vec, adj_r_vec, mu]"
   ]
  },
  {
   "cell_type": "code",
   "execution_count": 26,
   "metadata": {},
   "outputs": [],
   "source": [
    "# define function: predict ratings based on similiarity & neighborhood size k\n",
    "def get_pred(sim_vec, adj_r_vec, mu, k):\n",
    "    # get k neighbors\n",
    "    if len(sim_vec) > k:\n",
    "        ind2 = np.argsort(sim_vec, kind='quicksort')[-k:]\n",
    "        sim_vec, adj_r_vec = sim_vec[ind2], adj_r_vec[ind2]\n",
    "     \n",
    "    # predict \n",
    "    numer, demon = sim_vec*adj_r_vec, np.absolute(sim_vec)\n",
    "    pred_rating = mu + sum(numer)/sum(demon)\n",
    "\n",
    "    return np.round(pred_rating, 5)"
   ]
  },
  {
   "cell_type": "markdown",
   "metadata": {},
   "source": [
    "***Tuning neighborhood size for user-based collaborative filtering***"
   ]
  },
  {
   "cell_type": "code",
   "execution_count": 27,
   "metadata": {},
   "outputs": [],
   "source": [
    "user_k = [50, 100, 200, 225, 250, 275, 300, 325, 350, 375, 400, 450, 500, 550, 600]\n",
    "\n",
    "# create prediction matrix\n",
    "pred_rmat_user = {}\n",
    "for k in user_k:\n",
    "    pred_rmat_user[str(k)] = np.full([m, n], np.nan)\n",
    "\n",
    "# predict\n",
    "for ind in range(len(item)):\n",
    "    i, j = user[ind], item[ind]\n",
    "    sim, adjr, mu = get_sim_adjr(sim_user, adj_rmat_user, i, j, 'user') \n",
    "\n",
    "    for k in user_k:\n",
    "        pred_rmat_user[str(k)][i, j] = get_pred(sim, adjr, mu, k)\n",
    "        \n",
    "# calculate error\n",
    "rmse_user = []\n",
    "for k in user_k:\n",
    "    rmse_user.append(RMSE(test_rmat, pred_rmat_user[str(k)]))"
   ]
  },
  {
   "cell_type": "code",
   "execution_count": 28,
   "metadata": {},
   "outputs": [
    {
     "data": {
      "image/png": "[encoded data removed]",
      "text/plain": [
       "<Figure size 432x288 with 1 Axes>"
      ]
     },
     "metadata": {
      "needs_background": "light"
     },
     "output_type": "display_data"
    }
   ],
   "source": [
    "# Plot error\n",
    "fig, ax = plt.subplots()\n",
    "ax.plot(user_k, rmse_user)\n",
    "ax.set(xlabel='Neighborhood Size k', ylabel='RMSE', title='User-based RMSE for different k')\n",
    "ax.grid()"
   ]
  },
  {
   "cell_type": "markdown",
   "metadata": {},
   "source": [
    "***Tuning neighborhood size for item-based collaborative filtering***"
   ]
  },
  {
   "cell_type": "code",
   "execution_count": 29,
   "metadata": {},
   "outputs": [],
   "source": [
    "item_k = [5, 10, 20, 25, 30, 35, 40, 50, 60, 70, 80, 90, 95, 100]\n",
    "\n",
    "# create prediction matrix\n",
    "pred_rmat_item = {}\n",
    "for k in item_k:\n",
    "    pred_rmat_item[str(k)] = np.full([m, n], np.nan)\n",
    "\n",
    "# predict\n",
    "for ind in range(len(item)):\n",
    "    i, j = user[ind], item[ind]\n",
    "    sim, adjr, mu = get_sim_adjr(sim_item, adj_rmat_item, i, j, 'item') \n",
    "\n",
    "    for k in item_k:\n",
    "        pred_rmat_item[str(k)][i, j] = get_pred(sim, adjr, mu, k)\n",
    "        \n",
    "# calculate error\n",
    "rmse_item = []\n",
    "for k in item_k:\n",
    "    rmse_item.append(RMSE(test_rmat, pred_rmat_item[str(k)]))"
   ]
  },
  {
   "cell_type": "code",
   "execution_count": 30,
   "metadata": {},
   "outputs": [
    {
     "data": {
      "image/png": "[encoded data removed]",
      "text/plain": [
       "<Figure size 432x288 with 1 Axes>"
      ]
     },
     "metadata": {
      "needs_background": "light"
     },
     "output_type": "display_data"
    }
   ],
   "source": [
    "# Plot error\n",
    "fig, ax = plt.subplots()\n",
    "ax.plot(item_k, rmse_item)\n",
    "ax.set(xlabel='Neighborhood Size k', ylabel='RMSE', title='Item-based RMSE for different k')\n",
    "ax.grid()"
   ]
  },
  {
   "cell_type": "markdown",
   "metadata": {},
   "source": [
    "# Evaluating Collaborative Filtering Approaches"
   ]
  },
  {
   "cell_type": "markdown",
   "metadata": {},
   "source": [
    "4.1 Root Mean Square Error (RMSE)\n",
    "4.2 Mean Absolute Error (MAE)\n",
    "Methods: find the optimal neighborhood size k using RMSE and MAE and compare\n",
    "\n",
    "4.3 Ranking based objective.\n",
    "Methods: calculate the percentage of predicted top 10 beers in the true top 10 beer list for each user. (Using beers with explicit ratings. For example, if user i have rated 60 beers out of 100, then the true-top-10-beer-list is the top 10 out of 60. ignore the rest 40.)"
   ]
  },
  {
   "cell_type": "markdown",
   "metadata": {},
   "source": [
    "***Root Mean Square Error (RMSE)***"
   ]
  },
  {
   "cell_type": "code",
   "execution_count": 32,
   "metadata": {},
   "outputs": [
    {
     "data": {
      "image/png": "[encoded data removed]",
      "text/plain": [
       "<Figure size 864x216 with 2 Axes>"
      ]
     },
     "metadata": {
      "needs_background": "light"
     },
     "output_type": "display_data"
    }
   ],
   "source": [
    "# Plot RMSE error, follow the previous section\n",
    "fig = plt.figure(figsize=(12,3))\n",
    "\n",
    "ax1 = fig.add_subplot(121)\n",
    "ax1.plot(user_k, rmse_user)\n",
    "ax1.set(xlabel='Neighborhood Size k', ylabel='RMSE', title='User-based RMSE for different k')\n",
    "ax1.yaxis.set_major_formatter(FormatStrFormatter('%.3f'))\n",
    "ax1.grid()\n",
    "\n",
    "ax2 = fig.add_subplot(122)\n",
    "ax2.plot(item_k, rmse_item)\n",
    "ax2.set(xlabel='Neighborhood Size k', ylabel='RMSE', title='Item-based RMSE with different k')\n",
    "ax2.yaxis.set_major_formatter(FormatStrFormatter('%.3f'))\n",
    "ax2.grid()\n",
    "\n",
    "plt.show()"
   ]
  },
  {
   "cell_type": "markdown",
   "metadata": {},
   "source": [
    "***Mean Absolute Error (MAE)***"
   ]
  },
  {
   "cell_type": "code",
   "execution_count": 33,
   "metadata": {},
   "outputs": [],
   "source": [
    "# Define error metric: MAE\n",
    "def MAE(test_mat, pred_mat):\n",
    "    test_mat, pred_mat = np.ndarray.flatten(test_mat), np.ndarray.flatten(pred_mat)\n",
    "    ind_rmse = pd.notnull(test_mat) & pd.notnull(pred_mat)\n",
    "    test_mat, pred_mat = test_mat[ind_rmse], pred_mat[ind_rmse]\n",
    "    \n",
    "    error = np.mean(np.absolute(test_mat - pred_mat))\n",
    "    \n",
    "    return np.round(error, 3)"
   ]
  },
  {
   "cell_type": "code",
   "execution_count": 34,
   "metadata": {},
   "outputs": [],
   "source": [
    "# compute user-based MAE\n",
    "mae_user = []\n",
    "for k in user_k:\n",
    "    mae_user.append(MAE(test_rmat, pred_rmat_user[str(k)]))\n",
    "\n",
    "# compute item-based MAE\n",
    "mae_item = []\n",
    "for k in item_k:\n",
    "    mae_item.append(MAE(test_rmat, pred_rmat_item[str(k)]))"
   ]
  },
  {
   "cell_type": "code",
   "execution_count": 35,
   "metadata": {},
   "outputs": [
    {
     "data": {
      "image/png": "[encoded data removed]",
      "text/plain": [
       "<Figure size 864x216 with 2 Axes>"
      ]
     },
     "metadata": {
      "needs_background": "light"
     },
     "output_type": "display_data"
    }
   ],
   "source": [
    "# Plot error\n",
    "fig = plt.figure(figsize=(12,3))\n",
    "\n",
    "ax1 = fig.add_subplot(121)\n",
    "ax1.plot(user_k, mae_user)\n",
    "ax1.set(xlabel='Neighborhood Size k', ylabel='MAE', title='User-based MAE for different k')\n",
    "ax1.yaxis.set_major_formatter(FormatStrFormatter('%.3f'))\n",
    "ax1.grid()\n",
    "\n",
    "ax2 = fig.add_subplot(122)\n",
    "ax2.plot(item_k, mae_item)\n",
    "ax2.set(xlabel='Neighborhood Size k', ylabel='MAE', title='Item-based MAE for different k')\n",
    "ax2.yaxis.set_major_formatter(FormatStrFormatter('%.3f'))\n",
    "ax2.grid()\n",
    "\n",
    "plt.show()"
   ]
  }
 ],
 "metadata": {
  "kernelspec": {
   "display_name": "Python 2",
   "language": "python",
   "name": "python2"
  },
  "language_info": {
   "codemirror_mode": {
    "name": "ipython",
    "version": 2
   },
   "file_extension": ".py",
   "mimetype": "text/x-python",
   "name": "python",
   "nbconvert_exporter": "python",
   "pygments_lexer": "ipython2",
   "version": "2.7.15"
  }
 },
 "nbformat": 4,
 "nbformat_minor": 2
}
